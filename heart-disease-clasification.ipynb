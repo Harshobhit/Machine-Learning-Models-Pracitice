{
 "cells": [
  {
   "cell_type": "code",
   "execution_count": 1,
   "id": "286d0531",
   "metadata": {
    "_cell_guid": "b1076dfc-b9ad-4769-8c92-a6c4dae69d19",
    "_uuid": "8f2839f25d086af736a60e9eeb907d3b93b6e0e5",
    "execution": {
     "iopub.execute_input": "2022-10-10T05:23:57.558884Z",
     "iopub.status.busy": "2022-10-10T05:23:57.558426Z",
     "iopub.status.idle": "2022-10-10T05:23:59.076263Z",
     "shell.execute_reply": "2022-10-10T05:23:59.074884Z"
    },
    "papermill": {
     "duration": 1.531815,
     "end_time": "2022-10-10T05:23:59.079525",
     "exception": false,
     "start_time": "2022-10-10T05:23:57.547710",
     "status": "completed"
    },
    "tags": []
   },
   "outputs": [],
   "source": [
    "import pandas as pd\n",
    "import numpy as np\n",
    "import seaborn as sns\n",
    "from sklearn.model_selection import train_test_split\n",
    "from sklearn.tree import DecisionTreeClassifier\n",
    "from sklearn.metrics import classification_report, confusion_matrix\n",
    "from sklearn import metrics\n",
    "import matplotlib.pyplot as plt\n",
    "%matplotlib inline\n"
   ]
  },
  {
   "cell_type": "code",
   "execution_count": 2,
   "id": "aecfc9ce",
   "metadata": {
    "execution": {
     "iopub.execute_input": "2022-10-10T05:23:59.094889Z",
     "iopub.status.busy": "2022-10-10T05:23:59.094482Z",
     "iopub.status.idle": "2022-10-10T05:23:59.241059Z",
     "shell.execute_reply": "2022-10-10T05:23:59.240020Z"
    },
    "papermill": {
     "duration": 0.157097,
     "end_time": "2022-10-10T05:23:59.243628",
     "exception": false,
     "start_time": "2022-10-10T05:23:59.086531",
     "status": "completed"
    },
    "tags": []
   },
   "outputs": [],
   "source": [
    "df_heart = pd.read_csv('../input/cardiovascular-disease-dataset/cardio_train.csv',sep=';')"
   ]
  },
  {
   "cell_type": "code",
   "execution_count": 3,
   "id": "e3ee20cd",
   "metadata": {
    "execution": {
     "iopub.execute_input": "2022-10-10T05:23:59.258444Z",
     "iopub.status.busy": "2022-10-10T05:23:59.257569Z",
     "iopub.status.idle": "2022-10-10T05:23:59.265696Z",
     "shell.execute_reply": "2022-10-10T05:23:59.264914Z"
    },
    "papermill": {
     "duration": 0.019105,
     "end_time": "2022-10-10T05:23:59.268991",
     "exception": false,
     "start_time": "2022-10-10T05:23:59.249886",
     "status": "completed"
    },
    "tags": []
   },
   "outputs": [
    {
     "data": {
      "text/plain": [
       "(70000, 13)"
      ]
     },
     "execution_count": 3,
     "metadata": {},
     "output_type": "execute_result"
    }
   ],
   "source": [
    "df_heart.shape"
   ]
  },
  {
   "cell_type": "code",
   "execution_count": 4,
   "id": "260d64ce",
   "metadata": {
    "execution": {
     "iopub.execute_input": "2022-10-10T05:23:59.284476Z",
     "iopub.status.busy": "2022-10-10T05:23:59.283916Z",
     "iopub.status.idle": "2022-10-10T05:23:59.306920Z",
     "shell.execute_reply": "2022-10-10T05:23:59.305754Z"
    },
    "papermill": {
     "duration": 0.033964,
     "end_time": "2022-10-10T05:23:59.309457",
     "exception": false,
     "start_time": "2022-10-10T05:23:59.275493",
     "status": "completed"
    },
    "tags": []
   },
   "outputs": [
    {
     "data": {
      "text/html": [
       "<div>\n",
       "<style scoped>\n",
       "    .dataframe tbody tr th:only-of-type {\n",
       "        vertical-align: middle;\n",
       "    }\n",
       "\n",
       "    .dataframe tbody tr th {\n",
       "        vertical-align: top;\n",
       "    }\n",
       "\n",
       "    .dataframe thead th {\n",
       "        text-align: right;\n",
       "    }\n",
       "</style>\n",
       "<table border=\"1\" class=\"dataframe\">\n",
       "  <thead>\n",
       "    <tr style=\"text-align: right;\">\n",
       "      <th></th>\n",
       "      <th>id</th>\n",
       "      <th>age</th>\n",
       "      <th>gender</th>\n",
       "      <th>height</th>\n",
       "      <th>weight</th>\n",
       "      <th>ap_hi</th>\n",
       "      <th>ap_lo</th>\n",
       "      <th>cholesterol</th>\n",
       "      <th>gluc</th>\n",
       "      <th>smoke</th>\n",
       "      <th>alco</th>\n",
       "      <th>active</th>\n",
       "      <th>cardio</th>\n",
       "    </tr>\n",
       "  </thead>\n",
       "  <tbody>\n",
       "    <tr>\n",
       "      <th>0</th>\n",
       "      <td>0</td>\n",
       "      <td>18393</td>\n",
       "      <td>2</td>\n",
       "      <td>168</td>\n",
       "      <td>62.0</td>\n",
       "      <td>110</td>\n",
       "      <td>80</td>\n",
       "      <td>1</td>\n",
       "      <td>1</td>\n",
       "      <td>0</td>\n",
       "      <td>0</td>\n",
       "      <td>1</td>\n",
       "      <td>0</td>\n",
       "    </tr>\n",
       "    <tr>\n",
       "      <th>1</th>\n",
       "      <td>1</td>\n",
       "      <td>20228</td>\n",
       "      <td>1</td>\n",
       "      <td>156</td>\n",
       "      <td>85.0</td>\n",
       "      <td>140</td>\n",
       "      <td>90</td>\n",
       "      <td>3</td>\n",
       "      <td>1</td>\n",
       "      <td>0</td>\n",
       "      <td>0</td>\n",
       "      <td>1</td>\n",
       "      <td>1</td>\n",
       "    </tr>\n",
       "    <tr>\n",
       "      <th>2</th>\n",
       "      <td>2</td>\n",
       "      <td>18857</td>\n",
       "      <td>1</td>\n",
       "      <td>165</td>\n",
       "      <td>64.0</td>\n",
       "      <td>130</td>\n",
       "      <td>70</td>\n",
       "      <td>3</td>\n",
       "      <td>1</td>\n",
       "      <td>0</td>\n",
       "      <td>0</td>\n",
       "      <td>0</td>\n",
       "      <td>1</td>\n",
       "    </tr>\n",
       "    <tr>\n",
       "      <th>3</th>\n",
       "      <td>3</td>\n",
       "      <td>17623</td>\n",
       "      <td>2</td>\n",
       "      <td>169</td>\n",
       "      <td>82.0</td>\n",
       "      <td>150</td>\n",
       "      <td>100</td>\n",
       "      <td>1</td>\n",
       "      <td>1</td>\n",
       "      <td>0</td>\n",
       "      <td>0</td>\n",
       "      <td>1</td>\n",
       "      <td>1</td>\n",
       "    </tr>\n",
       "    <tr>\n",
       "      <th>4</th>\n",
       "      <td>4</td>\n",
       "      <td>17474</td>\n",
       "      <td>1</td>\n",
       "      <td>156</td>\n",
       "      <td>56.0</td>\n",
       "      <td>100</td>\n",
       "      <td>60</td>\n",
       "      <td>1</td>\n",
       "      <td>1</td>\n",
       "      <td>0</td>\n",
       "      <td>0</td>\n",
       "      <td>0</td>\n",
       "      <td>0</td>\n",
       "    </tr>\n",
       "  </tbody>\n",
       "</table>\n",
       "</div>"
      ],
      "text/plain": [
       "   id    age  gender  height  weight  ap_hi  ap_lo  cholesterol  gluc  smoke  \\\n",
       "0   0  18393       2     168    62.0    110     80            1     1      0   \n",
       "1   1  20228       1     156    85.0    140     90            3     1      0   \n",
       "2   2  18857       1     165    64.0    130     70            3     1      0   \n",
       "3   3  17623       2     169    82.0    150    100            1     1      0   \n",
       "4   4  17474       1     156    56.0    100     60            1     1      0   \n",
       "\n",
       "   alco  active  cardio  \n",
       "0     0       1       0  \n",
       "1     0       1       1  \n",
       "2     0       0       1  \n",
       "3     0       1       1  \n",
       "4     0       0       0  "
      ]
     },
     "execution_count": 4,
     "metadata": {},
     "output_type": "execute_result"
    }
   ],
   "source": [
    "df_heart.head()\n"
   ]
  },
  {
   "cell_type": "code",
   "execution_count": 5,
   "id": "1bad39d1",
   "metadata": {
    "execution": {
     "iopub.execute_input": "2022-10-10T05:23:59.324507Z",
     "iopub.status.busy": "2022-10-10T05:23:59.324126Z",
     "iopub.status.idle": "2022-10-10T05:23:59.331508Z",
     "shell.execute_reply": "2022-10-10T05:23:59.330357Z"
    },
    "papermill": {
     "duration": 0.017814,
     "end_time": "2022-10-10T05:23:59.333965",
     "exception": false,
     "start_time": "2022-10-10T05:23:59.316151",
     "status": "completed"
    },
    "tags": []
   },
   "outputs": [
    {
     "data": {
      "text/plain": [
       "Index(['id', 'age', 'gender', 'height', 'weight', 'ap_hi', 'ap_lo',\n",
       "       'cholesterol', 'gluc', 'smoke', 'alco', 'active', 'cardio'],\n",
       "      dtype='object')"
      ]
     },
     "execution_count": 5,
     "metadata": {},
     "output_type": "execute_result"
    }
   ],
   "source": [
    "df_heart.columns"
   ]
  },
  {
   "cell_type": "code",
   "execution_count": 6,
   "id": "6c23f578",
   "metadata": {
    "execution": {
     "iopub.execute_input": "2022-10-10T05:23:59.349029Z",
     "iopub.status.busy": "2022-10-10T05:23:59.348610Z",
     "iopub.status.idle": "2022-10-10T05:23:59.437211Z",
     "shell.execute_reply": "2022-10-10T05:23:59.435911Z"
    },
    "papermill": {
     "duration": 0.099244,
     "end_time": "2022-10-10T05:23:59.439838",
     "exception": false,
     "start_time": "2022-10-10T05:23:59.340594",
     "status": "completed"
    },
    "tags": []
   },
   "outputs": [
    {
     "data": {
      "text/html": [
       "<div>\n",
       "<style scoped>\n",
       "    .dataframe tbody tr th:only-of-type {\n",
       "        vertical-align: middle;\n",
       "    }\n",
       "\n",
       "    .dataframe tbody tr th {\n",
       "        vertical-align: top;\n",
       "    }\n",
       "\n",
       "    .dataframe thead th {\n",
       "        text-align: right;\n",
       "    }\n",
       "</style>\n",
       "<table border=\"1\" class=\"dataframe\">\n",
       "  <thead>\n",
       "    <tr style=\"text-align: right;\">\n",
       "      <th></th>\n",
       "      <th>id</th>\n",
       "      <th>age</th>\n",
       "      <th>gender</th>\n",
       "      <th>height</th>\n",
       "      <th>weight</th>\n",
       "      <th>ap_hi</th>\n",
       "      <th>ap_lo</th>\n",
       "      <th>cholesterol</th>\n",
       "      <th>gluc</th>\n",
       "      <th>smoke</th>\n",
       "      <th>alco</th>\n",
       "      <th>active</th>\n",
       "      <th>cardio</th>\n",
       "    </tr>\n",
       "  </thead>\n",
       "  <tbody>\n",
       "    <tr>\n",
       "      <th>count</th>\n",
       "      <td>70000.000000</td>\n",
       "      <td>70000.000000</td>\n",
       "      <td>70000.000000</td>\n",
       "      <td>70000.000000</td>\n",
       "      <td>70000.000000</td>\n",
       "      <td>70000.000000</td>\n",
       "      <td>70000.000000</td>\n",
       "      <td>70000.000000</td>\n",
       "      <td>70000.000000</td>\n",
       "      <td>70000.000000</td>\n",
       "      <td>70000.000000</td>\n",
       "      <td>70000.000000</td>\n",
       "      <td>70000.000000</td>\n",
       "    </tr>\n",
       "    <tr>\n",
       "      <th>mean</th>\n",
       "      <td>49972.419900</td>\n",
       "      <td>19468.865814</td>\n",
       "      <td>1.349571</td>\n",
       "      <td>164.359229</td>\n",
       "      <td>74.205690</td>\n",
       "      <td>128.817286</td>\n",
       "      <td>96.630414</td>\n",
       "      <td>1.366871</td>\n",
       "      <td>1.226457</td>\n",
       "      <td>0.088129</td>\n",
       "      <td>0.053771</td>\n",
       "      <td>0.803729</td>\n",
       "      <td>0.499700</td>\n",
       "    </tr>\n",
       "    <tr>\n",
       "      <th>std</th>\n",
       "      <td>28851.302323</td>\n",
       "      <td>2467.251667</td>\n",
       "      <td>0.476838</td>\n",
       "      <td>8.210126</td>\n",
       "      <td>14.395757</td>\n",
       "      <td>154.011419</td>\n",
       "      <td>188.472530</td>\n",
       "      <td>0.680250</td>\n",
       "      <td>0.572270</td>\n",
       "      <td>0.283484</td>\n",
       "      <td>0.225568</td>\n",
       "      <td>0.397179</td>\n",
       "      <td>0.500003</td>\n",
       "    </tr>\n",
       "    <tr>\n",
       "      <th>min</th>\n",
       "      <td>0.000000</td>\n",
       "      <td>10798.000000</td>\n",
       "      <td>1.000000</td>\n",
       "      <td>55.000000</td>\n",
       "      <td>10.000000</td>\n",
       "      <td>-150.000000</td>\n",
       "      <td>-70.000000</td>\n",
       "      <td>1.000000</td>\n",
       "      <td>1.000000</td>\n",
       "      <td>0.000000</td>\n",
       "      <td>0.000000</td>\n",
       "      <td>0.000000</td>\n",
       "      <td>0.000000</td>\n",
       "    </tr>\n",
       "    <tr>\n",
       "      <th>25%</th>\n",
       "      <td>25006.750000</td>\n",
       "      <td>17664.000000</td>\n",
       "      <td>1.000000</td>\n",
       "      <td>159.000000</td>\n",
       "      <td>65.000000</td>\n",
       "      <td>120.000000</td>\n",
       "      <td>80.000000</td>\n",
       "      <td>1.000000</td>\n",
       "      <td>1.000000</td>\n",
       "      <td>0.000000</td>\n",
       "      <td>0.000000</td>\n",
       "      <td>1.000000</td>\n",
       "      <td>0.000000</td>\n",
       "    </tr>\n",
       "    <tr>\n",
       "      <th>50%</th>\n",
       "      <td>50001.500000</td>\n",
       "      <td>19703.000000</td>\n",
       "      <td>1.000000</td>\n",
       "      <td>165.000000</td>\n",
       "      <td>72.000000</td>\n",
       "      <td>120.000000</td>\n",
       "      <td>80.000000</td>\n",
       "      <td>1.000000</td>\n",
       "      <td>1.000000</td>\n",
       "      <td>0.000000</td>\n",
       "      <td>0.000000</td>\n",
       "      <td>1.000000</td>\n",
       "      <td>0.000000</td>\n",
       "    </tr>\n",
       "    <tr>\n",
       "      <th>75%</th>\n",
       "      <td>74889.250000</td>\n",
       "      <td>21327.000000</td>\n",
       "      <td>2.000000</td>\n",
       "      <td>170.000000</td>\n",
       "      <td>82.000000</td>\n",
       "      <td>140.000000</td>\n",
       "      <td>90.000000</td>\n",
       "      <td>2.000000</td>\n",
       "      <td>1.000000</td>\n",
       "      <td>0.000000</td>\n",
       "      <td>0.000000</td>\n",
       "      <td>1.000000</td>\n",
       "      <td>1.000000</td>\n",
       "    </tr>\n",
       "    <tr>\n",
       "      <th>max</th>\n",
       "      <td>99999.000000</td>\n",
       "      <td>23713.000000</td>\n",
       "      <td>2.000000</td>\n",
       "      <td>250.000000</td>\n",
       "      <td>200.000000</td>\n",
       "      <td>16020.000000</td>\n",
       "      <td>11000.000000</td>\n",
       "      <td>3.000000</td>\n",
       "      <td>3.000000</td>\n",
       "      <td>1.000000</td>\n",
       "      <td>1.000000</td>\n",
       "      <td>1.000000</td>\n",
       "      <td>1.000000</td>\n",
       "    </tr>\n",
       "  </tbody>\n",
       "</table>\n",
       "</div>"
      ],
      "text/plain": [
       "                 id           age        gender        height        weight  \\\n",
       "count  70000.000000  70000.000000  70000.000000  70000.000000  70000.000000   \n",
       "mean   49972.419900  19468.865814      1.349571    164.359229     74.205690   \n",
       "std    28851.302323   2467.251667      0.476838      8.210126     14.395757   \n",
       "min        0.000000  10798.000000      1.000000     55.000000     10.000000   \n",
       "25%    25006.750000  17664.000000      1.000000    159.000000     65.000000   \n",
       "50%    50001.500000  19703.000000      1.000000    165.000000     72.000000   \n",
       "75%    74889.250000  21327.000000      2.000000    170.000000     82.000000   \n",
       "max    99999.000000  23713.000000      2.000000    250.000000    200.000000   \n",
       "\n",
       "              ap_hi         ap_lo   cholesterol          gluc         smoke  \\\n",
       "count  70000.000000  70000.000000  70000.000000  70000.000000  70000.000000   \n",
       "mean     128.817286     96.630414      1.366871      1.226457      0.088129   \n",
       "std      154.011419    188.472530      0.680250      0.572270      0.283484   \n",
       "min     -150.000000    -70.000000      1.000000      1.000000      0.000000   \n",
       "25%      120.000000     80.000000      1.000000      1.000000      0.000000   \n",
       "50%      120.000000     80.000000      1.000000      1.000000      0.000000   \n",
       "75%      140.000000     90.000000      2.000000      1.000000      0.000000   \n",
       "max    16020.000000  11000.000000      3.000000      3.000000      1.000000   \n",
       "\n",
       "               alco        active        cardio  \n",
       "count  70000.000000  70000.000000  70000.000000  \n",
       "mean       0.053771      0.803729      0.499700  \n",
       "std        0.225568      0.397179      0.500003  \n",
       "min        0.000000      0.000000      0.000000  \n",
       "25%        0.000000      1.000000      0.000000  \n",
       "50%        0.000000      1.000000      0.000000  \n",
       "75%        0.000000      1.000000      1.000000  \n",
       "max        1.000000      1.000000      1.000000  "
      ]
     },
     "execution_count": 6,
     "metadata": {},
     "output_type": "execute_result"
    }
   ],
   "source": [
    "df_heart.describe()"
   ]
  },
  {
   "cell_type": "code",
   "execution_count": 7,
   "id": "2e5183d4",
   "metadata": {
    "execution": {
     "iopub.execute_input": "2022-10-10T05:23:59.455605Z",
     "iopub.status.busy": "2022-10-10T05:23:59.455215Z",
     "iopub.status.idle": "2022-10-10T05:23:59.474013Z",
     "shell.execute_reply": "2022-10-10T05:23:59.472553Z"
    },
    "papermill": {
     "duration": 0.030419,
     "end_time": "2022-10-10T05:23:59.477356",
     "exception": false,
     "start_time": "2022-10-10T05:23:59.446937",
     "status": "completed"
    },
    "tags": []
   },
   "outputs": [
    {
     "name": "stdout",
     "output_type": "stream",
     "text": [
      "<class 'pandas.core.frame.DataFrame'>\n",
      "RangeIndex: 70000 entries, 0 to 69999\n",
      "Data columns (total 13 columns):\n",
      " #   Column       Non-Null Count  Dtype  \n",
      "---  ------       --------------  -----  \n",
      " 0   id           70000 non-null  int64  \n",
      " 1   age          70000 non-null  int64  \n",
      " 2   gender       70000 non-null  int64  \n",
      " 3   height       70000 non-null  int64  \n",
      " 4   weight       70000 non-null  float64\n",
      " 5   ap_hi        70000 non-null  int64  \n",
      " 6   ap_lo        70000 non-null  int64  \n",
      " 7   cholesterol  70000 non-null  int64  \n",
      " 8   gluc         70000 non-null  int64  \n",
      " 9   smoke        70000 non-null  int64  \n",
      " 10  alco         70000 non-null  int64  \n",
      " 11  active       70000 non-null  int64  \n",
      " 12  cardio       70000 non-null  int64  \n",
      "dtypes: float64(1), int64(12)\n",
      "memory usage: 6.9 MB\n"
     ]
    }
   ],
   "source": [
    "df_heart.info()"
   ]
  },
  {
   "cell_type": "code",
   "execution_count": 8,
   "id": "156cb443",
   "metadata": {
    "execution": {
     "iopub.execute_input": "2022-10-10T05:23:59.494249Z",
     "iopub.status.busy": "2022-10-10T05:23:59.493814Z",
     "iopub.status.idle": "2022-10-10T05:23:59.504137Z",
     "shell.execute_reply": "2022-10-10T05:23:59.503186Z"
    },
    "papermill": {
     "duration": 0.021387,
     "end_time": "2022-10-10T05:23:59.506270",
     "exception": false,
     "start_time": "2022-10-10T05:23:59.484883",
     "status": "completed"
    },
    "tags": []
   },
   "outputs": [
    {
     "data": {
      "text/plain": [
       "0    50.03\n",
       "1    49.97\n",
       "Name: cardio, dtype: float64"
      ]
     },
     "execution_count": 8,
     "metadata": {},
     "output_type": "execute_result"
    }
   ],
   "source": [
    "df_heart['cardio'].value_counts()/df_heart.shape[0]*100"
   ]
  },
  {
   "cell_type": "markdown",
   "id": "f68d7422",
   "metadata": {
    "papermill": {
     "duration": 0.006685,
     "end_time": "2022-10-10T05:23:59.520001",
     "exception": false,
     "start_time": "2022-10-10T05:23:59.513316",
     "status": "completed"
    },
    "tags": []
   },
   "source": [
    "Data is distribute almost equally a balanced data set"
   ]
  },
  {
   "cell_type": "code",
   "execution_count": 9,
   "id": "f14ebd88",
   "metadata": {
    "execution": {
     "iopub.execute_input": "2022-10-10T05:23:59.535439Z",
     "iopub.status.busy": "2022-10-10T05:23:59.535039Z",
     "iopub.status.idle": "2022-10-10T05:23:59.540265Z",
     "shell.execute_reply": "2022-10-10T05:23:59.539024Z"
    },
    "papermill": {
     "duration": 0.015832,
     "end_time": "2022-10-10T05:23:59.542765",
     "exception": false,
     "start_time": "2022-10-10T05:23:59.526933",
     "status": "completed"
    },
    "tags": []
   },
   "outputs": [],
   "source": [
    "y = df_heart['cardio']"
   ]
  },
  {
   "cell_type": "code",
   "execution_count": 10,
   "id": "11d3b22b",
   "metadata": {
    "execution": {
     "iopub.execute_input": "2022-10-10T05:23:59.560927Z",
     "iopub.status.busy": "2022-10-10T05:23:59.559928Z",
     "iopub.status.idle": "2022-10-10T05:23:59.567798Z",
     "shell.execute_reply": "2022-10-10T05:23:59.566759Z"
    },
    "papermill": {
     "duration": 0.01975,
     "end_time": "2022-10-10T05:23:59.570221",
     "exception": false,
     "start_time": "2022-10-10T05:23:59.550471",
     "status": "completed"
    },
    "tags": []
   },
   "outputs": [],
   "source": [
    "X = df_heart.drop('cardio',axis=1)"
   ]
  },
  {
   "cell_type": "markdown",
   "id": "fef60c00",
   "metadata": {
    "papermill": {
     "duration": 0.006673,
     "end_time": "2022-10-10T05:23:59.584036",
     "exception": false,
     "start_time": "2022-10-10T05:23:59.577363",
     "status": "completed"
    },
    "tags": []
   },
   "source": [
    "### Training a simple Decision Tree Model"
   ]
  },
  {
   "cell_type": "code",
   "execution_count": 11,
   "id": "abc4c506",
   "metadata": {
    "execution": {
     "iopub.execute_input": "2022-10-10T05:23:59.599722Z",
     "iopub.status.busy": "2022-10-10T05:23:59.599294Z",
     "iopub.status.idle": "2022-10-10T05:23:59.622770Z",
     "shell.execute_reply": "2022-10-10T05:23:59.621183Z"
    },
    "papermill": {
     "duration": 0.034023,
     "end_time": "2022-10-10T05:23:59.625016",
     "exception": false,
     "start_time": "2022-10-10T05:23:59.590993",
     "status": "completed"
    },
    "tags": []
   },
   "outputs": [
    {
     "name": "stdout",
     "output_type": "stream",
     "text": [
      "(56000, 12)\n",
      "(56000,)\n",
      "(14000, 12)\n",
      "(14000,)\n"
     ]
    }
   ],
   "source": [
    "X_train,X_test,y_train,y_test = train_test_split(X,y,test_size=0.2,random_state=100)\n",
    "print(X_train.shape)\n",
    "print(y_train.shape)\n",
    "print(X_test.shape)\n",
    "print(y_test.shape)"
   ]
  },
  {
   "cell_type": "code",
   "execution_count": 12,
   "id": "6d73123f",
   "metadata": {
    "execution": {
     "iopub.execute_input": "2022-10-10T05:23:59.641269Z",
     "iopub.status.busy": "2022-10-10T05:23:59.640486Z",
     "iopub.status.idle": "2022-10-10T05:23:59.645805Z",
     "shell.execute_reply": "2022-10-10T05:23:59.644666Z"
    },
    "papermill": {
     "duration": 0.015894,
     "end_time": "2022-10-10T05:23:59.648172",
     "exception": false,
     "start_time": "2022-10-10T05:23:59.632278",
     "status": "completed"
    },
    "tags": []
   },
   "outputs": [],
   "source": [
    "dt_basic = DecisionTreeClassifier()"
   ]
  },
  {
   "cell_type": "code",
   "execution_count": 13,
   "id": "27977427",
   "metadata": {
    "execution": {
     "iopub.execute_input": "2022-10-10T05:23:59.664407Z",
     "iopub.status.busy": "2022-10-10T05:23:59.663636Z",
     "iopub.status.idle": "2022-10-10T05:24:00.235285Z",
     "shell.execute_reply": "2022-10-10T05:24:00.234072Z"
    },
    "papermill": {
     "duration": 0.582422,
     "end_time": "2022-10-10T05:24:00.237783",
     "exception": false,
     "start_time": "2022-10-10T05:23:59.655361",
     "status": "completed"
    },
    "tags": []
   },
   "outputs": [
    {
     "data": {
      "text/plain": [
       "DecisionTreeClassifier()"
      ]
     },
     "execution_count": 13,
     "metadata": {},
     "output_type": "execute_result"
    }
   ],
   "source": [
    "dt_basic.fit(X_train,y_train)"
   ]
  },
  {
   "cell_type": "code",
   "execution_count": 14,
   "id": "8429dea6",
   "metadata": {
    "execution": {
     "iopub.execute_input": "2022-10-10T05:24:00.254172Z",
     "iopub.status.busy": "2022-10-10T05:24:00.253753Z",
     "iopub.status.idle": "2022-10-10T05:24:00.288283Z",
     "shell.execute_reply": "2022-10-10T05:24:00.287247Z"
    },
    "papermill": {
     "duration": 0.045742,
     "end_time": "2022-10-10T05:24:00.290862",
     "exception": false,
     "start_time": "2022-10-10T05:24:00.245120",
     "status": "completed"
    },
    "tags": []
   },
   "outputs": [],
   "source": [
    "#Making predictions on train and test\n",
    "y_pred_train = dt_basic.predict(X_train)\n",
    "y_pred_test = dt_basic.predict(X_test)"
   ]
  },
  {
   "cell_type": "markdown",
   "id": "4d05b216",
   "metadata": {
    "papermill": {
     "duration": 0.007001,
     "end_time": "2022-10-10T05:24:00.305270",
     "exception": false,
     "start_time": "2022-10-10T05:24:00.298269",
     "status": "completed"
    },
    "tags": []
   },
   "source": [
    "Create Baseline accuracy using Dummy Classifier"
   ]
  },
  {
   "cell_type": "code",
   "execution_count": 15,
   "id": "ee0ac843",
   "metadata": {
    "execution": {
     "iopub.execute_input": "2022-10-10T05:24:00.321524Z",
     "iopub.status.busy": "2022-10-10T05:24:00.321081Z",
     "iopub.status.idle": "2022-10-10T05:24:00.339583Z",
     "shell.execute_reply": "2022-10-10T05:24:00.338455Z"
    },
    "papermill": {
     "duration": 0.029275,
     "end_time": "2022-10-10T05:24:00.341797",
     "exception": false,
     "start_time": "2022-10-10T05:24:00.312522",
     "status": "completed"
    },
    "tags": []
   },
   "outputs": [
    {
     "data": {
      "text/plain": [
       "0.5009285714285714"
      ]
     },
     "execution_count": 15,
     "metadata": {},
     "output_type": "execute_result"
    }
   ],
   "source": [
    "from sklearn.dummy import DummyClassifier\n",
    "dummy_clf = DummyClassifier(strategy ='most_frequent')\n",
    "dummy_clf.fit(X_train,y_train)\n",
    "dummy_clf.predict(X_train)\n",
    "dummy_clf.score(X_train,y_train)"
   ]
  },
  {
   "cell_type": "markdown",
   "id": "2ae88bb1",
   "metadata": {
    "papermill": {
     "duration": 0.007283,
     "end_time": "2022-10-10T05:24:00.356622",
     "exception": false,
     "start_time": "2022-10-10T05:24:00.349339",
     "status": "completed"
    },
    "tags": []
   },
   "source": [
    "If I guess at random I would get an accuracy of 50% on the data set"
   ]
  },
  {
   "cell_type": "code",
   "execution_count": 16,
   "id": "2bdd5bc3",
   "metadata": {
    "execution": {
     "iopub.execute_input": "2022-10-10T05:24:00.373380Z",
     "iopub.status.busy": "2022-10-10T05:24:00.372929Z",
     "iopub.status.idle": "2022-10-10T05:24:00.386976Z",
     "shell.execute_reply": "2022-10-10T05:24:00.385760Z"
    },
    "papermill": {
     "duration": 0.025515,
     "end_time": "2022-10-10T05:24:00.389545",
     "exception": false,
     "start_time": "2022-10-10T05:24:00.364030",
     "status": "completed"
    },
    "tags": []
   },
   "outputs": [
    {
     "name": "stdout",
     "output_type": "stream",
     "text": [
      "Training Accuracy is :1.0\n",
      "Training Accuracy is :0.6265\n"
     ]
    }
   ],
   "source": [
    "train_accuracy = metrics.accuracy_score(y_train, y_pred_train)\n",
    "test_accuracy = metrics.accuracy_score(y_test, y_pred_test)\n",
    "print(f'Training Accuracy is :{train_accuracy}')\n",
    "print(f'Training Accuracy is :{test_accuracy}')"
   ]
  },
  {
   "cell_type": "markdown",
   "id": "6487ce6f",
   "metadata": {
    "papermill": {
     "duration": 0.007051,
     "end_time": "2022-10-10T05:24:00.403966",
     "exception": false,
     "start_time": "2022-10-10T05:24:00.396915",
     "status": "completed"
    },
    "tags": []
   },
   "source": [
    "Confusion Matrix"
   ]
  },
  {
   "cell_type": "code",
   "execution_count": 17,
   "id": "c6b79f27",
   "metadata": {
    "execution": {
     "iopub.execute_input": "2022-10-10T05:24:00.420462Z",
     "iopub.status.busy": "2022-10-10T05:24:00.420002Z",
     "iopub.status.idle": "2022-10-10T05:24:00.432606Z",
     "shell.execute_reply": "2022-10-10T05:24:00.431474Z"
    },
    "papermill": {
     "duration": 0.023841,
     "end_time": "2022-10-10T05:24:00.435234",
     "exception": false,
     "start_time": "2022-10-10T05:24:00.411393",
     "status": "completed"
    },
    "tags": []
   },
   "outputs": [
    {
     "data": {
      "text/plain": [
       "array([[4406, 2563],\n",
       "       [2666, 4365]])"
      ]
     },
     "execution_count": 17,
     "metadata": {},
     "output_type": "execute_result"
    }
   ],
   "source": [
    "confusion_matrix(y_test,y_pred_test)"
   ]
  },
  {
   "cell_type": "code",
   "execution_count": 18,
   "id": "0a14b053",
   "metadata": {
    "execution": {
     "iopub.execute_input": "2022-10-10T05:24:00.453072Z",
     "iopub.status.busy": "2022-10-10T05:24:00.452657Z",
     "iopub.status.idle": "2022-10-10T05:24:00.472908Z",
     "shell.execute_reply": "2022-10-10T05:24:00.471525Z"
    },
    "papermill": {
     "duration": 0.032498,
     "end_time": "2022-10-10T05:24:00.475783",
     "exception": false,
     "start_time": "2022-10-10T05:24:00.443285",
     "status": "completed"
    },
    "tags": []
   },
   "outputs": [
    {
     "data": {
      "text/plain": [
       "array([[28052,     0],\n",
       "       [    0, 27948]])"
      ]
     },
     "execution_count": 18,
     "metadata": {},
     "output_type": "execute_result"
    }
   ],
   "source": [
    "confusion_matrix(y_train,y_pred_train)"
   ]
  },
  {
   "cell_type": "code",
   "execution_count": 19,
   "id": "bf644546",
   "metadata": {
    "execution": {
     "iopub.execute_input": "2022-10-10T05:24:00.492986Z",
     "iopub.status.busy": "2022-10-10T05:24:00.492597Z",
     "iopub.status.idle": "2022-10-10T05:24:00.529028Z",
     "shell.execute_reply": "2022-10-10T05:24:00.527395Z"
    },
    "papermill": {
     "duration": 0.048338,
     "end_time": "2022-10-10T05:24:00.531888",
     "exception": false,
     "start_time": "2022-10-10T05:24:00.483550",
     "status": "completed"
    },
    "tags": []
   },
   "outputs": [
    {
     "name": "stdout",
     "output_type": "stream",
     "text": [
      "Classification Report for Test\n",
      "              precision    recall  f1-score   support\n",
      "\n",
      "           0       0.62      0.63      0.63      6969\n",
      "           1       0.63      0.62      0.63      7031\n",
      "\n",
      "    accuracy                           0.63     14000\n",
      "   macro avg       0.63      0.63      0.63     14000\n",
      "weighted avg       0.63      0.63      0.63     14000\n",
      "\n"
     ]
    }
   ],
   "source": [
    "print('Classification Report for Test')\n",
    "print(classification_report(y_test,y_pred_test))"
   ]
  },
  {
   "cell_type": "code",
   "execution_count": 20,
   "id": "a409b987",
   "metadata": {
    "execution": {
     "iopub.execute_input": "2022-10-10T05:24:00.550136Z",
     "iopub.status.busy": "2022-10-10T05:24:00.549482Z",
     "iopub.status.idle": "2022-10-10T05:24:00.672068Z",
     "shell.execute_reply": "2022-10-10T05:24:00.670700Z"
    },
    "papermill": {
     "duration": 0.135077,
     "end_time": "2022-10-10T05:24:00.674942",
     "exception": false,
     "start_time": "2022-10-10T05:24:00.539865",
     "status": "completed"
    },
    "tags": []
   },
   "outputs": [
    {
     "name": "stdout",
     "output_type": "stream",
     "text": [
      "Classification Report for Train\n",
      "              precision    recall  f1-score   support\n",
      "\n",
      "           0       1.00      1.00      1.00     28052\n",
      "           1       1.00      1.00      1.00     27948\n",
      "\n",
      "    accuracy                           1.00     56000\n",
      "   macro avg       1.00      1.00      1.00     56000\n",
      "weighted avg       1.00      1.00      1.00     56000\n",
      "\n"
     ]
    }
   ],
   "source": [
    "print('Classification Report for Train')\n",
    "print(classification_report(y_train,y_pred_train))"
   ]
  },
  {
   "cell_type": "code",
   "execution_count": null,
   "id": "1d33a222",
   "metadata": {
    "papermill": {
     "duration": 0.007585,
     "end_time": "2022-10-10T05:24:00.690580",
     "exception": false,
     "start_time": "2022-10-10T05:24:00.682995",
     "status": "completed"
    },
    "tags": []
   },
   "outputs": [],
   "source": []
  }
 ],
 "metadata": {
  "kernelspec": {
   "display_name": "Python 3",
   "language": "python",
   "name": "python3"
  },
  "language_info": {
   "codemirror_mode": {
    "name": "ipython",
    "version": 3
   },
   "file_extension": ".py",
   "mimetype": "text/x-python",
   "name": "python",
   "nbconvert_exporter": "python",
   "pygments_lexer": "ipython3",
   "version": "3.7.12"
  },
  "papermill": {
   "default_parameters": {},
   "duration": 13.061391,
   "end_time": "2022-10-10T05:24:01.423142",
   "environment_variables": {},
   "exception": null,
   "input_path": "__notebook__.ipynb",
   "output_path": "__notebook__.ipynb",
   "parameters": {},
   "start_time": "2022-10-10T05:23:48.361751",
   "version": "2.3.4"
  }
 },
 "nbformat": 4,
 "nbformat_minor": 5
}
