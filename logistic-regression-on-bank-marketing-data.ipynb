{
 "cells": [
  {
   "cell_type": "code",
   "execution_count": 1,
   "id": "3432c1a2",
   "metadata": {
    "_cell_guid": "b1076dfc-b9ad-4769-8c92-a6c4dae69d19",
    "_uuid": "8f2839f25d086af736a60e9eeb907d3b93b6e0e5",
    "execution": {
     "iopub.execute_input": "2022-10-02T18:51:55.347995Z",
     "iopub.status.busy": "2022-10-02T18:51:55.347030Z",
     "iopub.status.idle": "2022-10-02T18:51:56.643298Z",
     "shell.execute_reply": "2022-10-02T18:51:56.641673Z"
    },
    "papermill": {
     "duration": 1.311383,
     "end_time": "2022-10-02T18:51:56.646675",
     "exception": false,
     "start_time": "2022-10-02T18:51:55.335292",
     "status": "completed"
    },
    "tags": []
   },
   "outputs": [],
   "source": [
    "import pandas as pd\n",
    "import numpy as np\n",
    "import matplotlib.pyplot as plt\n",
    "import seaborn as sns\n",
    "import warnings\n",
    "warnings.filterwarnings('ignore')\n",
    "%matplotlib inline"
   ]
  },
  {
   "cell_type": "code",
   "execution_count": 2,
   "id": "300dcc67",
   "metadata": {
    "execution": {
     "iopub.execute_input": "2022-10-02T18:51:56.663652Z",
     "iopub.status.busy": "2022-10-02T18:51:56.662449Z",
     "iopub.status.idle": "2022-10-02T18:51:56.882262Z",
     "shell.execute_reply": "2022-10-02T18:51:56.881059Z"
    },
    "papermill": {
     "duration": 0.230675,
     "end_time": "2022-10-02T18:51:56.885104",
     "exception": false,
     "start_time": "2022-10-02T18:51:56.654429",
     "status": "completed"
    },
    "tags": []
   },
   "outputs": [],
   "source": [
    "pd.set_option('display.max_columns', None) #To Display all columns\n",
    "bankData = pd.read_csv('../input/marketing-banking-file/bank-additional-full.csv')"
   ]
  },
  {
   "cell_type": "markdown",
   "id": "4769ac51",
   "metadata": {
    "papermill": {
     "duration": 0.005112,
     "end_time": "2022-10-02T18:51:56.895865",
     "exception": false,
     "start_time": "2022-10-02T18:51:56.890753",
     "status": "completed"
    },
    "tags": []
   },
   "source": [
    "Attribute Information:<br>Input variables:<br># bank client data:<br>1 - age (numeric)<br>2 - job : type of job (categorical: 'admin.','blue-collar','entrepreneur','housemaid','management','retired','self-employed','services','student','technician','unemployed','unknown')<br>3 - marital : marital status (categorical: 'divorced','married','single','unknown'; note: 'divorced' means divorced or widowed)<br>4 - education (categorical: 'basic.4y','basic.6y','basic.9y','high.school','illiterate','professional.course','university.degree','unknown')<br>5 - default: has credit in default? (categorical: 'no','yes','unknown')<br>6 - housing: has housing loan? (categorical: 'no','yes','unknown')<br>7 - loan: has personal loan? (categorical: 'no','yes','unknown')<br># related with the last contact of the current campaign:<br>8 - contact: contact communication type (categorical: 'cellular','telephone')<br>9 - month: last contact month of year (categorical: 'jan', 'feb', 'mar', ..., 'nov', 'dec')<br>10 - day_of_week: last contact day of the week (categorical: 'mon','tue','wed','thu','fri')<br>11 - duration: last contact duration, in seconds (numeric). Important note: this attribute highly affects the output target (e.g., if duration=0 then y='no'). Yet, the duration is not known before a call is performed. Also, after the end of the call y is obviously known. Thus, this input should only be included for benchmark purposes and should be discarded if the intention is to have a realistic predictive model.<br># other attributes:<br>12 - campaign: number of contacts performed during this campaign and for this client (numeric, includes last contact)<br>13 - pdays: number of days that passed by after the client was last contacted from a previous campaign (numeric; 999 means client was not previously contacted)<br>14 - previous: number of contacts performed before this campaign and for this client (numeric)<br>15 - poutcome: outcome of the previous marketing campaign (categorical: 'failure','nonexistent','success')<br># social and economic context attributes<br>16 - emp.var.rate: employment variation rate - quarterly indicator (numeric)<br>17 - cons.price.idx: consumer price index - monthly indicator (numeric)<br>18 - cons.conf.idx: consumer confidence index - monthly indicator (numeric)<br>19 - euribor3m: euribor 3 month rate - daily indicator (numeric)<br>20 - nr.employed: number of employees - quarterly indicator (numeric)<br>\n",
    "<b>Output variable (desired target):<br></b>\n",
    "21 - y - has the client subscribed a term deposit? (binary: 'yes','no')"
   ]
  },
  {
   "cell_type": "markdown",
   "id": "6147d9d9",
   "metadata": {
    "papermill": {
     "duration": 0.005026,
     "end_time": "2022-10-02T18:51:56.906413",
     "exception": false,
     "start_time": "2022-10-02T18:51:56.901387",
     "status": "completed"
    },
    "tags": []
   },
   "source": [
    "### Initial Data Exploration"
   ]
  },
  {
   "cell_type": "code",
   "execution_count": 3,
   "id": "3df3525a",
   "metadata": {
    "execution": {
     "iopub.execute_input": "2022-10-02T18:51:56.919139Z",
     "iopub.status.busy": "2022-10-02T18:51:56.918693Z",
     "iopub.status.idle": "2022-10-02T18:51:56.953673Z",
     "shell.execute_reply": "2022-10-02T18:51:56.952600Z"
    },
    "papermill": {
     "duration": 0.046038,
     "end_time": "2022-10-02T18:51:56.957900",
     "exception": false,
     "start_time": "2022-10-02T18:51:56.911862",
     "status": "completed"
    },
    "tags": []
   },
   "outputs": [
    {
     "data": {
      "text/html": [
       "<div>\n",
       "<style scoped>\n",
       "    .dataframe tbody tr th:only-of-type {\n",
       "        vertical-align: middle;\n",
       "    }\n",
       "\n",
       "    .dataframe tbody tr th {\n",
       "        vertical-align: top;\n",
       "    }\n",
       "\n",
       "    .dataframe thead th {\n",
       "        text-align: right;\n",
       "    }\n",
       "</style>\n",
       "<table border=\"1\" class=\"dataframe\">\n",
       "  <thead>\n",
       "    <tr style=\"text-align: right;\">\n",
       "      <th></th>\n",
       "      <th>age</th>\n",
       "      <th>job</th>\n",
       "      <th>marital</th>\n",
       "      <th>education</th>\n",
       "      <th>default</th>\n",
       "      <th>housing</th>\n",
       "      <th>loan</th>\n",
       "      <th>contact</th>\n",
       "      <th>month</th>\n",
       "      <th>day_of_week</th>\n",
       "      <th>duration</th>\n",
       "      <th>campaign</th>\n",
       "      <th>pdays</th>\n",
       "      <th>previous</th>\n",
       "      <th>poutcome</th>\n",
       "      <th>emp.var.rate</th>\n",
       "      <th>cons.price.idx</th>\n",
       "      <th>cons.conf.idx</th>\n",
       "      <th>euribor3m</th>\n",
       "      <th>nr.employed</th>\n",
       "      <th>y</th>\n",
       "    </tr>\n",
       "  </thead>\n",
       "  <tbody>\n",
       "    <tr>\n",
       "      <th>0</th>\n",
       "      <td>56</td>\n",
       "      <td>housemaid</td>\n",
       "      <td>married</td>\n",
       "      <td>basic.4y</td>\n",
       "      <td>no</td>\n",
       "      <td>no</td>\n",
       "      <td>no</td>\n",
       "      <td>telephone</td>\n",
       "      <td>may</td>\n",
       "      <td>mon</td>\n",
       "      <td>261</td>\n",
       "      <td>1</td>\n",
       "      <td>999</td>\n",
       "      <td>0</td>\n",
       "      <td>nonexistent</td>\n",
       "      <td>1.1</td>\n",
       "      <td>93.994</td>\n",
       "      <td>-36.4</td>\n",
       "      <td>4.857</td>\n",
       "      <td>5191.0</td>\n",
       "      <td>no</td>\n",
       "    </tr>\n",
       "    <tr>\n",
       "      <th>1</th>\n",
       "      <td>57</td>\n",
       "      <td>services</td>\n",
       "      <td>married</td>\n",
       "      <td>high.school</td>\n",
       "      <td>unknown</td>\n",
       "      <td>no</td>\n",
       "      <td>no</td>\n",
       "      <td>telephone</td>\n",
       "      <td>may</td>\n",
       "      <td>mon</td>\n",
       "      <td>149</td>\n",
       "      <td>1</td>\n",
       "      <td>999</td>\n",
       "      <td>0</td>\n",
       "      <td>nonexistent</td>\n",
       "      <td>1.1</td>\n",
       "      <td>93.994</td>\n",
       "      <td>-36.4</td>\n",
       "      <td>4.857</td>\n",
       "      <td>5191.0</td>\n",
       "      <td>no</td>\n",
       "    </tr>\n",
       "    <tr>\n",
       "      <th>2</th>\n",
       "      <td>37</td>\n",
       "      <td>services</td>\n",
       "      <td>married</td>\n",
       "      <td>high.school</td>\n",
       "      <td>no</td>\n",
       "      <td>yes</td>\n",
       "      <td>no</td>\n",
       "      <td>telephone</td>\n",
       "      <td>may</td>\n",
       "      <td>mon</td>\n",
       "      <td>226</td>\n",
       "      <td>1</td>\n",
       "      <td>999</td>\n",
       "      <td>0</td>\n",
       "      <td>nonexistent</td>\n",
       "      <td>1.1</td>\n",
       "      <td>93.994</td>\n",
       "      <td>-36.4</td>\n",
       "      <td>4.857</td>\n",
       "      <td>5191.0</td>\n",
       "      <td>no</td>\n",
       "    </tr>\n",
       "    <tr>\n",
       "      <th>3</th>\n",
       "      <td>40</td>\n",
       "      <td>admin.</td>\n",
       "      <td>married</td>\n",
       "      <td>basic.6y</td>\n",
       "      <td>no</td>\n",
       "      <td>no</td>\n",
       "      <td>no</td>\n",
       "      <td>telephone</td>\n",
       "      <td>may</td>\n",
       "      <td>mon</td>\n",
       "      <td>151</td>\n",
       "      <td>1</td>\n",
       "      <td>999</td>\n",
       "      <td>0</td>\n",
       "      <td>nonexistent</td>\n",
       "      <td>1.1</td>\n",
       "      <td>93.994</td>\n",
       "      <td>-36.4</td>\n",
       "      <td>4.857</td>\n",
       "      <td>5191.0</td>\n",
       "      <td>no</td>\n",
       "    </tr>\n",
       "    <tr>\n",
       "      <th>4</th>\n",
       "      <td>56</td>\n",
       "      <td>services</td>\n",
       "      <td>married</td>\n",
       "      <td>high.school</td>\n",
       "      <td>no</td>\n",
       "      <td>no</td>\n",
       "      <td>yes</td>\n",
       "      <td>telephone</td>\n",
       "      <td>may</td>\n",
       "      <td>mon</td>\n",
       "      <td>307</td>\n",
       "      <td>1</td>\n",
       "      <td>999</td>\n",
       "      <td>0</td>\n",
       "      <td>nonexistent</td>\n",
       "      <td>1.1</td>\n",
       "      <td>93.994</td>\n",
       "      <td>-36.4</td>\n",
       "      <td>4.857</td>\n",
       "      <td>5191.0</td>\n",
       "      <td>no</td>\n",
       "    </tr>\n",
       "  </tbody>\n",
       "</table>\n",
       "</div>"
      ],
      "text/plain": [
       "   age        job  marital    education  default housing loan    contact  \\\n",
       "0   56  housemaid  married     basic.4y       no      no   no  telephone   \n",
       "1   57   services  married  high.school  unknown      no   no  telephone   \n",
       "2   37   services  married  high.school       no     yes   no  telephone   \n",
       "3   40     admin.  married     basic.6y       no      no   no  telephone   \n",
       "4   56   services  married  high.school       no      no  yes  telephone   \n",
       "\n",
       "  month day_of_week  duration  campaign  pdays  previous     poutcome  \\\n",
       "0   may         mon       261         1    999         0  nonexistent   \n",
       "1   may         mon       149         1    999         0  nonexistent   \n",
       "2   may         mon       226         1    999         0  nonexistent   \n",
       "3   may         mon       151         1    999         0  nonexistent   \n",
       "4   may         mon       307         1    999         0  nonexistent   \n",
       "\n",
       "   emp.var.rate  cons.price.idx  cons.conf.idx  euribor3m  nr.employed   y  \n",
       "0           1.1          93.994          -36.4      4.857       5191.0  no  \n",
       "1           1.1          93.994          -36.4      4.857       5191.0  no  \n",
       "2           1.1          93.994          -36.4      4.857       5191.0  no  \n",
       "3           1.1          93.994          -36.4      4.857       5191.0  no  \n",
       "4           1.1          93.994          -36.4      4.857       5191.0  no  "
      ]
     },
     "execution_count": 3,
     "metadata": {},
     "output_type": "execute_result"
    }
   ],
   "source": [
    "bankData.head()"
   ]
  },
  {
   "cell_type": "code",
   "execution_count": 4,
   "id": "2fc39c22",
   "metadata": {
    "execution": {
     "iopub.execute_input": "2022-10-02T18:51:56.971834Z",
     "iopub.status.busy": "2022-10-02T18:51:56.971169Z",
     "iopub.status.idle": "2022-10-02T18:51:57.031946Z",
     "shell.execute_reply": "2022-10-02T18:51:57.030056Z"
    },
    "papermill": {
     "duration": 0.070916,
     "end_time": "2022-10-02T18:51:57.034891",
     "exception": false,
     "start_time": "2022-10-02T18:51:56.963975",
     "status": "completed"
    },
    "tags": []
   },
   "outputs": [
    {
     "name": "stdout",
     "output_type": "stream",
     "text": [
      "<class 'pandas.core.frame.DataFrame'>\n",
      "RangeIndex: 41188 entries, 0 to 41187\n",
      "Data columns (total 21 columns):\n",
      " #   Column          Non-Null Count  Dtype  \n",
      "---  ------          --------------  -----  \n",
      " 0   age             41188 non-null  int64  \n",
      " 1   job             41188 non-null  object \n",
      " 2   marital         41188 non-null  object \n",
      " 3   education       41188 non-null  object \n",
      " 4   default         41188 non-null  object \n",
      " 5   housing         41188 non-null  object \n",
      " 6   loan            41188 non-null  object \n",
      " 7   contact         41188 non-null  object \n",
      " 8   month           41188 non-null  object \n",
      " 9   day_of_week     41188 non-null  object \n",
      " 10  duration        41188 non-null  int64  \n",
      " 11  campaign        41188 non-null  int64  \n",
      " 12  pdays           41188 non-null  int64  \n",
      " 13  previous        41188 non-null  int64  \n",
      " 14  poutcome        41188 non-null  object \n",
      " 15  emp.var.rate    41188 non-null  float64\n",
      " 16  cons.price.idx  41188 non-null  float64\n",
      " 17  cons.conf.idx   41188 non-null  float64\n",
      " 18  euribor3m       41188 non-null  float64\n",
      " 19  nr.employed     41188 non-null  float64\n",
      " 20  y               41188 non-null  object \n",
      "dtypes: float64(5), int64(5), object(11)\n",
      "memory usage: 6.6+ MB\n"
     ]
    }
   ],
   "source": [
    "bankData.info()"
   ]
  },
  {
   "cell_type": "markdown",
   "id": "042b4e72",
   "metadata": {
    "papermill": {
     "duration": 0.005552,
     "end_time": "2022-10-02T18:51:57.046515",
     "exception": false,
     "start_time": "2022-10-02T18:51:57.040963",
     "status": "completed"
    },
    "tags": []
   },
   "source": [
    "- It seems there are no values which are missing in bank marketing data set."
   ]
  },
  {
   "cell_type": "code",
   "execution_count": 5,
   "id": "855aef86",
   "metadata": {
    "execution": {
     "iopub.execute_input": "2022-10-02T18:51:57.060639Z",
     "iopub.status.busy": "2022-10-02T18:51:57.060218Z",
     "iopub.status.idle": "2022-10-02T18:51:57.124158Z",
     "shell.execute_reply": "2022-10-02T18:51:57.122892Z"
    },
    "papermill": {
     "duration": 0.07453,
     "end_time": "2022-10-02T18:51:57.126972",
     "exception": false,
     "start_time": "2022-10-02T18:51:57.052442",
     "status": "completed"
    },
    "tags": []
   },
   "outputs": [
    {
     "data": {
      "text/html": [
       "<div>\n",
       "<style scoped>\n",
       "    .dataframe tbody tr th:only-of-type {\n",
       "        vertical-align: middle;\n",
       "    }\n",
       "\n",
       "    .dataframe tbody tr th {\n",
       "        vertical-align: top;\n",
       "    }\n",
       "\n",
       "    .dataframe thead th {\n",
       "        text-align: right;\n",
       "    }\n",
       "</style>\n",
       "<table border=\"1\" class=\"dataframe\">\n",
       "  <thead>\n",
       "    <tr style=\"text-align: right;\">\n",
       "      <th></th>\n",
       "      <th>age</th>\n",
       "      <th>duration</th>\n",
       "      <th>campaign</th>\n",
       "      <th>pdays</th>\n",
       "      <th>previous</th>\n",
       "      <th>emp.var.rate</th>\n",
       "      <th>cons.price.idx</th>\n",
       "      <th>cons.conf.idx</th>\n",
       "      <th>euribor3m</th>\n",
       "      <th>nr.employed</th>\n",
       "    </tr>\n",
       "  </thead>\n",
       "  <tbody>\n",
       "    <tr>\n",
       "      <th>count</th>\n",
       "      <td>41188.00000</td>\n",
       "      <td>41188.000000</td>\n",
       "      <td>41188.000000</td>\n",
       "      <td>41188.000000</td>\n",
       "      <td>41188.000000</td>\n",
       "      <td>41188.000000</td>\n",
       "      <td>41188.000000</td>\n",
       "      <td>41188.000000</td>\n",
       "      <td>41188.000000</td>\n",
       "      <td>41188.000000</td>\n",
       "    </tr>\n",
       "    <tr>\n",
       "      <th>mean</th>\n",
       "      <td>40.02406</td>\n",
       "      <td>258.285010</td>\n",
       "      <td>2.567593</td>\n",
       "      <td>962.475454</td>\n",
       "      <td>0.172963</td>\n",
       "      <td>0.081886</td>\n",
       "      <td>93.575664</td>\n",
       "      <td>-40.502600</td>\n",
       "      <td>3.621291</td>\n",
       "      <td>5167.035911</td>\n",
       "    </tr>\n",
       "    <tr>\n",
       "      <th>std</th>\n",
       "      <td>10.42125</td>\n",
       "      <td>259.279249</td>\n",
       "      <td>2.770014</td>\n",
       "      <td>186.910907</td>\n",
       "      <td>0.494901</td>\n",
       "      <td>1.570960</td>\n",
       "      <td>0.578840</td>\n",
       "      <td>4.628198</td>\n",
       "      <td>1.734447</td>\n",
       "      <td>72.251528</td>\n",
       "    </tr>\n",
       "    <tr>\n",
       "      <th>min</th>\n",
       "      <td>17.00000</td>\n",
       "      <td>0.000000</td>\n",
       "      <td>1.000000</td>\n",
       "      <td>0.000000</td>\n",
       "      <td>0.000000</td>\n",
       "      <td>-3.400000</td>\n",
       "      <td>92.201000</td>\n",
       "      <td>-50.800000</td>\n",
       "      <td>0.634000</td>\n",
       "      <td>4963.600000</td>\n",
       "    </tr>\n",
       "    <tr>\n",
       "      <th>25%</th>\n",
       "      <td>32.00000</td>\n",
       "      <td>102.000000</td>\n",
       "      <td>1.000000</td>\n",
       "      <td>999.000000</td>\n",
       "      <td>0.000000</td>\n",
       "      <td>-1.800000</td>\n",
       "      <td>93.075000</td>\n",
       "      <td>-42.700000</td>\n",
       "      <td>1.344000</td>\n",
       "      <td>5099.100000</td>\n",
       "    </tr>\n",
       "    <tr>\n",
       "      <th>50%</th>\n",
       "      <td>38.00000</td>\n",
       "      <td>180.000000</td>\n",
       "      <td>2.000000</td>\n",
       "      <td>999.000000</td>\n",
       "      <td>0.000000</td>\n",
       "      <td>1.100000</td>\n",
       "      <td>93.749000</td>\n",
       "      <td>-41.800000</td>\n",
       "      <td>4.857000</td>\n",
       "      <td>5191.000000</td>\n",
       "    </tr>\n",
       "    <tr>\n",
       "      <th>75%</th>\n",
       "      <td>47.00000</td>\n",
       "      <td>319.000000</td>\n",
       "      <td>3.000000</td>\n",
       "      <td>999.000000</td>\n",
       "      <td>0.000000</td>\n",
       "      <td>1.400000</td>\n",
       "      <td>93.994000</td>\n",
       "      <td>-36.400000</td>\n",
       "      <td>4.961000</td>\n",
       "      <td>5228.100000</td>\n",
       "    </tr>\n",
       "    <tr>\n",
       "      <th>max</th>\n",
       "      <td>98.00000</td>\n",
       "      <td>4918.000000</td>\n",
       "      <td>56.000000</td>\n",
       "      <td>999.000000</td>\n",
       "      <td>7.000000</td>\n",
       "      <td>1.400000</td>\n",
       "      <td>94.767000</td>\n",
       "      <td>-26.900000</td>\n",
       "      <td>5.045000</td>\n",
       "      <td>5228.100000</td>\n",
       "    </tr>\n",
       "  </tbody>\n",
       "</table>\n",
       "</div>"
      ],
      "text/plain": [
       "               age      duration      campaign         pdays      previous  \\\n",
       "count  41188.00000  41188.000000  41188.000000  41188.000000  41188.000000   \n",
       "mean      40.02406    258.285010      2.567593    962.475454      0.172963   \n",
       "std       10.42125    259.279249      2.770014    186.910907      0.494901   \n",
       "min       17.00000      0.000000      1.000000      0.000000      0.000000   \n",
       "25%       32.00000    102.000000      1.000000    999.000000      0.000000   \n",
       "50%       38.00000    180.000000      2.000000    999.000000      0.000000   \n",
       "75%       47.00000    319.000000      3.000000    999.000000      0.000000   \n",
       "max       98.00000   4918.000000     56.000000    999.000000      7.000000   \n",
       "\n",
       "       emp.var.rate  cons.price.idx  cons.conf.idx     euribor3m   nr.employed  \n",
       "count  41188.000000    41188.000000   41188.000000  41188.000000  41188.000000  \n",
       "mean       0.081886       93.575664     -40.502600      3.621291   5167.035911  \n",
       "std        1.570960        0.578840       4.628198      1.734447     72.251528  \n",
       "min       -3.400000       92.201000     -50.800000      0.634000   4963.600000  \n",
       "25%       -1.800000       93.075000     -42.700000      1.344000   5099.100000  \n",
       "50%        1.100000       93.749000     -41.800000      4.857000   5191.000000  \n",
       "75%        1.400000       93.994000     -36.400000      4.961000   5228.100000  \n",
       "max        1.400000       94.767000     -26.900000      5.045000   5228.100000  "
      ]
     },
     "execution_count": 5,
     "metadata": {},
     "output_type": "execute_result"
    }
   ],
   "source": [
    "bankData.describe()"
   ]
  },
  {
   "cell_type": "markdown",
   "id": "dbe61a6f",
   "metadata": {
    "papermill": {
     "duration": 0.006348,
     "end_time": "2022-10-02T18:51:57.140014",
     "exception": false,
     "start_time": "2022-10-02T18:51:57.133666",
     "status": "completed"
    },
    "tags": []
   },
   "source": [
    "### Data Cleaning"
   ]
  },
  {
   "cell_type": "markdown",
   "id": "a82fe0f2",
   "metadata": {
    "papermill": {
     "duration": 0.005829,
     "end_time": "2022-10-02T18:51:57.152185",
     "exception": false,
     "start_time": "2022-10-02T18:51:57.146356",
     "status": "completed"
    },
    "tags": []
   },
   "source": [
    "Columns emp.var.rate,cons.price.idx,cons.conf.idx,euribor.3m and nr.employed does not seem to be meaningful.Converting them to appropiate names"
   ]
  },
  {
   "cell_type": "code",
   "execution_count": 6,
   "id": "d319e7d6",
   "metadata": {
    "execution": {
     "iopub.execute_input": "2022-10-02T18:51:57.167578Z",
     "iopub.status.busy": "2022-10-02T18:51:57.167085Z",
     "iopub.status.idle": "2022-10-02T18:51:57.173258Z",
     "shell.execute_reply": "2022-10-02T18:51:57.172295Z"
    },
    "papermill": {
     "duration": 0.017523,
     "end_time": "2022-10-02T18:51:57.176000",
     "exception": false,
     "start_time": "2022-10-02T18:51:57.158477",
     "status": "completed"
    },
    "tags": []
   },
   "outputs": [],
   "source": [
    "bankData.rename({'emp.var.rate':'Employment_Variation_Rate',\n",
    "                'cons.price.idx': 'Consumer_Price_Index',\n",
    "                 'cons.conf.idx':'Consumer_Confidence_Index',\n",
    "                 'euribor3m':'Euribor_3_Month_Rate',\n",
    "                 'nr.employed':'No_Employees',\n",
    "                 'y':'Target_Variable'\n",
    "                },axis=1,inplace=True)"
   ]
  },
  {
   "cell_type": "code",
   "execution_count": 7,
   "id": "9124c628",
   "metadata": {
    "execution": {
     "iopub.execute_input": "2022-10-02T18:51:57.190323Z",
     "iopub.status.busy": "2022-10-02T18:51:57.189941Z",
     "iopub.status.idle": "2022-10-02T18:51:57.197766Z",
     "shell.execute_reply": "2022-10-02T18:51:57.196490Z"
    },
    "papermill": {
     "duration": 0.017994,
     "end_time": "2022-10-02T18:51:57.200270",
     "exception": false,
     "start_time": "2022-10-02T18:51:57.182276",
     "status": "completed"
    },
    "tags": []
   },
   "outputs": [
    {
     "data": {
      "text/plain": [
       "Index(['age', 'job', 'marital', 'education', 'default', 'housing', 'loan',\n",
       "       'contact', 'month', 'day_of_week', 'duration', 'campaign', 'pdays',\n",
       "       'previous', 'poutcome', 'Employment_Variation_Rate',\n",
       "       'Consumer_Price_Index', 'Consumer_Confidence_Index',\n",
       "       'Euribor_3_Month_Rate', 'No_Employees', 'Target_Variable'],\n",
       "      dtype='object')"
      ]
     },
     "execution_count": 7,
     "metadata": {},
     "output_type": "execute_result"
    }
   ],
   "source": [
    "bankData.columns\n"
   ]
  },
  {
   "cell_type": "markdown",
   "id": "8916efb2",
   "metadata": {
    "papermill": {
     "duration": 0.006182,
     "end_time": "2022-10-02T18:51:57.212877",
     "exception": false,
     "start_time": "2022-10-02T18:51:57.206695",
     "status": "completed"
    },
    "tags": []
   },
   "source": [
    "As mentioned earlier <i>Yet, the duration is not known before a call is performed. Also, after the end of the call y is obviously known. Thus, this input should only be included for benchmark purposes and should be discarded if the intention is to have a realistic predictive model.</i><br>"
   ]
  },
  {
   "cell_type": "code",
   "execution_count": 8,
   "id": "7a8a1500",
   "metadata": {
    "execution": {
     "iopub.execute_input": "2022-10-02T18:51:57.227985Z",
     "iopub.status.busy": "2022-10-02T18:51:57.227535Z",
     "iopub.status.idle": "2022-10-02T18:51:57.238398Z",
     "shell.execute_reply": "2022-10-02T18:51:57.237163Z"
    },
    "papermill": {
     "duration": 0.021836,
     "end_time": "2022-10-02T18:51:57.241205",
     "exception": false,
     "start_time": "2022-10-02T18:51:57.219369",
     "status": "completed"
    },
    "tags": []
   },
   "outputs": [],
   "source": [
    "#Dropping duration column\n",
    "bankData.drop('duration',axis=1,inplace=True)"
   ]
  },
  {
   "cell_type": "code",
   "execution_count": 9,
   "id": "0cfedc31",
   "metadata": {
    "execution": {
     "iopub.execute_input": "2022-10-02T18:51:57.255789Z",
     "iopub.status.busy": "2022-10-02T18:51:57.254997Z",
     "iopub.status.idle": "2022-10-02T18:51:57.262009Z",
     "shell.execute_reply": "2022-10-02T18:51:57.260777Z"
    },
    "papermill": {
     "duration": 0.016793,
     "end_time": "2022-10-02T18:51:57.264348",
     "exception": false,
     "start_time": "2022-10-02T18:51:57.247555",
     "status": "completed"
    },
    "tags": []
   },
   "outputs": [
    {
     "data": {
      "text/plain": [
       "(41188, 20)"
      ]
     },
     "execution_count": 9,
     "metadata": {},
     "output_type": "execute_result"
    }
   ],
   "source": [
    "#Checking if duration is dropped\n",
    "bankData.shape"
   ]
  },
  {
   "cell_type": "markdown",
   "id": "bcd3681f",
   "metadata": {
    "papermill": {
     "duration": 0.006243,
     "end_time": "2022-10-02T18:51:57.276846",
     "exception": false,
     "start_time": "2022-10-02T18:51:57.270603",
     "status": "completed"
    },
    "tags": []
   },
   "source": [
    "Month and day of the week are not required as it is not required to know what was last month,day of week when the customer was contacted"
   ]
  },
  {
   "cell_type": "code",
   "execution_count": 10,
   "id": "568c2fc6",
   "metadata": {
    "execution": {
     "iopub.execute_input": "2022-10-02T18:51:57.291276Z",
     "iopub.status.busy": "2022-10-02T18:51:57.290857Z",
     "iopub.status.idle": "2022-10-02T18:51:57.306631Z",
     "shell.execute_reply": "2022-10-02T18:51:57.305670Z"
    },
    "papermill": {
     "duration": 0.026117,
     "end_time": "2022-10-02T18:51:57.309239",
     "exception": false,
     "start_time": "2022-10-02T18:51:57.283122",
     "status": "completed"
    },
    "tags": []
   },
   "outputs": [],
   "source": [
    "#Dropping month and day_of_week\n",
    "bankData.drop(columns = ['month','day_of_week'],axis=1,inplace=True)"
   ]
  },
  {
   "cell_type": "code",
   "execution_count": 11,
   "id": "81fdffbd",
   "metadata": {
    "execution": {
     "iopub.execute_input": "2022-10-02T18:51:57.324563Z",
     "iopub.status.busy": "2022-10-02T18:51:57.323237Z",
     "iopub.status.idle": "2022-10-02T18:51:57.330798Z",
     "shell.execute_reply": "2022-10-02T18:51:57.329813Z"
    },
    "papermill": {
     "duration": 0.017472,
     "end_time": "2022-10-02T18:51:57.332973",
     "exception": false,
     "start_time": "2022-10-02T18:51:57.315501",
     "status": "completed"
    },
    "tags": []
   },
   "outputs": [
    {
     "data": {
      "text/plain": [
       "Index(['age', 'job', 'marital', 'education', 'default', 'housing', 'loan',\n",
       "       'contact', 'campaign', 'pdays', 'previous', 'poutcome',\n",
       "       'Employment_Variation_Rate', 'Consumer_Price_Index',\n",
       "       'Consumer_Confidence_Index', 'Euribor_3_Month_Rate', 'No_Employees',\n",
       "       'Target_Variable'],\n",
       "      dtype='object')"
      ]
     },
     "execution_count": 11,
     "metadata": {},
     "output_type": "execute_result"
    }
   ],
   "source": [
    "#Checking if month and day of week is dropped.\n",
    "bankData.columns"
   ]
  },
  {
   "cell_type": "markdown",
   "id": "69270a70",
   "metadata": {
    "papermill": {
     "duration": 0.00616,
     "end_time": "2022-10-02T18:51:57.345861",
     "exception": false,
     "start_time": "2022-10-02T18:51:57.339701",
     "status": "completed"
    },
    "tags": []
   },
   "source": []
  },
  {
   "cell_type": "markdown",
   "id": "8a63889b",
   "metadata": {
    "papermill": {
     "duration": 0.006126,
     "end_time": "2022-10-02T18:51:57.358447",
     "exception": false,
     "start_time": "2022-10-02T18:51:57.352321",
     "status": "completed"
    },
    "tags": []
   },
   "source": [
    "### Handling Missing Values"
   ]
  },
  {
   "cell_type": "code",
   "execution_count": 12,
   "id": "5288b6b2",
   "metadata": {
    "execution": {
     "iopub.execute_input": "2022-10-02T18:51:57.373762Z",
     "iopub.status.busy": "2022-10-02T18:51:57.372838Z",
     "iopub.status.idle": "2022-10-02T18:51:57.400181Z",
     "shell.execute_reply": "2022-10-02T18:51:57.398904Z"
    },
    "papermill": {
     "duration": 0.037929,
     "end_time": "2022-10-02T18:51:57.402982",
     "exception": false,
     "start_time": "2022-10-02T18:51:57.365053",
     "status": "completed"
    },
    "tags": []
   },
   "outputs": [
    {
     "data": {
      "text/plain": [
       "age                          0\n",
       "job                          0\n",
       "marital                      0\n",
       "education                    0\n",
       "default                      0\n",
       "housing                      0\n",
       "loan                         0\n",
       "contact                      0\n",
       "campaign                     0\n",
       "pdays                        0\n",
       "previous                     0\n",
       "poutcome                     0\n",
       "Employment_Variation_Rate    0\n",
       "Consumer_Price_Index         0\n",
       "Consumer_Confidence_Index    0\n",
       "Euribor_3_Month_Rate         0\n",
       "No_Employees                 0\n",
       "Target_Variable              0\n",
       "dtype: int64"
      ]
     },
     "execution_count": 12,
     "metadata": {},
     "output_type": "execute_result"
    }
   ],
   "source": [
    "#Checking for missing values\n",
    "bankData.isnull().sum()"
   ]
  },
  {
   "cell_type": "raw",
   "id": "5f760483",
   "metadata": {
    "papermill": {
     "duration": 0.006649,
     "end_time": "2022-10-02T18:51:57.416585",
     "exception": false,
     "start_time": "2022-10-02T18:51:57.409936",
     "status": "completed"
    },
    "tags": []
   },
   "source": []
  },
  {
   "cell_type": "markdown",
   "id": "5f3dda14",
   "metadata": {
    "papermill": {
     "duration": 0.006302,
     "end_time": "2022-10-02T18:51:57.429504",
     "exception": false,
     "start_time": "2022-10-02T18:51:57.423202",
     "status": "completed"
    },
    "tags": []
   },
   "source": [
    "- There dosen't seem to be any values missing.\n",
    "- For categorical columns where it is unknown it looks like a seperate category was created for such cases.It might have happened that the client might not have shared the information.(MNAR)\n",
    "- In future it might happen that a new client comes and there are some columns where some values are categorized as unknown.Here unknown acts like a valid category.\n",
    "- So, when we convert these categorical to dummy variables it would automatically take into consideration of unkown and the appropiate value would be assigned.\n"
   ]
  },
  {
   "cell_type": "code",
   "execution_count": null,
   "id": "f70fb6ef",
   "metadata": {
    "papermill": {
     "duration": 0.006326,
     "end_time": "2022-10-02T18:51:57.442555",
     "exception": false,
     "start_time": "2022-10-02T18:51:57.436229",
     "status": "completed"
    },
    "tags": []
   },
   "outputs": [],
   "source": []
  }
 ],
 "metadata": {
  "kernelspec": {
   "display_name": "Python 3",
   "language": "python",
   "name": "python3"
  },
  "language_info": {
   "codemirror_mode": {
    "name": "ipython",
    "version": 3
   },
   "file_extension": ".py",
   "mimetype": "text/x-python",
   "name": "python",
   "nbconvert_exporter": "python",
   "pygments_lexer": "ipython3",
   "version": "3.7.12"
  },
  "papermill": {
   "default_parameters": {},
   "duration": 13.078895,
   "end_time": "2022-10-02T18:51:58.273425",
   "environment_variables": {},
   "exception": null,
   "input_path": "__notebook__.ipynb",
   "output_path": "__notebook__.ipynb",
   "parameters": {},
   "start_time": "2022-10-02T18:51:45.194530",
   "version": "2.3.4"
  }
 },
 "nbformat": 4,
 "nbformat_minor": 5
}
