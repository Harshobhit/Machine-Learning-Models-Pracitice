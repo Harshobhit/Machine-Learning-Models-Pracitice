{
 "cells": [
  {
   "cell_type": "code",
   "execution_count": 1,
   "id": "f4b2ab2f",
   "metadata": {
    "_cell_guid": "b1076dfc-b9ad-4769-8c92-a6c4dae69d19",
    "_uuid": "8f2839f25d086af736a60e9eeb907d3b93b6e0e5",
    "execution": {
     "iopub.execute_input": "2022-10-02T18:31:10.822624Z",
     "iopub.status.busy": "2022-10-02T18:31:10.822142Z",
     "iopub.status.idle": "2022-10-02T18:31:12.015052Z",
     "shell.execute_reply": "2022-10-02T18:31:12.013943Z"
    },
    "papermill": {
     "duration": 1.213015,
     "end_time": "2022-10-02T18:31:12.018218",
     "exception": false,
     "start_time": "2022-10-02T18:31:10.805203",
     "status": "completed"
    },
    "tags": []
   },
   "outputs": [],
   "source": [
    "import pandas as pd\n",
    "import numpy as np\n",
    "import matplotlib.pyplot as plt\n",
    "import seaborn as sns\n",
    "import warnings\n",
    "warnings.filterwarnings('ignore')\n",
    "%matplotlib inline"
   ]
  },
  {
   "cell_type": "code",
   "execution_count": 2,
   "id": "a6a09cfa",
   "metadata": {
    "execution": {
     "iopub.execute_input": "2022-10-02T18:31:12.048922Z",
     "iopub.status.busy": "2022-10-02T18:31:12.047915Z",
     "iopub.status.idle": "2022-10-02T18:31:12.260127Z",
     "shell.execute_reply": "2022-10-02T18:31:12.258807Z"
    },
    "papermill": {
     "duration": 0.231351,
     "end_time": "2022-10-02T18:31:12.263048",
     "exception": false,
     "start_time": "2022-10-02T18:31:12.031697",
     "status": "completed"
    },
    "tags": []
   },
   "outputs": [],
   "source": [
    "pd.set_option('display.max_columns', None) #To Display all columns\n",
    "bankData = pd.read_csv('../input/marketing-banking-file/bank-additional-full.csv')"
   ]
  },
  {
   "cell_type": "markdown",
   "id": "cc4ae031",
   "metadata": {
    "papermill": {
     "duration": 0.012884,
     "end_time": "2022-10-02T18:31:12.289417",
     "exception": false,
     "start_time": "2022-10-02T18:31:12.276533",
     "status": "completed"
    },
    "tags": []
   },
   "source": [
    "Attribute Information:<br>Input variables:<br># bank client data:<br>1 - age (numeric)<br>2 - job : type of job (categorical: 'admin.','blue-collar','entrepreneur','housemaid','management','retired','self-employed','services','student','technician','unemployed','unknown')<br>3 - marital : marital status (categorical: 'divorced','married','single','unknown'; note: 'divorced' means divorced or widowed)<br>4 - education (categorical: 'basic.4y','basic.6y','basic.9y','high.school','illiterate','professional.course','university.degree','unknown')<br>5 - default: has credit in default? (categorical: 'no','yes','unknown')<br>6 - housing: has housing loan? (categorical: 'no','yes','unknown')<br>7 - loan: has personal loan? (categorical: 'no','yes','unknown')<br># related with the last contact of the current campaign:<br>8 - contact: contact communication type (categorical: 'cellular','telephone')<br>9 - month: last contact month of year (categorical: 'jan', 'feb', 'mar', ..., 'nov', 'dec')<br>10 - day_of_week: last contact day of the week (categorical: 'mon','tue','wed','thu','fri')<br>11 - duration: last contact duration, in seconds (numeric). Important note: this attribute highly affects the output target (e.g., if duration=0 then y='no'). Yet, the duration is not known before a call is performed. Also, after the end of the call y is obviously known. Thus, this input should only be included for benchmark purposes and should be discarded if the intention is to have a realistic predictive model.<br># other attributes:<br>12 - campaign: number of contacts performed during this campaign and for this client (numeric, includes last contact)<br>13 - pdays: number of days that passed by after the client was last contacted from a previous campaign (numeric; 999 means client was not previously contacted)<br>14 - previous: number of contacts performed before this campaign and for this client (numeric)<br>15 - poutcome: outcome of the previous marketing campaign (categorical: 'failure','nonexistent','success')<br># social and economic context attributes<br>16 - emp.var.rate: employment variation rate - quarterly indicator (numeric)<br>17 - cons.price.idx: consumer price index - monthly indicator (numeric)<br>18 - cons.conf.idx: consumer confidence index - monthly indicator (numeric)<br>19 - euribor3m: euribor 3 month rate - daily indicator (numeric)<br>20 - nr.employed: number of employees - quarterly indicator (numeric)<br>\n",
    "<b>Output variable (desired target):<br></b>\n",
    "21 - y - has the client subscribed a term deposit? (binary: 'yes','no')"
   ]
  },
  {
   "cell_type": "markdown",
   "id": "84184657",
   "metadata": {
    "papermill": {
     "duration": 0.01294,
     "end_time": "2022-10-02T18:31:12.315606",
     "exception": false,
     "start_time": "2022-10-02T18:31:12.302666",
     "status": "completed"
    },
    "tags": []
   },
   "source": [
    "### Initial Data Exploration"
   ]
  },
  {
   "cell_type": "code",
   "execution_count": 3,
   "id": "90203152",
   "metadata": {
    "execution": {
     "iopub.execute_input": "2022-10-02T18:31:12.344452Z",
     "iopub.status.busy": "2022-10-02T18:31:12.343987Z",
     "iopub.status.idle": "2022-10-02T18:31:12.377060Z",
     "shell.execute_reply": "2022-10-02T18:31:12.376047Z"
    },
    "papermill": {
     "duration": 0.050126,
     "end_time": "2022-10-02T18:31:12.379407",
     "exception": false,
     "start_time": "2022-10-02T18:31:12.329281",
     "status": "completed"
    },
    "tags": []
   },
   "outputs": [
    {
     "data": {
      "text/html": [
       "<div>\n",
       "<style scoped>\n",
       "    .dataframe tbody tr th:only-of-type {\n",
       "        vertical-align: middle;\n",
       "    }\n",
       "\n",
       "    .dataframe tbody tr th {\n",
       "        vertical-align: top;\n",
       "    }\n",
       "\n",
       "    .dataframe thead th {\n",
       "        text-align: right;\n",
       "    }\n",
       "</style>\n",
       "<table border=\"1\" class=\"dataframe\">\n",
       "  <thead>\n",
       "    <tr style=\"text-align: right;\">\n",
       "      <th></th>\n",
       "      <th>age</th>\n",
       "      <th>job</th>\n",
       "      <th>marital</th>\n",
       "      <th>education</th>\n",
       "      <th>default</th>\n",
       "      <th>housing</th>\n",
       "      <th>loan</th>\n",
       "      <th>contact</th>\n",
       "      <th>month</th>\n",
       "      <th>day_of_week</th>\n",
       "      <th>duration</th>\n",
       "      <th>campaign</th>\n",
       "      <th>pdays</th>\n",
       "      <th>previous</th>\n",
       "      <th>poutcome</th>\n",
       "      <th>emp.var.rate</th>\n",
       "      <th>cons.price.idx</th>\n",
       "      <th>cons.conf.idx</th>\n",
       "      <th>euribor3m</th>\n",
       "      <th>nr.employed</th>\n",
       "      <th>y</th>\n",
       "    </tr>\n",
       "  </thead>\n",
       "  <tbody>\n",
       "    <tr>\n",
       "      <th>0</th>\n",
       "      <td>56</td>\n",
       "      <td>housemaid</td>\n",
       "      <td>married</td>\n",
       "      <td>basic.4y</td>\n",
       "      <td>no</td>\n",
       "      <td>no</td>\n",
       "      <td>no</td>\n",
       "      <td>telephone</td>\n",
       "      <td>may</td>\n",
       "      <td>mon</td>\n",
       "      <td>261</td>\n",
       "      <td>1</td>\n",
       "      <td>999</td>\n",
       "      <td>0</td>\n",
       "      <td>nonexistent</td>\n",
       "      <td>1.1</td>\n",
       "      <td>93.994</td>\n",
       "      <td>-36.4</td>\n",
       "      <td>4.857</td>\n",
       "      <td>5191.0</td>\n",
       "      <td>no</td>\n",
       "    </tr>\n",
       "    <tr>\n",
       "      <th>1</th>\n",
       "      <td>57</td>\n",
       "      <td>services</td>\n",
       "      <td>married</td>\n",
       "      <td>high.school</td>\n",
       "      <td>unknown</td>\n",
       "      <td>no</td>\n",
       "      <td>no</td>\n",
       "      <td>telephone</td>\n",
       "      <td>may</td>\n",
       "      <td>mon</td>\n",
       "      <td>149</td>\n",
       "      <td>1</td>\n",
       "      <td>999</td>\n",
       "      <td>0</td>\n",
       "      <td>nonexistent</td>\n",
       "      <td>1.1</td>\n",
       "      <td>93.994</td>\n",
       "      <td>-36.4</td>\n",
       "      <td>4.857</td>\n",
       "      <td>5191.0</td>\n",
       "      <td>no</td>\n",
       "    </tr>\n",
       "    <tr>\n",
       "      <th>2</th>\n",
       "      <td>37</td>\n",
       "      <td>services</td>\n",
       "      <td>married</td>\n",
       "      <td>high.school</td>\n",
       "      <td>no</td>\n",
       "      <td>yes</td>\n",
       "      <td>no</td>\n",
       "      <td>telephone</td>\n",
       "      <td>may</td>\n",
       "      <td>mon</td>\n",
       "      <td>226</td>\n",
       "      <td>1</td>\n",
       "      <td>999</td>\n",
       "      <td>0</td>\n",
       "      <td>nonexistent</td>\n",
       "      <td>1.1</td>\n",
       "      <td>93.994</td>\n",
       "      <td>-36.4</td>\n",
       "      <td>4.857</td>\n",
       "      <td>5191.0</td>\n",
       "      <td>no</td>\n",
       "    </tr>\n",
       "    <tr>\n",
       "      <th>3</th>\n",
       "      <td>40</td>\n",
       "      <td>admin.</td>\n",
       "      <td>married</td>\n",
       "      <td>basic.6y</td>\n",
       "      <td>no</td>\n",
       "      <td>no</td>\n",
       "      <td>no</td>\n",
       "      <td>telephone</td>\n",
       "      <td>may</td>\n",
       "      <td>mon</td>\n",
       "      <td>151</td>\n",
       "      <td>1</td>\n",
       "      <td>999</td>\n",
       "      <td>0</td>\n",
       "      <td>nonexistent</td>\n",
       "      <td>1.1</td>\n",
       "      <td>93.994</td>\n",
       "      <td>-36.4</td>\n",
       "      <td>4.857</td>\n",
       "      <td>5191.0</td>\n",
       "      <td>no</td>\n",
       "    </tr>\n",
       "    <tr>\n",
       "      <th>4</th>\n",
       "      <td>56</td>\n",
       "      <td>services</td>\n",
       "      <td>married</td>\n",
       "      <td>high.school</td>\n",
       "      <td>no</td>\n",
       "      <td>no</td>\n",
       "      <td>yes</td>\n",
       "      <td>telephone</td>\n",
       "      <td>may</td>\n",
       "      <td>mon</td>\n",
       "      <td>307</td>\n",
       "      <td>1</td>\n",
       "      <td>999</td>\n",
       "      <td>0</td>\n",
       "      <td>nonexistent</td>\n",
       "      <td>1.1</td>\n",
       "      <td>93.994</td>\n",
       "      <td>-36.4</td>\n",
       "      <td>4.857</td>\n",
       "      <td>5191.0</td>\n",
       "      <td>no</td>\n",
       "    </tr>\n",
       "  </tbody>\n",
       "</table>\n",
       "</div>"
      ],
      "text/plain": [
       "   age        job  marital    education  default housing loan    contact  \\\n",
       "0   56  housemaid  married     basic.4y       no      no   no  telephone   \n",
       "1   57   services  married  high.school  unknown      no   no  telephone   \n",
       "2   37   services  married  high.school       no     yes   no  telephone   \n",
       "3   40     admin.  married     basic.6y       no      no   no  telephone   \n",
       "4   56   services  married  high.school       no      no  yes  telephone   \n",
       "\n",
       "  month day_of_week  duration  campaign  pdays  previous     poutcome  \\\n",
       "0   may         mon       261         1    999         0  nonexistent   \n",
       "1   may         mon       149         1    999         0  nonexistent   \n",
       "2   may         mon       226         1    999         0  nonexistent   \n",
       "3   may         mon       151         1    999         0  nonexistent   \n",
       "4   may         mon       307         1    999         0  nonexistent   \n",
       "\n",
       "   emp.var.rate  cons.price.idx  cons.conf.idx  euribor3m  nr.employed   y  \n",
       "0           1.1          93.994          -36.4      4.857       5191.0  no  \n",
       "1           1.1          93.994          -36.4      4.857       5191.0  no  \n",
       "2           1.1          93.994          -36.4      4.857       5191.0  no  \n",
       "3           1.1          93.994          -36.4      4.857       5191.0  no  \n",
       "4           1.1          93.994          -36.4      4.857       5191.0  no  "
      ]
     },
     "execution_count": 3,
     "metadata": {},
     "output_type": "execute_result"
    }
   ],
   "source": [
    "bankData.head()"
   ]
  },
  {
   "cell_type": "code",
   "execution_count": 4,
   "id": "93e02ba6",
   "metadata": {
    "execution": {
     "iopub.execute_input": "2022-10-02T18:31:12.408662Z",
     "iopub.status.busy": "2022-10-02T18:31:12.408207Z",
     "iopub.status.idle": "2022-10-02T18:31:12.457311Z",
     "shell.execute_reply": "2022-10-02T18:31:12.455499Z"
    },
    "papermill": {
     "duration": 0.066777,
     "end_time": "2022-10-02T18:31:12.460073",
     "exception": false,
     "start_time": "2022-10-02T18:31:12.393296",
     "status": "completed"
    },
    "tags": []
   },
   "outputs": [
    {
     "name": "stdout",
     "output_type": "stream",
     "text": [
      "<class 'pandas.core.frame.DataFrame'>\n",
      "RangeIndex: 41188 entries, 0 to 41187\n",
      "Data columns (total 21 columns):\n",
      " #   Column          Non-Null Count  Dtype  \n",
      "---  ------          --------------  -----  \n",
      " 0   age             41188 non-null  int64  \n",
      " 1   job             41188 non-null  object \n",
      " 2   marital         41188 non-null  object \n",
      " 3   education       41188 non-null  object \n",
      " 4   default         41188 non-null  object \n",
      " 5   housing         41188 non-null  object \n",
      " 6   loan            41188 non-null  object \n",
      " 7   contact         41188 non-null  object \n",
      " 8   month           41188 non-null  object \n",
      " 9   day_of_week     41188 non-null  object \n",
      " 10  duration        41188 non-null  int64  \n",
      " 11  campaign        41188 non-null  int64  \n",
      " 12  pdays           41188 non-null  int64  \n",
      " 13  previous        41188 non-null  int64  \n",
      " 14  poutcome        41188 non-null  object \n",
      " 15  emp.var.rate    41188 non-null  float64\n",
      " 16  cons.price.idx  41188 non-null  float64\n",
      " 17  cons.conf.idx   41188 non-null  float64\n",
      " 18  euribor3m       41188 non-null  float64\n",
      " 19  nr.employed     41188 non-null  float64\n",
      " 20  y               41188 non-null  object \n",
      "dtypes: float64(5), int64(5), object(11)\n",
      "memory usage: 6.6+ MB\n"
     ]
    }
   ],
   "source": [
    "bankData.info()"
   ]
  },
  {
   "cell_type": "markdown",
   "id": "965e573c",
   "metadata": {
    "papermill": {
     "duration": 0.013354,
     "end_time": "2022-10-02T18:31:12.487671",
     "exception": false,
     "start_time": "2022-10-02T18:31:12.474317",
     "status": "completed"
    },
    "tags": []
   },
   "source": [
    "- It seems there are no values which are missing in bank marketing data set."
   ]
  },
  {
   "cell_type": "code",
   "execution_count": 5,
   "id": "0bcd62a2",
   "metadata": {
    "execution": {
     "iopub.execute_input": "2022-10-02T18:31:12.516413Z",
     "iopub.status.busy": "2022-10-02T18:31:12.515963Z",
     "iopub.status.idle": "2022-10-02T18:31:12.575691Z",
     "shell.execute_reply": "2022-10-02T18:31:12.574421Z"
    },
    "papermill": {
     "duration": 0.077118,
     "end_time": "2022-10-02T18:31:12.578330",
     "exception": false,
     "start_time": "2022-10-02T18:31:12.501212",
     "status": "completed"
    },
    "tags": []
   },
   "outputs": [
    {
     "data": {
      "text/html": [
       "<div>\n",
       "<style scoped>\n",
       "    .dataframe tbody tr th:only-of-type {\n",
       "        vertical-align: middle;\n",
       "    }\n",
       "\n",
       "    .dataframe tbody tr th {\n",
       "        vertical-align: top;\n",
       "    }\n",
       "\n",
       "    .dataframe thead th {\n",
       "        text-align: right;\n",
       "    }\n",
       "</style>\n",
       "<table border=\"1\" class=\"dataframe\">\n",
       "  <thead>\n",
       "    <tr style=\"text-align: right;\">\n",
       "      <th></th>\n",
       "      <th>age</th>\n",
       "      <th>duration</th>\n",
       "      <th>campaign</th>\n",
       "      <th>pdays</th>\n",
       "      <th>previous</th>\n",
       "      <th>emp.var.rate</th>\n",
       "      <th>cons.price.idx</th>\n",
       "      <th>cons.conf.idx</th>\n",
       "      <th>euribor3m</th>\n",
       "      <th>nr.employed</th>\n",
       "    </tr>\n",
       "  </thead>\n",
       "  <tbody>\n",
       "    <tr>\n",
       "      <th>count</th>\n",
       "      <td>41188.00000</td>\n",
       "      <td>41188.000000</td>\n",
       "      <td>41188.000000</td>\n",
       "      <td>41188.000000</td>\n",
       "      <td>41188.000000</td>\n",
       "      <td>41188.000000</td>\n",
       "      <td>41188.000000</td>\n",
       "      <td>41188.000000</td>\n",
       "      <td>41188.000000</td>\n",
       "      <td>41188.000000</td>\n",
       "    </tr>\n",
       "    <tr>\n",
       "      <th>mean</th>\n",
       "      <td>40.02406</td>\n",
       "      <td>258.285010</td>\n",
       "      <td>2.567593</td>\n",
       "      <td>962.475454</td>\n",
       "      <td>0.172963</td>\n",
       "      <td>0.081886</td>\n",
       "      <td>93.575664</td>\n",
       "      <td>-40.502600</td>\n",
       "      <td>3.621291</td>\n",
       "      <td>5167.035911</td>\n",
       "    </tr>\n",
       "    <tr>\n",
       "      <th>std</th>\n",
       "      <td>10.42125</td>\n",
       "      <td>259.279249</td>\n",
       "      <td>2.770014</td>\n",
       "      <td>186.910907</td>\n",
       "      <td>0.494901</td>\n",
       "      <td>1.570960</td>\n",
       "      <td>0.578840</td>\n",
       "      <td>4.628198</td>\n",
       "      <td>1.734447</td>\n",
       "      <td>72.251528</td>\n",
       "    </tr>\n",
       "    <tr>\n",
       "      <th>min</th>\n",
       "      <td>17.00000</td>\n",
       "      <td>0.000000</td>\n",
       "      <td>1.000000</td>\n",
       "      <td>0.000000</td>\n",
       "      <td>0.000000</td>\n",
       "      <td>-3.400000</td>\n",
       "      <td>92.201000</td>\n",
       "      <td>-50.800000</td>\n",
       "      <td>0.634000</td>\n",
       "      <td>4963.600000</td>\n",
       "    </tr>\n",
       "    <tr>\n",
       "      <th>25%</th>\n",
       "      <td>32.00000</td>\n",
       "      <td>102.000000</td>\n",
       "      <td>1.000000</td>\n",
       "      <td>999.000000</td>\n",
       "      <td>0.000000</td>\n",
       "      <td>-1.800000</td>\n",
       "      <td>93.075000</td>\n",
       "      <td>-42.700000</td>\n",
       "      <td>1.344000</td>\n",
       "      <td>5099.100000</td>\n",
       "    </tr>\n",
       "    <tr>\n",
       "      <th>50%</th>\n",
       "      <td>38.00000</td>\n",
       "      <td>180.000000</td>\n",
       "      <td>2.000000</td>\n",
       "      <td>999.000000</td>\n",
       "      <td>0.000000</td>\n",
       "      <td>1.100000</td>\n",
       "      <td>93.749000</td>\n",
       "      <td>-41.800000</td>\n",
       "      <td>4.857000</td>\n",
       "      <td>5191.000000</td>\n",
       "    </tr>\n",
       "    <tr>\n",
       "      <th>75%</th>\n",
       "      <td>47.00000</td>\n",
       "      <td>319.000000</td>\n",
       "      <td>3.000000</td>\n",
       "      <td>999.000000</td>\n",
       "      <td>0.000000</td>\n",
       "      <td>1.400000</td>\n",
       "      <td>93.994000</td>\n",
       "      <td>-36.400000</td>\n",
       "      <td>4.961000</td>\n",
       "      <td>5228.100000</td>\n",
       "    </tr>\n",
       "    <tr>\n",
       "      <th>max</th>\n",
       "      <td>98.00000</td>\n",
       "      <td>4918.000000</td>\n",
       "      <td>56.000000</td>\n",
       "      <td>999.000000</td>\n",
       "      <td>7.000000</td>\n",
       "      <td>1.400000</td>\n",
       "      <td>94.767000</td>\n",
       "      <td>-26.900000</td>\n",
       "      <td>5.045000</td>\n",
       "      <td>5228.100000</td>\n",
       "    </tr>\n",
       "  </tbody>\n",
       "</table>\n",
       "</div>"
      ],
      "text/plain": [
       "               age      duration      campaign         pdays      previous  \\\n",
       "count  41188.00000  41188.000000  41188.000000  41188.000000  41188.000000   \n",
       "mean      40.02406    258.285010      2.567593    962.475454      0.172963   \n",
       "std       10.42125    259.279249      2.770014    186.910907      0.494901   \n",
       "min       17.00000      0.000000      1.000000      0.000000      0.000000   \n",
       "25%       32.00000    102.000000      1.000000    999.000000      0.000000   \n",
       "50%       38.00000    180.000000      2.000000    999.000000      0.000000   \n",
       "75%       47.00000    319.000000      3.000000    999.000000      0.000000   \n",
       "max       98.00000   4918.000000     56.000000    999.000000      7.000000   \n",
       "\n",
       "       emp.var.rate  cons.price.idx  cons.conf.idx     euribor3m   nr.employed  \n",
       "count  41188.000000    41188.000000   41188.000000  41188.000000  41188.000000  \n",
       "mean       0.081886       93.575664     -40.502600      3.621291   5167.035911  \n",
       "std        1.570960        0.578840       4.628198      1.734447     72.251528  \n",
       "min       -3.400000       92.201000     -50.800000      0.634000   4963.600000  \n",
       "25%       -1.800000       93.075000     -42.700000      1.344000   5099.100000  \n",
       "50%        1.100000       93.749000     -41.800000      4.857000   5191.000000  \n",
       "75%        1.400000       93.994000     -36.400000      4.961000   5228.100000  \n",
       "max        1.400000       94.767000     -26.900000      5.045000   5228.100000  "
      ]
     },
     "execution_count": 5,
     "metadata": {},
     "output_type": "execute_result"
    }
   ],
   "source": [
    "bankData.describe()"
   ]
  },
  {
   "cell_type": "markdown",
   "id": "472fae90",
   "metadata": {
    "papermill": {
     "duration": 0.013508,
     "end_time": "2022-10-02T18:31:12.605890",
     "exception": false,
     "start_time": "2022-10-02T18:31:12.592382",
     "status": "completed"
    },
    "tags": []
   },
   "source": [
    "### Data Cleaning"
   ]
  },
  {
   "cell_type": "markdown",
   "id": "3e0cc896",
   "metadata": {
    "papermill": {
     "duration": 0.01355,
     "end_time": "2022-10-02T18:31:12.633263",
     "exception": false,
     "start_time": "2022-10-02T18:31:12.619713",
     "status": "completed"
    },
    "tags": []
   },
   "source": [
    "Columns emp.var.rate,cons.price.idx,cons.conf.idx,euribor.3m and nr.employed does not seem to be meaningful.Converting them to appropiate names"
   ]
  },
  {
   "cell_type": "code",
   "execution_count": 6,
   "id": "53441afa",
   "metadata": {
    "execution": {
     "iopub.execute_input": "2022-10-02T18:31:12.663207Z",
     "iopub.status.busy": "2022-10-02T18:31:12.662666Z",
     "iopub.status.idle": "2022-10-02T18:31:12.669634Z",
     "shell.execute_reply": "2022-10-02T18:31:12.668451Z"
    },
    "papermill": {
     "duration": 0.025207,
     "end_time": "2022-10-02T18:31:12.672342",
     "exception": false,
     "start_time": "2022-10-02T18:31:12.647135",
     "status": "completed"
    },
    "tags": []
   },
   "outputs": [],
   "source": [
    "bankData.rename({'emp.var.rate':'Employment_Variation_Rate',\n",
    "                'cons.price.idx': 'Consumer_Price_Index',\n",
    "                 'cons.conf.idx':'Consumer_Confidence_Index',\n",
    "                 'euribor3m':'Euribor_3_Month_Rate',\n",
    "                 'nr.employed':'No_Employees',\n",
    "                 'y':'Target_Variable'\n",
    "                },axis=1,inplace=True)"
   ]
  },
  {
   "cell_type": "code",
   "execution_count": 7,
   "id": "0e820736",
   "metadata": {
    "execution": {
     "iopub.execute_input": "2022-10-02T18:31:12.702492Z",
     "iopub.status.busy": "2022-10-02T18:31:12.701561Z",
     "iopub.status.idle": "2022-10-02T18:31:12.708964Z",
     "shell.execute_reply": "2022-10-02T18:31:12.708059Z"
    },
    "papermill": {
     "duration": 0.024874,
     "end_time": "2022-10-02T18:31:12.711128",
     "exception": false,
     "start_time": "2022-10-02T18:31:12.686254",
     "status": "completed"
    },
    "tags": []
   },
   "outputs": [
    {
     "data": {
      "text/plain": [
       "Index(['age', 'job', 'marital', 'education', 'default', 'housing', 'loan',\n",
       "       'contact', 'month', 'day_of_week', 'duration', 'campaign', 'pdays',\n",
       "       'previous', 'poutcome', 'Employment_Variation_Rate',\n",
       "       'Consumer_Price_Index', 'Consumer_Confidence_Index',\n",
       "       'Euribor_3_Month_Rate', 'No_Employees', 'Target_Variable'],\n",
       "      dtype='object')"
      ]
     },
     "execution_count": 7,
     "metadata": {},
     "output_type": "execute_result"
    }
   ],
   "source": [
    "bankData.columns\n"
   ]
  },
  {
   "cell_type": "markdown",
   "id": "4d07f99f",
   "metadata": {
    "papermill": {
     "duration": 0.013763,
     "end_time": "2022-10-02T18:31:12.738850",
     "exception": false,
     "start_time": "2022-10-02T18:31:12.725087",
     "status": "completed"
    },
    "tags": []
   },
   "source": [
    "As mentioned earlier <i>Yet, the duration is not known before a call is performed. Also, after the end of the call y is obviously known. Thus, this input should only be included for benchmark purposes and should be discarded if the intention is to have a realistic predictive model.</i><br>"
   ]
  },
  {
   "cell_type": "code",
   "execution_count": 8,
   "id": "6efe9133",
   "metadata": {
    "execution": {
     "iopub.execute_input": "2022-10-02T18:31:12.771035Z",
     "iopub.status.busy": "2022-10-02T18:31:12.770382Z",
     "iopub.status.idle": "2022-10-02T18:31:12.780870Z",
     "shell.execute_reply": "2022-10-02T18:31:12.779978Z"
    },
    "papermill": {
     "duration": 0.029687,
     "end_time": "2022-10-02T18:31:12.783346",
     "exception": false,
     "start_time": "2022-10-02T18:31:12.753659",
     "status": "completed"
    },
    "tags": []
   },
   "outputs": [],
   "source": [
    "#Dropping duration column\n",
    "bankData.drop('duration',axis=1,inplace=True)"
   ]
  },
  {
   "cell_type": "code",
   "execution_count": 9,
   "id": "fc30b956",
   "metadata": {
    "execution": {
     "iopub.execute_input": "2022-10-02T18:31:12.813225Z",
     "iopub.status.busy": "2022-10-02T18:31:12.812569Z",
     "iopub.status.idle": "2022-10-02T18:31:12.819245Z",
     "shell.execute_reply": "2022-10-02T18:31:12.818088Z"
    },
    "papermill": {
     "duration": 0.024187,
     "end_time": "2022-10-02T18:31:12.821409",
     "exception": false,
     "start_time": "2022-10-02T18:31:12.797222",
     "status": "completed"
    },
    "tags": []
   },
   "outputs": [
    {
     "data": {
      "text/plain": [
       "(41188, 20)"
      ]
     },
     "execution_count": 9,
     "metadata": {},
     "output_type": "execute_result"
    }
   ],
   "source": [
    "#Checking if duration is dropped\n",
    "bankData.shape"
   ]
  },
  {
   "cell_type": "markdown",
   "id": "2f949952",
   "metadata": {
    "papermill": {
     "duration": 0.013797,
     "end_time": "2022-10-02T18:31:12.849196",
     "exception": false,
     "start_time": "2022-10-02T18:31:12.835399",
     "status": "completed"
    },
    "tags": []
   },
   "source": [
    "Month and day of the week are not required as it is not required to know what was last month,day of week when the customer was contacted"
   ]
  },
  {
   "cell_type": "code",
   "execution_count": 10,
   "id": "284f0b72",
   "metadata": {
    "execution": {
     "iopub.execute_input": "2022-10-02T18:31:12.880199Z",
     "iopub.status.busy": "2022-10-02T18:31:12.879450Z",
     "iopub.status.idle": "2022-10-02T18:31:12.895815Z",
     "shell.execute_reply": "2022-10-02T18:31:12.894896Z"
    },
    "papermill": {
     "duration": 0.034961,
     "end_time": "2022-10-02T18:31:12.898306",
     "exception": false,
     "start_time": "2022-10-02T18:31:12.863345",
     "status": "completed"
    },
    "tags": []
   },
   "outputs": [],
   "source": [
    "#Dropping month and day_of_week\n",
    "bankData.drop(columns = ['month','day_of_week'],axis=1,inplace=True)"
   ]
  },
  {
   "cell_type": "code",
   "execution_count": 11,
   "id": "e5bdafcc",
   "metadata": {
    "execution": {
     "iopub.execute_input": "2022-10-02T18:31:12.928720Z",
     "iopub.status.busy": "2022-10-02T18:31:12.928292Z",
     "iopub.status.idle": "2022-10-02T18:31:12.935322Z",
     "shell.execute_reply": "2022-10-02T18:31:12.934223Z"
    },
    "papermill": {
     "duration": 0.025074,
     "end_time": "2022-10-02T18:31:12.937565",
     "exception": false,
     "start_time": "2022-10-02T18:31:12.912491",
     "status": "completed"
    },
    "tags": []
   },
   "outputs": [
    {
     "data": {
      "text/plain": [
       "Index(['age', 'job', 'marital', 'education', 'default', 'housing', 'loan',\n",
       "       'contact', 'campaign', 'pdays', 'previous', 'poutcome',\n",
       "       'Employment_Variation_Rate', 'Consumer_Price_Index',\n",
       "       'Consumer_Confidence_Index', 'Euribor_3_Month_Rate', 'No_Employees',\n",
       "       'Target_Variable'],\n",
       "      dtype='object')"
      ]
     },
     "execution_count": 11,
     "metadata": {},
     "output_type": "execute_result"
    }
   ],
   "source": [
    "#Checking if month and day of week is dropped.\n",
    "bankData.columns"
   ]
  },
  {
   "cell_type": "markdown",
   "id": "88a67800",
   "metadata": {
    "papermill": {
     "duration": 0.014458,
     "end_time": "2022-10-02T18:31:12.966332",
     "exception": false,
     "start_time": "2022-10-02T18:31:12.951874",
     "status": "completed"
    },
    "tags": []
   },
   "source": []
  },
  {
   "cell_type": "markdown",
   "id": "b1b43fda",
   "metadata": {
    "papermill": {
     "duration": 0.014045,
     "end_time": "2022-10-02T18:31:12.994947",
     "exception": false,
     "start_time": "2022-10-02T18:31:12.980902",
     "status": "completed"
    },
    "tags": []
   },
   "source": [
    "### Handling Missing Values"
   ]
  },
  {
   "cell_type": "code",
   "execution_count": 12,
   "id": "641a4ed5",
   "metadata": {
    "execution": {
     "iopub.execute_input": "2022-10-02T18:31:13.025071Z",
     "iopub.status.busy": "2022-10-02T18:31:13.024473Z",
     "iopub.status.idle": "2022-10-02T18:31:13.050291Z",
     "shell.execute_reply": "2022-10-02T18:31:13.049184Z"
    },
    "papermill": {
     "duration": 0.043589,
     "end_time": "2022-10-02T18:31:13.052735",
     "exception": false,
     "start_time": "2022-10-02T18:31:13.009146",
     "status": "completed"
    },
    "tags": []
   },
   "outputs": [
    {
     "data": {
      "text/plain": [
       "age                          0\n",
       "job                          0\n",
       "marital                      0\n",
       "education                    0\n",
       "default                      0\n",
       "housing                      0\n",
       "loan                         0\n",
       "contact                      0\n",
       "campaign                     0\n",
       "pdays                        0\n",
       "previous                     0\n",
       "poutcome                     0\n",
       "Employment_Variation_Rate    0\n",
       "Consumer_Price_Index         0\n",
       "Consumer_Confidence_Index    0\n",
       "Euribor_3_Month_Rate         0\n",
       "No_Employees                 0\n",
       "Target_Variable              0\n",
       "dtype: int64"
      ]
     },
     "execution_count": 12,
     "metadata": {},
     "output_type": "execute_result"
    }
   ],
   "source": [
    "#Checking for missing values\n",
    "bankData.isnull().sum()"
   ]
  },
  {
   "cell_type": "markdown",
   "id": "483b7ce2",
   "metadata": {
    "papermill": {
     "duration": 0.014134,
     "end_time": "2022-10-02T18:31:13.081433",
     "exception": false,
     "start_time": "2022-10-02T18:31:13.067299",
     "status": "completed"
    },
    "tags": []
   },
   "source": [
    "There dosen't seem to be any values missing but need to check if there are any unkown's assigned to any columns"
   ]
  },
  {
   "cell_type": "code",
   "execution_count": 13,
   "id": "bb521abe",
   "metadata": {
    "execution": {
     "iopub.execute_input": "2022-10-02T18:31:13.112298Z",
     "iopub.status.busy": "2022-10-02T18:31:13.111891Z",
     "iopub.status.idle": "2022-10-02T18:31:13.124536Z",
     "shell.execute_reply": "2022-10-02T18:31:13.123365Z"
    },
    "papermill": {
     "duration": 0.030547,
     "end_time": "2022-10-02T18:31:13.126909",
     "exception": false,
     "start_time": "2022-10-02T18:31:13.096362",
     "status": "completed"
    },
    "tags": []
   },
   "outputs": [
    {
     "data": {
      "text/plain": [
       "count    41188.00000\n",
       "mean        40.02406\n",
       "std         10.42125\n",
       "min         17.00000\n",
       "25%         32.00000\n",
       "50%         38.00000\n",
       "75%         47.00000\n",
       "max         98.00000\n",
       "Name: age, dtype: float64"
      ]
     },
     "execution_count": 13,
     "metadata": {},
     "output_type": "execute_result"
    }
   ],
   "source": [
    "#Checking distribution for age\n",
    "bankData.age.describe()"
   ]
  },
  {
   "cell_type": "markdown",
   "id": "3d8bac02",
   "metadata": {
    "papermill": {
     "duration": 0.014122,
     "end_time": "2022-10-02T18:31:13.155668",
     "exception": false,
     "start_time": "2022-10-02T18:31:13.141546",
     "status": "completed"
    },
    "tags": []
   },
   "source": [
    "Age looks fine and cannot see any values like -5 or 0 which are not standard."
   ]
  },
  {
   "cell_type": "code",
   "execution_count": 14,
   "id": "186af89b",
   "metadata": {
    "execution": {
     "iopub.execute_input": "2022-10-02T18:31:13.186630Z",
     "iopub.status.busy": "2022-10-02T18:31:13.186215Z",
     "iopub.status.idle": "2022-10-02T18:31:13.197461Z",
     "shell.execute_reply": "2022-10-02T18:31:13.196536Z"
    },
    "papermill": {
     "duration": 0.029373,
     "end_time": "2022-10-02T18:31:13.199703",
     "exception": false,
     "start_time": "2022-10-02T18:31:13.170330",
     "status": "completed"
    },
    "tags": []
   },
   "outputs": [
    {
     "data": {
      "text/plain": [
       "admin.           25.303486\n",
       "blue-collar      22.467709\n",
       "technician       16.371273\n",
       "services          9.636302\n",
       "management        7.099155\n",
       "retired           4.175974\n",
       "entrepreneur      3.535010\n",
       "self-employed     3.450034\n",
       "housemaid         2.573565\n",
       "unemployed        2.461882\n",
       "student           2.124405\n",
       "unknown           0.801204\n",
       "Name: job, dtype: float64"
      ]
     },
     "execution_count": 14,
     "metadata": {},
     "output_type": "execute_result"
    }
   ],
   "source": [
    "#Checking distribution of values for job\n",
    "bankData.job.value_counts()/bankData.shape[0] * 100"
   ]
  },
  {
   "cell_type": "markdown",
   "id": "79f7812f",
   "metadata": {
    "papermill": {
     "duration": 0.014317,
     "end_time": "2022-10-02T18:31:13.228672",
     "exception": false,
     "start_time": "2022-10-02T18:31:13.214355",
     "status": "completed"
    },
    "tags": []
   },
   "source": [
    "There are around 0.8% of values unkown for job.At first look it looks like they can be dropped."
   ]
  },
  {
   "cell_type": "code",
   "execution_count": 15,
   "id": "e9945b81",
   "metadata": {
    "execution": {
     "iopub.execute_input": "2022-10-02T18:31:13.259301Z",
     "iopub.status.busy": "2022-10-02T18:31:13.258856Z",
     "iopub.status.idle": "2022-10-02T18:31:13.296552Z",
     "shell.execute_reply": "2022-10-02T18:31:13.295336Z"
    },
    "papermill": {
     "duration": 0.055754,
     "end_time": "2022-10-02T18:31:13.298862",
     "exception": false,
     "start_time": "2022-10-02T18:31:13.243108",
     "status": "completed"
    },
    "tags": []
   },
   "outputs": [
    {
     "data": {
      "text/html": [
       "<div>\n",
       "<style scoped>\n",
       "    .dataframe tbody tr th:only-of-type {\n",
       "        vertical-align: middle;\n",
       "    }\n",
       "\n",
       "    .dataframe tbody tr th {\n",
       "        vertical-align: top;\n",
       "    }\n",
       "\n",
       "    .dataframe thead th {\n",
       "        text-align: right;\n",
       "    }\n",
       "</style>\n",
       "<table border=\"1\" class=\"dataframe\">\n",
       "  <thead>\n",
       "    <tr style=\"text-align: right;\">\n",
       "      <th></th>\n",
       "      <th>age</th>\n",
       "      <th>job</th>\n",
       "      <th>marital</th>\n",
       "      <th>education</th>\n",
       "      <th>default</th>\n",
       "      <th>housing</th>\n",
       "      <th>loan</th>\n",
       "      <th>contact</th>\n",
       "      <th>campaign</th>\n",
       "      <th>pdays</th>\n",
       "      <th>previous</th>\n",
       "      <th>poutcome</th>\n",
       "      <th>Employment_Variation_Rate</th>\n",
       "      <th>Consumer_Price_Index</th>\n",
       "      <th>Consumer_Confidence_Index</th>\n",
       "      <th>Euribor_3_Month_Rate</th>\n",
       "      <th>No_Employees</th>\n",
       "      <th>Target_Variable</th>\n",
       "    </tr>\n",
       "  </thead>\n",
       "  <tbody>\n",
       "    <tr>\n",
       "      <th>29</th>\n",
       "      <td>55</td>\n",
       "      <td>unknown</td>\n",
       "      <td>married</td>\n",
       "      <td>university.degree</td>\n",
       "      <td>unknown</td>\n",
       "      <td>unknown</td>\n",
       "      <td>unknown</td>\n",
       "      <td>telephone</td>\n",
       "      <td>1</td>\n",
       "      <td>999</td>\n",
       "      <td>0</td>\n",
       "      <td>nonexistent</td>\n",
       "      <td>1.1</td>\n",
       "      <td>93.994</td>\n",
       "      <td>-36.4</td>\n",
       "      <td>4.857</td>\n",
       "      <td>5191.0</td>\n",
       "      <td>no</td>\n",
       "    </tr>\n",
       "    <tr>\n",
       "      <th>35</th>\n",
       "      <td>55</td>\n",
       "      <td>unknown</td>\n",
       "      <td>married</td>\n",
       "      <td>basic.4y</td>\n",
       "      <td>unknown</td>\n",
       "      <td>yes</td>\n",
       "      <td>no</td>\n",
       "      <td>telephone</td>\n",
       "      <td>1</td>\n",
       "      <td>999</td>\n",
       "      <td>0</td>\n",
       "      <td>nonexistent</td>\n",
       "      <td>1.1</td>\n",
       "      <td>93.994</td>\n",
       "      <td>-36.4</td>\n",
       "      <td>4.857</td>\n",
       "      <td>5191.0</td>\n",
       "      <td>no</td>\n",
       "    </tr>\n",
       "    <tr>\n",
       "      <th>73</th>\n",
       "      <td>57</td>\n",
       "      <td>unknown</td>\n",
       "      <td>married</td>\n",
       "      <td>unknown</td>\n",
       "      <td>unknown</td>\n",
       "      <td>no</td>\n",
       "      <td>no</td>\n",
       "      <td>telephone</td>\n",
       "      <td>1</td>\n",
       "      <td>999</td>\n",
       "      <td>0</td>\n",
       "      <td>nonexistent</td>\n",
       "      <td>1.1</td>\n",
       "      <td>93.994</td>\n",
       "      <td>-36.4</td>\n",
       "      <td>4.857</td>\n",
       "      <td>5191.0</td>\n",
       "      <td>no</td>\n",
       "    </tr>\n",
       "    <tr>\n",
       "      <th>91</th>\n",
       "      <td>57</td>\n",
       "      <td>unknown</td>\n",
       "      <td>married</td>\n",
       "      <td>unknown</td>\n",
       "      <td>unknown</td>\n",
       "      <td>yes</td>\n",
       "      <td>no</td>\n",
       "      <td>telephone</td>\n",
       "      <td>1</td>\n",
       "      <td>999</td>\n",
       "      <td>0</td>\n",
       "      <td>nonexistent</td>\n",
       "      <td>1.1</td>\n",
       "      <td>93.994</td>\n",
       "      <td>-36.4</td>\n",
       "      <td>4.857</td>\n",
       "      <td>5191.0</td>\n",
       "      <td>no</td>\n",
       "    </tr>\n",
       "    <tr>\n",
       "      <th>144</th>\n",
       "      <td>38</td>\n",
       "      <td>unknown</td>\n",
       "      <td>divorced</td>\n",
       "      <td>high.school</td>\n",
       "      <td>unknown</td>\n",
       "      <td>yes</td>\n",
       "      <td>no</td>\n",
       "      <td>telephone</td>\n",
       "      <td>1</td>\n",
       "      <td>999</td>\n",
       "      <td>0</td>\n",
       "      <td>nonexistent</td>\n",
       "      <td>1.1</td>\n",
       "      <td>93.994</td>\n",
       "      <td>-36.4</td>\n",
       "      <td>4.857</td>\n",
       "      <td>5191.0</td>\n",
       "      <td>no</td>\n",
       "    </tr>\n",
       "    <tr>\n",
       "      <th>...</th>\n",
       "      <td>...</td>\n",
       "      <td>...</td>\n",
       "      <td>...</td>\n",
       "      <td>...</td>\n",
       "      <td>...</td>\n",
       "      <td>...</td>\n",
       "      <td>...</td>\n",
       "      <td>...</td>\n",
       "      <td>...</td>\n",
       "      <td>...</td>\n",
       "      <td>...</td>\n",
       "      <td>...</td>\n",
       "      <td>...</td>\n",
       "      <td>...</td>\n",
       "      <td>...</td>\n",
       "      <td>...</td>\n",
       "      <td>...</td>\n",
       "      <td>...</td>\n",
       "    </tr>\n",
       "    <tr>\n",
       "      <th>40370</th>\n",
       "      <td>59</td>\n",
       "      <td>unknown</td>\n",
       "      <td>married</td>\n",
       "      <td>unknown</td>\n",
       "      <td>no</td>\n",
       "      <td>no</td>\n",
       "      <td>no</td>\n",
       "      <td>cellular</td>\n",
       "      <td>1</td>\n",
       "      <td>6</td>\n",
       "      <td>1</td>\n",
       "      <td>success</td>\n",
       "      <td>-1.7</td>\n",
       "      <td>94.027</td>\n",
       "      <td>-38.3</td>\n",
       "      <td>0.900</td>\n",
       "      <td>4991.6</td>\n",
       "      <td>yes</td>\n",
       "    </tr>\n",
       "    <tr>\n",
       "      <th>40428</th>\n",
       "      <td>64</td>\n",
       "      <td>unknown</td>\n",
       "      <td>married</td>\n",
       "      <td>unknown</td>\n",
       "      <td>no</td>\n",
       "      <td>yes</td>\n",
       "      <td>no</td>\n",
       "      <td>telephone</td>\n",
       "      <td>4</td>\n",
       "      <td>999</td>\n",
       "      <td>0</td>\n",
       "      <td>nonexistent</td>\n",
       "      <td>-1.7</td>\n",
       "      <td>94.027</td>\n",
       "      <td>-38.3</td>\n",
       "      <td>0.905</td>\n",
       "      <td>4991.6</td>\n",
       "      <td>yes</td>\n",
       "    </tr>\n",
       "    <tr>\n",
       "      <th>40656</th>\n",
       "      <td>67</td>\n",
       "      <td>unknown</td>\n",
       "      <td>divorced</td>\n",
       "      <td>unknown</td>\n",
       "      <td>unknown</td>\n",
       "      <td>yes</td>\n",
       "      <td>no</td>\n",
       "      <td>cellular</td>\n",
       "      <td>2</td>\n",
       "      <td>6</td>\n",
       "      <td>2</td>\n",
       "      <td>success</td>\n",
       "      <td>-1.1</td>\n",
       "      <td>94.199</td>\n",
       "      <td>-37.5</td>\n",
       "      <td>0.880</td>\n",
       "      <td>4963.6</td>\n",
       "      <td>yes</td>\n",
       "    </tr>\n",
       "    <tr>\n",
       "      <th>41005</th>\n",
       "      <td>63</td>\n",
       "      <td>unknown</td>\n",
       "      <td>married</td>\n",
       "      <td>professional.course</td>\n",
       "      <td>no</td>\n",
       "      <td>no</td>\n",
       "      <td>no</td>\n",
       "      <td>cellular</td>\n",
       "      <td>1</td>\n",
       "      <td>6</td>\n",
       "      <td>1</td>\n",
       "      <td>success</td>\n",
       "      <td>-1.1</td>\n",
       "      <td>94.601</td>\n",
       "      <td>-49.5</td>\n",
       "      <td>1.025</td>\n",
       "      <td>4963.6</td>\n",
       "      <td>no</td>\n",
       "    </tr>\n",
       "    <tr>\n",
       "      <th>41108</th>\n",
       "      <td>64</td>\n",
       "      <td>unknown</td>\n",
       "      <td>married</td>\n",
       "      <td>unknown</td>\n",
       "      <td>no</td>\n",
       "      <td>no</td>\n",
       "      <td>no</td>\n",
       "      <td>cellular</td>\n",
       "      <td>1</td>\n",
       "      <td>3</td>\n",
       "      <td>3</td>\n",
       "      <td>success</td>\n",
       "      <td>-1.1</td>\n",
       "      <td>94.767</td>\n",
       "      <td>-50.8</td>\n",
       "      <td>1.048</td>\n",
       "      <td>4963.6</td>\n",
       "      <td>no</td>\n",
       "    </tr>\n",
       "  </tbody>\n",
       "</table>\n",
       "<p>330 rows × 18 columns</p>\n",
       "</div>"
      ],
      "text/plain": [
       "       age      job   marital            education  default  housing     loan  \\\n",
       "29      55  unknown   married    university.degree  unknown  unknown  unknown   \n",
       "35      55  unknown   married             basic.4y  unknown      yes       no   \n",
       "73      57  unknown   married              unknown  unknown       no       no   \n",
       "91      57  unknown   married              unknown  unknown      yes       no   \n",
       "144     38  unknown  divorced          high.school  unknown      yes       no   \n",
       "...    ...      ...       ...                  ...      ...      ...      ...   \n",
       "40370   59  unknown   married              unknown       no       no       no   \n",
       "40428   64  unknown   married              unknown       no      yes       no   \n",
       "40656   67  unknown  divorced              unknown  unknown      yes       no   \n",
       "41005   63  unknown   married  professional.course       no       no       no   \n",
       "41108   64  unknown   married              unknown       no       no       no   \n",
       "\n",
       "         contact  campaign  pdays  previous     poutcome  \\\n",
       "29     telephone         1    999         0  nonexistent   \n",
       "35     telephone         1    999         0  nonexistent   \n",
       "73     telephone         1    999         0  nonexistent   \n",
       "91     telephone         1    999         0  nonexistent   \n",
       "144    telephone         1    999         0  nonexistent   \n",
       "...          ...       ...    ...       ...          ...   \n",
       "40370   cellular         1      6         1      success   \n",
       "40428  telephone         4    999         0  nonexistent   \n",
       "40656   cellular         2      6         2      success   \n",
       "41005   cellular         1      6         1      success   \n",
       "41108   cellular         1      3         3      success   \n",
       "\n",
       "       Employment_Variation_Rate  Consumer_Price_Index  \\\n",
       "29                           1.1                93.994   \n",
       "35                           1.1                93.994   \n",
       "73                           1.1                93.994   \n",
       "91                           1.1                93.994   \n",
       "144                          1.1                93.994   \n",
       "...                          ...                   ...   \n",
       "40370                       -1.7                94.027   \n",
       "40428                       -1.7                94.027   \n",
       "40656                       -1.1                94.199   \n",
       "41005                       -1.1                94.601   \n",
       "41108                       -1.1                94.767   \n",
       "\n",
       "       Consumer_Confidence_Index  Euribor_3_Month_Rate  No_Employees  \\\n",
       "29                         -36.4                 4.857        5191.0   \n",
       "35                         -36.4                 4.857        5191.0   \n",
       "73                         -36.4                 4.857        5191.0   \n",
       "91                         -36.4                 4.857        5191.0   \n",
       "144                        -36.4                 4.857        5191.0   \n",
       "...                          ...                   ...           ...   \n",
       "40370                      -38.3                 0.900        4991.6   \n",
       "40428                      -38.3                 0.905        4991.6   \n",
       "40656                      -37.5                 0.880        4963.6   \n",
       "41005                      -49.5                 1.025        4963.6   \n",
       "41108                      -50.8                 1.048        4963.6   \n",
       "\n",
       "      Target_Variable  \n",
       "29                 no  \n",
       "35                 no  \n",
       "73                 no  \n",
       "91                 no  \n",
       "144                no  \n",
       "...               ...  \n",
       "40370             yes  \n",
       "40428             yes  \n",
       "40656             yes  \n",
       "41005              no  \n",
       "41108              no  \n",
       "\n",
       "[330 rows x 18 columns]"
      ]
     },
     "execution_count": 15,
     "metadata": {},
     "output_type": "execute_result"
    }
   ],
   "source": [
    "#Checking further where job is unkown.\n",
    "bankData[bankData['job'] == 'unknown']"
   ]
  },
  {
   "cell_type": "code",
   "execution_count": 16,
   "id": "9e0974a4",
   "metadata": {
    "execution": {
     "iopub.execute_input": "2022-10-02T18:31:13.332366Z",
     "iopub.status.busy": "2022-10-02T18:31:13.331939Z",
     "iopub.status.idle": "2022-10-02T18:31:13.344901Z",
     "shell.execute_reply": "2022-10-02T18:31:13.343752Z"
    },
    "papermill": {
     "duration": 0.032685,
     "end_time": "2022-10-02T18:31:13.347300",
     "exception": false,
     "start_time": "2022-10-02T18:31:13.314615",
     "status": "completed"
    },
    "tags": []
   },
   "outputs": [
    {
     "data": {
      "text/plain": [
       "999    310\n",
       "3        8\n",
       "6        6\n",
       "2        2\n",
       "1        1\n",
       "8        1\n",
       "4        1\n",
       "13       1\n",
       "Name: pdays, dtype: int64"
      ]
     },
     "execution_count": 16,
     "metadata": {},
     "output_type": "execute_result"
    }
   ],
   "source": [
    "bankData[bankData['job'] == 'unknown']['pdays'].value_counts()"
   ]
  },
  {
   "cell_type": "markdown",
   "id": "85ece707",
   "metadata": {
    "papermill": {
     "duration": 0.015424,
     "end_time": "2022-10-02T18:31:13.377951",
     "exception": false,
     "start_time": "2022-10-02T18:31:13.362527",
     "status": "completed"
    },
    "tags": []
   },
   "source": [
    "It looks like for most of the values in job where it is unkown the client has not been contacted earlier which is indicated by 999 value.So, the target variable in this case will not mean anything and it is better to drop the unkown values in job."
   ]
  },
  {
   "cell_type": "code",
   "execution_count": 17,
   "id": "002ca4d7",
   "metadata": {
    "execution": {
     "iopub.execute_input": "2022-10-02T18:31:13.410794Z",
     "iopub.status.busy": "2022-10-02T18:31:13.409975Z",
     "iopub.status.idle": "2022-10-02T18:31:13.448358Z",
     "shell.execute_reply": "2022-10-02T18:31:13.447060Z"
    },
    "papermill": {
     "duration": 0.057764,
     "end_time": "2022-10-02T18:31:13.451081",
     "exception": false,
     "start_time": "2022-10-02T18:31:13.393317",
     "status": "completed"
    },
    "tags": []
   },
   "outputs": [
    {
     "data": {
      "text/html": [
       "<div>\n",
       "<style scoped>\n",
       "    .dataframe tbody tr th:only-of-type {\n",
       "        vertical-align: middle;\n",
       "    }\n",
       "\n",
       "    .dataframe tbody tr th {\n",
       "        vertical-align: top;\n",
       "    }\n",
       "\n",
       "    .dataframe thead th {\n",
       "        text-align: right;\n",
       "    }\n",
       "</style>\n",
       "<table border=\"1\" class=\"dataframe\">\n",
       "  <thead>\n",
       "    <tr style=\"text-align: right;\">\n",
       "      <th></th>\n",
       "      <th>age</th>\n",
       "      <th>job</th>\n",
       "      <th>marital</th>\n",
       "      <th>education</th>\n",
       "      <th>default</th>\n",
       "      <th>housing</th>\n",
       "      <th>loan</th>\n",
       "      <th>contact</th>\n",
       "      <th>campaign</th>\n",
       "      <th>pdays</th>\n",
       "      <th>previous</th>\n",
       "      <th>poutcome</th>\n",
       "      <th>Employment_Variation_Rate</th>\n",
       "      <th>Consumer_Price_Index</th>\n",
       "      <th>Consumer_Confidence_Index</th>\n",
       "      <th>Euribor_3_Month_Rate</th>\n",
       "      <th>No_Employees</th>\n",
       "      <th>Target_Variable</th>\n",
       "    </tr>\n",
       "  </thead>\n",
       "  <tbody>\n",
       "    <tr>\n",
       "      <th>0</th>\n",
       "      <td>56</td>\n",
       "      <td>housemaid</td>\n",
       "      <td>married</td>\n",
       "      <td>basic.4y</td>\n",
       "      <td>no</td>\n",
       "      <td>no</td>\n",
       "      <td>no</td>\n",
       "      <td>telephone</td>\n",
       "      <td>1</td>\n",
       "      <td>999</td>\n",
       "      <td>0</td>\n",
       "      <td>nonexistent</td>\n",
       "      <td>1.1</td>\n",
       "      <td>93.994</td>\n",
       "      <td>-36.4</td>\n",
       "      <td>4.857</td>\n",
       "      <td>5191.0</td>\n",
       "      <td>no</td>\n",
       "    </tr>\n",
       "    <tr>\n",
       "      <th>1</th>\n",
       "      <td>57</td>\n",
       "      <td>services</td>\n",
       "      <td>married</td>\n",
       "      <td>high.school</td>\n",
       "      <td>unknown</td>\n",
       "      <td>no</td>\n",
       "      <td>no</td>\n",
       "      <td>telephone</td>\n",
       "      <td>1</td>\n",
       "      <td>999</td>\n",
       "      <td>0</td>\n",
       "      <td>nonexistent</td>\n",
       "      <td>1.1</td>\n",
       "      <td>93.994</td>\n",
       "      <td>-36.4</td>\n",
       "      <td>4.857</td>\n",
       "      <td>5191.0</td>\n",
       "      <td>no</td>\n",
       "    </tr>\n",
       "    <tr>\n",
       "      <th>2</th>\n",
       "      <td>37</td>\n",
       "      <td>services</td>\n",
       "      <td>married</td>\n",
       "      <td>high.school</td>\n",
       "      <td>no</td>\n",
       "      <td>yes</td>\n",
       "      <td>no</td>\n",
       "      <td>telephone</td>\n",
       "      <td>1</td>\n",
       "      <td>999</td>\n",
       "      <td>0</td>\n",
       "      <td>nonexistent</td>\n",
       "      <td>1.1</td>\n",
       "      <td>93.994</td>\n",
       "      <td>-36.4</td>\n",
       "      <td>4.857</td>\n",
       "      <td>5191.0</td>\n",
       "      <td>no</td>\n",
       "    </tr>\n",
       "    <tr>\n",
       "      <th>3</th>\n",
       "      <td>40</td>\n",
       "      <td>admin.</td>\n",
       "      <td>married</td>\n",
       "      <td>basic.6y</td>\n",
       "      <td>no</td>\n",
       "      <td>no</td>\n",
       "      <td>no</td>\n",
       "      <td>telephone</td>\n",
       "      <td>1</td>\n",
       "      <td>999</td>\n",
       "      <td>0</td>\n",
       "      <td>nonexistent</td>\n",
       "      <td>1.1</td>\n",
       "      <td>93.994</td>\n",
       "      <td>-36.4</td>\n",
       "      <td>4.857</td>\n",
       "      <td>5191.0</td>\n",
       "      <td>no</td>\n",
       "    </tr>\n",
       "    <tr>\n",
       "      <th>4</th>\n",
       "      <td>56</td>\n",
       "      <td>services</td>\n",
       "      <td>married</td>\n",
       "      <td>high.school</td>\n",
       "      <td>no</td>\n",
       "      <td>no</td>\n",
       "      <td>yes</td>\n",
       "      <td>telephone</td>\n",
       "      <td>1</td>\n",
       "      <td>999</td>\n",
       "      <td>0</td>\n",
       "      <td>nonexistent</td>\n",
       "      <td>1.1</td>\n",
       "      <td>93.994</td>\n",
       "      <td>-36.4</td>\n",
       "      <td>4.857</td>\n",
       "      <td>5191.0</td>\n",
       "      <td>no</td>\n",
       "    </tr>\n",
       "    <tr>\n",
       "      <th>...</th>\n",
       "      <td>...</td>\n",
       "      <td>...</td>\n",
       "      <td>...</td>\n",
       "      <td>...</td>\n",
       "      <td>...</td>\n",
       "      <td>...</td>\n",
       "      <td>...</td>\n",
       "      <td>...</td>\n",
       "      <td>...</td>\n",
       "      <td>...</td>\n",
       "      <td>...</td>\n",
       "      <td>...</td>\n",
       "      <td>...</td>\n",
       "      <td>...</td>\n",
       "      <td>...</td>\n",
       "      <td>...</td>\n",
       "      <td>...</td>\n",
       "      <td>...</td>\n",
       "    </tr>\n",
       "    <tr>\n",
       "      <th>41183</th>\n",
       "      <td>73</td>\n",
       "      <td>retired</td>\n",
       "      <td>married</td>\n",
       "      <td>professional.course</td>\n",
       "      <td>no</td>\n",
       "      <td>yes</td>\n",
       "      <td>no</td>\n",
       "      <td>cellular</td>\n",
       "      <td>1</td>\n",
       "      <td>999</td>\n",
       "      <td>0</td>\n",
       "      <td>nonexistent</td>\n",
       "      <td>-1.1</td>\n",
       "      <td>94.767</td>\n",
       "      <td>-50.8</td>\n",
       "      <td>1.028</td>\n",
       "      <td>4963.6</td>\n",
       "      <td>yes</td>\n",
       "    </tr>\n",
       "    <tr>\n",
       "      <th>41184</th>\n",
       "      <td>46</td>\n",
       "      <td>blue-collar</td>\n",
       "      <td>married</td>\n",
       "      <td>professional.course</td>\n",
       "      <td>no</td>\n",
       "      <td>no</td>\n",
       "      <td>no</td>\n",
       "      <td>cellular</td>\n",
       "      <td>1</td>\n",
       "      <td>999</td>\n",
       "      <td>0</td>\n",
       "      <td>nonexistent</td>\n",
       "      <td>-1.1</td>\n",
       "      <td>94.767</td>\n",
       "      <td>-50.8</td>\n",
       "      <td>1.028</td>\n",
       "      <td>4963.6</td>\n",
       "      <td>no</td>\n",
       "    </tr>\n",
       "    <tr>\n",
       "      <th>41185</th>\n",
       "      <td>56</td>\n",
       "      <td>retired</td>\n",
       "      <td>married</td>\n",
       "      <td>university.degree</td>\n",
       "      <td>no</td>\n",
       "      <td>yes</td>\n",
       "      <td>no</td>\n",
       "      <td>cellular</td>\n",
       "      <td>2</td>\n",
       "      <td>999</td>\n",
       "      <td>0</td>\n",
       "      <td>nonexistent</td>\n",
       "      <td>-1.1</td>\n",
       "      <td>94.767</td>\n",
       "      <td>-50.8</td>\n",
       "      <td>1.028</td>\n",
       "      <td>4963.6</td>\n",
       "      <td>no</td>\n",
       "    </tr>\n",
       "    <tr>\n",
       "      <th>41186</th>\n",
       "      <td>44</td>\n",
       "      <td>technician</td>\n",
       "      <td>married</td>\n",
       "      <td>professional.course</td>\n",
       "      <td>no</td>\n",
       "      <td>no</td>\n",
       "      <td>no</td>\n",
       "      <td>cellular</td>\n",
       "      <td>1</td>\n",
       "      <td>999</td>\n",
       "      <td>0</td>\n",
       "      <td>nonexistent</td>\n",
       "      <td>-1.1</td>\n",
       "      <td>94.767</td>\n",
       "      <td>-50.8</td>\n",
       "      <td>1.028</td>\n",
       "      <td>4963.6</td>\n",
       "      <td>yes</td>\n",
       "    </tr>\n",
       "    <tr>\n",
       "      <th>41187</th>\n",
       "      <td>74</td>\n",
       "      <td>retired</td>\n",
       "      <td>married</td>\n",
       "      <td>professional.course</td>\n",
       "      <td>no</td>\n",
       "      <td>yes</td>\n",
       "      <td>no</td>\n",
       "      <td>cellular</td>\n",
       "      <td>3</td>\n",
       "      <td>999</td>\n",
       "      <td>1</td>\n",
       "      <td>failure</td>\n",
       "      <td>-1.1</td>\n",
       "      <td>94.767</td>\n",
       "      <td>-50.8</td>\n",
       "      <td>1.028</td>\n",
       "      <td>4963.6</td>\n",
       "      <td>no</td>\n",
       "    </tr>\n",
       "  </tbody>\n",
       "</table>\n",
       "<p>40858 rows × 18 columns</p>\n",
       "</div>"
      ],
      "text/plain": [
       "       age          job  marital            education  default housing loan  \\\n",
       "0       56    housemaid  married             basic.4y       no      no   no   \n",
       "1       57     services  married          high.school  unknown      no   no   \n",
       "2       37     services  married          high.school       no     yes   no   \n",
       "3       40       admin.  married             basic.6y       no      no   no   \n",
       "4       56     services  married          high.school       no      no  yes   \n",
       "...    ...          ...      ...                  ...      ...     ...  ...   \n",
       "41183   73      retired  married  professional.course       no     yes   no   \n",
       "41184   46  blue-collar  married  professional.course       no      no   no   \n",
       "41185   56      retired  married    university.degree       no     yes   no   \n",
       "41186   44   technician  married  professional.course       no      no   no   \n",
       "41187   74      retired  married  professional.course       no     yes   no   \n",
       "\n",
       "         contact  campaign  pdays  previous     poutcome  \\\n",
       "0      telephone         1    999         0  nonexistent   \n",
       "1      telephone         1    999         0  nonexistent   \n",
       "2      telephone         1    999         0  nonexistent   \n",
       "3      telephone         1    999         0  nonexistent   \n",
       "4      telephone         1    999         0  nonexistent   \n",
       "...          ...       ...    ...       ...          ...   \n",
       "41183   cellular         1    999         0  nonexistent   \n",
       "41184   cellular         1    999         0  nonexistent   \n",
       "41185   cellular         2    999         0  nonexistent   \n",
       "41186   cellular         1    999         0  nonexistent   \n",
       "41187   cellular         3    999         1      failure   \n",
       "\n",
       "       Employment_Variation_Rate  Consumer_Price_Index  \\\n",
       "0                            1.1                93.994   \n",
       "1                            1.1                93.994   \n",
       "2                            1.1                93.994   \n",
       "3                            1.1                93.994   \n",
       "4                            1.1                93.994   \n",
       "...                          ...                   ...   \n",
       "41183                       -1.1                94.767   \n",
       "41184                       -1.1                94.767   \n",
       "41185                       -1.1                94.767   \n",
       "41186                       -1.1                94.767   \n",
       "41187                       -1.1                94.767   \n",
       "\n",
       "       Consumer_Confidence_Index  Euribor_3_Month_Rate  No_Employees  \\\n",
       "0                          -36.4                 4.857        5191.0   \n",
       "1                          -36.4                 4.857        5191.0   \n",
       "2                          -36.4                 4.857        5191.0   \n",
       "3                          -36.4                 4.857        5191.0   \n",
       "4                          -36.4                 4.857        5191.0   \n",
       "...                          ...                   ...           ...   \n",
       "41183                      -50.8                 1.028        4963.6   \n",
       "41184                      -50.8                 1.028        4963.6   \n",
       "41185                      -50.8                 1.028        4963.6   \n",
       "41186                      -50.8                 1.028        4963.6   \n",
       "41187                      -50.8                 1.028        4963.6   \n",
       "\n",
       "      Target_Variable  \n",
       "0                  no  \n",
       "1                  no  \n",
       "2                  no  \n",
       "3                  no  \n",
       "4                  no  \n",
       "...               ...  \n",
       "41183             yes  \n",
       "41184              no  \n",
       "41185              no  \n",
       "41186             yes  \n",
       "41187              no  \n",
       "\n",
       "[40858 rows x 18 columns]"
      ]
     },
     "execution_count": 17,
     "metadata": {},
     "output_type": "execute_result"
    }
   ],
   "source": [
    "bankData[bankData['job'] != 'unknown']"
   ]
  },
  {
   "cell_type": "code",
   "execution_count": 18,
   "id": "8c048b5b",
   "metadata": {
    "execution": {
     "iopub.execute_input": "2022-10-02T18:31:13.484085Z",
     "iopub.status.busy": "2022-10-02T18:31:13.483648Z",
     "iopub.status.idle": "2022-10-02T18:31:13.509199Z",
     "shell.execute_reply": "2022-10-02T18:31:13.507980Z"
    },
    "papermill": {
     "duration": 0.045041,
     "end_time": "2022-10-02T18:31:13.511763",
     "exception": false,
     "start_time": "2022-10-02T18:31:13.466722",
     "status": "completed"
    },
    "tags": []
   },
   "outputs": [
    {
     "name": "stdout",
     "output_type": "stream",
     "text": [
      "Before dropping unknown for job:(41188, 18)\n",
      "Count of unknown for job:330\n",
      "After dropping unknown for job:(40858, 18)\n"
     ]
    }
   ],
   "source": [
    "print(f'Before dropping unknown for job:{bankData.shape}')\n",
    "unknown = len(bankData[bankData['job'] == 'unknown'])\n",
    "print(f'Count of unknown for job:{unknown}')\n",
    "bankData= bankData[bankData['job'] != 'unknown']\n",
    "print(f'After dropping unknown for job:{bankData.shape}')\n"
   ]
  },
  {
   "cell_type": "code",
   "execution_count": 19,
   "id": "b290e5bc",
   "metadata": {
    "execution": {
     "iopub.execute_input": "2022-10-02T18:31:13.546245Z",
     "iopub.status.busy": "2022-10-02T18:31:13.545524Z",
     "iopub.status.idle": "2022-10-02T18:31:13.556695Z",
     "shell.execute_reply": "2022-10-02T18:31:13.555626Z"
    },
    "papermill": {
     "duration": 0.031382,
     "end_time": "2022-10-02T18:31:13.559140",
     "exception": false,
     "start_time": "2022-10-02T18:31:13.527758",
     "status": "completed"
    },
    "tags": []
   },
   "outputs": [
    {
     "data": {
      "text/plain": [
       "married     60.438592\n",
       "single      28.131578\n",
       "divorced    11.256058\n",
       "unknown      0.173773\n",
       "Name: marital, dtype: float64"
      ]
     },
     "execution_count": 19,
     "metadata": {},
     "output_type": "execute_result"
    }
   ],
   "source": [
    "#Checking distribution of values for marital\n",
    "bankData.marital.value_counts()/bankData.shape[0] * 100"
   ]
  },
  {
   "cell_type": "code",
   "execution_count": 20,
   "id": "ad11805e",
   "metadata": {
    "execution": {
     "iopub.execute_input": "2022-10-02T18:31:13.593827Z",
     "iopub.status.busy": "2022-10-02T18:31:13.593081Z",
     "iopub.status.idle": "2022-10-02T18:31:13.626410Z",
     "shell.execute_reply": "2022-10-02T18:31:13.625109Z"
    },
    "papermill": {
     "duration": 0.053743,
     "end_time": "2022-10-02T18:31:13.629168",
     "exception": false,
     "start_time": "2022-10-02T18:31:13.575425",
     "status": "completed"
    },
    "tags": []
   },
   "outputs": [
    {
     "data": {
      "text/html": [
       "<div>\n",
       "<style scoped>\n",
       "    .dataframe tbody tr th:only-of-type {\n",
       "        vertical-align: middle;\n",
       "    }\n",
       "\n",
       "    .dataframe tbody tr th {\n",
       "        vertical-align: top;\n",
       "    }\n",
       "\n",
       "    .dataframe thead th {\n",
       "        text-align: right;\n",
       "    }\n",
       "</style>\n",
       "<table border=\"1\" class=\"dataframe\">\n",
       "  <thead>\n",
       "    <tr style=\"text-align: right;\">\n",
       "      <th></th>\n",
       "      <th>age</th>\n",
       "      <th>job</th>\n",
       "      <th>marital</th>\n",
       "      <th>education</th>\n",
       "      <th>default</th>\n",
       "      <th>housing</th>\n",
       "      <th>loan</th>\n",
       "      <th>contact</th>\n",
       "      <th>campaign</th>\n",
       "      <th>pdays</th>\n",
       "      <th>previous</th>\n",
       "      <th>poutcome</th>\n",
       "      <th>Employment_Variation_Rate</th>\n",
       "      <th>Consumer_Price_Index</th>\n",
       "      <th>Consumer_Confidence_Index</th>\n",
       "      <th>Euribor_3_Month_Rate</th>\n",
       "      <th>No_Employees</th>\n",
       "      <th>Target_Variable</th>\n",
       "    </tr>\n",
       "  </thead>\n",
       "  <tbody>\n",
       "    <tr>\n",
       "      <th>40</th>\n",
       "      <td>58</td>\n",
       "      <td>management</td>\n",
       "      <td>unknown</td>\n",
       "      <td>university.degree</td>\n",
       "      <td>no</td>\n",
       "      <td>yes</td>\n",
       "      <td>no</td>\n",
       "      <td>telephone</td>\n",
       "      <td>1</td>\n",
       "      <td>999</td>\n",
       "      <td>0</td>\n",
       "      <td>nonexistent</td>\n",
       "      <td>1.1</td>\n",
       "      <td>93.994</td>\n",
       "      <td>-36.4</td>\n",
       "      <td>4.857</td>\n",
       "      <td>5191.0</td>\n",
       "      <td>no</td>\n",
       "    </tr>\n",
       "    <tr>\n",
       "      <th>390</th>\n",
       "      <td>59</td>\n",
       "      <td>retired</td>\n",
       "      <td>unknown</td>\n",
       "      <td>university.degree</td>\n",
       "      <td>unknown</td>\n",
       "      <td>no</td>\n",
       "      <td>no</td>\n",
       "      <td>telephone</td>\n",
       "      <td>1</td>\n",
       "      <td>999</td>\n",
       "      <td>0</td>\n",
       "      <td>nonexistent</td>\n",
       "      <td>1.1</td>\n",
       "      <td>93.994</td>\n",
       "      <td>-36.4</td>\n",
       "      <td>4.857</td>\n",
       "      <td>5191.0</td>\n",
       "      <td>no</td>\n",
       "    </tr>\n",
       "    <tr>\n",
       "      <th>413</th>\n",
       "      <td>57</td>\n",
       "      <td>retired</td>\n",
       "      <td>unknown</td>\n",
       "      <td>basic.4y</td>\n",
       "      <td>no</td>\n",
       "      <td>no</td>\n",
       "      <td>no</td>\n",
       "      <td>telephone</td>\n",
       "      <td>1</td>\n",
       "      <td>999</td>\n",
       "      <td>0</td>\n",
       "      <td>nonexistent</td>\n",
       "      <td>1.1</td>\n",
       "      <td>93.994</td>\n",
       "      <td>-36.4</td>\n",
       "      <td>4.857</td>\n",
       "      <td>5191.0</td>\n",
       "      <td>no</td>\n",
       "    </tr>\n",
       "    <tr>\n",
       "      <th>1493</th>\n",
       "      <td>33</td>\n",
       "      <td>services</td>\n",
       "      <td>unknown</td>\n",
       "      <td>high.school</td>\n",
       "      <td>no</td>\n",
       "      <td>yes</td>\n",
       "      <td>yes</td>\n",
       "      <td>telephone</td>\n",
       "      <td>2</td>\n",
       "      <td>999</td>\n",
       "      <td>0</td>\n",
       "      <td>nonexistent</td>\n",
       "      <td>1.1</td>\n",
       "      <td>93.994</td>\n",
       "      <td>-36.4</td>\n",
       "      <td>4.855</td>\n",
       "      <td>5191.0</td>\n",
       "      <td>no</td>\n",
       "    </tr>\n",
       "    <tr>\n",
       "      <th>3167</th>\n",
       "      <td>57</td>\n",
       "      <td>retired</td>\n",
       "      <td>unknown</td>\n",
       "      <td>basic.4y</td>\n",
       "      <td>no</td>\n",
       "      <td>yes</td>\n",
       "      <td>no</td>\n",
       "      <td>telephone</td>\n",
       "      <td>10</td>\n",
       "      <td>999</td>\n",
       "      <td>0</td>\n",
       "      <td>nonexistent</td>\n",
       "      <td>1.1</td>\n",
       "      <td>93.994</td>\n",
       "      <td>-36.4</td>\n",
       "      <td>4.860</td>\n",
       "      <td>5191.0</td>\n",
       "      <td>no</td>\n",
       "    </tr>\n",
       "    <tr>\n",
       "      <th>...</th>\n",
       "      <td>...</td>\n",
       "      <td>...</td>\n",
       "      <td>...</td>\n",
       "      <td>...</td>\n",
       "      <td>...</td>\n",
       "      <td>...</td>\n",
       "      <td>...</td>\n",
       "      <td>...</td>\n",
       "      <td>...</td>\n",
       "      <td>...</td>\n",
       "      <td>...</td>\n",
       "      <td>...</td>\n",
       "      <td>...</td>\n",
       "      <td>...</td>\n",
       "      <td>...</td>\n",
       "      <td>...</td>\n",
       "      <td>...</td>\n",
       "      <td>...</td>\n",
       "    </tr>\n",
       "    <tr>\n",
       "      <th>38550</th>\n",
       "      <td>31</td>\n",
       "      <td>entrepreneur</td>\n",
       "      <td>unknown</td>\n",
       "      <td>university.degree</td>\n",
       "      <td>no</td>\n",
       "      <td>no</td>\n",
       "      <td>no</td>\n",
       "      <td>cellular</td>\n",
       "      <td>1</td>\n",
       "      <td>999</td>\n",
       "      <td>0</td>\n",
       "      <td>nonexistent</td>\n",
       "      <td>-3.4</td>\n",
       "      <td>92.431</td>\n",
       "      <td>-26.9</td>\n",
       "      <td>0.722</td>\n",
       "      <td>5017.5</td>\n",
       "      <td>yes</td>\n",
       "    </tr>\n",
       "    <tr>\n",
       "      <th>38579</th>\n",
       "      <td>31</td>\n",
       "      <td>entrepreneur</td>\n",
       "      <td>unknown</td>\n",
       "      <td>university.degree</td>\n",
       "      <td>no</td>\n",
       "      <td>yes</td>\n",
       "      <td>no</td>\n",
       "      <td>telephone</td>\n",
       "      <td>4</td>\n",
       "      <td>999</td>\n",
       "      <td>1</td>\n",
       "      <td>failure</td>\n",
       "      <td>-3.4</td>\n",
       "      <td>92.431</td>\n",
       "      <td>-26.9</td>\n",
       "      <td>0.722</td>\n",
       "      <td>5017.5</td>\n",
       "      <td>no</td>\n",
       "    </tr>\n",
       "    <tr>\n",
       "      <th>39322</th>\n",
       "      <td>30</td>\n",
       "      <td>technician</td>\n",
       "      <td>unknown</td>\n",
       "      <td>university.degree</td>\n",
       "      <td>no</td>\n",
       "      <td>no</td>\n",
       "      <td>no</td>\n",
       "      <td>cellular</td>\n",
       "      <td>2</td>\n",
       "      <td>11</td>\n",
       "      <td>2</td>\n",
       "      <td>success</td>\n",
       "      <td>-1.8</td>\n",
       "      <td>93.369</td>\n",
       "      <td>-34.8</td>\n",
       "      <td>0.639</td>\n",
       "      <td>5008.7</td>\n",
       "      <td>yes</td>\n",
       "    </tr>\n",
       "    <tr>\n",
       "      <th>39323</th>\n",
       "      <td>30</td>\n",
       "      <td>technician</td>\n",
       "      <td>unknown</td>\n",
       "      <td>university.degree</td>\n",
       "      <td>no</td>\n",
       "      <td>no</td>\n",
       "      <td>no</td>\n",
       "      <td>cellular</td>\n",
       "      <td>2</td>\n",
       "      <td>6</td>\n",
       "      <td>2</td>\n",
       "      <td>success</td>\n",
       "      <td>-1.8</td>\n",
       "      <td>93.369</td>\n",
       "      <td>-34.8</td>\n",
       "      <td>0.639</td>\n",
       "      <td>5008.7</td>\n",
       "      <td>yes</td>\n",
       "    </tr>\n",
       "    <tr>\n",
       "      <th>40857</th>\n",
       "      <td>30</td>\n",
       "      <td>technician</td>\n",
       "      <td>unknown</td>\n",
       "      <td>university.degree</td>\n",
       "      <td>no</td>\n",
       "      <td>no</td>\n",
       "      <td>no</td>\n",
       "      <td>cellular</td>\n",
       "      <td>2</td>\n",
       "      <td>16</td>\n",
       "      <td>1</td>\n",
       "      <td>success</td>\n",
       "      <td>-1.1</td>\n",
       "      <td>94.601</td>\n",
       "      <td>-49.5</td>\n",
       "      <td>0.942</td>\n",
       "      <td>4963.6</td>\n",
       "      <td>no</td>\n",
       "    </tr>\n",
       "  </tbody>\n",
       "</table>\n",
       "<p>71 rows × 18 columns</p>\n",
       "</div>"
      ],
      "text/plain": [
       "       age           job  marital          education  default housing loan  \\\n",
       "40      58    management  unknown  university.degree       no     yes   no   \n",
       "390     59       retired  unknown  university.degree  unknown      no   no   \n",
       "413     57       retired  unknown           basic.4y       no      no   no   \n",
       "1493    33      services  unknown        high.school       no     yes  yes   \n",
       "3167    57       retired  unknown           basic.4y       no     yes   no   \n",
       "...    ...           ...      ...                ...      ...     ...  ...   \n",
       "38550   31  entrepreneur  unknown  university.degree       no      no   no   \n",
       "38579   31  entrepreneur  unknown  university.degree       no     yes   no   \n",
       "39322   30    technician  unknown  university.degree       no      no   no   \n",
       "39323   30    technician  unknown  university.degree       no      no   no   \n",
       "40857   30    technician  unknown  university.degree       no      no   no   \n",
       "\n",
       "         contact  campaign  pdays  previous     poutcome  \\\n",
       "40     telephone         1    999         0  nonexistent   \n",
       "390    telephone         1    999         0  nonexistent   \n",
       "413    telephone         1    999         0  nonexistent   \n",
       "1493   telephone         2    999         0  nonexistent   \n",
       "3167   telephone        10    999         0  nonexistent   \n",
       "...          ...       ...    ...       ...          ...   \n",
       "38550   cellular         1    999         0  nonexistent   \n",
       "38579  telephone         4    999         1      failure   \n",
       "39322   cellular         2     11         2      success   \n",
       "39323   cellular         2      6         2      success   \n",
       "40857   cellular         2     16         1      success   \n",
       "\n",
       "       Employment_Variation_Rate  Consumer_Price_Index  \\\n",
       "40                           1.1                93.994   \n",
       "390                          1.1                93.994   \n",
       "413                          1.1                93.994   \n",
       "1493                         1.1                93.994   \n",
       "3167                         1.1                93.994   \n",
       "...                          ...                   ...   \n",
       "38550                       -3.4                92.431   \n",
       "38579                       -3.4                92.431   \n",
       "39322                       -1.8                93.369   \n",
       "39323                       -1.8                93.369   \n",
       "40857                       -1.1                94.601   \n",
       "\n",
       "       Consumer_Confidence_Index  Euribor_3_Month_Rate  No_Employees  \\\n",
       "40                         -36.4                 4.857        5191.0   \n",
       "390                        -36.4                 4.857        5191.0   \n",
       "413                        -36.4                 4.857        5191.0   \n",
       "1493                       -36.4                 4.855        5191.0   \n",
       "3167                       -36.4                 4.860        5191.0   \n",
       "...                          ...                   ...           ...   \n",
       "38550                      -26.9                 0.722        5017.5   \n",
       "38579                      -26.9                 0.722        5017.5   \n",
       "39322                      -34.8                 0.639        5008.7   \n",
       "39323                      -34.8                 0.639        5008.7   \n",
       "40857                      -49.5                 0.942        4963.6   \n",
       "\n",
       "      Target_Variable  \n",
       "40                 no  \n",
       "390                no  \n",
       "413                no  \n",
       "1493               no  \n",
       "3167               no  \n",
       "...               ...  \n",
       "38550             yes  \n",
       "38579              no  \n",
       "39322             yes  \n",
       "39323             yes  \n",
       "40857              no  \n",
       "\n",
       "[71 rows x 18 columns]"
      ]
     },
     "execution_count": 20,
     "metadata": {},
     "output_type": "execute_result"
    }
   ],
   "source": [
    "#Checking further where job is unkown.\n",
    "bankData[bankData['marital'] == 'unknown']"
   ]
  },
  {
   "cell_type": "code",
   "execution_count": 21,
   "id": "690cbfd5",
   "metadata": {
    "execution": {
     "iopub.execute_input": "2022-10-02T18:31:13.664973Z",
     "iopub.status.busy": "2022-10-02T18:31:13.664550Z",
     "iopub.status.idle": "2022-10-02T18:31:13.676937Z",
     "shell.execute_reply": "2022-10-02T18:31:13.675820Z"
    },
    "papermill": {
     "duration": 0.033492,
     "end_time": "2022-10-02T18:31:13.679534",
     "exception": false,
     "start_time": "2022-10-02T18:31:13.646042",
     "status": "completed"
    },
    "tags": []
   },
   "outputs": [
    {
     "data": {
      "text/plain": [
       "999    66\n",
       "6       2\n",
       "4       1\n",
       "11      1\n",
       "16      1\n",
       "Name: pdays, dtype: int64"
      ]
     },
     "execution_count": 21,
     "metadata": {},
     "output_type": "execute_result"
    }
   ],
   "source": [
    "bankData[bankData['marital'] == 'unknown']['pdays'].value_counts()"
   ]
  },
  {
   "cell_type": "markdown",
   "id": "cadc9ffa",
   "metadata": {
    "papermill": {
     "duration": 0.016346,
     "end_time": "2022-10-02T18:31:13.712466",
     "exception": false,
     "start_time": "2022-10-02T18:31:13.696120",
     "status": "completed"
    },
    "tags": []
   },
   "source": [
    "\n",
    "\n",
    "\n",
    "It looks like for most of the values in marital where it is unkown the client has not been contacted earlier which is indicated by 999 value.So, the target variable in this case will not mean anything and it is better to drop the unkown values in marital."
   ]
  },
  {
   "cell_type": "code",
   "execution_count": 22,
   "id": "7bd78ddd",
   "metadata": {
    "execution": {
     "iopub.execute_input": "2022-10-02T18:31:13.746967Z",
     "iopub.status.busy": "2022-10-02T18:31:13.746528Z",
     "iopub.status.idle": "2022-10-02T18:31:13.772092Z",
     "shell.execute_reply": "2022-10-02T18:31:13.770392Z"
    },
    "papermill": {
     "duration": 0.046563,
     "end_time": "2022-10-02T18:31:13.775414",
     "exception": false,
     "start_time": "2022-10-02T18:31:13.728851",
     "status": "completed"
    },
    "tags": []
   },
   "outputs": [
    {
     "name": "stdout",
     "output_type": "stream",
     "text": [
      "Before dropping unknown for marital:(40858, 18)\n",
      "Count of unknown for marital:71\n",
      "After dropping unknown for marital:(40787, 18)\n"
     ]
    }
   ],
   "source": [
    "print(f'Before dropping unknown for marital:{bankData.shape}')\n",
    "unknown = len(bankData[bankData['marital'] == 'unknown'])\n",
    "print(f'Count of unknown for marital:{unknown}')\n",
    "bankData= bankData[bankData['marital'] != 'unknown']\n",
    "print(f'After dropping unknown for marital:{bankData.shape}')\n"
   ]
  },
  {
   "cell_type": "code",
   "execution_count": 23,
   "id": "acf6bb24",
   "metadata": {
    "execution": {
     "iopub.execute_input": "2022-10-02T18:31:13.811564Z",
     "iopub.status.busy": "2022-10-02T18:31:13.810649Z",
     "iopub.status.idle": "2022-10-02T18:31:13.821373Z",
     "shell.execute_reply": "2022-10-02T18:31:13.820577Z"
    },
    "papermill": {
     "duration": 0.031089,
     "end_time": "2022-10-02T18:31:13.823750",
     "exception": false,
     "start_time": "2022-10-02T18:31:13.792661",
     "status": "completed"
    },
    "tags": []
   },
   "outputs": [
    {
     "data": {
      "text/plain": [
       "university.degree      29.656508\n",
       "high.school            23.203472\n",
       "basic.9y               14.725280\n",
       "professional.course    12.810454\n",
       "basic.4y               10.096354\n",
       "basic.6y                5.550788\n",
       "unknown                 3.913011\n",
       "illiterate              0.044132\n",
       "Name: education, dtype: float64"
      ]
     },
     "execution_count": 23,
     "metadata": {},
     "output_type": "execute_result"
    }
   ],
   "source": [
    "#Checking distribution of values for education\n",
    "bankData.education.value_counts()/bankData.shape[0] * 100"
   ]
  },
  {
   "cell_type": "code",
   "execution_count": 24,
   "id": "af9501c2",
   "metadata": {
    "execution": {
     "iopub.execute_input": "2022-10-02T18:31:13.859357Z",
     "iopub.status.busy": "2022-10-02T18:31:13.858921Z",
     "iopub.status.idle": "2022-10-02T18:31:13.895064Z",
     "shell.execute_reply": "2022-10-02T18:31:13.893834Z"
    },
    "papermill": {
     "duration": 0.057233,
     "end_time": "2022-10-02T18:31:13.897762",
     "exception": false,
     "start_time": "2022-10-02T18:31:13.840529",
     "status": "completed"
    },
    "tags": []
   },
   "outputs": [
    {
     "data": {
      "text/html": [
       "<div>\n",
       "<style scoped>\n",
       "    .dataframe tbody tr th:only-of-type {\n",
       "        vertical-align: middle;\n",
       "    }\n",
       "\n",
       "    .dataframe tbody tr th {\n",
       "        vertical-align: top;\n",
       "    }\n",
       "\n",
       "    .dataframe thead th {\n",
       "        text-align: right;\n",
       "    }\n",
       "</style>\n",
       "<table border=\"1\" class=\"dataframe\">\n",
       "  <thead>\n",
       "    <tr style=\"text-align: right;\">\n",
       "      <th></th>\n",
       "      <th>age</th>\n",
       "      <th>job</th>\n",
       "      <th>marital</th>\n",
       "      <th>education</th>\n",
       "      <th>default</th>\n",
       "      <th>housing</th>\n",
       "      <th>loan</th>\n",
       "      <th>contact</th>\n",
       "      <th>campaign</th>\n",
       "      <th>pdays</th>\n",
       "      <th>previous</th>\n",
       "      <th>poutcome</th>\n",
       "      <th>Employment_Variation_Rate</th>\n",
       "      <th>Consumer_Price_Index</th>\n",
       "      <th>Consumer_Confidence_Index</th>\n",
       "      <th>Euribor_3_Month_Rate</th>\n",
       "      <th>No_Employees</th>\n",
       "      <th>Target_Variable</th>\n",
       "    </tr>\n",
       "  </thead>\n",
       "  <tbody>\n",
       "    <tr>\n",
       "      <th>7</th>\n",
       "      <td>41</td>\n",
       "      <td>blue-collar</td>\n",
       "      <td>married</td>\n",
       "      <td>unknown</td>\n",
       "      <td>unknown</td>\n",
       "      <td>no</td>\n",
       "      <td>no</td>\n",
       "      <td>telephone</td>\n",
       "      <td>1</td>\n",
       "      <td>999</td>\n",
       "      <td>0</td>\n",
       "      <td>nonexistent</td>\n",
       "      <td>1.1</td>\n",
       "      <td>93.994</td>\n",
       "      <td>-36.4</td>\n",
       "      <td>4.857</td>\n",
       "      <td>5191.0</td>\n",
       "      <td>no</td>\n",
       "    </tr>\n",
       "    <tr>\n",
       "      <th>10</th>\n",
       "      <td>41</td>\n",
       "      <td>blue-collar</td>\n",
       "      <td>married</td>\n",
       "      <td>unknown</td>\n",
       "      <td>unknown</td>\n",
       "      <td>no</td>\n",
       "      <td>no</td>\n",
       "      <td>telephone</td>\n",
       "      <td>1</td>\n",
       "      <td>999</td>\n",
       "      <td>0</td>\n",
       "      <td>nonexistent</td>\n",
       "      <td>1.1</td>\n",
       "      <td>93.994</td>\n",
       "      <td>-36.4</td>\n",
       "      <td>4.857</td>\n",
       "      <td>5191.0</td>\n",
       "      <td>no</td>\n",
       "    </tr>\n",
       "    <tr>\n",
       "      <th>26</th>\n",
       "      <td>59</td>\n",
       "      <td>technician</td>\n",
       "      <td>married</td>\n",
       "      <td>unknown</td>\n",
       "      <td>no</td>\n",
       "      <td>yes</td>\n",
       "      <td>no</td>\n",
       "      <td>telephone</td>\n",
       "      <td>1</td>\n",
       "      <td>999</td>\n",
       "      <td>0</td>\n",
       "      <td>nonexistent</td>\n",
       "      <td>1.1</td>\n",
       "      <td>93.994</td>\n",
       "      <td>-36.4</td>\n",
       "      <td>4.857</td>\n",
       "      <td>5191.0</td>\n",
       "      <td>no</td>\n",
       "    </tr>\n",
       "    <tr>\n",
       "      <th>30</th>\n",
       "      <td>46</td>\n",
       "      <td>admin.</td>\n",
       "      <td>married</td>\n",
       "      <td>unknown</td>\n",
       "      <td>no</td>\n",
       "      <td>no</td>\n",
       "      <td>no</td>\n",
       "      <td>telephone</td>\n",
       "      <td>1</td>\n",
       "      <td>999</td>\n",
       "      <td>0</td>\n",
       "      <td>nonexistent</td>\n",
       "      <td>1.1</td>\n",
       "      <td>93.994</td>\n",
       "      <td>-36.4</td>\n",
       "      <td>4.857</td>\n",
       "      <td>5191.0</td>\n",
       "      <td>no</td>\n",
       "    </tr>\n",
       "    <tr>\n",
       "      <th>31</th>\n",
       "      <td>59</td>\n",
       "      <td>technician</td>\n",
       "      <td>married</td>\n",
       "      <td>unknown</td>\n",
       "      <td>no</td>\n",
       "      <td>yes</td>\n",
       "      <td>no</td>\n",
       "      <td>telephone</td>\n",
       "      <td>1</td>\n",
       "      <td>999</td>\n",
       "      <td>0</td>\n",
       "      <td>nonexistent</td>\n",
       "      <td>1.1</td>\n",
       "      <td>93.994</td>\n",
       "      <td>-36.4</td>\n",
       "      <td>4.857</td>\n",
       "      <td>5191.0</td>\n",
       "      <td>no</td>\n",
       "    </tr>\n",
       "    <tr>\n",
       "      <th>...</th>\n",
       "      <td>...</td>\n",
       "      <td>...</td>\n",
       "      <td>...</td>\n",
       "      <td>...</td>\n",
       "      <td>...</td>\n",
       "      <td>...</td>\n",
       "      <td>...</td>\n",
       "      <td>...</td>\n",
       "      <td>...</td>\n",
       "      <td>...</td>\n",
       "      <td>...</td>\n",
       "      <td>...</td>\n",
       "      <td>...</td>\n",
       "      <td>...</td>\n",
       "      <td>...</td>\n",
       "      <td>...</td>\n",
       "      <td>...</td>\n",
       "      <td>...</td>\n",
       "    </tr>\n",
       "    <tr>\n",
       "      <th>41118</th>\n",
       "      <td>34</td>\n",
       "      <td>technician</td>\n",
       "      <td>married</td>\n",
       "      <td>unknown</td>\n",
       "      <td>no</td>\n",
       "      <td>yes</td>\n",
       "      <td>no</td>\n",
       "      <td>cellular</td>\n",
       "      <td>2</td>\n",
       "      <td>999</td>\n",
       "      <td>2</td>\n",
       "      <td>failure</td>\n",
       "      <td>-1.1</td>\n",
       "      <td>94.767</td>\n",
       "      <td>-50.8</td>\n",
       "      <td>1.046</td>\n",
       "      <td>4963.6</td>\n",
       "      <td>no</td>\n",
       "    </tr>\n",
       "    <tr>\n",
       "      <th>41120</th>\n",
       "      <td>60</td>\n",
       "      <td>admin.</td>\n",
       "      <td>married</td>\n",
       "      <td>unknown</td>\n",
       "      <td>no</td>\n",
       "      <td>no</td>\n",
       "      <td>no</td>\n",
       "      <td>cellular</td>\n",
       "      <td>2</td>\n",
       "      <td>999</td>\n",
       "      <td>0</td>\n",
       "      <td>nonexistent</td>\n",
       "      <td>-1.1</td>\n",
       "      <td>94.767</td>\n",
       "      <td>-50.8</td>\n",
       "      <td>1.046</td>\n",
       "      <td>4963.6</td>\n",
       "      <td>no</td>\n",
       "    </tr>\n",
       "    <tr>\n",
       "      <th>41122</th>\n",
       "      <td>34</td>\n",
       "      <td>technician</td>\n",
       "      <td>married</td>\n",
       "      <td>unknown</td>\n",
       "      <td>no</td>\n",
       "      <td>no</td>\n",
       "      <td>no</td>\n",
       "      <td>cellular</td>\n",
       "      <td>3</td>\n",
       "      <td>999</td>\n",
       "      <td>0</td>\n",
       "      <td>nonexistent</td>\n",
       "      <td>-1.1</td>\n",
       "      <td>94.767</td>\n",
       "      <td>-50.8</td>\n",
       "      <td>1.046</td>\n",
       "      <td>4963.6</td>\n",
       "      <td>yes</td>\n",
       "    </tr>\n",
       "    <tr>\n",
       "      <th>41135</th>\n",
       "      <td>54</td>\n",
       "      <td>technician</td>\n",
       "      <td>married</td>\n",
       "      <td>unknown</td>\n",
       "      <td>no</td>\n",
       "      <td>yes</td>\n",
       "      <td>no</td>\n",
       "      <td>cellular</td>\n",
       "      <td>1</td>\n",
       "      <td>999</td>\n",
       "      <td>1</td>\n",
       "      <td>failure</td>\n",
       "      <td>-1.1</td>\n",
       "      <td>94.767</td>\n",
       "      <td>-50.8</td>\n",
       "      <td>1.041</td>\n",
       "      <td>4963.6</td>\n",
       "      <td>no</td>\n",
       "    </tr>\n",
       "    <tr>\n",
       "      <th>41175</th>\n",
       "      <td>34</td>\n",
       "      <td>student</td>\n",
       "      <td>single</td>\n",
       "      <td>unknown</td>\n",
       "      <td>no</td>\n",
       "      <td>yes</td>\n",
       "      <td>no</td>\n",
       "      <td>cellular</td>\n",
       "      <td>1</td>\n",
       "      <td>999</td>\n",
       "      <td>2</td>\n",
       "      <td>failure</td>\n",
       "      <td>-1.1</td>\n",
       "      <td>94.767</td>\n",
       "      <td>-50.8</td>\n",
       "      <td>1.031</td>\n",
       "      <td>4963.6</td>\n",
       "      <td>no</td>\n",
       "    </tr>\n",
       "  </tbody>\n",
       "</table>\n",
       "<p>1596 rows × 18 columns</p>\n",
       "</div>"
      ],
      "text/plain": [
       "       age          job  marital education  default housing loan    contact  \\\n",
       "7       41  blue-collar  married   unknown  unknown      no   no  telephone   \n",
       "10      41  blue-collar  married   unknown  unknown      no   no  telephone   \n",
       "26      59   technician  married   unknown       no     yes   no  telephone   \n",
       "30      46       admin.  married   unknown       no      no   no  telephone   \n",
       "31      59   technician  married   unknown       no     yes   no  telephone   \n",
       "...    ...          ...      ...       ...      ...     ...  ...        ...   \n",
       "41118   34   technician  married   unknown       no     yes   no   cellular   \n",
       "41120   60       admin.  married   unknown       no      no   no   cellular   \n",
       "41122   34   technician  married   unknown       no      no   no   cellular   \n",
       "41135   54   technician  married   unknown       no     yes   no   cellular   \n",
       "41175   34      student   single   unknown       no     yes   no   cellular   \n",
       "\n",
       "       campaign  pdays  previous     poutcome  Employment_Variation_Rate  \\\n",
       "7             1    999         0  nonexistent                        1.1   \n",
       "10            1    999         0  nonexistent                        1.1   \n",
       "26            1    999         0  nonexistent                        1.1   \n",
       "30            1    999         0  nonexistent                        1.1   \n",
       "31            1    999         0  nonexistent                        1.1   \n",
       "...         ...    ...       ...          ...                        ...   \n",
       "41118         2    999         2      failure                       -1.1   \n",
       "41120         2    999         0  nonexistent                       -1.1   \n",
       "41122         3    999         0  nonexistent                       -1.1   \n",
       "41135         1    999         1      failure                       -1.1   \n",
       "41175         1    999         2      failure                       -1.1   \n",
       "\n",
       "       Consumer_Price_Index  Consumer_Confidence_Index  Euribor_3_Month_Rate  \\\n",
       "7                    93.994                      -36.4                 4.857   \n",
       "10                   93.994                      -36.4                 4.857   \n",
       "26                   93.994                      -36.4                 4.857   \n",
       "30                   93.994                      -36.4                 4.857   \n",
       "31                   93.994                      -36.4                 4.857   \n",
       "...                     ...                        ...                   ...   \n",
       "41118                94.767                      -50.8                 1.046   \n",
       "41120                94.767                      -50.8                 1.046   \n",
       "41122                94.767                      -50.8                 1.046   \n",
       "41135                94.767                      -50.8                 1.041   \n",
       "41175                94.767                      -50.8                 1.031   \n",
       "\n",
       "       No_Employees Target_Variable  \n",
       "7            5191.0              no  \n",
       "10           5191.0              no  \n",
       "26           5191.0              no  \n",
       "30           5191.0              no  \n",
       "31           5191.0              no  \n",
       "...             ...             ...  \n",
       "41118        4963.6              no  \n",
       "41120        4963.6              no  \n",
       "41122        4963.6             yes  \n",
       "41135        4963.6              no  \n",
       "41175        4963.6              no  \n",
       "\n",
       "[1596 rows x 18 columns]"
      ]
     },
     "execution_count": 24,
     "metadata": {},
     "output_type": "execute_result"
    }
   ],
   "source": [
    "#Checking further where education is unkown.\n",
    "bankData[bankData['education'] == 'unknown']"
   ]
  },
  {
   "cell_type": "code",
   "execution_count": 25,
   "id": "7395615e",
   "metadata": {
    "execution": {
     "iopub.execute_input": "2022-10-02T18:31:13.934520Z",
     "iopub.status.busy": "2022-10-02T18:31:13.934088Z",
     "iopub.status.idle": "2022-10-02T18:31:13.948718Z",
     "shell.execute_reply": "2022-10-02T18:31:13.947575Z"
    },
    "papermill": {
     "duration": 0.03564,
     "end_time": "2022-10-02T18:31:13.951037",
     "exception": false,
     "start_time": "2022-10-02T18:31:13.915397",
     "status": "completed"
    },
    "tags": []
   },
   "outputs": [
    {
     "data": {
      "text/plain": [
       "999    1505\n",
       "3        28\n",
       "6        18\n",
       "4         7\n",
       "9         7\n",
       "7         6\n",
       "10        4\n",
       "12        3\n",
       "17        2\n",
       "15        2\n",
       "14        2\n",
       "18        2\n",
       "13        2\n",
       "16        2\n",
       "20        1\n",
       "5         1\n",
       "8         1\n",
       "11        1\n",
       "2         1\n",
       "1         1\n",
       "Name: pdays, dtype: int64"
      ]
     },
     "execution_count": 25,
     "metadata": {},
     "output_type": "execute_result"
    }
   ],
   "source": [
    "bankData[bankData['education'] == 'unknown']['pdays'].value_counts()"
   ]
  },
  {
   "cell_type": "markdown",
   "id": "31a35561",
   "metadata": {
    "papermill": {
     "duration": 0.017395,
     "end_time": "2022-10-02T18:31:13.986195",
     "exception": false,
     "start_time": "2022-10-02T18:31:13.968800",
     "status": "completed"
    },
    "tags": []
   },
   "source": [
    "It looks like for most of the values in education where it is unkown the client has not been contacted earlier which is indicated by 999 value.So, the target variable in this case will not mean anything and it is better to drop the unkown values in education as percentage is very less(3%)."
   ]
  },
  {
   "cell_type": "code",
   "execution_count": 26,
   "id": "0375ded2",
   "metadata": {
    "execution": {
     "iopub.execute_input": "2022-10-02T18:31:14.024261Z",
     "iopub.status.busy": "2022-10-02T18:31:14.023306Z",
     "iopub.status.idle": "2022-10-02T18:31:14.047133Z",
     "shell.execute_reply": "2022-10-02T18:31:14.045441Z"
    },
    "papermill": {
     "duration": 0.046621,
     "end_time": "2022-10-02T18:31:14.050601",
     "exception": false,
     "start_time": "2022-10-02T18:31:14.003980",
     "status": "completed"
    },
    "tags": []
   },
   "outputs": [
    {
     "name": "stdout",
     "output_type": "stream",
     "text": [
      "Before dropping unknown for education:(40787, 18)\n",
      "Count of unknown for education:1596\n",
      "After dropping unknown for education:(39191, 18)\n"
     ]
    }
   ],
   "source": [
    "print(f'Before dropping unknown for education:{bankData.shape}')\n",
    "unknown = len(bankData[bankData['education'] == 'unknown'])\n",
    "print(f'Count of unknown for education:{unknown}')\n",
    "bankData= bankData[bankData['education'] != 'unknown']\n",
    "print(f'After dropping unknown for education:{bankData.shape}')\n"
   ]
  },
  {
   "cell_type": "code",
   "execution_count": 27,
   "id": "a3079cc0",
   "metadata": {
    "execution": {
     "iopub.execute_input": "2022-10-02T18:31:14.088112Z",
     "iopub.status.busy": "2022-10-02T18:31:14.087665Z",
     "iopub.status.idle": "2022-10-02T18:31:14.099905Z",
     "shell.execute_reply": "2022-10-02T18:31:14.098765Z"
    },
    "papermill": {
     "duration": 0.033666,
     "end_time": "2022-10-02T18:31:14.102416",
     "exception": false,
     "start_time": "2022-10-02T18:31:14.068750",
     "status": "completed"
    },
    "tags": []
   },
   "outputs": [
    {
     "data": {
      "text/plain": [
       "no         79.671353\n",
       "unknown    20.320992\n",
       "yes         0.007655\n",
       "Name: default, dtype: float64"
      ]
     },
     "execution_count": 27,
     "metadata": {},
     "output_type": "execute_result"
    }
   ],
   "source": [
    "\n",
    "#Checking distribution where default is unkown.\n",
    "bankData.default.value_counts()/bankData.shape[0] * 100"
   ]
  },
  {
   "cell_type": "markdown",
   "id": "6ed5351d",
   "metadata": {
    "papermill": {
     "duration": 0.017234,
     "end_time": "2022-10-02T18:31:14.137415",
     "exception": false,
     "start_time": "2022-10-02T18:31:14.120181",
     "status": "completed"
    },
    "tags": []
   },
   "source": [
    "20% of values are missing and cannot be neglected .This is a categorical column and the unkown values need to be handled"
   ]
  },
  {
   "cell_type": "code",
   "execution_count": 28,
   "id": "0d691efb",
   "metadata": {
    "execution": {
     "iopub.execute_input": "2022-10-02T18:31:14.174026Z",
     "iopub.status.busy": "2022-10-02T18:31:14.173580Z",
     "iopub.status.idle": "2022-10-02T18:31:14.189013Z",
     "shell.execute_reply": "2022-10-02T18:31:14.187804Z"
    },
    "papermill": {
     "duration": 0.036641,
     "end_time": "2022-10-02T18:31:14.191460",
     "exception": false,
     "start_time": "2022-10-02T18:31:14.154819",
     "status": "completed"
    },
    "tags": []
   },
   "outputs": [
    {
     "data": {
      "text/plain": [
       "999    7907\n",
       "6        17\n",
       "3        12\n",
       "4         4\n",
       "2         4\n",
       "10        4\n",
       "12        3\n",
       "1         3\n",
       "5         2\n",
       "7         2\n",
       "9         2\n",
       "0         1\n",
       "8         1\n",
       "11        1\n",
       "14        1\n",
       "Name: pdays, dtype: int64"
      ]
     },
     "execution_count": 28,
     "metadata": {},
     "output_type": "execute_result"
    }
   ],
   "source": [
    "bankData[bankData['default'] == 'unknown']['pdays'].value_counts()"
   ]
  },
  {
   "cell_type": "markdown",
   "id": "69b6709e",
   "metadata": {
    "papermill": {
     "duration": 0.017275,
     "end_time": "2022-10-02T18:31:14.226812",
     "exception": false,
     "start_time": "2022-10-02T18:31:14.209537",
     "status": "completed"
    },
    "tags": []
   },
   "source": [
    "It looks like for most of the values in default where it is unkown the client has not been contacted earlier which is indicated by 999 value.So, the target variable in this case will not mean anything and it is better to drop the unkown values where pdays= 999  and for other unkown values replace with mode."
   ]
  },
  {
   "cell_type": "code",
   "execution_count": 29,
   "id": "302f2321",
   "metadata": {
    "execution": {
     "iopub.execute_input": "2022-10-02T18:31:14.264033Z",
     "iopub.status.busy": "2022-10-02T18:31:14.263626Z",
     "iopub.status.idle": "2022-10-02T18:31:14.286707Z",
     "shell.execute_reply": "2022-10-02T18:31:14.285454Z"
    },
    "papermill": {
     "duration": 0.044589,
     "end_time": "2022-10-02T18:31:14.289210",
     "exception": false,
     "start_time": "2022-10-02T18:31:14.244621",
     "status": "completed"
    },
    "tags": []
   },
   "outputs": [
    {
     "name": "stdout",
     "output_type": "stream",
     "text": [
      "Before dropping unknown for default:(39191, 18)\n",
      "Count of unknown for default:7907\n",
      "After dropping unknown for default:(31284, 18)\n"
     ]
    }
   ],
   "source": [
    "print(f'Before dropping unknown for default:{bankData.shape}')\n",
    "unknown = len(bankData[(bankData['default'] == 'unknown') & \n",
    "              (bankData['pdays'] == 999)\n",
    "                       ])\n",
    "print(f'Count of unknown for default:{unknown}')\n",
    "bankData= bankData[~((bankData['default'] == 'unknown') & \n",
    "              (bankData['pdays'] == 999))]\n",
    "print(f'After dropping unknown for default:{bankData.shape}')\n"
   ]
  },
  {
   "cell_type": "code",
   "execution_count": 30,
   "id": "67bdbd5c",
   "metadata": {
    "execution": {
     "iopub.execute_input": "2022-10-02T18:31:14.326988Z",
     "iopub.status.busy": "2022-10-02T18:31:14.326138Z",
     "iopub.status.idle": "2022-10-02T18:31:14.340817Z",
     "shell.execute_reply": "2022-10-02T18:31:14.339768Z"
    },
    "papermill": {
     "duration": 0.036068,
     "end_time": "2022-10-02T18:31:14.343304",
     "exception": false,
     "start_time": "2022-10-02T18:31:14.307236",
     "status": "completed"
    },
    "tags": []
   },
   "outputs": [],
   "source": [
    "#Replacing the left unkown values in default with mode.\n",
    "default_mode = bankData.default.mode()[0]\n",
    "bankData['default'] = bankData['default'].apply(lambda x: default_mode if x=='unknown' else x)"
   ]
  },
  {
   "cell_type": "code",
   "execution_count": 31,
   "id": "894e5195",
   "metadata": {
    "execution": {
     "iopub.execute_input": "2022-10-02T18:31:14.380376Z",
     "iopub.status.busy": "2022-10-02T18:31:14.379946Z",
     "iopub.status.idle": "2022-10-02T18:31:14.390726Z",
     "shell.execute_reply": "2022-10-02T18:31:14.389547Z"
    },
    "papermill": {
     "duration": 0.032092,
     "end_time": "2022-10-02T18:31:14.393149",
     "exception": false,
     "start_time": "2022-10-02T18:31:14.361057",
     "status": "completed"
    },
    "tags": []
   },
   "outputs": [
    {
     "data": {
      "text/plain": [
       "no     99.99041\n",
       "yes     0.00959\n",
       "Name: default, dtype: float64"
      ]
     },
     "execution_count": 31,
     "metadata": {},
     "output_type": "execute_result"
    }
   ],
   "source": [
    "#Checking distribution where housing is unkown.\n",
    "bankData.default.value_counts()/bankData.shape[0] * 100"
   ]
  },
  {
   "cell_type": "code",
   "execution_count": 32,
   "id": "f4d6ebf2",
   "metadata": {
    "execution": {
     "iopub.execute_input": "2022-10-02T18:31:14.431044Z",
     "iopub.status.busy": "2022-10-02T18:31:14.430553Z",
     "iopub.status.idle": "2022-10-02T18:31:14.441834Z",
     "shell.execute_reply": "2022-10-02T18:31:14.440743Z"
    },
    "papermill": {
     "duration": 0.033348,
     "end_time": "2022-10-02T18:31:14.444292",
     "exception": false,
     "start_time": "2022-10-02T18:31:14.410944",
     "status": "completed"
    },
    "tags": []
   },
   "outputs": [
    {
     "data": {
      "text/plain": [
       "yes        52.921621\n",
       "no         44.712952\n",
       "unknown     2.365426\n",
       "Name: housing, dtype: float64"
      ]
     },
     "execution_count": 32,
     "metadata": {},
     "output_type": "execute_result"
    }
   ],
   "source": [
    "#Checking distribution where housing is unkown.\n",
    "bankData.housing.value_counts()/bankData.shape[0] * 100"
   ]
  },
  {
   "cell_type": "code",
   "execution_count": 33,
   "id": "b5332ce9",
   "metadata": {
    "execution": {
     "iopub.execute_input": "2022-10-02T18:31:14.483247Z",
     "iopub.status.busy": "2022-10-02T18:31:14.482799Z",
     "iopub.status.idle": "2022-10-02T18:31:14.495366Z",
     "shell.execute_reply": "2022-10-02T18:31:14.494533Z"
    },
    "papermill": {
     "duration": 0.034728,
     "end_time": "2022-10-02T18:31:14.497700",
     "exception": false,
     "start_time": "2022-10-02T18:31:14.462972",
     "status": "completed"
    },
    "tags": []
   },
   "outputs": [
    {
     "data": {
      "text/plain": [
       "999    707\n",
       "3       10\n",
       "6        7\n",
       "10       4\n",
       "4        3\n",
       "8        2\n",
       "7        2\n",
       "9        2\n",
       "12       2\n",
       "2        1\n",
       "Name: pdays, dtype: int64"
      ]
     },
     "execution_count": 33,
     "metadata": {},
     "output_type": "execute_result"
    }
   ],
   "source": [
    "bankData[bankData['housing'] == 'unknown']['pdays'].value_counts()"
   ]
  },
  {
   "cell_type": "markdown",
   "id": "c2e3011f",
   "metadata": {
    "papermill": {
     "duration": 0.018246,
     "end_time": "2022-10-02T18:31:14.534054",
     "exception": false,
     "start_time": "2022-10-02T18:31:14.515808",
     "status": "completed"
    },
    "tags": []
   },
   "source": [
    "It looks like for most of the values in housing where it is unkown the client has not been contacted earlier which is indicated by 999 value.So, the target variable in this case will not mean anything and it is better to drop the unkown values in education as percentage is very less(2%)."
   ]
  },
  {
   "cell_type": "code",
   "execution_count": 34,
   "id": "326fa8ea",
   "metadata": {
    "execution": {
     "iopub.execute_input": "2022-10-02T18:31:14.571452Z",
     "iopub.status.busy": "2022-10-02T18:31:14.570991Z",
     "iopub.status.idle": "2022-10-02T18:31:14.590976Z",
     "shell.execute_reply": "2022-10-02T18:31:14.589649Z"
    },
    "papermill": {
     "duration": 0.041721,
     "end_time": "2022-10-02T18:31:14.593706",
     "exception": false,
     "start_time": "2022-10-02T18:31:14.551985",
     "status": "completed"
    },
    "tags": []
   },
   "outputs": [
    {
     "name": "stdout",
     "output_type": "stream",
     "text": [
      "Before dropping unknown for housing:(31284, 18)\n",
      "Count of unknown for housing:740\n",
      "After dropping unknown for housing:(30544, 18)\n"
     ]
    }
   ],
   "source": [
    "print(f'Before dropping unknown for housing:{bankData.shape}')\n",
    "unknown = len(bankData[bankData['housing'] == 'unknown'])\n",
    "print(f'Count of unknown for housing:{unknown}')\n",
    "bankData= bankData[bankData['housing'] != 'unknown']\n",
    "print(f'After dropping unknown for housing:{bankData.shape}')\n"
   ]
  },
  {
   "cell_type": "code",
   "execution_count": 35,
   "id": "53d86872",
   "metadata": {
    "execution": {
     "iopub.execute_input": "2022-10-02T18:31:14.631650Z",
     "iopub.status.busy": "2022-10-02T18:31:14.631249Z",
     "iopub.status.idle": "2022-10-02T18:31:14.642516Z",
     "shell.execute_reply": "2022-10-02T18:31:14.641410Z"
    },
    "papermill": {
     "duration": 0.03311,
     "end_time": "2022-10-02T18:31:14.644991",
     "exception": false,
     "start_time": "2022-10-02T18:31:14.611881",
     "status": "completed"
    },
    "tags": []
   },
   "outputs": [
    {
     "data": {
      "text/plain": [
       "no     84.356993\n",
       "yes    15.643007\n",
       "Name: loan, dtype: float64"
      ]
     },
     "execution_count": 35,
     "metadata": {},
     "output_type": "execute_result"
    }
   ],
   "source": [
    "#Checking distribution for loan\n",
    "bankData.loan.value_counts()/bankData.shape[0] * 100"
   ]
  },
  {
   "cell_type": "markdown",
   "id": "3bb7c8ea",
   "metadata": {
    "papermill": {
     "duration": 0.017514,
     "end_time": "2022-10-02T18:31:14.680717",
     "exception": false,
     "start_time": "2022-10-02T18:31:14.663203",
     "status": "completed"
    },
    "tags": []
   },
   "source": [
    "No unkown values"
   ]
  },
  {
   "cell_type": "markdown",
   "id": "33c237b8",
   "metadata": {
    "papermill": {
     "duration": 0.017555,
     "end_time": "2022-10-02T18:31:14.716152",
     "exception": false,
     "start_time": "2022-10-02T18:31:14.698597",
     "status": "completed"
    },
    "tags": []
   },
   "source": []
  },
  {
   "cell_type": "code",
   "execution_count": 36,
   "id": "af97c053",
   "metadata": {
    "execution": {
     "iopub.execute_input": "2022-10-02T18:31:14.753888Z",
     "iopub.status.busy": "2022-10-02T18:31:14.753490Z",
     "iopub.status.idle": "2022-10-02T18:31:14.764065Z",
     "shell.execute_reply": "2022-10-02T18:31:14.762912Z"
    },
    "papermill": {
     "duration": 0.032578,
     "end_time": "2022-10-02T18:31:14.766573",
     "exception": false,
     "start_time": "2022-10-02T18:31:14.733995",
     "status": "completed"
    },
    "tags": []
   },
   "outputs": [
    {
     "data": {
      "text/plain": [
       "cellular     67.103195\n",
       "telephone    32.896805\n",
       "Name: contact, dtype: float64"
      ]
     },
     "execution_count": 36,
     "metadata": {},
     "output_type": "execute_result"
    }
   ],
   "source": [
    "#Checking distribution for contact\n",
    "bankData.contact.value_counts()/bankData.shape[0] * 100"
   ]
  },
  {
   "cell_type": "markdown",
   "id": "444c3bcc",
   "metadata": {
    "papermill": {
     "duration": 0.01773,
     "end_time": "2022-10-02T18:31:14.802529",
     "exception": false,
     "start_time": "2022-10-02T18:31:14.784799",
     "status": "completed"
    },
    "tags": []
   },
   "source": [
    "No unkown values\n"
   ]
  },
  {
   "cell_type": "code",
   "execution_count": 37,
   "id": "c0b35b5a",
   "metadata": {
    "execution": {
     "iopub.execute_input": "2022-10-02T18:31:14.840408Z",
     "iopub.status.busy": "2022-10-02T18:31:14.839971Z",
     "iopub.status.idle": "2022-10-02T18:31:14.852645Z",
     "shell.execute_reply": "2022-10-02T18:31:14.851483Z"
    },
    "papermill": {
     "duration": 0.03455,
     "end_time": "2022-10-02T18:31:14.855141",
     "exception": false,
     "start_time": "2022-10-02T18:31:14.820591",
     "status": "completed"
    },
    "tags": []
   },
   "outputs": [
    {
     "data": {
      "text/plain": [
       "count    30544.000000\n",
       "mean         2.520233\n",
       "std          2.718412\n",
       "min          1.000000\n",
       "25%          1.000000\n",
       "50%          2.000000\n",
       "75%          3.000000\n",
       "max         43.000000\n",
       "Name: campaign, dtype: float64"
      ]
     },
     "execution_count": 37,
     "metadata": {},
     "output_type": "execute_result"
    }
   ],
   "source": [
    "#Checking distribution for campaign\n",
    "bankData.campaign.describe()"
   ]
  },
  {
   "cell_type": "markdown",
   "id": "8323472d",
   "metadata": {
    "papermill": {
     "duration": 0.017991,
     "end_time": "2022-10-02T18:31:14.892035",
     "exception": false,
     "start_time": "2022-10-02T18:31:14.874044",
     "status": "completed"
    },
    "tags": []
   },
   "source": [
    "No values are there which look out of place."
   ]
  },
  {
   "cell_type": "code",
   "execution_count": 38,
   "id": "ba57b4ad",
   "metadata": {
    "execution": {
     "iopub.execute_input": "2022-10-02T18:31:14.931030Z",
     "iopub.status.busy": "2022-10-02T18:31:14.930569Z",
     "iopub.status.idle": "2022-10-02T18:31:14.942619Z",
     "shell.execute_reply": "2022-10-02T18:31:14.941425Z"
    },
    "papermill": {
     "duration": 0.034435,
     "end_time": "2022-10-02T18:31:14.944885",
     "exception": false,
     "start_time": "2022-10-02T18:31:14.910450",
     "status": "completed"
    },
    "tags": []
   },
   "outputs": [
    {
     "data": {
      "text/plain": [
       "count    30544.000000\n",
       "mean       954.589085\n",
       "std        205.259166\n",
       "min          0.000000\n",
       "25%        999.000000\n",
       "50%        999.000000\n",
       "75%        999.000000\n",
       "max        999.000000\n",
       "Name: pdays, dtype: float64"
      ]
     },
     "execution_count": 38,
     "metadata": {},
     "output_type": "execute_result"
    }
   ],
   "source": [
    "#Checking distribution for pdays\n",
    "bankData.pdays.describe()"
   ]
  },
  {
   "cell_type": "markdown",
   "id": "27348204",
   "metadata": {
    "papermill": {
     "duration": 0.018636,
     "end_time": "2022-10-02T18:31:14.981867",
     "exception": false,
     "start_time": "2022-10-02T18:31:14.963231",
     "status": "completed"
    },
    "tags": []
   },
   "source": [
    "No values are there which look out of place.\n",
    "But the variance is not much in pdays as most of the values are 999 indicating client has not been contacted."
   ]
  },
  {
   "cell_type": "code",
   "execution_count": 39,
   "id": "148d982c",
   "metadata": {
    "execution": {
     "iopub.execute_input": "2022-10-02T18:31:15.020416Z",
     "iopub.status.busy": "2022-10-02T18:31:15.019967Z",
     "iopub.status.idle": "2022-10-02T18:31:15.031222Z",
     "shell.execute_reply": "2022-10-02T18:31:15.030064Z"
    },
    "papermill": {
     "duration": 0.033388,
     "end_time": "2022-10-02T18:31:15.033628",
     "exception": false,
     "start_time": "2022-10-02T18:31:15.000240",
     "status": "completed"
    },
    "tags": []
   },
   "outputs": [],
   "source": [
    "#Removing pdays column\n",
    "bankData.drop('pdays',axis=1,inplace=True)"
   ]
  },
  {
   "cell_type": "code",
   "execution_count": 40,
   "id": "f83c2f55",
   "metadata": {
    "execution": {
     "iopub.execute_input": "2022-10-02T18:31:15.073170Z",
     "iopub.status.busy": "2022-10-02T18:31:15.072580Z",
     "iopub.status.idle": "2022-10-02T18:31:15.083807Z",
     "shell.execute_reply": "2022-10-02T18:31:15.082965Z"
    },
    "papermill": {
     "duration": 0.033777,
     "end_time": "2022-10-02T18:31:15.086211",
     "exception": false,
     "start_time": "2022-10-02T18:31:15.052434",
     "status": "completed"
    },
    "tags": []
   },
   "outputs": [
    {
     "data": {
      "text/plain": [
       "nonexistent    84.586171\n",
       "failure        11.344290\n",
       "success         4.069539\n",
       "Name: poutcome, dtype: float64"
      ]
     },
     "execution_count": 40,
     "metadata": {},
     "output_type": "execute_result"
    }
   ],
   "source": [
    "#Checking distribution for poutcome\n",
    "bankData.poutcome.value_counts()/bankData.shape[0] * 100"
   ]
  },
  {
   "cell_type": "code",
   "execution_count": 41,
   "id": "0cc9b4d5",
   "metadata": {
    "execution": {
     "iopub.execute_input": "2022-10-02T18:31:15.125455Z",
     "iopub.status.busy": "2022-10-02T18:31:15.125018Z",
     "iopub.status.idle": "2022-10-02T18:31:15.132725Z",
     "shell.execute_reply": "2022-10-02T18:31:15.131548Z"
    },
    "papermill": {
     "duration": 0.030053,
     "end_time": "2022-10-02T18:31:15.135096",
     "exception": false,
     "start_time": "2022-10-02T18:31:15.105043",
     "status": "completed"
    },
    "tags": []
   },
   "outputs": [
    {
     "data": {
      "text/plain": [
       "Index(['age', 'job', 'marital', 'education', 'default', 'housing', 'loan',\n",
       "       'contact', 'campaign', 'previous', 'poutcome',\n",
       "       'Employment_Variation_Rate', 'Consumer_Price_Index',\n",
       "       'Consumer_Confidence_Index', 'Euribor_3_Month_Rate', 'No_Employees',\n",
       "       'Target_Variable'],\n",
       "      dtype='object')"
      ]
     },
     "execution_count": 41,
     "metadata": {},
     "output_type": "execute_result"
    }
   ],
   "source": [
    "bankData.columns"
   ]
  },
  {
   "cell_type": "code",
   "execution_count": 42,
   "id": "aa1cd23d",
   "metadata": {
    "execution": {
     "iopub.execute_input": "2022-10-02T18:31:15.175154Z",
     "iopub.status.busy": "2022-10-02T18:31:15.174662Z",
     "iopub.status.idle": "2022-10-02T18:31:15.186196Z",
     "shell.execute_reply": "2022-10-02T18:31:15.185066Z"
    },
    "papermill": {
     "duration": 0.034436,
     "end_time": "2022-10-02T18:31:15.188532",
     "exception": false,
     "start_time": "2022-10-02T18:31:15.154096",
     "status": "completed"
    },
    "tags": []
   },
   "outputs": [
    {
     "data": {
      "text/plain": [
       "no     87.280644\n",
       "yes    12.719356\n",
       "Name: Target_Variable, dtype: float64"
      ]
     },
     "execution_count": 42,
     "metadata": {},
     "output_type": "execute_result"
    }
   ],
   "source": [
    "#Checking distribution for contact\n",
    "bankData.Target_Variable.value_counts()/bankData.shape[0] * 100"
   ]
  },
  {
   "cell_type": "markdown",
   "id": "d2184e81",
   "metadata": {
    "papermill": {
     "duration": 0.018623,
     "end_time": "2022-10-02T18:31:15.226862",
     "exception": false,
     "start_time": "2022-10-02T18:31:15.208239",
     "status": "completed"
    },
    "tags": []
   },
   "source": [
    "- No values other then yes/no are present.\n",
    "- Looks like an imbalanced dataset as most of the values are no ."
   ]
  },
  {
   "cell_type": "code",
   "execution_count": null,
   "id": "87b47916",
   "metadata": {
    "papermill": {
     "duration": 0.018763,
     "end_time": "2022-10-02T18:31:15.266412",
     "exception": false,
     "start_time": "2022-10-02T18:31:15.247649",
     "status": "completed"
    },
    "tags": []
   },
   "outputs": [],
   "source": []
  }
 ],
 "metadata": {
  "kernelspec": {
   "display_name": "Python 3",
   "language": "python",
   "name": "python3"
  },
  "language_info": {
   "codemirror_mode": {
    "name": "ipython",
    "version": 3
   },
   "file_extension": ".py",
   "mimetype": "text/x-python",
   "name": "python",
   "nbconvert_exporter": "python",
   "pygments_lexer": "ipython3",
   "version": "3.7.12"
  },
  "papermill": {
   "default_parameters": {},
   "duration": 15.614175,
   "end_time": "2022-10-02T18:31:16.109780",
   "environment_variables": {},
   "exception": null,
   "input_path": "__notebook__.ipynb",
   "output_path": "__notebook__.ipynb",
   "parameters": {},
   "start_time": "2022-10-02T18:31:00.495605",
   "version": "2.3.4"
  }
 },
 "nbformat": 4,
 "nbformat_minor": 5
}
