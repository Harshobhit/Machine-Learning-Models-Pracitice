{
 "cells": [
  {
   "cell_type": "code",
   "execution_count": 1,
   "id": "42f5d4b9",
   "metadata": {
    "_cell_guid": "b1076dfc-b9ad-4769-8c92-a6c4dae69d19",
    "_uuid": "8f2839f25d086af736a60e9eeb907d3b93b6e0e5",
    "execution": {
     "iopub.execute_input": "2022-10-16T14:59:59.935549Z",
     "iopub.status.busy": "2022-10-16T14:59:59.934688Z",
     "iopub.status.idle": "2022-10-16T15:00:01.211185Z",
     "shell.execute_reply": "2022-10-16T15:00:01.210260Z"
    },
    "papermill": {
     "duration": 1.30481,
     "end_time": "2022-10-16T15:00:01.213764",
     "exception": false,
     "start_time": "2022-10-16T14:59:59.908954",
     "status": "completed"
    },
    "tags": []
   },
   "outputs": [],
   "source": [
    "import numpy as np\n",
    "import pandas as pd\n",
    "import matplotlib.pyplot as plt\n",
    "import seaborn as sns\n",
    "from sklearn.model_selection import train_test_split"
   ]
  },
  {
   "cell_type": "markdown",
   "id": "02a53bed",
   "metadata": {
    "papermill": {
     "duration": 0.018593,
     "end_time": "2022-10-16T15:00:01.251616",
     "exception": false,
     "start_time": "2022-10-16T15:00:01.233023",
     "status": "completed"
    },
    "tags": []
   },
   "source": [
    "### Reading Data\n"
   ]
  },
  {
   "cell_type": "code",
   "execution_count": 2,
   "id": "c441c20f",
   "metadata": {
    "execution": {
     "iopub.execute_input": "2022-10-16T15:00:01.291571Z",
     "iopub.status.busy": "2022-10-16T15:00:01.291033Z",
     "iopub.status.idle": "2022-10-16T15:00:01.332831Z",
     "shell.execute_reply": "2022-10-16T15:00:01.331834Z"
    },
    "papermill": {
     "duration": 0.064786,
     "end_time": "2022-10-16T15:00:01.335255",
     "exception": false,
     "start_time": "2022-10-16T15:00:01.270469",
     "status": "completed"
    },
    "tags": []
   },
   "outputs": [],
   "source": [
    "df_hmeq = pd.read_csv('../input/hmeq-data/hmeq.csv')"
   ]
  },
  {
   "cell_type": "code",
   "execution_count": 3,
   "id": "79706e33",
   "metadata": {
    "execution": {
     "iopub.execute_input": "2022-10-16T15:00:01.375492Z",
     "iopub.status.busy": "2022-10-16T15:00:01.374715Z",
     "iopub.status.idle": "2022-10-16T15:00:01.405232Z",
     "shell.execute_reply": "2022-10-16T15:00:01.404079Z"
    },
    "papermill": {
     "duration": 0.05341,
     "end_time": "2022-10-16T15:00:01.407596",
     "exception": false,
     "start_time": "2022-10-16T15:00:01.354186",
     "status": "completed"
    },
    "tags": []
   },
   "outputs": [
    {
     "data": {
      "text/html": [
       "<div>\n",
       "<style scoped>\n",
       "    .dataframe tbody tr th:only-of-type {\n",
       "        vertical-align: middle;\n",
       "    }\n",
       "\n",
       "    .dataframe tbody tr th {\n",
       "        vertical-align: top;\n",
       "    }\n",
       "\n",
       "    .dataframe thead th {\n",
       "        text-align: right;\n",
       "    }\n",
       "</style>\n",
       "<table border=\"1\" class=\"dataframe\">\n",
       "  <thead>\n",
       "    <tr style=\"text-align: right;\">\n",
       "      <th></th>\n",
       "      <th>BAD</th>\n",
       "      <th>LOAN</th>\n",
       "      <th>MORTDUE</th>\n",
       "      <th>VALUE</th>\n",
       "      <th>REASON</th>\n",
       "      <th>JOB</th>\n",
       "      <th>YOJ</th>\n",
       "      <th>DEROG</th>\n",
       "      <th>DELINQ</th>\n",
       "      <th>CLAGE</th>\n",
       "      <th>NINQ</th>\n",
       "      <th>CLNO</th>\n",
       "      <th>DEBTINC</th>\n",
       "    </tr>\n",
       "  </thead>\n",
       "  <tbody>\n",
       "    <tr>\n",
       "      <th>0</th>\n",
       "      <td>1</td>\n",
       "      <td>1100</td>\n",
       "      <td>25860.0</td>\n",
       "      <td>39025.0</td>\n",
       "      <td>HomeImp</td>\n",
       "      <td>Other</td>\n",
       "      <td>10.5</td>\n",
       "      <td>0.0</td>\n",
       "      <td>0.0</td>\n",
       "      <td>94.366667</td>\n",
       "      <td>1.0</td>\n",
       "      <td>9.0</td>\n",
       "      <td>NaN</td>\n",
       "    </tr>\n",
       "    <tr>\n",
       "      <th>1</th>\n",
       "      <td>1</td>\n",
       "      <td>1300</td>\n",
       "      <td>70053.0</td>\n",
       "      <td>68400.0</td>\n",
       "      <td>HomeImp</td>\n",
       "      <td>Other</td>\n",
       "      <td>7.0</td>\n",
       "      <td>0.0</td>\n",
       "      <td>2.0</td>\n",
       "      <td>121.833333</td>\n",
       "      <td>0.0</td>\n",
       "      <td>14.0</td>\n",
       "      <td>NaN</td>\n",
       "    </tr>\n",
       "    <tr>\n",
       "      <th>2</th>\n",
       "      <td>1</td>\n",
       "      <td>1500</td>\n",
       "      <td>13500.0</td>\n",
       "      <td>16700.0</td>\n",
       "      <td>HomeImp</td>\n",
       "      <td>Other</td>\n",
       "      <td>4.0</td>\n",
       "      <td>0.0</td>\n",
       "      <td>0.0</td>\n",
       "      <td>149.466667</td>\n",
       "      <td>1.0</td>\n",
       "      <td>10.0</td>\n",
       "      <td>NaN</td>\n",
       "    </tr>\n",
       "    <tr>\n",
       "      <th>3</th>\n",
       "      <td>1</td>\n",
       "      <td>1500</td>\n",
       "      <td>NaN</td>\n",
       "      <td>NaN</td>\n",
       "      <td>NaN</td>\n",
       "      <td>NaN</td>\n",
       "      <td>NaN</td>\n",
       "      <td>NaN</td>\n",
       "      <td>NaN</td>\n",
       "      <td>NaN</td>\n",
       "      <td>NaN</td>\n",
       "      <td>NaN</td>\n",
       "      <td>NaN</td>\n",
       "    </tr>\n",
       "    <tr>\n",
       "      <th>4</th>\n",
       "      <td>0</td>\n",
       "      <td>1700</td>\n",
       "      <td>97800.0</td>\n",
       "      <td>112000.0</td>\n",
       "      <td>HomeImp</td>\n",
       "      <td>Office</td>\n",
       "      <td>3.0</td>\n",
       "      <td>0.0</td>\n",
       "      <td>0.0</td>\n",
       "      <td>93.333333</td>\n",
       "      <td>0.0</td>\n",
       "      <td>14.0</td>\n",
       "      <td>NaN</td>\n",
       "    </tr>\n",
       "  </tbody>\n",
       "</table>\n",
       "</div>"
      ],
      "text/plain": [
       "   BAD  LOAN  MORTDUE     VALUE   REASON     JOB   YOJ  DEROG  DELINQ  \\\n",
       "0    1  1100  25860.0   39025.0  HomeImp   Other  10.5    0.0     0.0   \n",
       "1    1  1300  70053.0   68400.0  HomeImp   Other   7.0    0.0     2.0   \n",
       "2    1  1500  13500.0   16700.0  HomeImp   Other   4.0    0.0     0.0   \n",
       "3    1  1500      NaN       NaN      NaN     NaN   NaN    NaN     NaN   \n",
       "4    0  1700  97800.0  112000.0  HomeImp  Office   3.0    0.0     0.0   \n",
       "\n",
       "        CLAGE  NINQ  CLNO  DEBTINC  \n",
       "0   94.366667   1.0   9.0      NaN  \n",
       "1  121.833333   0.0  14.0      NaN  \n",
       "2  149.466667   1.0  10.0      NaN  \n",
       "3         NaN   NaN   NaN      NaN  \n",
       "4   93.333333   0.0  14.0      NaN  "
      ]
     },
     "execution_count": 3,
     "metadata": {},
     "output_type": "execute_result"
    }
   ],
   "source": [
    "df_hmeq.head()"
   ]
  },
  {
   "cell_type": "code",
   "execution_count": 4,
   "id": "27e526ef",
   "metadata": {
    "execution": {
     "iopub.execute_input": "2022-10-16T15:00:01.448346Z",
     "iopub.status.busy": "2022-10-16T15:00:01.447908Z",
     "iopub.status.idle": "2022-10-16T15:00:01.454847Z",
     "shell.execute_reply": "2022-10-16T15:00:01.453979Z"
    },
    "papermill": {
     "duration": 0.029346,
     "end_time": "2022-10-16T15:00:01.456727",
     "exception": false,
     "start_time": "2022-10-16T15:00:01.427381",
     "status": "completed"
    },
    "tags": []
   },
   "outputs": [
    {
     "data": {
      "text/plain": [
       "Index(['BAD', 'LOAN', 'MORTDUE', 'VALUE', 'REASON', 'JOB', 'YOJ', 'DEROG',\n",
       "       'DELINQ', 'CLAGE', 'NINQ', 'CLNO', 'DEBTINC'],\n",
       "      dtype='object')"
      ]
     },
     "execution_count": 4,
     "metadata": {},
     "output_type": "execute_result"
    }
   ],
   "source": [
    "df_hmeq.columns"
   ]
  },
  {
   "cell_type": "markdown",
   "id": "8f6e0fea",
   "metadata": {
    "papermill": {
     "duration": 0.019386,
     "end_time": "2022-10-16T15:00:01.495585",
     "exception": false,
     "start_time": "2022-10-16T15:00:01.476199",
     "status": "completed"
    },
    "tags": []
   },
   "source": [
    "Bad<br>\n",
    "1 = client defaulted on loan 0 = loan repaid<br><br>\n",
    "LOAN<br>Amount of the loan request<br><br>MORTDUE<br>Amount due on existing mortgage<br><br>VALUE<br>Value of current property<br><br>REASON<br>DebtCon = debt consolidation HomeImp = home improvement<br><br>JOB<br>Six occupational categories<br><br>YOJ<br>Years at present job<br><br>DEROG<br>Number of major derogatory reports<br><br>DELINQ<br>Number of delinquent credit lines<br><br>CLAGE<br>Age of oldest trade line in months<br><br>\n",
    "NINQ<br>\n",
    "Number of recent credit lines<br>\n",
    "\n",
    "CLNO<br>\n",
    "Number of credit lines<br>\n",
    "\n",
    "DEBTINC<br>\n",
    "Debt-to-income ratio<br>"
   ]
  },
  {
   "cell_type": "code",
   "execution_count": 5,
   "id": "0ea0fc75",
   "metadata": {
    "execution": {
     "iopub.execute_input": "2022-10-16T15:00:01.536657Z",
     "iopub.status.busy": "2022-10-16T15:00:01.535851Z",
     "iopub.status.idle": "2022-10-16T15:00:01.547170Z",
     "shell.execute_reply": "2022-10-16T15:00:01.546087Z"
    },
    "papermill": {
     "duration": 0.034163,
     "end_time": "2022-10-16T15:00:01.549402",
     "exception": false,
     "start_time": "2022-10-16T15:00:01.515239",
     "status": "completed"
    },
    "tags": []
   },
   "outputs": [
    {
     "data": {
      "text/plain": [
       "BAD         0.000000\n",
       "LOAN        0.000000\n",
       "MORTDUE     8.691275\n",
       "VALUE       1.879195\n",
       "REASON      4.228188\n",
       "JOB         4.681208\n",
       "YOJ         8.640940\n",
       "DEROG      11.879195\n",
       "DELINQ      9.731544\n",
       "CLAGE       5.167785\n",
       "NINQ        8.557047\n",
       "CLNO        3.724832\n",
       "DEBTINC    21.258389\n",
       "dtype: float64"
      ]
     },
     "execution_count": 5,
     "metadata": {},
     "output_type": "execute_result"
    }
   ],
   "source": [
    "df_hmeq.isnull().sum()/df_hmeq.shape[0] *100"
   ]
  },
  {
   "cell_type": "code",
   "execution_count": 6,
   "id": "9426acb1",
   "metadata": {
    "execution": {
     "iopub.execute_input": "2022-10-16T15:00:01.590732Z",
     "iopub.status.busy": "2022-10-16T15:00:01.589863Z",
     "iopub.status.idle": "2022-10-16T15:00:01.619394Z",
     "shell.execute_reply": "2022-10-16T15:00:01.618134Z"
    },
    "papermill": {
     "duration": 0.053146,
     "end_time": "2022-10-16T15:00:01.622431",
     "exception": false,
     "start_time": "2022-10-16T15:00:01.569285",
     "status": "completed"
    },
    "tags": []
   },
   "outputs": [
    {
     "name": "stdout",
     "output_type": "stream",
     "text": [
      "<class 'pandas.core.frame.DataFrame'>\n",
      "RangeIndex: 5960 entries, 0 to 5959\n",
      "Data columns (total 13 columns):\n",
      " #   Column   Non-Null Count  Dtype  \n",
      "---  ------   --------------  -----  \n",
      " 0   BAD      5960 non-null   int64  \n",
      " 1   LOAN     5960 non-null   int64  \n",
      " 2   MORTDUE  5442 non-null   float64\n",
      " 3   VALUE    5848 non-null   float64\n",
      " 4   REASON   5708 non-null   object \n",
      " 5   JOB      5681 non-null   object \n",
      " 6   YOJ      5445 non-null   float64\n",
      " 7   DEROG    5252 non-null   float64\n",
      " 8   DELINQ   5380 non-null   float64\n",
      " 9   CLAGE    5652 non-null   float64\n",
      " 10  NINQ     5450 non-null   float64\n",
      " 11  CLNO     5738 non-null   float64\n",
      " 12  DEBTINC  4693 non-null   float64\n",
      "dtypes: float64(9), int64(2), object(2)\n",
      "memory usage: 605.4+ KB\n"
     ]
    }
   ],
   "source": [
    "df_hmeq.info()"
   ]
  },
  {
   "cell_type": "markdown",
   "id": "2323a8f2",
   "metadata": {
    "papermill": {
     "duration": 0.019469,
     "end_time": "2022-10-16T15:00:01.662290",
     "exception": false,
     "start_time": "2022-10-16T15:00:01.642821",
     "status": "completed"
    },
    "tags": []
   },
   "source": [
    "### Handling Missing Values"
   ]
  },
  {
   "cell_type": "code",
   "execution_count": 7,
   "id": "119b07f8",
   "metadata": {
    "execution": {
     "iopub.execute_input": "2022-10-16T15:00:01.702710Z",
     "iopub.status.busy": "2022-10-16T15:00:01.702235Z",
     "iopub.status.idle": "2022-10-16T15:00:01.738781Z",
     "shell.execute_reply": "2022-10-16T15:00:01.737905Z"
    },
    "papermill": {
     "duration": 0.059155,
     "end_time": "2022-10-16T15:00:01.740813",
     "exception": false,
     "start_time": "2022-10-16T15:00:01.681658",
     "status": "completed"
    },
    "tags": []
   },
   "outputs": [
    {
     "data": {
      "text/html": [
       "<div>\n",
       "<style scoped>\n",
       "    .dataframe tbody tr th:only-of-type {\n",
       "        vertical-align: middle;\n",
       "    }\n",
       "\n",
       "    .dataframe tbody tr th {\n",
       "        vertical-align: top;\n",
       "    }\n",
       "\n",
       "    .dataframe thead th {\n",
       "        text-align: right;\n",
       "    }\n",
       "</style>\n",
       "<table border=\"1\" class=\"dataframe\">\n",
       "  <thead>\n",
       "    <tr style=\"text-align: right;\">\n",
       "      <th></th>\n",
       "      <th>BAD</th>\n",
       "      <th>LOAN</th>\n",
       "      <th>MORTDUE</th>\n",
       "      <th>VALUE</th>\n",
       "      <th>REASON</th>\n",
       "      <th>JOB</th>\n",
       "      <th>YOJ</th>\n",
       "      <th>DEROG</th>\n",
       "      <th>DELINQ</th>\n",
       "      <th>CLAGE</th>\n",
       "      <th>NINQ</th>\n",
       "      <th>CLNO</th>\n",
       "      <th>DEBTINC</th>\n",
       "    </tr>\n",
       "  </thead>\n",
       "  <tbody>\n",
       "    <tr>\n",
       "      <th>3</th>\n",
       "      <td>1</td>\n",
       "      <td>1500</td>\n",
       "      <td>NaN</td>\n",
       "      <td>NaN</td>\n",
       "      <td>NaN</td>\n",
       "      <td>NaN</td>\n",
       "      <td>NaN</td>\n",
       "      <td>NaN</td>\n",
       "      <td>NaN</td>\n",
       "      <td>NaN</td>\n",
       "      <td>NaN</td>\n",
       "      <td>NaN</td>\n",
       "      <td>NaN</td>\n",
       "    </tr>\n",
       "    <tr>\n",
       "      <th>9</th>\n",
       "      <td>1</td>\n",
       "      <td>2000</td>\n",
       "      <td>NaN</td>\n",
       "      <td>62250.0</td>\n",
       "      <td>HomeImp</td>\n",
       "      <td>Sales</td>\n",
       "      <td>16.0</td>\n",
       "      <td>0.0</td>\n",
       "      <td>0.0</td>\n",
       "      <td>115.800000</td>\n",
       "      <td>0.0</td>\n",
       "      <td>13.0</td>\n",
       "      <td>NaN</td>\n",
       "    </tr>\n",
       "    <tr>\n",
       "      <th>24</th>\n",
       "      <td>1</td>\n",
       "      <td>2400</td>\n",
       "      <td>NaN</td>\n",
       "      <td>17180.0</td>\n",
       "      <td>HomeImp</td>\n",
       "      <td>Other</td>\n",
       "      <td>NaN</td>\n",
       "      <td>0.0</td>\n",
       "      <td>0.0</td>\n",
       "      <td>14.566667</td>\n",
       "      <td>3.0</td>\n",
       "      <td>4.0</td>\n",
       "      <td>NaN</td>\n",
       "    </tr>\n",
       "    <tr>\n",
       "      <th>40</th>\n",
       "      <td>1</td>\n",
       "      <td>3000</td>\n",
       "      <td>NaN</td>\n",
       "      <td>8800.0</td>\n",
       "      <td>HomeImp</td>\n",
       "      <td>Other</td>\n",
       "      <td>2.0</td>\n",
       "      <td>0.0</td>\n",
       "      <td>1.0</td>\n",
       "      <td>77.766667</td>\n",
       "      <td>0.0</td>\n",
       "      <td>3.0</td>\n",
       "      <td>NaN</td>\n",
       "    </tr>\n",
       "    <tr>\n",
       "      <th>41</th>\n",
       "      <td>1</td>\n",
       "      <td>3000</td>\n",
       "      <td>NaN</td>\n",
       "      <td>33000.0</td>\n",
       "      <td>HomeImp</td>\n",
       "      <td>Other</td>\n",
       "      <td>1.0</td>\n",
       "      <td>0.0</td>\n",
       "      <td>1.0</td>\n",
       "      <td>23.300000</td>\n",
       "      <td>1.0</td>\n",
       "      <td>2.0</td>\n",
       "      <td>NaN</td>\n",
       "    </tr>\n",
       "    <tr>\n",
       "      <th>...</th>\n",
       "      <td>...</td>\n",
       "      <td>...</td>\n",
       "      <td>...</td>\n",
       "      <td>...</td>\n",
       "      <td>...</td>\n",
       "      <td>...</td>\n",
       "      <td>...</td>\n",
       "      <td>...</td>\n",
       "      <td>...</td>\n",
       "      <td>...</td>\n",
       "      <td>...</td>\n",
       "      <td>...</td>\n",
       "      <td>...</td>\n",
       "    </tr>\n",
       "    <tr>\n",
       "      <th>5880</th>\n",
       "      <td>0</td>\n",
       "      <td>53700</td>\n",
       "      <td>NaN</td>\n",
       "      <td>84205.0</td>\n",
       "      <td>HomeImp</td>\n",
       "      <td>Other</td>\n",
       "      <td>NaN</td>\n",
       "      <td>0.0</td>\n",
       "      <td>0.0</td>\n",
       "      <td>339.665615</td>\n",
       "      <td>0.0</td>\n",
       "      <td>7.0</td>\n",
       "      <td>22.639940</td>\n",
       "    </tr>\n",
       "    <tr>\n",
       "      <th>5883</th>\n",
       "      <td>0</td>\n",
       "      <td>53800</td>\n",
       "      <td>NaN</td>\n",
       "      <td>81322.0</td>\n",
       "      <td>HomeImp</td>\n",
       "      <td>Self</td>\n",
       "      <td>9.0</td>\n",
       "      <td>0.0</td>\n",
       "      <td>0.0</td>\n",
       "      <td>171.447555</td>\n",
       "      <td>0.0</td>\n",
       "      <td>22.0</td>\n",
       "      <td>24.709060</td>\n",
       "    </tr>\n",
       "    <tr>\n",
       "      <th>5884</th>\n",
       "      <td>0</td>\n",
       "      <td>53900</td>\n",
       "      <td>NaN</td>\n",
       "      <td>91309.0</td>\n",
       "      <td>HomeImp</td>\n",
       "      <td>Other</td>\n",
       "      <td>NaN</td>\n",
       "      <td>0.0</td>\n",
       "      <td>0.0</td>\n",
       "      <td>349.795748</td>\n",
       "      <td>0.0</td>\n",
       "      <td>6.0</td>\n",
       "      <td>22.061330</td>\n",
       "    </tr>\n",
       "    <tr>\n",
       "      <th>5930</th>\n",
       "      <td>1</td>\n",
       "      <td>72300</td>\n",
       "      <td>NaN</td>\n",
       "      <td>85000.0</td>\n",
       "      <td>DebtCon</td>\n",
       "      <td>Other</td>\n",
       "      <td>1.0</td>\n",
       "      <td>0.0</td>\n",
       "      <td>0.0</td>\n",
       "      <td>117.166667</td>\n",
       "      <td>9.0</td>\n",
       "      <td>23.0</td>\n",
       "      <td>NaN</td>\n",
       "    </tr>\n",
       "    <tr>\n",
       "      <th>5931</th>\n",
       "      <td>1</td>\n",
       "      <td>75400</td>\n",
       "      <td>NaN</td>\n",
       "      <td>89609.0</td>\n",
       "      <td>DebtCon</td>\n",
       "      <td>Other</td>\n",
       "      <td>1.0</td>\n",
       "      <td>0.0</td>\n",
       "      <td>0.0</td>\n",
       "      <td>115.763534</td>\n",
       "      <td>9.0</td>\n",
       "      <td>23.0</td>\n",
       "      <td>41.105569</td>\n",
       "    </tr>\n",
       "  </tbody>\n",
       "</table>\n",
       "<p>518 rows × 13 columns</p>\n",
       "</div>"
      ],
      "text/plain": [
       "      BAD   LOAN  MORTDUE    VALUE   REASON    JOB   YOJ  DEROG  DELINQ  \\\n",
       "3       1   1500      NaN      NaN      NaN    NaN   NaN    NaN     NaN   \n",
       "9       1   2000      NaN  62250.0  HomeImp  Sales  16.0    0.0     0.0   \n",
       "24      1   2400      NaN  17180.0  HomeImp  Other   NaN    0.0     0.0   \n",
       "40      1   3000      NaN   8800.0  HomeImp  Other   2.0    0.0     1.0   \n",
       "41      1   3000      NaN  33000.0  HomeImp  Other   1.0    0.0     1.0   \n",
       "...   ...    ...      ...      ...      ...    ...   ...    ...     ...   \n",
       "5880    0  53700      NaN  84205.0  HomeImp  Other   NaN    0.0     0.0   \n",
       "5883    0  53800      NaN  81322.0  HomeImp   Self   9.0    0.0     0.0   \n",
       "5884    0  53900      NaN  91309.0  HomeImp  Other   NaN    0.0     0.0   \n",
       "5930    1  72300      NaN  85000.0  DebtCon  Other   1.0    0.0     0.0   \n",
       "5931    1  75400      NaN  89609.0  DebtCon  Other   1.0    0.0     0.0   \n",
       "\n",
       "           CLAGE  NINQ  CLNO    DEBTINC  \n",
       "3            NaN   NaN   NaN        NaN  \n",
       "9     115.800000   0.0  13.0        NaN  \n",
       "24     14.566667   3.0   4.0        NaN  \n",
       "40     77.766667   0.0   3.0        NaN  \n",
       "41     23.300000   1.0   2.0        NaN  \n",
       "...          ...   ...   ...        ...  \n",
       "5880  339.665615   0.0   7.0  22.639940  \n",
       "5883  171.447555   0.0  22.0  24.709060  \n",
       "5884  349.795748   0.0   6.0  22.061330  \n",
       "5930  117.166667   9.0  23.0        NaN  \n",
       "5931  115.763534   9.0  23.0  41.105569  \n",
       "\n",
       "[518 rows x 13 columns]"
      ]
     },
     "execution_count": 7,
     "metadata": {},
     "output_type": "execute_result"
    }
   ],
   "source": [
    "#Mortdue\n",
    "df_hmeq[df_hmeq['MORTDUE'].isna()]"
   ]
  },
  {
   "cell_type": "code",
   "execution_count": 8,
   "id": "a3b09670",
   "metadata": {
    "execution": {
     "iopub.execute_input": "2022-10-16T15:00:01.793024Z",
     "iopub.status.busy": "2022-10-16T15:00:01.792295Z",
     "iopub.status.idle": "2022-10-16T15:00:01.803637Z",
     "shell.execute_reply": "2022-10-16T15:00:01.802855Z"
    },
    "papermill": {
     "duration": 0.038546,
     "end_time": "2022-10-16T15:00:01.806149",
     "exception": false,
     "start_time": "2022-10-16T15:00:01.767603",
     "status": "completed"
    },
    "tags": []
   },
   "outputs": [
    {
     "data": {
      "text/plain": [
       "42000.0     11\n",
       "47000.0     10\n",
       "65000.0      9\n",
       "50000.0      7\n",
       "124000.0     7\n",
       "            ..\n",
       "65372.0      1\n",
       "15346.0      1\n",
       "58549.0      1\n",
       "69195.0      1\n",
       "48811.0      1\n",
       "Name: MORTDUE, Length: 5053, dtype: int64"
      ]
     },
     "execution_count": 8,
     "metadata": {},
     "output_type": "execute_result"
    }
   ],
   "source": [
    "df_hmeq['MORTDUE'].value_counts()"
   ]
  },
  {
   "cell_type": "markdown",
   "id": "96d1ad26",
   "metadata": {
    "papermill": {
     "duration": 0.020065,
     "end_time": "2022-10-16T15:00:01.850475",
     "exception": false,
     "start_time": "2022-10-16T15:00:01.830410",
     "status": "completed"
    },
    "tags": []
   },
   "source": [
    "- For the MortDue column missing values could be due to the fact that the person does have a mortgage.\n",
    "- For this column missing values can be replaced with 0 as it would not affect the data as such.As person not having a mortgage or is it is not know if a person is having a mortgage or not can be represented by 0."
   ]
  },
  {
   "cell_type": "code",
   "execution_count": 9,
   "id": "6c95cd7d",
   "metadata": {
    "execution": {
     "iopub.execute_input": "2022-10-16T15:00:01.904501Z",
     "iopub.status.busy": "2022-10-16T15:00:01.903777Z",
     "iopub.status.idle": "2022-10-16T15:00:01.908649Z",
     "shell.execute_reply": "2022-10-16T15:00:01.907861Z"
    },
    "papermill": {
     "duration": 0.037095,
     "end_time": "2022-10-16T15:00:01.911270",
     "exception": false,
     "start_time": "2022-10-16T15:00:01.874175",
     "status": "completed"
    },
    "tags": []
   },
   "outputs": [],
   "source": [
    "df_hmeq['MORTDUE'].fillna(0,inplace=True)"
   ]
  },
  {
   "cell_type": "code",
   "execution_count": 10,
   "id": "8d11e6a6",
   "metadata": {
    "execution": {
     "iopub.execute_input": "2022-10-16T15:00:01.959628Z",
     "iopub.status.busy": "2022-10-16T15:00:01.958866Z",
     "iopub.status.idle": "2022-10-16T15:00:01.984895Z",
     "shell.execute_reply": "2022-10-16T15:00:01.983756Z"
    },
    "papermill": {
     "duration": 0.049959,
     "end_time": "2022-10-16T15:00:01.987164",
     "exception": false,
     "start_time": "2022-10-16T15:00:01.937205",
     "status": "completed"
    },
    "tags": []
   },
   "outputs": [
    {
     "data": {
      "text/html": [
       "<div>\n",
       "<style scoped>\n",
       "    .dataframe tbody tr th:only-of-type {\n",
       "        vertical-align: middle;\n",
       "    }\n",
       "\n",
       "    .dataframe tbody tr th {\n",
       "        vertical-align: top;\n",
       "    }\n",
       "\n",
       "    .dataframe thead th {\n",
       "        text-align: right;\n",
       "    }\n",
       "</style>\n",
       "<table border=\"1\" class=\"dataframe\">\n",
       "  <thead>\n",
       "    <tr style=\"text-align: right;\">\n",
       "      <th></th>\n",
       "      <th>BAD</th>\n",
       "      <th>LOAN</th>\n",
       "      <th>MORTDUE</th>\n",
       "      <th>VALUE</th>\n",
       "      <th>REASON</th>\n",
       "      <th>JOB</th>\n",
       "      <th>YOJ</th>\n",
       "      <th>DEROG</th>\n",
       "      <th>DELINQ</th>\n",
       "      <th>CLAGE</th>\n",
       "      <th>NINQ</th>\n",
       "      <th>CLNO</th>\n",
       "      <th>DEBTINC</th>\n",
       "    </tr>\n",
       "  </thead>\n",
       "  <tbody>\n",
       "    <tr>\n",
       "      <th>3</th>\n",
       "      <td>1</td>\n",
       "      <td>1500</td>\n",
       "      <td>0.0</td>\n",
       "      <td>NaN</td>\n",
       "      <td>NaN</td>\n",
       "      <td>NaN</td>\n",
       "      <td>NaN</td>\n",
       "      <td>NaN</td>\n",
       "      <td>NaN</td>\n",
       "      <td>NaN</td>\n",
       "      <td>NaN</td>\n",
       "      <td>NaN</td>\n",
       "      <td>NaN</td>\n",
       "    </tr>\n",
       "    <tr>\n",
       "      <th>10</th>\n",
       "      <td>1</td>\n",
       "      <td>2000</td>\n",
       "      <td>22608.0</td>\n",
       "      <td>NaN</td>\n",
       "      <td>NaN</td>\n",
       "      <td>NaN</td>\n",
       "      <td>18.0</td>\n",
       "      <td>NaN</td>\n",
       "      <td>NaN</td>\n",
       "      <td>NaN</td>\n",
       "      <td>NaN</td>\n",
       "      <td>NaN</td>\n",
       "      <td>NaN</td>\n",
       "    </tr>\n",
       "    <tr>\n",
       "      <th>17</th>\n",
       "      <td>1</td>\n",
       "      <td>2200</td>\n",
       "      <td>23030.0</td>\n",
       "      <td>NaN</td>\n",
       "      <td>NaN</td>\n",
       "      <td>NaN</td>\n",
       "      <td>19.0</td>\n",
       "      <td>NaN</td>\n",
       "      <td>NaN</td>\n",
       "      <td>NaN</td>\n",
       "      <td>NaN</td>\n",
       "      <td>NaN</td>\n",
       "      <td>3.711312</td>\n",
       "    </tr>\n",
       "    <tr>\n",
       "      <th>23</th>\n",
       "      <td>1</td>\n",
       "      <td>2400</td>\n",
       "      <td>18000.0</td>\n",
       "      <td>NaN</td>\n",
       "      <td>HomeImp</td>\n",
       "      <td>Mgr</td>\n",
       "      <td>22.0</td>\n",
       "      <td>NaN</td>\n",
       "      <td>2.0</td>\n",
       "      <td>121.733333</td>\n",
       "      <td>0.0</td>\n",
       "      <td>10.0</td>\n",
       "      <td>NaN</td>\n",
       "    </tr>\n",
       "    <tr>\n",
       "      <th>57</th>\n",
       "      <td>1</td>\n",
       "      <td>3200</td>\n",
       "      <td>23159.0</td>\n",
       "      <td>NaN</td>\n",
       "      <td>HomeImp</td>\n",
       "      <td>Mgr</td>\n",
       "      <td>20.0</td>\n",
       "      <td>NaN</td>\n",
       "      <td>2.0</td>\n",
       "      <td>117.805748</td>\n",
       "      <td>0.0</td>\n",
       "      <td>9.0</td>\n",
       "      <td>0.524499</td>\n",
       "    </tr>\n",
       "    <tr>\n",
       "      <th>...</th>\n",
       "      <td>...</td>\n",
       "      <td>...</td>\n",
       "      <td>...</td>\n",
       "      <td>...</td>\n",
       "      <td>...</td>\n",
       "      <td>...</td>\n",
       "      <td>...</td>\n",
       "      <td>...</td>\n",
       "      <td>...</td>\n",
       "      <td>...</td>\n",
       "      <td>...</td>\n",
       "      <td>...</td>\n",
       "      <td>...</td>\n",
       "    </tr>\n",
       "    <tr>\n",
       "      <th>5817</th>\n",
       "      <td>1</td>\n",
       "      <td>50000</td>\n",
       "      <td>26976.0</td>\n",
       "      <td>NaN</td>\n",
       "      <td>DebtCon</td>\n",
       "      <td>Mgr</td>\n",
       "      <td>8.3</td>\n",
       "      <td>1.0</td>\n",
       "      <td>0.0</td>\n",
       "      <td>111.600000</td>\n",
       "      <td>1.0</td>\n",
       "      <td>6.0</td>\n",
       "      <td>NaN</td>\n",
       "    </tr>\n",
       "    <tr>\n",
       "      <th>5818</th>\n",
       "      <td>1</td>\n",
       "      <td>50000</td>\n",
       "      <td>106000.0</td>\n",
       "      <td>NaN</td>\n",
       "      <td>DebtCon</td>\n",
       "      <td>Mgr</td>\n",
       "      <td>0.8</td>\n",
       "      <td>0.0</td>\n",
       "      <td>2.0</td>\n",
       "      <td>252.633333</td>\n",
       "      <td>3.0</td>\n",
       "      <td>32.0</td>\n",
       "      <td>NaN</td>\n",
       "    </tr>\n",
       "    <tr>\n",
       "      <th>5822</th>\n",
       "      <td>1</td>\n",
       "      <td>50000</td>\n",
       "      <td>30338.0</td>\n",
       "      <td>NaN</td>\n",
       "      <td>DebtCon</td>\n",
       "      <td>Mgr</td>\n",
       "      <td>8.0</td>\n",
       "      <td>0.0</td>\n",
       "      <td>0.0</td>\n",
       "      <td>91.431005</td>\n",
       "      <td>0.0</td>\n",
       "      <td>5.0</td>\n",
       "      <td>35.084001</td>\n",
       "    </tr>\n",
       "    <tr>\n",
       "      <th>5826</th>\n",
       "      <td>1</td>\n",
       "      <td>50100</td>\n",
       "      <td>256431.0</td>\n",
       "      <td>NaN</td>\n",
       "      <td>NaN</td>\n",
       "      <td>Other</td>\n",
       "      <td>0.0</td>\n",
       "      <td>0.0</td>\n",
       "      <td>4.0</td>\n",
       "      <td>142.343205</td>\n",
       "      <td>2.0</td>\n",
       "      <td>25.0</td>\n",
       "      <td>3.342570</td>\n",
       "    </tr>\n",
       "    <tr>\n",
       "      <th>5828</th>\n",
       "      <td>1</td>\n",
       "      <td>50200</td>\n",
       "      <td>34668.0</td>\n",
       "      <td>NaN</td>\n",
       "      <td>DebtCon</td>\n",
       "      <td>Mgr</td>\n",
       "      <td>7.0</td>\n",
       "      <td>1.0</td>\n",
       "      <td>0.0</td>\n",
       "      <td>117.682548</td>\n",
       "      <td>1.0</td>\n",
       "      <td>5.0</td>\n",
       "      <td>36.724486</td>\n",
       "    </tr>\n",
       "  </tbody>\n",
       "</table>\n",
       "<p>112 rows × 13 columns</p>\n",
       "</div>"
      ],
      "text/plain": [
       "      BAD   LOAN   MORTDUE  VALUE   REASON    JOB   YOJ  DEROG  DELINQ  \\\n",
       "3       1   1500       0.0    NaN      NaN    NaN   NaN    NaN     NaN   \n",
       "10      1   2000   22608.0    NaN      NaN    NaN  18.0    NaN     NaN   \n",
       "17      1   2200   23030.0    NaN      NaN    NaN  19.0    NaN     NaN   \n",
       "23      1   2400   18000.0    NaN  HomeImp    Mgr  22.0    NaN     2.0   \n",
       "57      1   3200   23159.0    NaN  HomeImp    Mgr  20.0    NaN     2.0   \n",
       "...   ...    ...       ...    ...      ...    ...   ...    ...     ...   \n",
       "5817    1  50000   26976.0    NaN  DebtCon    Mgr   8.3    1.0     0.0   \n",
       "5818    1  50000  106000.0    NaN  DebtCon    Mgr   0.8    0.0     2.0   \n",
       "5822    1  50000   30338.0    NaN  DebtCon    Mgr   8.0    0.0     0.0   \n",
       "5826    1  50100  256431.0    NaN      NaN  Other   0.0    0.0     4.0   \n",
       "5828    1  50200   34668.0    NaN  DebtCon    Mgr   7.0    1.0     0.0   \n",
       "\n",
       "           CLAGE  NINQ  CLNO    DEBTINC  \n",
       "3            NaN   NaN   NaN        NaN  \n",
       "10           NaN   NaN   NaN        NaN  \n",
       "17           NaN   NaN   NaN   3.711312  \n",
       "23    121.733333   0.0  10.0        NaN  \n",
       "57    117.805748   0.0   9.0   0.524499  \n",
       "...          ...   ...   ...        ...  \n",
       "5817  111.600000   1.0   6.0        NaN  \n",
       "5818  252.633333   3.0  32.0        NaN  \n",
       "5822   91.431005   0.0   5.0  35.084001  \n",
       "5826  142.343205   2.0  25.0   3.342570  \n",
       "5828  117.682548   1.0   5.0  36.724486  \n",
       "\n",
       "[112 rows x 13 columns]"
      ]
     },
     "execution_count": 10,
     "metadata": {},
     "output_type": "execute_result"
    }
   ],
   "source": [
    "#Value Missing Values\n",
    "df_hmeq[df_hmeq['VALUE'].isna()]"
   ]
  },
  {
   "cell_type": "code",
   "execution_count": 11,
   "id": "13b7efa4",
   "metadata": {
    "execution": {
     "iopub.execute_input": "2022-10-16T15:00:02.039272Z",
     "iopub.status.busy": "2022-10-16T15:00:02.038392Z",
     "iopub.status.idle": "2022-10-16T15:00:02.050181Z",
     "shell.execute_reply": "2022-10-16T15:00:02.049175Z"
    },
    "papermill": {
     "duration": 0.044501,
     "end_time": "2022-10-16T15:00:02.052380",
     "exception": false,
     "start_time": "2022-10-16T15:00:02.007879",
     "status": "completed"
    },
    "tags": []
   },
   "outputs": [
    {
     "data": {
      "text/plain": [
       "60000.0     15\n",
       "80000.0     14\n",
       "85000.0     12\n",
       "65000.0     11\n",
       "78000.0     10\n",
       "            ..\n",
       "116994.0     1\n",
       "42682.0      1\n",
       "72175.0      1\n",
       "70095.0      1\n",
       "88934.0      1\n",
       "Name: VALUE, Length: 5381, dtype: int64"
      ]
     },
     "execution_count": 11,
     "metadata": {},
     "output_type": "execute_result"
    }
   ],
   "source": [
    "df_hmeq['VALUE'].value_counts()"
   ]
  },
  {
   "cell_type": "code",
   "execution_count": 12,
   "id": "f5316947",
   "metadata": {
    "execution": {
     "iopub.execute_input": "2022-10-16T15:00:02.101161Z",
     "iopub.status.busy": "2022-10-16T15:00:02.100457Z",
     "iopub.status.idle": "2022-10-16T15:00:02.106545Z",
     "shell.execute_reply": "2022-10-16T15:00:02.105853Z"
    },
    "papermill": {
     "duration": 0.035827,
     "end_time": "2022-10-16T15:00:02.108963",
     "exception": false,
     "start_time": "2022-10-16T15:00:02.073136",
     "status": "completed"
    },
    "tags": []
   },
   "outputs": [
    {
     "data": {
      "text/plain": [
       "101776.04874145007"
      ]
     },
     "execution_count": 12,
     "metadata": {},
     "output_type": "execute_result"
    }
   ],
   "source": [
    "df_hmeq['VALUE'].mean()"
   ]
  },
  {
   "cell_type": "code",
   "execution_count": 13,
   "id": "c0da0219",
   "metadata": {
    "execution": {
     "iopub.execute_input": "2022-10-16T15:00:02.158675Z",
     "iopub.status.busy": "2022-10-16T15:00:02.157504Z",
     "iopub.status.idle": "2022-10-16T15:00:02.164127Z",
     "shell.execute_reply": "2022-10-16T15:00:02.163346Z"
    },
    "papermill": {
     "duration": 0.033108,
     "end_time": "2022-10-16T15:00:02.166488",
     "exception": false,
     "start_time": "2022-10-16T15:00:02.133380",
     "status": "completed"
    },
    "tags": []
   },
   "outputs": [],
   "source": [
    "df_hmeq['VALUE'].fillna(df_hmeq['VALUE'].mean(),inplace=True)"
   ]
  },
  {
   "cell_type": "code",
   "execution_count": 14,
   "id": "c3c7dca1",
   "metadata": {
    "execution": {
     "iopub.execute_input": "2022-10-16T15:00:02.211124Z",
     "iopub.status.busy": "2022-10-16T15:00:02.210354Z",
     "iopub.status.idle": "2022-10-16T15:00:02.236990Z",
     "shell.execute_reply": "2022-10-16T15:00:02.235794Z"
    },
    "papermill": {
     "duration": 0.050929,
     "end_time": "2022-10-16T15:00:02.239267",
     "exception": false,
     "start_time": "2022-10-16T15:00:02.188338",
     "status": "completed"
    },
    "tags": []
   },
   "outputs": [
    {
     "data": {
      "text/html": [
       "<div>\n",
       "<style scoped>\n",
       "    .dataframe tbody tr th:only-of-type {\n",
       "        vertical-align: middle;\n",
       "    }\n",
       "\n",
       "    .dataframe tbody tr th {\n",
       "        vertical-align: top;\n",
       "    }\n",
       "\n",
       "    .dataframe thead th {\n",
       "        text-align: right;\n",
       "    }\n",
       "</style>\n",
       "<table border=\"1\" class=\"dataframe\">\n",
       "  <thead>\n",
       "    <tr style=\"text-align: right;\">\n",
       "      <th></th>\n",
       "      <th>BAD</th>\n",
       "      <th>LOAN</th>\n",
       "      <th>MORTDUE</th>\n",
       "      <th>VALUE</th>\n",
       "      <th>REASON</th>\n",
       "      <th>JOB</th>\n",
       "      <th>YOJ</th>\n",
       "      <th>DEROG</th>\n",
       "      <th>DELINQ</th>\n",
       "      <th>CLAGE</th>\n",
       "      <th>NINQ</th>\n",
       "      <th>CLNO</th>\n",
       "      <th>DEBTINC</th>\n",
       "    </tr>\n",
       "  </thead>\n",
       "  <tbody>\n",
       "    <tr>\n",
       "      <th>3</th>\n",
       "      <td>1</td>\n",
       "      <td>1500</td>\n",
       "      <td>0.0</td>\n",
       "      <td>101776.048741</td>\n",
       "      <td>NaN</td>\n",
       "      <td>NaN</td>\n",
       "      <td>NaN</td>\n",
       "      <td>NaN</td>\n",
       "      <td>NaN</td>\n",
       "      <td>NaN</td>\n",
       "      <td>NaN</td>\n",
       "      <td>NaN</td>\n",
       "      <td>NaN</td>\n",
       "    </tr>\n",
       "    <tr>\n",
       "      <th>10</th>\n",
       "      <td>1</td>\n",
       "      <td>2000</td>\n",
       "      <td>22608.0</td>\n",
       "      <td>101776.048741</td>\n",
       "      <td>NaN</td>\n",
       "      <td>NaN</td>\n",
       "      <td>18.0</td>\n",
       "      <td>NaN</td>\n",
       "      <td>NaN</td>\n",
       "      <td>NaN</td>\n",
       "      <td>NaN</td>\n",
       "      <td>NaN</td>\n",
       "      <td>NaN</td>\n",
       "    </tr>\n",
       "    <tr>\n",
       "      <th>13</th>\n",
       "      <td>0</td>\n",
       "      <td>2000</td>\n",
       "      <td>64536.0</td>\n",
       "      <td>87400.000000</td>\n",
       "      <td>NaN</td>\n",
       "      <td>Mgr</td>\n",
       "      <td>2.5</td>\n",
       "      <td>0.0</td>\n",
       "      <td>0.0</td>\n",
       "      <td>147.133333</td>\n",
       "      <td>0.0</td>\n",
       "      <td>24.0</td>\n",
       "      <td>NaN</td>\n",
       "    </tr>\n",
       "    <tr>\n",
       "      <th>17</th>\n",
       "      <td>1</td>\n",
       "      <td>2200</td>\n",
       "      <td>23030.0</td>\n",
       "      <td>101776.048741</td>\n",
       "      <td>NaN</td>\n",
       "      <td>NaN</td>\n",
       "      <td>19.0</td>\n",
       "      <td>NaN</td>\n",
       "      <td>NaN</td>\n",
       "      <td>NaN</td>\n",
       "      <td>NaN</td>\n",
       "      <td>NaN</td>\n",
       "      <td>3.711312</td>\n",
       "    </tr>\n",
       "    <tr>\n",
       "      <th>51</th>\n",
       "      <td>0</td>\n",
       "      <td>3100</td>\n",
       "      <td>0.0</td>\n",
       "      <td>70400.000000</td>\n",
       "      <td>NaN</td>\n",
       "      <td>NaN</td>\n",
       "      <td>NaN</td>\n",
       "      <td>NaN</td>\n",
       "      <td>NaN</td>\n",
       "      <td>NaN</td>\n",
       "      <td>NaN</td>\n",
       "      <td>NaN</td>\n",
       "      <td>NaN</td>\n",
       "    </tr>\n",
       "    <tr>\n",
       "      <th>...</th>\n",
       "      <td>...</td>\n",
       "      <td>...</td>\n",
       "      <td>...</td>\n",
       "      <td>...</td>\n",
       "      <td>...</td>\n",
       "      <td>...</td>\n",
       "      <td>...</td>\n",
       "      <td>...</td>\n",
       "      <td>...</td>\n",
       "      <td>...</td>\n",
       "      <td>...</td>\n",
       "      <td>...</td>\n",
       "      <td>...</td>\n",
       "    </tr>\n",
       "    <tr>\n",
       "      <th>5435</th>\n",
       "      <td>1</td>\n",
       "      <td>32000</td>\n",
       "      <td>92400.0</td>\n",
       "      <td>215000.000000</td>\n",
       "      <td>NaN</td>\n",
       "      <td>Self</td>\n",
       "      <td>2.5</td>\n",
       "      <td>1.0</td>\n",
       "      <td>3.0</td>\n",
       "      <td>165.333333</td>\n",
       "      <td>1.0</td>\n",
       "      <td>40.0</td>\n",
       "      <td>NaN</td>\n",
       "    </tr>\n",
       "    <tr>\n",
       "      <th>5468</th>\n",
       "      <td>1</td>\n",
       "      <td>32900</td>\n",
       "      <td>0.0</td>\n",
       "      <td>55657.000000</td>\n",
       "      <td>NaN</td>\n",
       "      <td>NaN</td>\n",
       "      <td>1.0</td>\n",
       "      <td>1.0</td>\n",
       "      <td>3.0</td>\n",
       "      <td>210.012265</td>\n",
       "      <td>10.0</td>\n",
       "      <td>15.0</td>\n",
       "      <td>1.909225</td>\n",
       "    </tr>\n",
       "    <tr>\n",
       "      <th>5803</th>\n",
       "      <td>1</td>\n",
       "      <td>49500</td>\n",
       "      <td>247500.0</td>\n",
       "      <td>101776.048741</td>\n",
       "      <td>NaN</td>\n",
       "      <td>Other</td>\n",
       "      <td>0.0</td>\n",
       "      <td>0.0</td>\n",
       "      <td>4.0</td>\n",
       "      <td>160.333333</td>\n",
       "      <td>2.0</td>\n",
       "      <td>25.0</td>\n",
       "      <td>NaN</td>\n",
       "    </tr>\n",
       "    <tr>\n",
       "      <th>5826</th>\n",
       "      <td>1</td>\n",
       "      <td>50100</td>\n",
       "      <td>256431.0</td>\n",
       "      <td>101776.048741</td>\n",
       "      <td>NaN</td>\n",
       "      <td>Other</td>\n",
       "      <td>0.0</td>\n",
       "      <td>0.0</td>\n",
       "      <td>4.0</td>\n",
       "      <td>142.343205</td>\n",
       "      <td>2.0</td>\n",
       "      <td>25.0</td>\n",
       "      <td>3.342570</td>\n",
       "    </tr>\n",
       "    <tr>\n",
       "      <th>5900</th>\n",
       "      <td>1</td>\n",
       "      <td>61400</td>\n",
       "      <td>46126.0</td>\n",
       "      <td>83800.000000</td>\n",
       "      <td>NaN</td>\n",
       "      <td>Other</td>\n",
       "      <td>33.0</td>\n",
       "      <td>0.0</td>\n",
       "      <td>1.0</td>\n",
       "      <td>339.900000</td>\n",
       "      <td>1.0</td>\n",
       "      <td>23.0</td>\n",
       "      <td>NaN</td>\n",
       "    </tr>\n",
       "  </tbody>\n",
       "</table>\n",
       "<p>252 rows × 13 columns</p>\n",
       "</div>"
      ],
      "text/plain": [
       "      BAD   LOAN   MORTDUE          VALUE REASON    JOB   YOJ  DEROG  DELINQ  \\\n",
       "3       1   1500       0.0  101776.048741    NaN    NaN   NaN    NaN     NaN   \n",
       "10      1   2000   22608.0  101776.048741    NaN    NaN  18.0    NaN     NaN   \n",
       "13      0   2000   64536.0   87400.000000    NaN    Mgr   2.5    0.0     0.0   \n",
       "17      1   2200   23030.0  101776.048741    NaN    NaN  19.0    NaN     NaN   \n",
       "51      0   3100       0.0   70400.000000    NaN    NaN   NaN    NaN     NaN   \n",
       "...   ...    ...       ...            ...    ...    ...   ...    ...     ...   \n",
       "5435    1  32000   92400.0  215000.000000    NaN   Self   2.5    1.0     3.0   \n",
       "5468    1  32900       0.0   55657.000000    NaN    NaN   1.0    1.0     3.0   \n",
       "5803    1  49500  247500.0  101776.048741    NaN  Other   0.0    0.0     4.0   \n",
       "5826    1  50100  256431.0  101776.048741    NaN  Other   0.0    0.0     4.0   \n",
       "5900    1  61400   46126.0   83800.000000    NaN  Other  33.0    0.0     1.0   \n",
       "\n",
       "           CLAGE  NINQ  CLNO   DEBTINC  \n",
       "3            NaN   NaN   NaN       NaN  \n",
       "10           NaN   NaN   NaN       NaN  \n",
       "13    147.133333   0.0  24.0       NaN  \n",
       "17           NaN   NaN   NaN  3.711312  \n",
       "51           NaN   NaN   NaN       NaN  \n",
       "...          ...   ...   ...       ...  \n",
       "5435  165.333333   1.0  40.0       NaN  \n",
       "5468  210.012265  10.0  15.0  1.909225  \n",
       "5803  160.333333   2.0  25.0       NaN  \n",
       "5826  142.343205   2.0  25.0  3.342570  \n",
       "5900  339.900000   1.0  23.0       NaN  \n",
       "\n",
       "[252 rows x 13 columns]"
      ]
     },
     "execution_count": 14,
     "metadata": {},
     "output_type": "execute_result"
    }
   ],
   "source": [
    "#Reason Missing Values\n",
    "df_hmeq[df_hmeq['REASON'].isna()]"
   ]
  },
  {
   "cell_type": "code",
   "execution_count": 15,
   "id": "bb7a17a7",
   "metadata": {
    "execution": {
     "iopub.execute_input": "2022-10-16T15:00:02.284431Z",
     "iopub.status.busy": "2022-10-16T15:00:02.283646Z",
     "iopub.status.idle": "2022-10-16T15:00:02.292577Z",
     "shell.execute_reply": "2022-10-16T15:00:02.291681Z"
    },
    "papermill": {
     "duration": 0.03409,
     "end_time": "2022-10-16T15:00:02.294825",
     "exception": false,
     "start_time": "2022-10-16T15:00:02.260735",
     "status": "completed"
    },
    "tags": []
   },
   "outputs": [
    {
     "data": {
      "text/plain": [
       "DebtCon    3928\n",
       "HomeImp    1780\n",
       "Name: REASON, dtype: int64"
      ]
     },
     "execution_count": 15,
     "metadata": {},
     "output_type": "execute_result"
    }
   ],
   "source": [
    "df_hmeq['REASON'].value_counts()"
   ]
  },
  {
   "cell_type": "markdown",
   "id": "cc0f8d6d",
   "metadata": {
    "papermill": {
     "duration": 0.021475,
     "end_time": "2022-10-16T15:00:02.337182",
     "exception": false,
     "start_time": "2022-10-16T15:00:02.315707",
     "status": "completed"
    },
    "tags": []
   },
   "source": [
    "- For Reason column there are 2 available options DebCon,HomeImp.For columns where don't the reason for taking loan it is better to classify them as a seperate category as 'Other Reason'."
   ]
  },
  {
   "cell_type": "code",
   "execution_count": 16,
   "id": "ce7ba4d3",
   "metadata": {
    "execution": {
     "iopub.execute_input": "2022-10-16T15:00:02.381578Z",
     "iopub.status.busy": "2022-10-16T15:00:02.380900Z",
     "iopub.status.idle": "2022-10-16T15:00:02.387134Z",
     "shell.execute_reply": "2022-10-16T15:00:02.386377Z"
    },
    "papermill": {
     "duration": 0.03125,
     "end_time": "2022-10-16T15:00:02.389445",
     "exception": false,
     "start_time": "2022-10-16T15:00:02.358195",
     "status": "completed"
    },
    "tags": []
   },
   "outputs": [],
   "source": [
    "df_hmeq['REASON'].fillna('OtherReason',inplace=True)"
   ]
  },
  {
   "cell_type": "code",
   "execution_count": 17,
   "id": "cdde4f77",
   "metadata": {
    "execution": {
     "iopub.execute_input": "2022-10-16T15:00:02.433491Z",
     "iopub.status.busy": "2022-10-16T15:00:02.433056Z",
     "iopub.status.idle": "2022-10-16T15:00:02.441711Z",
     "shell.execute_reply": "2022-10-16T15:00:02.440604Z"
    },
    "papermill": {
     "duration": 0.033556,
     "end_time": "2022-10-16T15:00:02.444004",
     "exception": false,
     "start_time": "2022-10-16T15:00:02.410448",
     "status": "completed"
    },
    "tags": []
   },
   "outputs": [
    {
     "data": {
      "text/plain": [
       "Other      2388\n",
       "ProfExe    1276\n",
       "Office      948\n",
       "Mgr         767\n",
       "Self        193\n",
       "Sales       109\n",
       "Name: JOB, dtype: int64"
      ]
     },
     "execution_count": 17,
     "metadata": {},
     "output_type": "execute_result"
    }
   ],
   "source": [
    "#Job missing values\n",
    "df_hmeq['JOB'].value_counts()"
   ]
  },
  {
   "cell_type": "code",
   "execution_count": 18,
   "id": "69413b59",
   "metadata": {
    "execution": {
     "iopub.execute_input": "2022-10-16T15:00:02.488995Z",
     "iopub.status.busy": "2022-10-16T15:00:02.488179Z",
     "iopub.status.idle": "2022-10-16T15:00:02.494964Z",
     "shell.execute_reply": "2022-10-16T15:00:02.494175Z"
    },
    "papermill": {
     "duration": 0.032167,
     "end_time": "2022-10-16T15:00:02.497277",
     "exception": false,
     "start_time": "2022-10-16T15:00:02.465110",
     "status": "completed"
    },
    "tags": []
   },
   "outputs": [],
   "source": [
    "#Replacing missing values of Job column with it's mode.\n",
    "df_hmeq['JOB'].fillna(df_hmeq['JOB'].mode()[0],inplace=True)"
   ]
  },
  {
   "cell_type": "code",
   "execution_count": 19,
   "id": "3de510ca",
   "metadata": {
    "execution": {
     "iopub.execute_input": "2022-10-16T15:00:02.543304Z",
     "iopub.status.busy": "2022-10-16T15:00:02.542543Z",
     "iopub.status.idle": "2022-10-16T15:00:02.568735Z",
     "shell.execute_reply": "2022-10-16T15:00:02.567523Z"
    },
    "papermill": {
     "duration": 0.05175,
     "end_time": "2022-10-16T15:00:02.571120",
     "exception": false,
     "start_time": "2022-10-16T15:00:02.519370",
     "status": "completed"
    },
    "tags": []
   },
   "outputs": [
    {
     "data": {
      "text/html": [
       "<div>\n",
       "<style scoped>\n",
       "    .dataframe tbody tr th:only-of-type {\n",
       "        vertical-align: middle;\n",
       "    }\n",
       "\n",
       "    .dataframe tbody tr th {\n",
       "        vertical-align: top;\n",
       "    }\n",
       "\n",
       "    .dataframe thead th {\n",
       "        text-align: right;\n",
       "    }\n",
       "</style>\n",
       "<table border=\"1\" class=\"dataframe\">\n",
       "  <thead>\n",
       "    <tr style=\"text-align: right;\">\n",
       "      <th></th>\n",
       "      <th>BAD</th>\n",
       "      <th>LOAN</th>\n",
       "      <th>MORTDUE</th>\n",
       "      <th>VALUE</th>\n",
       "      <th>REASON</th>\n",
       "      <th>JOB</th>\n",
       "      <th>YOJ</th>\n",
       "      <th>DEROG</th>\n",
       "      <th>DELINQ</th>\n",
       "      <th>CLAGE</th>\n",
       "      <th>NINQ</th>\n",
       "      <th>CLNO</th>\n",
       "      <th>DEBTINC</th>\n",
       "    </tr>\n",
       "  </thead>\n",
       "  <tbody>\n",
       "    <tr>\n",
       "      <th>3</th>\n",
       "      <td>1</td>\n",
       "      <td>1500</td>\n",
       "      <td>0.0</td>\n",
       "      <td>101776.048741</td>\n",
       "      <td>OtherReason</td>\n",
       "      <td>Other</td>\n",
       "      <td>NaN</td>\n",
       "      <td>NaN</td>\n",
       "      <td>NaN</td>\n",
       "      <td>NaN</td>\n",
       "      <td>NaN</td>\n",
       "      <td>NaN</td>\n",
       "      <td>NaN</td>\n",
       "    </tr>\n",
       "    <tr>\n",
       "      <th>15</th>\n",
       "      <td>1</td>\n",
       "      <td>2200</td>\n",
       "      <td>24280.0</td>\n",
       "      <td>34687.000000</td>\n",
       "      <td>HomeImp</td>\n",
       "      <td>Other</td>\n",
       "      <td>NaN</td>\n",
       "      <td>0.0</td>\n",
       "      <td>1.0</td>\n",
       "      <td>300.866667</td>\n",
       "      <td>0.0</td>\n",
       "      <td>8.0</td>\n",
       "      <td>NaN</td>\n",
       "    </tr>\n",
       "    <tr>\n",
       "      <th>24</th>\n",
       "      <td>1</td>\n",
       "      <td>2400</td>\n",
       "      <td>0.0</td>\n",
       "      <td>17180.000000</td>\n",
       "      <td>HomeImp</td>\n",
       "      <td>Other</td>\n",
       "      <td>NaN</td>\n",
       "      <td>0.0</td>\n",
       "      <td>0.0</td>\n",
       "      <td>14.566667</td>\n",
       "      <td>3.0</td>\n",
       "      <td>4.0</td>\n",
       "      <td>NaN</td>\n",
       "    </tr>\n",
       "    <tr>\n",
       "      <th>29</th>\n",
       "      <td>0</td>\n",
       "      <td>2500</td>\n",
       "      <td>7229.0</td>\n",
       "      <td>44516.000000</td>\n",
       "      <td>HomeImp</td>\n",
       "      <td>Self</td>\n",
       "      <td>NaN</td>\n",
       "      <td>0.0</td>\n",
       "      <td>0.0</td>\n",
       "      <td>208.000000</td>\n",
       "      <td>0.0</td>\n",
       "      <td>12.0</td>\n",
       "      <td>NaN</td>\n",
       "    </tr>\n",
       "    <tr>\n",
       "      <th>51</th>\n",
       "      <td>0</td>\n",
       "      <td>3100</td>\n",
       "      <td>0.0</td>\n",
       "      <td>70400.000000</td>\n",
       "      <td>OtherReason</td>\n",
       "      <td>Other</td>\n",
       "      <td>NaN</td>\n",
       "      <td>NaN</td>\n",
       "      <td>NaN</td>\n",
       "      <td>NaN</td>\n",
       "      <td>NaN</td>\n",
       "      <td>NaN</td>\n",
       "      <td>NaN</td>\n",
       "    </tr>\n",
       "    <tr>\n",
       "      <th>...</th>\n",
       "      <td>...</td>\n",
       "      <td>...</td>\n",
       "      <td>...</td>\n",
       "      <td>...</td>\n",
       "      <td>...</td>\n",
       "      <td>...</td>\n",
       "      <td>...</td>\n",
       "      <td>...</td>\n",
       "      <td>...</td>\n",
       "      <td>...</td>\n",
       "      <td>...</td>\n",
       "      <td>...</td>\n",
       "      <td>...</td>\n",
       "    </tr>\n",
       "    <tr>\n",
       "      <th>5854</th>\n",
       "      <td>0</td>\n",
       "      <td>51500</td>\n",
       "      <td>0.0</td>\n",
       "      <td>90003.000000</td>\n",
       "      <td>HomeImp</td>\n",
       "      <td>Other</td>\n",
       "      <td>NaN</td>\n",
       "      <td>0.0</td>\n",
       "      <td>0.0</td>\n",
       "      <td>347.802514</td>\n",
       "      <td>0.0</td>\n",
       "      <td>7.0</td>\n",
       "      <td>25.324002</td>\n",
       "    </tr>\n",
       "    <tr>\n",
       "      <th>5862</th>\n",
       "      <td>0</td>\n",
       "      <td>52200</td>\n",
       "      <td>0.0</td>\n",
       "      <td>90240.000000</td>\n",
       "      <td>HomeImp</td>\n",
       "      <td>Other</td>\n",
       "      <td>NaN</td>\n",
       "      <td>0.0</td>\n",
       "      <td>0.0</td>\n",
       "      <td>341.828812</td>\n",
       "      <td>0.0</td>\n",
       "      <td>7.0</td>\n",
       "      <td>24.016671</td>\n",
       "    </tr>\n",
       "    <tr>\n",
       "      <th>5865</th>\n",
       "      <td>0</td>\n",
       "      <td>52300</td>\n",
       "      <td>0.0</td>\n",
       "      <td>84584.000000</td>\n",
       "      <td>HomeImp</td>\n",
       "      <td>Other</td>\n",
       "      <td>NaN</td>\n",
       "      <td>1.0</td>\n",
       "      <td>0.0</td>\n",
       "      <td>350.920996</td>\n",
       "      <td>0.0</td>\n",
       "      <td>7.0</td>\n",
       "      <td>24.355304</td>\n",
       "    </tr>\n",
       "    <tr>\n",
       "      <th>5880</th>\n",
       "      <td>0</td>\n",
       "      <td>53700</td>\n",
       "      <td>0.0</td>\n",
       "      <td>84205.000000</td>\n",
       "      <td>HomeImp</td>\n",
       "      <td>Other</td>\n",
       "      <td>NaN</td>\n",
       "      <td>0.0</td>\n",
       "      <td>0.0</td>\n",
       "      <td>339.665615</td>\n",
       "      <td>0.0</td>\n",
       "      <td>7.0</td>\n",
       "      <td>22.639940</td>\n",
       "    </tr>\n",
       "    <tr>\n",
       "      <th>5884</th>\n",
       "      <td>0</td>\n",
       "      <td>53900</td>\n",
       "      <td>0.0</td>\n",
       "      <td>91309.000000</td>\n",
       "      <td>HomeImp</td>\n",
       "      <td>Other</td>\n",
       "      <td>NaN</td>\n",
       "      <td>0.0</td>\n",
       "      <td>0.0</td>\n",
       "      <td>349.795748</td>\n",
       "      <td>0.0</td>\n",
       "      <td>6.0</td>\n",
       "      <td>22.061330</td>\n",
       "    </tr>\n",
       "  </tbody>\n",
       "</table>\n",
       "<p>515 rows × 13 columns</p>\n",
       "</div>"
      ],
      "text/plain": [
       "      BAD   LOAN  MORTDUE          VALUE       REASON    JOB  YOJ  DEROG  \\\n",
       "3       1   1500      0.0  101776.048741  OtherReason  Other  NaN    NaN   \n",
       "15      1   2200  24280.0   34687.000000      HomeImp  Other  NaN    0.0   \n",
       "24      1   2400      0.0   17180.000000      HomeImp  Other  NaN    0.0   \n",
       "29      0   2500   7229.0   44516.000000      HomeImp   Self  NaN    0.0   \n",
       "51      0   3100      0.0   70400.000000  OtherReason  Other  NaN    NaN   \n",
       "...   ...    ...      ...            ...          ...    ...  ...    ...   \n",
       "5854    0  51500      0.0   90003.000000      HomeImp  Other  NaN    0.0   \n",
       "5862    0  52200      0.0   90240.000000      HomeImp  Other  NaN    0.0   \n",
       "5865    0  52300      0.0   84584.000000      HomeImp  Other  NaN    1.0   \n",
       "5880    0  53700      0.0   84205.000000      HomeImp  Other  NaN    0.0   \n",
       "5884    0  53900      0.0   91309.000000      HomeImp  Other  NaN    0.0   \n",
       "\n",
       "      DELINQ       CLAGE  NINQ  CLNO    DEBTINC  \n",
       "3        NaN         NaN   NaN   NaN        NaN  \n",
       "15       1.0  300.866667   0.0   8.0        NaN  \n",
       "24       0.0   14.566667   3.0   4.0        NaN  \n",
       "29       0.0  208.000000   0.0  12.0        NaN  \n",
       "51       NaN         NaN   NaN   NaN        NaN  \n",
       "...      ...         ...   ...   ...        ...  \n",
       "5854     0.0  347.802514   0.0   7.0  25.324002  \n",
       "5862     0.0  341.828812   0.0   7.0  24.016671  \n",
       "5865     0.0  350.920996   0.0   7.0  24.355304  \n",
       "5880     0.0  339.665615   0.0   7.0  22.639940  \n",
       "5884     0.0  349.795748   0.0   6.0  22.061330  \n",
       "\n",
       "[515 rows x 13 columns]"
      ]
     },
     "execution_count": 19,
     "metadata": {},
     "output_type": "execute_result"
    }
   ],
   "source": [
    "df_hmeq[df_hmeq['YOJ'].isna()]"
   ]
  },
  {
   "cell_type": "code",
   "execution_count": 20,
   "id": "7945896b",
   "metadata": {
    "execution": {
     "iopub.execute_input": "2022-10-16T15:00:02.617651Z",
     "iopub.status.busy": "2022-10-16T15:00:02.615971Z",
     "iopub.status.idle": "2022-10-16T15:00:02.625047Z",
     "shell.execute_reply": "2022-10-16T15:00:02.623486Z"
    },
    "papermill": {
     "duration": 0.035048,
     "end_time": "2022-10-16T15:00:02.627966",
     "exception": false,
     "start_time": "2022-10-16T15:00:02.592918",
     "status": "completed"
    },
    "tags": []
   },
   "outputs": [],
   "source": [
    "#Replacing null values for YOJ with it's mean\n",
    "df_hmeq['YOJ'].fillna(df_hmeq['YOJ'].mean(),inplace=True)"
   ]
  },
  {
   "cell_type": "code",
   "execution_count": 21,
   "id": "5bef7717",
   "metadata": {
    "execution": {
     "iopub.execute_input": "2022-10-16T15:00:02.673568Z",
     "iopub.status.busy": "2022-10-16T15:00:02.672938Z",
     "iopub.status.idle": "2022-10-16T15:00:02.698172Z",
     "shell.execute_reply": "2022-10-16T15:00:02.697041Z"
    },
    "papermill": {
     "duration": 0.050794,
     "end_time": "2022-10-16T15:00:02.700610",
     "exception": false,
     "start_time": "2022-10-16T15:00:02.649816",
     "status": "completed"
    },
    "tags": []
   },
   "outputs": [
    {
     "data": {
      "text/html": [
       "<div>\n",
       "<style scoped>\n",
       "    .dataframe tbody tr th:only-of-type {\n",
       "        vertical-align: middle;\n",
       "    }\n",
       "\n",
       "    .dataframe tbody tr th {\n",
       "        vertical-align: top;\n",
       "    }\n",
       "\n",
       "    .dataframe thead th {\n",
       "        text-align: right;\n",
       "    }\n",
       "</style>\n",
       "<table border=\"1\" class=\"dataframe\">\n",
       "  <thead>\n",
       "    <tr style=\"text-align: right;\">\n",
       "      <th></th>\n",
       "      <th>BAD</th>\n",
       "      <th>LOAN</th>\n",
       "      <th>MORTDUE</th>\n",
       "      <th>VALUE</th>\n",
       "      <th>REASON</th>\n",
       "      <th>JOB</th>\n",
       "      <th>YOJ</th>\n",
       "      <th>DEROG</th>\n",
       "      <th>DELINQ</th>\n",
       "      <th>CLAGE</th>\n",
       "      <th>NINQ</th>\n",
       "      <th>CLNO</th>\n",
       "      <th>DEBTINC</th>\n",
       "    </tr>\n",
       "  </thead>\n",
       "  <tbody>\n",
       "    <tr>\n",
       "      <th>3</th>\n",
       "      <td>1</td>\n",
       "      <td>1500</td>\n",
       "      <td>0.0</td>\n",
       "      <td>101776.048741</td>\n",
       "      <td>OtherReason</td>\n",
       "      <td>Other</td>\n",
       "      <td>8.922268</td>\n",
       "      <td>NaN</td>\n",
       "      <td>NaN</td>\n",
       "      <td>NaN</td>\n",
       "      <td>NaN</td>\n",
       "      <td>NaN</td>\n",
       "      <td>NaN</td>\n",
       "    </tr>\n",
       "    <tr>\n",
       "      <th>10</th>\n",
       "      <td>1</td>\n",
       "      <td>2000</td>\n",
       "      <td>22608.0</td>\n",
       "      <td>101776.048741</td>\n",
       "      <td>OtherReason</td>\n",
       "      <td>Other</td>\n",
       "      <td>18.000000</td>\n",
       "      <td>NaN</td>\n",
       "      <td>NaN</td>\n",
       "      <td>NaN</td>\n",
       "      <td>NaN</td>\n",
       "      <td>NaN</td>\n",
       "      <td>NaN</td>\n",
       "    </tr>\n",
       "    <tr>\n",
       "      <th>17</th>\n",
       "      <td>1</td>\n",
       "      <td>2200</td>\n",
       "      <td>23030.0</td>\n",
       "      <td>101776.048741</td>\n",
       "      <td>OtherReason</td>\n",
       "      <td>Other</td>\n",
       "      <td>19.000000</td>\n",
       "      <td>NaN</td>\n",
       "      <td>NaN</td>\n",
       "      <td>NaN</td>\n",
       "      <td>NaN</td>\n",
       "      <td>NaN</td>\n",
       "      <td>3.711312</td>\n",
       "    </tr>\n",
       "    <tr>\n",
       "      <th>23</th>\n",
       "      <td>1</td>\n",
       "      <td>2400</td>\n",
       "      <td>18000.0</td>\n",
       "      <td>101776.048741</td>\n",
       "      <td>HomeImp</td>\n",
       "      <td>Mgr</td>\n",
       "      <td>22.000000</td>\n",
       "      <td>NaN</td>\n",
       "      <td>2.0</td>\n",
       "      <td>121.733333</td>\n",
       "      <td>0.0</td>\n",
       "      <td>10.0</td>\n",
       "      <td>NaN</td>\n",
       "    </tr>\n",
       "    <tr>\n",
       "      <th>48</th>\n",
       "      <td>0</td>\n",
       "      <td>3000</td>\n",
       "      <td>58000.0</td>\n",
       "      <td>71500.000000</td>\n",
       "      <td>HomeImp</td>\n",
       "      <td>Mgr</td>\n",
       "      <td>10.000000</td>\n",
       "      <td>NaN</td>\n",
       "      <td>2.0</td>\n",
       "      <td>211.933333</td>\n",
       "      <td>0.0</td>\n",
       "      <td>25.0</td>\n",
       "      <td>NaN</td>\n",
       "    </tr>\n",
       "    <tr>\n",
       "      <th>...</th>\n",
       "      <td>...</td>\n",
       "      <td>...</td>\n",
       "      <td>...</td>\n",
       "      <td>...</td>\n",
       "      <td>...</td>\n",
       "      <td>...</td>\n",
       "      <td>...</td>\n",
       "      <td>...</td>\n",
       "      <td>...</td>\n",
       "      <td>...</td>\n",
       "      <td>...</td>\n",
       "      <td>...</td>\n",
       "      <td>...</td>\n",
       "    </tr>\n",
       "    <tr>\n",
       "      <th>5735</th>\n",
       "      <td>0</td>\n",
       "      <td>42900</td>\n",
       "      <td>101731.0</td>\n",
       "      <td>155688.000000</td>\n",
       "      <td>DebtCon</td>\n",
       "      <td>Other</td>\n",
       "      <td>14.000000</td>\n",
       "      <td>NaN</td>\n",
       "      <td>1.0</td>\n",
       "      <td>235.352057</td>\n",
       "      <td>3.0</td>\n",
       "      <td>30.0</td>\n",
       "      <td>43.181424</td>\n",
       "    </tr>\n",
       "    <tr>\n",
       "      <th>5763</th>\n",
       "      <td>0</td>\n",
       "      <td>44400</td>\n",
       "      <td>100564.0</td>\n",
       "      <td>154708.000000</td>\n",
       "      <td>DebtCon</td>\n",
       "      <td>Other</td>\n",
       "      <td>14.000000</td>\n",
       "      <td>NaN</td>\n",
       "      <td>0.0</td>\n",
       "      <td>253.914111</td>\n",
       "      <td>3.0</td>\n",
       "      <td>30.0</td>\n",
       "      <td>43.902152</td>\n",
       "    </tr>\n",
       "    <tr>\n",
       "      <th>5766</th>\n",
       "      <td>0</td>\n",
       "      <td>44900</td>\n",
       "      <td>95410.0</td>\n",
       "      <td>157649.000000</td>\n",
       "      <td>DebtCon</td>\n",
       "      <td>Other</td>\n",
       "      <td>16.000000</td>\n",
       "      <td>NaN</td>\n",
       "      <td>1.0</td>\n",
       "      <td>216.101046</td>\n",
       "      <td>4.0</td>\n",
       "      <td>31.0</td>\n",
       "      <td>40.483515</td>\n",
       "    </tr>\n",
       "    <tr>\n",
       "      <th>5820</th>\n",
       "      <td>1</td>\n",
       "      <td>50000</td>\n",
       "      <td>80286.0</td>\n",
       "      <td>145000.000000</td>\n",
       "      <td>DebtCon</td>\n",
       "      <td>Other</td>\n",
       "      <td>12.000000</td>\n",
       "      <td>NaN</td>\n",
       "      <td>1.0</td>\n",
       "      <td>178.766599</td>\n",
       "      <td>0.0</td>\n",
       "      <td>35.0</td>\n",
       "      <td>NaN</td>\n",
       "    </tr>\n",
       "    <tr>\n",
       "      <th>5882</th>\n",
       "      <td>1</td>\n",
       "      <td>53800</td>\n",
       "      <td>82324.0</td>\n",
       "      <td>154409.000000</td>\n",
       "      <td>DebtCon</td>\n",
       "      <td>Other</td>\n",
       "      <td>10.000000</td>\n",
       "      <td>NaN</td>\n",
       "      <td>1.0</td>\n",
       "      <td>157.484011</td>\n",
       "      <td>0.0</td>\n",
       "      <td>34.0</td>\n",
       "      <td>41.659044</td>\n",
       "    </tr>\n",
       "  </tbody>\n",
       "</table>\n",
       "<p>708 rows × 13 columns</p>\n",
       "</div>"
      ],
      "text/plain": [
       "      BAD   LOAN   MORTDUE          VALUE       REASON    JOB        YOJ  \\\n",
       "3       1   1500       0.0  101776.048741  OtherReason  Other   8.922268   \n",
       "10      1   2000   22608.0  101776.048741  OtherReason  Other  18.000000   \n",
       "17      1   2200   23030.0  101776.048741  OtherReason  Other  19.000000   \n",
       "23      1   2400   18000.0  101776.048741      HomeImp    Mgr  22.000000   \n",
       "48      0   3000   58000.0   71500.000000      HomeImp    Mgr  10.000000   \n",
       "...   ...    ...       ...            ...          ...    ...        ...   \n",
       "5735    0  42900  101731.0  155688.000000      DebtCon  Other  14.000000   \n",
       "5763    0  44400  100564.0  154708.000000      DebtCon  Other  14.000000   \n",
       "5766    0  44900   95410.0  157649.000000      DebtCon  Other  16.000000   \n",
       "5820    1  50000   80286.0  145000.000000      DebtCon  Other  12.000000   \n",
       "5882    1  53800   82324.0  154409.000000      DebtCon  Other  10.000000   \n",
       "\n",
       "      DEROG  DELINQ       CLAGE  NINQ  CLNO    DEBTINC  \n",
       "3       NaN     NaN         NaN   NaN   NaN        NaN  \n",
       "10      NaN     NaN         NaN   NaN   NaN        NaN  \n",
       "17      NaN     NaN         NaN   NaN   NaN   3.711312  \n",
       "23      NaN     2.0  121.733333   0.0  10.0        NaN  \n",
       "48      NaN     2.0  211.933333   0.0  25.0        NaN  \n",
       "...     ...     ...         ...   ...   ...        ...  \n",
       "5735    NaN     1.0  235.352057   3.0  30.0  43.181424  \n",
       "5763    NaN     0.0  253.914111   3.0  30.0  43.902152  \n",
       "5766    NaN     1.0  216.101046   4.0  31.0  40.483515  \n",
       "5820    NaN     1.0  178.766599   0.0  35.0        NaN  \n",
       "5882    NaN     1.0  157.484011   0.0  34.0  41.659044  \n",
       "\n",
       "[708 rows x 13 columns]"
      ]
     },
     "execution_count": 21,
     "metadata": {},
     "output_type": "execute_result"
    }
   ],
   "source": [
    "#DEROG missing values\n",
    "df_hmeq[df_hmeq['DEROG'].isna()]"
   ]
  },
  {
   "cell_type": "code",
   "execution_count": 22,
   "id": "bc83d312",
   "metadata": {
    "execution": {
     "iopub.execute_input": "2022-10-16T15:00:02.746581Z",
     "iopub.status.busy": "2022-10-16T15:00:02.745897Z",
     "iopub.status.idle": "2022-10-16T15:00:02.755443Z",
     "shell.execute_reply": "2022-10-16T15:00:02.754382Z"
    },
    "papermill": {
     "duration": 0.034702,
     "end_time": "2022-10-16T15:00:02.757550",
     "exception": false,
     "start_time": "2022-10-16T15:00:02.722848",
     "status": "completed"
    },
    "tags": []
   },
   "outputs": [
    {
     "data": {
      "text/plain": [
       "0.0     4527\n",
       "1.0      435\n",
       "2.0      160\n",
       "3.0       58\n",
       "4.0       23\n",
       "5.0       15\n",
       "6.0       15\n",
       "7.0        8\n",
       "8.0        6\n",
       "9.0        3\n",
       "10.0       2\n",
       "Name: DEROG, dtype: int64"
      ]
     },
     "execution_count": 22,
     "metadata": {},
     "output_type": "execute_result"
    }
   ],
   "source": [
    "df_hmeq['DEROG'].value_counts()"
   ]
  },
  {
   "cell_type": "markdown",
   "id": "d8f3df16",
   "metadata": {
    "papermill": {
     "duration": 0.022205,
     "end_time": "2022-10-16T15:00:02.801955",
     "exception": false,
     "start_time": "2022-10-16T15:00:02.779750",
     "status": "completed"
    },
    "tags": []
   },
   "source": [
    "- For Derog column the missing values can be replaced with 0 as Nan and 0 for count of Derog reports will signify the same thing."
   ]
  },
  {
   "cell_type": "code",
   "execution_count": 23,
   "id": "5f45b676",
   "metadata": {
    "execution": {
     "iopub.execute_input": "2022-10-16T15:00:02.848248Z",
     "iopub.status.busy": "2022-10-16T15:00:02.846962Z",
     "iopub.status.idle": "2022-10-16T15:00:02.853137Z",
     "shell.execute_reply": "2022-10-16T15:00:02.852372Z"
    },
    "papermill": {
     "duration": 0.031628,
     "end_time": "2022-10-16T15:00:02.855474",
     "exception": false,
     "start_time": "2022-10-16T15:00:02.823846",
     "status": "completed"
    },
    "tags": []
   },
   "outputs": [],
   "source": [
    "df_hmeq['DEROG'].fillna(0,inplace=True)"
   ]
  },
  {
   "cell_type": "code",
   "execution_count": 24,
   "id": "4ec71d16",
   "metadata": {
    "execution": {
     "iopub.execute_input": "2022-10-16T15:00:02.903372Z",
     "iopub.status.busy": "2022-10-16T15:00:02.902546Z",
     "iopub.status.idle": "2022-10-16T15:00:02.911914Z",
     "shell.execute_reply": "2022-10-16T15:00:02.910793Z"
    },
    "papermill": {
     "duration": 0.036461,
     "end_time": "2022-10-16T15:00:02.914252",
     "exception": false,
     "start_time": "2022-10-16T15:00:02.877791",
     "status": "completed"
    },
    "tags": []
   },
   "outputs": [
    {
     "data": {
      "text/plain": [
       "0.0     4179\n",
       "1.0      654\n",
       "2.0      250\n",
       "3.0      129\n",
       "4.0       78\n",
       "5.0       38\n",
       "6.0       27\n",
       "7.0       13\n",
       "8.0        5\n",
       "10.0       2\n",
       "11.0       2\n",
       "15.0       1\n",
       "12.0       1\n",
       "13.0       1\n",
       "Name: DELINQ, dtype: int64"
      ]
     },
     "execution_count": 24,
     "metadata": {},
     "output_type": "execute_result"
    }
   ],
   "source": [
    "#DELINQ missing values\n",
    "df_hmeq['DELINQ'].value_counts()"
   ]
  },
  {
   "cell_type": "markdown",
   "id": "96812631",
   "metadata": {
    "papermill": {
     "duration": 0.02213,
     "end_time": "2022-10-16T15:00:02.958634",
     "exception": false,
     "start_time": "2022-10-16T15:00:02.936504",
     "status": "completed"
    },
    "tags": []
   },
   "source": [
    "For DELINQ column the missing values can be replaced with 0 as Nan and 0 for count of Derog reports will signify the same thing."
   ]
  },
  {
   "cell_type": "code",
   "execution_count": 25,
   "id": "5f2c4a3d",
   "metadata": {
    "execution": {
     "iopub.execute_input": "2022-10-16T15:00:03.005376Z",
     "iopub.status.busy": "2022-10-16T15:00:03.004950Z",
     "iopub.status.idle": "2022-10-16T15:00:03.010643Z",
     "shell.execute_reply": "2022-10-16T15:00:03.009403Z"
    },
    "papermill": {
     "duration": 0.031973,
     "end_time": "2022-10-16T15:00:03.012906",
     "exception": false,
     "start_time": "2022-10-16T15:00:02.980933",
     "status": "completed"
    },
    "tags": []
   },
   "outputs": [],
   "source": [
    "df_hmeq['DELINQ'].fillna(0,inplace=True)"
   ]
  },
  {
   "cell_type": "code",
   "execution_count": 26,
   "id": "c931c134",
   "metadata": {
    "execution": {
     "iopub.execute_input": "2022-10-16T15:00:03.059949Z",
     "iopub.status.busy": "2022-10-16T15:00:03.059074Z",
     "iopub.status.idle": "2022-10-16T15:00:03.069119Z",
     "shell.execute_reply": "2022-10-16T15:00:03.068224Z"
    },
    "papermill": {
     "duration": 0.036263,
     "end_time": "2022-10-16T15:00:03.071428",
     "exception": false,
     "start_time": "2022-10-16T15:00:03.035165",
     "status": "completed"
    },
    "tags": []
   },
   "outputs": [
    {
     "data": {
      "text/plain": [
       "102.500000    7\n",
       "206.966667    7\n",
       "177.500000    6\n",
       "123.766667    6\n",
       "95.366667     6\n",
       "             ..\n",
       "240.856017    1\n",
       "196.241371    1\n",
       "71.461705     1\n",
       "184.880011    1\n",
       "219.601002    1\n",
       "Name: CLAGE, Length: 5314, dtype: int64"
      ]
     },
     "execution_count": 26,
     "metadata": {},
     "output_type": "execute_result"
    }
   ],
   "source": [
    "#CLAGE missing values\n",
    "df_hmeq['CLAGE'].value_counts()"
   ]
  },
  {
   "cell_type": "code",
   "execution_count": 27,
   "id": "7d0eaf91",
   "metadata": {
    "execution": {
     "iopub.execute_input": "2022-10-16T15:00:03.118137Z",
     "iopub.status.busy": "2022-10-16T15:00:03.117550Z",
     "iopub.status.idle": "2022-10-16T15:00:03.130498Z",
     "shell.execute_reply": "2022-10-16T15:00:03.129391Z"
    },
    "papermill": {
     "duration": 0.039152,
     "end_time": "2022-10-16T15:00:03.132827",
     "exception": false,
     "start_time": "2022-10-16T15:00:03.093675",
     "status": "completed"
    },
    "tags": []
   },
   "outputs": [
    {
     "data": {
      "text/plain": [
       "count    5652.000000\n",
       "mean      179.766275\n",
       "std        85.810092\n",
       "min         0.000000\n",
       "25%       115.116702\n",
       "50%       173.466667\n",
       "75%       231.562278\n",
       "max      1168.233561\n",
       "Name: CLAGE, dtype: float64"
      ]
     },
     "execution_count": 27,
     "metadata": {},
     "output_type": "execute_result"
    }
   ],
   "source": [
    "df_hmeq['CLAGE'].describe()"
   ]
  },
  {
   "cell_type": "code",
   "execution_count": 28,
   "id": "217bfce4",
   "metadata": {
    "execution": {
     "iopub.execute_input": "2022-10-16T15:00:03.180383Z",
     "iopub.status.busy": "2022-10-16T15:00:03.179513Z",
     "iopub.status.idle": "2022-10-16T15:00:03.205516Z",
     "shell.execute_reply": "2022-10-16T15:00:03.204647Z"
    },
    "papermill": {
     "duration": 0.052325,
     "end_time": "2022-10-16T15:00:03.207601",
     "exception": false,
     "start_time": "2022-10-16T15:00:03.155276",
     "status": "completed"
    },
    "tags": []
   },
   "outputs": [
    {
     "data": {
      "text/html": [
       "<div>\n",
       "<style scoped>\n",
       "    .dataframe tbody tr th:only-of-type {\n",
       "        vertical-align: middle;\n",
       "    }\n",
       "\n",
       "    .dataframe tbody tr th {\n",
       "        vertical-align: top;\n",
       "    }\n",
       "\n",
       "    .dataframe thead th {\n",
       "        text-align: right;\n",
       "    }\n",
       "</style>\n",
       "<table border=\"1\" class=\"dataframe\">\n",
       "  <thead>\n",
       "    <tr style=\"text-align: right;\">\n",
       "      <th></th>\n",
       "      <th>BAD</th>\n",
       "      <th>LOAN</th>\n",
       "      <th>MORTDUE</th>\n",
       "      <th>VALUE</th>\n",
       "      <th>REASON</th>\n",
       "      <th>JOB</th>\n",
       "      <th>YOJ</th>\n",
       "      <th>DEROG</th>\n",
       "      <th>DELINQ</th>\n",
       "      <th>CLAGE</th>\n",
       "      <th>NINQ</th>\n",
       "      <th>CLNO</th>\n",
       "      <th>DEBTINC</th>\n",
       "    </tr>\n",
       "  </thead>\n",
       "  <tbody>\n",
       "    <tr>\n",
       "      <th>3</th>\n",
       "      <td>1</td>\n",
       "      <td>1500</td>\n",
       "      <td>0.0</td>\n",
       "      <td>101776.048741</td>\n",
       "      <td>OtherReason</td>\n",
       "      <td>Other</td>\n",
       "      <td>8.922268</td>\n",
       "      <td>0.0</td>\n",
       "      <td>0.0</td>\n",
       "      <td>NaN</td>\n",
       "      <td>NaN</td>\n",
       "      <td>NaN</td>\n",
       "      <td>NaN</td>\n",
       "    </tr>\n",
       "    <tr>\n",
       "      <th>10</th>\n",
       "      <td>1</td>\n",
       "      <td>2000</td>\n",
       "      <td>22608.0</td>\n",
       "      <td>101776.048741</td>\n",
       "      <td>OtherReason</td>\n",
       "      <td>Other</td>\n",
       "      <td>18.000000</td>\n",
       "      <td>0.0</td>\n",
       "      <td>0.0</td>\n",
       "      <td>NaN</td>\n",
       "      <td>NaN</td>\n",
       "      <td>NaN</td>\n",
       "      <td>NaN</td>\n",
       "    </tr>\n",
       "    <tr>\n",
       "      <th>17</th>\n",
       "      <td>1</td>\n",
       "      <td>2200</td>\n",
       "      <td>23030.0</td>\n",
       "      <td>101776.048741</td>\n",
       "      <td>OtherReason</td>\n",
       "      <td>Other</td>\n",
       "      <td>19.000000</td>\n",
       "      <td>0.0</td>\n",
       "      <td>0.0</td>\n",
       "      <td>NaN</td>\n",
       "      <td>NaN</td>\n",
       "      <td>NaN</td>\n",
       "      <td>3.711312</td>\n",
       "    </tr>\n",
       "    <tr>\n",
       "      <th>21</th>\n",
       "      <td>1</td>\n",
       "      <td>2400</td>\n",
       "      <td>50000.0</td>\n",
       "      <td>73395.000000</td>\n",
       "      <td>HomeImp</td>\n",
       "      <td>ProfExe</td>\n",
       "      <td>5.000000</td>\n",
       "      <td>1.0</td>\n",
       "      <td>0.0</td>\n",
       "      <td>NaN</td>\n",
       "      <td>1.0</td>\n",
       "      <td>0.0</td>\n",
       "      <td>NaN</td>\n",
       "    </tr>\n",
       "    <tr>\n",
       "      <th>51</th>\n",
       "      <td>0</td>\n",
       "      <td>3100</td>\n",
       "      <td>0.0</td>\n",
       "      <td>70400.000000</td>\n",
       "      <td>OtherReason</td>\n",
       "      <td>Other</td>\n",
       "      <td>8.922268</td>\n",
       "      <td>0.0</td>\n",
       "      <td>0.0</td>\n",
       "      <td>NaN</td>\n",
       "      <td>NaN</td>\n",
       "      <td>NaN</td>\n",
       "      <td>NaN</td>\n",
       "    </tr>\n",
       "    <tr>\n",
       "      <th>...</th>\n",
       "      <td>...</td>\n",
       "      <td>...</td>\n",
       "      <td>...</td>\n",
       "      <td>...</td>\n",
       "      <td>...</td>\n",
       "      <td>...</td>\n",
       "      <td>...</td>\n",
       "      <td>...</td>\n",
       "      <td>...</td>\n",
       "      <td>...</td>\n",
       "      <td>...</td>\n",
       "      <td>...</td>\n",
       "      <td>...</td>\n",
       "    </tr>\n",
       "    <tr>\n",
       "      <th>5608</th>\n",
       "      <td>0</td>\n",
       "      <td>37800</td>\n",
       "      <td>31214.0</td>\n",
       "      <td>58282.000000</td>\n",
       "      <td>DebtCon</td>\n",
       "      <td>Other</td>\n",
       "      <td>8.922268</td>\n",
       "      <td>0.0</td>\n",
       "      <td>0.0</td>\n",
       "      <td>NaN</td>\n",
       "      <td>7.0</td>\n",
       "      <td>0.0</td>\n",
       "      <td>34.226190</td>\n",
       "    </tr>\n",
       "    <tr>\n",
       "      <th>5635</th>\n",
       "      <td>0</td>\n",
       "      <td>38900</td>\n",
       "      <td>31836.0</td>\n",
       "      <td>54976.000000</td>\n",
       "      <td>DebtCon</td>\n",
       "      <td>Other</td>\n",
       "      <td>8.922268</td>\n",
       "      <td>0.0</td>\n",
       "      <td>0.0</td>\n",
       "      <td>NaN</td>\n",
       "      <td>6.0</td>\n",
       "      <td>0.0</td>\n",
       "      <td>33.459246</td>\n",
       "    </tr>\n",
       "    <tr>\n",
       "      <th>5637</th>\n",
       "      <td>0</td>\n",
       "      <td>39000</td>\n",
       "      <td>36335.0</td>\n",
       "      <td>50704.000000</td>\n",
       "      <td>DebtCon</td>\n",
       "      <td>Other</td>\n",
       "      <td>8.922268</td>\n",
       "      <td>0.0</td>\n",
       "      <td>0.0</td>\n",
       "      <td>NaN</td>\n",
       "      <td>7.0</td>\n",
       "      <td>0.0</td>\n",
       "      <td>31.244399</td>\n",
       "    </tr>\n",
       "    <tr>\n",
       "      <th>5784</th>\n",
       "      <td>1</td>\n",
       "      <td>47000</td>\n",
       "      <td>159500.0</td>\n",
       "      <td>230000.000000</td>\n",
       "      <td>DebtCon</td>\n",
       "      <td>Office</td>\n",
       "      <td>3.000000</td>\n",
       "      <td>0.0</td>\n",
       "      <td>0.0</td>\n",
       "      <td>NaN</td>\n",
       "      <td>0.0</td>\n",
       "      <td>0.0</td>\n",
       "      <td>NaN</td>\n",
       "    </tr>\n",
       "    <tr>\n",
       "      <th>5804</th>\n",
       "      <td>1</td>\n",
       "      <td>49500</td>\n",
       "      <td>9000.0</td>\n",
       "      <td>55000.000000</td>\n",
       "      <td>DebtCon</td>\n",
       "      <td>Other</td>\n",
       "      <td>3.000000</td>\n",
       "      <td>0.0</td>\n",
       "      <td>0.0</td>\n",
       "      <td>NaN</td>\n",
       "      <td>0.0</td>\n",
       "      <td>0.0</td>\n",
       "      <td>NaN</td>\n",
       "    </tr>\n",
       "  </tbody>\n",
       "</table>\n",
       "<p>308 rows × 13 columns</p>\n",
       "</div>"
      ],
      "text/plain": [
       "      BAD   LOAN   MORTDUE          VALUE       REASON      JOB        YOJ  \\\n",
       "3       1   1500       0.0  101776.048741  OtherReason    Other   8.922268   \n",
       "10      1   2000   22608.0  101776.048741  OtherReason    Other  18.000000   \n",
       "17      1   2200   23030.0  101776.048741  OtherReason    Other  19.000000   \n",
       "21      1   2400   50000.0   73395.000000      HomeImp  ProfExe   5.000000   \n",
       "51      0   3100       0.0   70400.000000  OtherReason    Other   8.922268   \n",
       "...   ...    ...       ...            ...          ...      ...        ...   \n",
       "5608    0  37800   31214.0   58282.000000      DebtCon    Other   8.922268   \n",
       "5635    0  38900   31836.0   54976.000000      DebtCon    Other   8.922268   \n",
       "5637    0  39000   36335.0   50704.000000      DebtCon    Other   8.922268   \n",
       "5784    1  47000  159500.0  230000.000000      DebtCon   Office   3.000000   \n",
       "5804    1  49500    9000.0   55000.000000      DebtCon    Other   3.000000   \n",
       "\n",
       "      DEROG  DELINQ  CLAGE  NINQ  CLNO    DEBTINC  \n",
       "3       0.0     0.0    NaN   NaN   NaN        NaN  \n",
       "10      0.0     0.0    NaN   NaN   NaN        NaN  \n",
       "17      0.0     0.0    NaN   NaN   NaN   3.711312  \n",
       "21      1.0     0.0    NaN   1.0   0.0        NaN  \n",
       "51      0.0     0.0    NaN   NaN   NaN        NaN  \n",
       "...     ...     ...    ...   ...   ...        ...  \n",
       "5608    0.0     0.0    NaN   7.0   0.0  34.226190  \n",
       "5635    0.0     0.0    NaN   6.0   0.0  33.459246  \n",
       "5637    0.0     0.0    NaN   7.0   0.0  31.244399  \n",
       "5784    0.0     0.0    NaN   0.0   0.0        NaN  \n",
       "5804    0.0     0.0    NaN   0.0   0.0        NaN  \n",
       "\n",
       "[308 rows x 13 columns]"
      ]
     },
     "execution_count": 28,
     "metadata": {},
     "output_type": "execute_result"
    }
   ],
   "source": [
    "df_hmeq[df_hmeq['CLAGE'].isna()]"
   ]
  },
  {
   "cell_type": "markdown",
   "id": "ba284086",
   "metadata": {
    "papermill": {
     "duration": 0.022445,
     "end_time": "2022-10-16T15:00:03.252608",
     "exception": false,
     "start_time": "2022-10-16T15:00:03.230163",
     "status": "completed"
    },
    "tags": []
   },
   "source": [
    "- A trade line is an important record-keeping mechanism that tracks the activity of borrowers on their credit reports.\n",
    "- CLAGE is Age of oldest trade line in months\n",
    "- It means the oldest transaction that the borrower made where he was given some credit.\n",
    "- If it is missing it might be as many of the credit lines are till 7-10 years so for some case it may be quite old.\n",
    "- It makes no sense if we impute with mean/mode as it will be unwise to impute someone's past credit line with mean.\n",
    "- It is better to replace the missing values with 0 for CLAGE so as to avoid any impact on the data."
   ]
  },
  {
   "cell_type": "code",
   "execution_count": 29,
   "id": "b0d2c6f0",
   "metadata": {
    "execution": {
     "iopub.execute_input": "2022-10-16T15:00:03.300346Z",
     "iopub.status.busy": "2022-10-16T15:00:03.299441Z",
     "iopub.status.idle": "2022-10-16T15:00:03.305913Z",
     "shell.execute_reply": "2022-10-16T15:00:03.304765Z"
    },
    "papermill": {
     "duration": 0.03261,
     "end_time": "2022-10-16T15:00:03.308126",
     "exception": false,
     "start_time": "2022-10-16T15:00:03.275516",
     "status": "completed"
    },
    "tags": []
   },
   "outputs": [],
   "source": [
    "df_hmeq['CLAGE'].fillna(0,inplace=True)"
   ]
  },
  {
   "cell_type": "code",
   "execution_count": 30,
   "id": "5b00627b",
   "metadata": {
    "execution": {
     "iopub.execute_input": "2022-10-16T15:00:03.355597Z",
     "iopub.status.busy": "2022-10-16T15:00:03.355127Z",
     "iopub.status.idle": "2022-10-16T15:00:03.363751Z",
     "shell.execute_reply": "2022-10-16T15:00:03.362937Z"
    },
    "papermill": {
     "duration": 0.034704,
     "end_time": "2022-10-16T15:00:03.365761",
     "exception": false,
     "start_time": "2022-10-16T15:00:03.331057",
     "status": "completed"
    },
    "tags": []
   },
   "outputs": [
    {
     "data": {
      "text/plain": [
       "0.0     2531\n",
       "1.0     1339\n",
       "2.0      780\n",
       "3.0      392\n",
       "4.0      156\n",
       "5.0       75\n",
       "6.0       56\n",
       "7.0       44\n",
       "10.0      28\n",
       "8.0       22\n",
       "9.0       11\n",
       "11.0      10\n",
       "12.0       2\n",
       "13.0       2\n",
       "14.0       1\n",
       "17.0       1\n",
       "Name: NINQ, dtype: int64"
      ]
     },
     "execution_count": 30,
     "metadata": {},
     "output_type": "execute_result"
    }
   ],
   "source": [
    "# NINQ missing values\n",
    "df_hmeq['NINQ'].value_counts()"
   ]
  },
  {
   "cell_type": "markdown",
   "id": "54468ea1",
   "metadata": {
    "papermill": {
     "duration": 0.022955,
     "end_time": "2022-10-16T15:00:03.411612",
     "exception": false,
     "start_time": "2022-10-16T15:00:03.388657",
     "status": "completed"
    },
    "tags": []
   },
   "source": [
    "- A missing value for NINQ can be imputed with 0.Imputing with 0 is a safe option as it would not impact the data as such."
   ]
  },
  {
   "cell_type": "code",
   "execution_count": 31,
   "id": "f7717094",
   "metadata": {
    "execution": {
     "iopub.execute_input": "2022-10-16T15:00:03.461077Z",
     "iopub.status.busy": "2022-10-16T15:00:03.460322Z",
     "iopub.status.idle": "2022-10-16T15:00:03.465783Z",
     "shell.execute_reply": "2022-10-16T15:00:03.464652Z"
    },
    "papermill": {
     "duration": 0.032135,
     "end_time": "2022-10-16T15:00:03.467947",
     "exception": false,
     "start_time": "2022-10-16T15:00:03.435812",
     "status": "completed"
    },
    "tags": []
   },
   "outputs": [],
   "source": [
    "df_hmeq['NINQ'].fillna(0,inplace=True)"
   ]
  },
  {
   "cell_type": "code",
   "execution_count": 32,
   "id": "0c888731",
   "metadata": {
    "execution": {
     "iopub.execute_input": "2022-10-16T15:00:03.516183Z",
     "iopub.status.busy": "2022-10-16T15:00:03.515462Z",
     "iopub.status.idle": "2022-10-16T15:00:03.523684Z",
     "shell.execute_reply": "2022-10-16T15:00:03.522904Z"
    },
    "papermill": {
     "duration": 0.034457,
     "end_time": "2022-10-16T15:00:03.525624",
     "exception": false,
     "start_time": "2022-10-16T15:00:03.491167",
     "status": "completed"
    },
    "tags": []
   },
   "outputs": [
    {
     "data": {
      "text/plain": [
       "16.0    316\n",
       "19.0    307\n",
       "24.0    264\n",
       "23.0    259\n",
       "21.0    235\n",
       "       ... \n",
       "58.0      3\n",
       "71.0      2\n",
       "53.0      2\n",
       "57.0      1\n",
       "63.0      1\n",
       "Name: CLNO, Length: 62, dtype: int64"
      ]
     },
     "execution_count": 32,
     "metadata": {},
     "output_type": "execute_result"
    }
   ],
   "source": [
    "#CLNO missing values\n",
    "df_hmeq['CLNO'].value_counts()"
   ]
  },
  {
   "cell_type": "code",
   "execution_count": 33,
   "id": "3038828a",
   "metadata": {
    "execution": {
     "iopub.execute_input": "2022-10-16T15:00:03.573901Z",
     "iopub.status.busy": "2022-10-16T15:00:03.573120Z",
     "iopub.status.idle": "2022-10-16T15:00:03.583701Z",
     "shell.execute_reply": "2022-10-16T15:00:03.582608Z"
    },
    "papermill": {
     "duration": 0.037498,
     "end_time": "2022-10-16T15:00:03.586258",
     "exception": false,
     "start_time": "2022-10-16T15:00:03.548760",
     "status": "completed"
    },
    "tags": []
   },
   "outputs": [
    {
     "data": {
      "text/plain": [
       "count    5738.000000\n",
       "mean       21.296096\n",
       "std        10.138933\n",
       "min         0.000000\n",
       "25%        15.000000\n",
       "50%        20.000000\n",
       "75%        26.000000\n",
       "max        71.000000\n",
       "Name: CLNO, dtype: float64"
      ]
     },
     "execution_count": 33,
     "metadata": {},
     "output_type": "execute_result"
    }
   ],
   "source": [
    "df_hmeq['CLNO'].describe()"
   ]
  },
  {
   "cell_type": "markdown",
   "id": "0c1520fe",
   "metadata": {
    "papermill": {
     "duration": 0.023411,
     "end_time": "2022-10-16T15:00:03.633510",
     "exception": false,
     "start_time": "2022-10-16T15:00:03.610099",
     "status": "completed"
    },
    "tags": []
   },
   "source": [
    "- A missing value for CLNO can be imputed with 0.Imputing with 0 is a safe option as it would not impact the data as such."
   ]
  },
  {
   "cell_type": "code",
   "execution_count": 34,
   "id": "c90a7711",
   "metadata": {
    "execution": {
     "iopub.execute_input": "2022-10-16T15:00:03.682966Z",
     "iopub.status.busy": "2022-10-16T15:00:03.682125Z",
     "iopub.status.idle": "2022-10-16T15:00:03.687561Z",
     "shell.execute_reply": "2022-10-16T15:00:03.686691Z"
    },
    "papermill": {
     "duration": 0.032589,
     "end_time": "2022-10-16T15:00:03.689810",
     "exception": false,
     "start_time": "2022-10-16T15:00:03.657221",
     "status": "completed"
    },
    "tags": []
   },
   "outputs": [],
   "source": [
    "df_hmeq['CLNO'].fillna(0,inplace=True)"
   ]
  },
  {
   "cell_type": "code",
   "execution_count": 35,
   "id": "1cb52500",
   "metadata": {
    "execution": {
     "iopub.execute_input": "2022-10-16T15:00:03.738231Z",
     "iopub.status.busy": "2022-10-16T15:00:03.737823Z",
     "iopub.status.idle": "2022-10-16T15:00:03.746236Z",
     "shell.execute_reply": "2022-10-16T15:00:03.745500Z"
    },
    "papermill": {
     "duration": 0.035444,
     "end_time": "2022-10-16T15:00:03.748339",
     "exception": false,
     "start_time": "2022-10-16T15:00:03.712895",
     "status": "completed"
    },
    "tags": []
   },
   "outputs": [
    {
     "data": {
      "text/plain": [
       "37.113614    1\n",
       "44.382578    1\n",
       "31.614680    1\n",
       "41.576701    1\n",
       "41.395462    1\n",
       "            ..\n",
       "31.613930    1\n",
       "39.244669    1\n",
       "40.943866    1\n",
       "30.444839    1\n",
       "34.571519    1\n",
       "Name: DEBTINC, Length: 4693, dtype: int64"
      ]
     },
     "execution_count": 35,
     "metadata": {},
     "output_type": "execute_result"
    }
   ],
   "source": [
    "#CLNO missing values\n",
    "df_hmeq['DEBTINC'].value_counts()"
   ]
  },
  {
   "cell_type": "code",
   "execution_count": 36,
   "id": "0ca92ce8",
   "metadata": {
    "execution": {
     "iopub.execute_input": "2022-10-16T15:00:03.798018Z",
     "iopub.status.busy": "2022-10-16T15:00:03.796962Z",
     "iopub.status.idle": "2022-10-16T15:00:03.807868Z",
     "shell.execute_reply": "2022-10-16T15:00:03.806736Z"
    },
    "papermill": {
     "duration": 0.03784,
     "end_time": "2022-10-16T15:00:03.809948",
     "exception": false,
     "start_time": "2022-10-16T15:00:03.772108",
     "status": "completed"
    },
    "tags": []
   },
   "outputs": [
    {
     "data": {
      "text/plain": [
       "count    4693.000000\n",
       "mean       33.779915\n",
       "std         8.601746\n",
       "min         0.524499\n",
       "25%        29.140031\n",
       "50%        34.818262\n",
       "75%        39.003141\n",
       "max       203.312149\n",
       "Name: DEBTINC, dtype: float64"
      ]
     },
     "execution_count": 36,
     "metadata": {},
     "output_type": "execute_result"
    }
   ],
   "source": [
    "df_hmeq['DEBTINC'].describe()"
   ]
  },
  {
   "cell_type": "code",
   "execution_count": 37,
   "id": "3e0bc60e",
   "metadata": {
    "execution": {
     "iopub.execute_input": "2022-10-16T15:00:03.859412Z",
     "iopub.status.busy": "2022-10-16T15:00:03.858662Z",
     "iopub.status.idle": "2022-10-16T15:00:03.884815Z",
     "shell.execute_reply": "2022-10-16T15:00:03.883632Z"
    },
    "papermill": {
     "duration": 0.053444,
     "end_time": "2022-10-16T15:00:03.887073",
     "exception": false,
     "start_time": "2022-10-16T15:00:03.833629",
     "status": "completed"
    },
    "tags": []
   },
   "outputs": [
    {
     "data": {
      "text/html": [
       "<div>\n",
       "<style scoped>\n",
       "    .dataframe tbody tr th:only-of-type {\n",
       "        vertical-align: middle;\n",
       "    }\n",
       "\n",
       "    .dataframe tbody tr th {\n",
       "        vertical-align: top;\n",
       "    }\n",
       "\n",
       "    .dataframe thead th {\n",
       "        text-align: right;\n",
       "    }\n",
       "</style>\n",
       "<table border=\"1\" class=\"dataframe\">\n",
       "  <thead>\n",
       "    <tr style=\"text-align: right;\">\n",
       "      <th></th>\n",
       "      <th>BAD</th>\n",
       "      <th>LOAN</th>\n",
       "      <th>MORTDUE</th>\n",
       "      <th>VALUE</th>\n",
       "      <th>REASON</th>\n",
       "      <th>JOB</th>\n",
       "      <th>YOJ</th>\n",
       "      <th>DEROG</th>\n",
       "      <th>DELINQ</th>\n",
       "      <th>CLAGE</th>\n",
       "      <th>NINQ</th>\n",
       "      <th>CLNO</th>\n",
       "      <th>DEBTINC</th>\n",
       "    </tr>\n",
       "  </thead>\n",
       "  <tbody>\n",
       "    <tr>\n",
       "      <th>0</th>\n",
       "      <td>1</td>\n",
       "      <td>1100</td>\n",
       "      <td>25860.0</td>\n",
       "      <td>39025.000000</td>\n",
       "      <td>HomeImp</td>\n",
       "      <td>Other</td>\n",
       "      <td>10.500000</td>\n",
       "      <td>0.0</td>\n",
       "      <td>0.0</td>\n",
       "      <td>94.366667</td>\n",
       "      <td>1.0</td>\n",
       "      <td>9.0</td>\n",
       "      <td>NaN</td>\n",
       "    </tr>\n",
       "    <tr>\n",
       "      <th>1</th>\n",
       "      <td>1</td>\n",
       "      <td>1300</td>\n",
       "      <td>70053.0</td>\n",
       "      <td>68400.000000</td>\n",
       "      <td>HomeImp</td>\n",
       "      <td>Other</td>\n",
       "      <td>7.000000</td>\n",
       "      <td>0.0</td>\n",
       "      <td>2.0</td>\n",
       "      <td>121.833333</td>\n",
       "      <td>0.0</td>\n",
       "      <td>14.0</td>\n",
       "      <td>NaN</td>\n",
       "    </tr>\n",
       "    <tr>\n",
       "      <th>2</th>\n",
       "      <td>1</td>\n",
       "      <td>1500</td>\n",
       "      <td>13500.0</td>\n",
       "      <td>16700.000000</td>\n",
       "      <td>HomeImp</td>\n",
       "      <td>Other</td>\n",
       "      <td>4.000000</td>\n",
       "      <td>0.0</td>\n",
       "      <td>0.0</td>\n",
       "      <td>149.466667</td>\n",
       "      <td>1.0</td>\n",
       "      <td>10.0</td>\n",
       "      <td>NaN</td>\n",
       "    </tr>\n",
       "    <tr>\n",
       "      <th>3</th>\n",
       "      <td>1</td>\n",
       "      <td>1500</td>\n",
       "      <td>0.0</td>\n",
       "      <td>101776.048741</td>\n",
       "      <td>OtherReason</td>\n",
       "      <td>Other</td>\n",
       "      <td>8.922268</td>\n",
       "      <td>0.0</td>\n",
       "      <td>0.0</td>\n",
       "      <td>0.000000</td>\n",
       "      <td>0.0</td>\n",
       "      <td>0.0</td>\n",
       "      <td>NaN</td>\n",
       "    </tr>\n",
       "    <tr>\n",
       "      <th>4</th>\n",
       "      <td>0</td>\n",
       "      <td>1700</td>\n",
       "      <td>97800.0</td>\n",
       "      <td>112000.000000</td>\n",
       "      <td>HomeImp</td>\n",
       "      <td>Office</td>\n",
       "      <td>3.000000</td>\n",
       "      <td>0.0</td>\n",
       "      <td>0.0</td>\n",
       "      <td>93.333333</td>\n",
       "      <td>0.0</td>\n",
       "      <td>14.0</td>\n",
       "      <td>NaN</td>\n",
       "    </tr>\n",
       "    <tr>\n",
       "      <th>...</th>\n",
       "      <td>...</td>\n",
       "      <td>...</td>\n",
       "      <td>...</td>\n",
       "      <td>...</td>\n",
       "      <td>...</td>\n",
       "      <td>...</td>\n",
       "      <td>...</td>\n",
       "      <td>...</td>\n",
       "      <td>...</td>\n",
       "      <td>...</td>\n",
       "      <td>...</td>\n",
       "      <td>...</td>\n",
       "      <td>...</td>\n",
       "    </tr>\n",
       "    <tr>\n",
       "      <th>5930</th>\n",
       "      <td>1</td>\n",
       "      <td>72300</td>\n",
       "      <td>0.0</td>\n",
       "      <td>85000.000000</td>\n",
       "      <td>DebtCon</td>\n",
       "      <td>Other</td>\n",
       "      <td>1.000000</td>\n",
       "      <td>0.0</td>\n",
       "      <td>0.0</td>\n",
       "      <td>117.166667</td>\n",
       "      <td>9.0</td>\n",
       "      <td>23.0</td>\n",
       "      <td>NaN</td>\n",
       "    </tr>\n",
       "    <tr>\n",
       "      <th>5932</th>\n",
       "      <td>1</td>\n",
       "      <td>76500</td>\n",
       "      <td>38206.0</td>\n",
       "      <td>90000.000000</td>\n",
       "      <td>DebtCon</td>\n",
       "      <td>Other</td>\n",
       "      <td>12.000000</td>\n",
       "      <td>0.0</td>\n",
       "      <td>0.0</td>\n",
       "      <td>134.900000</td>\n",
       "      <td>0.0</td>\n",
       "      <td>26.0</td>\n",
       "      <td>NaN</td>\n",
       "    </tr>\n",
       "    <tr>\n",
       "      <th>5933</th>\n",
       "      <td>1</td>\n",
       "      <td>77200</td>\n",
       "      <td>83962.0</td>\n",
       "      <td>215000.000000</td>\n",
       "      <td>HomeImp</td>\n",
       "      <td>Self</td>\n",
       "      <td>8.000000</td>\n",
       "      <td>1.0</td>\n",
       "      <td>2.0</td>\n",
       "      <td>71.533132</td>\n",
       "      <td>3.0</td>\n",
       "      <td>14.0</td>\n",
       "      <td>NaN</td>\n",
       "    </tr>\n",
       "    <tr>\n",
       "      <th>5935</th>\n",
       "      <td>0</td>\n",
       "      <td>78400</td>\n",
       "      <td>13900.0</td>\n",
       "      <td>102910.000000</td>\n",
       "      <td>HomeImp</td>\n",
       "      <td>Other</td>\n",
       "      <td>27.000000</td>\n",
       "      <td>0.0</td>\n",
       "      <td>1.0</td>\n",
       "      <td>138.000000</td>\n",
       "      <td>0.0</td>\n",
       "      <td>14.0</td>\n",
       "      <td>NaN</td>\n",
       "    </tr>\n",
       "    <tr>\n",
       "      <th>5948</th>\n",
       "      <td>0</td>\n",
       "      <td>86000</td>\n",
       "      <td>47355.0</td>\n",
       "      <td>85000.000000</td>\n",
       "      <td>DebtCon</td>\n",
       "      <td>Other</td>\n",
       "      <td>15.000000</td>\n",
       "      <td>0.0</td>\n",
       "      <td>0.0</td>\n",
       "      <td>210.966667</td>\n",
       "      <td>0.0</td>\n",
       "      <td>16.0</td>\n",
       "      <td>NaN</td>\n",
       "    </tr>\n",
       "  </tbody>\n",
       "</table>\n",
       "<p>1267 rows × 13 columns</p>\n",
       "</div>"
      ],
      "text/plain": [
       "      BAD   LOAN  MORTDUE          VALUE       REASON     JOB        YOJ  \\\n",
       "0       1   1100  25860.0   39025.000000      HomeImp   Other  10.500000   \n",
       "1       1   1300  70053.0   68400.000000      HomeImp   Other   7.000000   \n",
       "2       1   1500  13500.0   16700.000000      HomeImp   Other   4.000000   \n",
       "3       1   1500      0.0  101776.048741  OtherReason   Other   8.922268   \n",
       "4       0   1700  97800.0  112000.000000      HomeImp  Office   3.000000   \n",
       "...   ...    ...      ...            ...          ...     ...        ...   \n",
       "5930    1  72300      0.0   85000.000000      DebtCon   Other   1.000000   \n",
       "5932    1  76500  38206.0   90000.000000      DebtCon   Other  12.000000   \n",
       "5933    1  77200  83962.0  215000.000000      HomeImp    Self   8.000000   \n",
       "5935    0  78400  13900.0  102910.000000      HomeImp   Other  27.000000   \n",
       "5948    0  86000  47355.0   85000.000000      DebtCon   Other  15.000000   \n",
       "\n",
       "      DEROG  DELINQ       CLAGE  NINQ  CLNO  DEBTINC  \n",
       "0       0.0     0.0   94.366667   1.0   9.0      NaN  \n",
       "1       0.0     2.0  121.833333   0.0  14.0      NaN  \n",
       "2       0.0     0.0  149.466667   1.0  10.0      NaN  \n",
       "3       0.0     0.0    0.000000   0.0   0.0      NaN  \n",
       "4       0.0     0.0   93.333333   0.0  14.0      NaN  \n",
       "...     ...     ...         ...   ...   ...      ...  \n",
       "5930    0.0     0.0  117.166667   9.0  23.0      NaN  \n",
       "5932    0.0     0.0  134.900000   0.0  26.0      NaN  \n",
       "5933    1.0     2.0   71.533132   3.0  14.0      NaN  \n",
       "5935    0.0     1.0  138.000000   0.0  14.0      NaN  \n",
       "5948    0.0     0.0  210.966667   0.0  16.0      NaN  \n",
       "\n",
       "[1267 rows x 13 columns]"
      ]
     },
     "execution_count": 37,
     "metadata": {},
     "output_type": "execute_result"
    }
   ],
   "source": [
    "df_hmeq[df_hmeq['DEBTINC'].isna()]"
   ]
  },
  {
   "cell_type": "code",
   "execution_count": 38,
   "id": "2e9b5fae",
   "metadata": {
    "execution": {
     "iopub.execute_input": "2022-10-16T15:00:03.936325Z",
     "iopub.status.busy": "2022-10-16T15:00:03.935926Z",
     "iopub.status.idle": "2022-10-16T15:00:03.943717Z",
     "shell.execute_reply": "2022-10-16T15:00:03.942599Z"
    },
    "papermill": {
     "duration": 0.035155,
     "end_time": "2022-10-16T15:00:03.946128",
     "exception": false,
     "start_time": "2022-10-16T15:00:03.910973",
     "status": "completed"
    },
    "tags": []
   },
   "outputs": [
    {
     "data": {
      "text/plain": [
       "21.258389261744966"
      ]
     },
     "execution_count": 38,
     "metadata": {},
     "output_type": "execute_result"
    }
   ],
   "source": [
    "df_hmeq['DEBTINC'].isnull().sum()/df_hmeq.shape[0]*100"
   ]
  },
  {
   "cell_type": "markdown",
   "id": "d5706be4",
   "metadata": {
    "papermill": {
     "duration": 0.023838,
     "end_time": "2022-10-16T15:00:03.994186",
     "exception": false,
     "start_time": "2022-10-16T15:00:03.970348",
     "status": "completed"
    },
    "tags": []
   },
   "source": [
    "- We cannot impute DEBTINC missing values with 0 as 0 would signify debt is 0 but is not the case on looking from above data.\n",
    "- 21% of values are missing which is very high percentage so the option to drop them is also not advisiable.\n",
    "- Mean would be the ideal imputation\n"
   ]
  },
  {
   "cell_type": "code",
   "execution_count": 39,
   "id": "86339d02",
   "metadata": {
    "execution": {
     "iopub.execute_input": "2022-10-16T15:00:04.044682Z",
     "iopub.status.busy": "2022-10-16T15:00:04.044250Z",
     "iopub.status.idle": "2022-10-16T15:00:04.050390Z",
     "shell.execute_reply": "2022-10-16T15:00:04.049497Z"
    },
    "papermill": {
     "duration": 0.034224,
     "end_time": "2022-10-16T15:00:04.052647",
     "exception": false,
     "start_time": "2022-10-16T15:00:04.018423",
     "status": "completed"
    },
    "tags": []
   },
   "outputs": [],
   "source": [
    "df_hmeq['DEBTINC'].fillna(df_hmeq['DEBTINC'].mean(),inplace=True)"
   ]
  },
  {
   "cell_type": "code",
   "execution_count": 40,
   "id": "457e15ce",
   "metadata": {
    "execution": {
     "iopub.execute_input": "2022-10-16T15:00:04.103479Z",
     "iopub.status.busy": "2022-10-16T15:00:04.102403Z",
     "iopub.status.idle": "2022-10-16T15:00:04.113856Z",
     "shell.execute_reply": "2022-10-16T15:00:04.112795Z"
    },
    "papermill": {
     "duration": 0.039174,
     "end_time": "2022-10-16T15:00:04.116060",
     "exception": false,
     "start_time": "2022-10-16T15:00:04.076886",
     "status": "completed"
    },
    "tags": []
   },
   "outputs": [
    {
     "data": {
      "text/plain": [
       "BAD        0\n",
       "LOAN       0\n",
       "MORTDUE    0\n",
       "VALUE      0\n",
       "REASON     0\n",
       "JOB        0\n",
       "YOJ        0\n",
       "DEROG      0\n",
       "DELINQ     0\n",
       "CLAGE      0\n",
       "NINQ       0\n",
       "CLNO       0\n",
       "DEBTINC    0\n",
       "dtype: int64"
      ]
     },
     "execution_count": 40,
     "metadata": {},
     "output_type": "execute_result"
    }
   ],
   "source": [
    "df_hmeq.isnull().sum()"
   ]
  },
  {
   "cell_type": "markdown",
   "id": "12fade1a",
   "metadata": {
    "papermill": {
     "duration": 0.023838,
     "end_time": "2022-10-16T15:00:04.164340",
     "exception": false,
     "start_time": "2022-10-16T15:00:04.140502",
     "status": "completed"
    },
    "tags": []
   },
   "source": [
    "- All missing values have been handled"
   ]
  },
  {
   "cell_type": "markdown",
   "id": "d71a3730",
   "metadata": {
    "papermill": {
     "duration": 0.023388,
     "end_time": "2022-10-16T15:00:04.212138",
     "exception": false,
     "start_time": "2022-10-16T15:00:04.188750",
     "status": "completed"
    },
    "tags": []
   },
   "source": [
    "##### "
   ]
  },
  {
   "cell_type": "code",
   "execution_count": 41,
   "id": "f2cc1e4a",
   "metadata": {
    "execution": {
     "iopub.execute_input": "2022-10-16T15:00:04.261848Z",
     "iopub.status.busy": "2022-10-16T15:00:04.261444Z",
     "iopub.status.idle": "2022-10-16T15:00:04.275868Z",
     "shell.execute_reply": "2022-10-16T15:00:04.274046Z"
    },
    "papermill": {
     "duration": 0.042182,
     "end_time": "2022-10-16T15:00:04.278293",
     "exception": false,
     "start_time": "2022-10-16T15:00:04.236111",
     "status": "completed"
    },
    "tags": []
   },
   "outputs": [
    {
     "name": "stdout",
     "output_type": "stream",
     "text": [
      "<class 'pandas.core.frame.DataFrame'>\n",
      "RangeIndex: 5960 entries, 0 to 5959\n",
      "Data columns (total 13 columns):\n",
      " #   Column   Non-Null Count  Dtype  \n",
      "---  ------   --------------  -----  \n",
      " 0   BAD      5960 non-null   int64  \n",
      " 1   LOAN     5960 non-null   int64  \n",
      " 2   MORTDUE  5960 non-null   float64\n",
      " 3   VALUE    5960 non-null   float64\n",
      " 4   REASON   5960 non-null   object \n",
      " 5   JOB      5960 non-null   object \n",
      " 6   YOJ      5960 non-null   float64\n",
      " 7   DEROG    5960 non-null   float64\n",
      " 8   DELINQ   5960 non-null   float64\n",
      " 9   CLAGE    5960 non-null   float64\n",
      " 10  NINQ     5960 non-null   float64\n",
      " 11  CLNO     5960 non-null   float64\n",
      " 12  DEBTINC  5960 non-null   float64\n",
      "dtypes: float64(9), int64(2), object(2)\n",
      "memory usage: 605.4+ KB\n"
     ]
    }
   ],
   "source": [
    "df_hmeq.info()"
   ]
  },
  {
   "cell_type": "markdown",
   "id": "7c6e367b",
   "metadata": {
    "papermill": {
     "duration": 0.024333,
     "end_time": "2022-10-16T15:00:04.327558",
     "exception": false,
     "start_time": "2022-10-16T15:00:04.303225",
     "status": "completed"
    },
    "tags": []
   },
   "source": [
    "### Data Transformation"
   ]
  },
  {
   "cell_type": "markdown",
   "id": "6e3b5c02",
   "metadata": {
    "papermill": {
     "duration": 0.02394,
     "end_time": "2022-10-16T15:00:04.375645",
     "exception": false,
     "start_time": "2022-10-16T15:00:04.351705",
     "status": "completed"
    },
    "tags": []
   },
   "source": [
    "#### Label Encoding the categorical variables so as to use in the ML model"
   ]
  },
  {
   "cell_type": "code",
   "execution_count": 42,
   "id": "446f3afc",
   "metadata": {
    "execution": {
     "iopub.execute_input": "2022-10-16T15:00:04.426863Z",
     "iopub.status.busy": "2022-10-16T15:00:04.426439Z",
     "iopub.status.idle": "2022-10-16T15:00:04.431258Z",
     "shell.execute_reply": "2022-10-16T15:00:04.430024Z"
    },
    "papermill": {
     "duration": 0.033246,
     "end_time": "2022-10-16T15:00:04.433407",
     "exception": false,
     "start_time": "2022-10-16T15:00:04.400161",
     "status": "completed"
    },
    "tags": []
   },
   "outputs": [],
   "source": [
    "from sklearn import preprocessing\n",
    "le = preprocessing.LabelEncoder()"
   ]
  },
  {
   "cell_type": "code",
   "execution_count": 43,
   "id": "ef0210d7",
   "metadata": {
    "execution": {
     "iopub.execute_input": "2022-10-16T15:00:04.484240Z",
     "iopub.status.busy": "2022-10-16T15:00:04.483830Z",
     "iopub.status.idle": "2022-10-16T15:00:04.491195Z",
     "shell.execute_reply": "2022-10-16T15:00:04.490068Z"
    },
    "papermill": {
     "duration": 0.035782,
     "end_time": "2022-10-16T15:00:04.493347",
     "exception": false,
     "start_time": "2022-10-16T15:00:04.457565",
     "status": "completed"
    },
    "tags": []
   },
   "outputs": [],
   "source": [
    "df_categorical = df_hmeq.select_dtypes(include=['object'])"
   ]
  },
  {
   "cell_type": "code",
   "execution_count": 44,
   "id": "0ef18e73",
   "metadata": {
    "execution": {
     "iopub.execute_input": "2022-10-16T15:00:04.544430Z",
     "iopub.status.busy": "2022-10-16T15:00:04.543706Z",
     "iopub.status.idle": "2022-10-16T15:00:04.553870Z",
     "shell.execute_reply": "2022-10-16T15:00:04.552809Z"
    },
    "papermill": {
     "duration": 0.038062,
     "end_time": "2022-10-16T15:00:04.556090",
     "exception": false,
     "start_time": "2022-10-16T15:00:04.518028",
     "status": "completed"
    },
    "tags": []
   },
   "outputs": [
    {
     "data": {
      "text/html": [
       "<div>\n",
       "<style scoped>\n",
       "    .dataframe tbody tr th:only-of-type {\n",
       "        vertical-align: middle;\n",
       "    }\n",
       "\n",
       "    .dataframe tbody tr th {\n",
       "        vertical-align: top;\n",
       "    }\n",
       "\n",
       "    .dataframe thead th {\n",
       "        text-align: right;\n",
       "    }\n",
       "</style>\n",
       "<table border=\"1\" class=\"dataframe\">\n",
       "  <thead>\n",
       "    <tr style=\"text-align: right;\">\n",
       "      <th></th>\n",
       "      <th>REASON</th>\n",
       "      <th>JOB</th>\n",
       "    </tr>\n",
       "  </thead>\n",
       "  <tbody>\n",
       "    <tr>\n",
       "      <th>0</th>\n",
       "      <td>HomeImp</td>\n",
       "      <td>Other</td>\n",
       "    </tr>\n",
       "    <tr>\n",
       "      <th>1</th>\n",
       "      <td>HomeImp</td>\n",
       "      <td>Other</td>\n",
       "    </tr>\n",
       "    <tr>\n",
       "      <th>2</th>\n",
       "      <td>HomeImp</td>\n",
       "      <td>Other</td>\n",
       "    </tr>\n",
       "    <tr>\n",
       "      <th>3</th>\n",
       "      <td>OtherReason</td>\n",
       "      <td>Other</td>\n",
       "    </tr>\n",
       "    <tr>\n",
       "      <th>4</th>\n",
       "      <td>HomeImp</td>\n",
       "      <td>Office</td>\n",
       "    </tr>\n",
       "  </tbody>\n",
       "</table>\n",
       "</div>"
      ],
      "text/plain": [
       "        REASON     JOB\n",
       "0      HomeImp   Other\n",
       "1      HomeImp   Other\n",
       "2      HomeImp   Other\n",
       "3  OtherReason   Other\n",
       "4      HomeImp  Office"
      ]
     },
     "execution_count": 44,
     "metadata": {},
     "output_type": "execute_result"
    }
   ],
   "source": [
    "df_categorical.head()"
   ]
  },
  {
   "cell_type": "code",
   "execution_count": 45,
   "id": "7bddd1fb",
   "metadata": {
    "execution": {
     "iopub.execute_input": "2022-10-16T15:00:04.606368Z",
     "iopub.status.busy": "2022-10-16T15:00:04.605932Z",
     "iopub.status.idle": "2022-10-16T15:00:04.615086Z",
     "shell.execute_reply": "2022-10-16T15:00:04.613898Z"
    },
    "papermill": {
     "duration": 0.036614,
     "end_time": "2022-10-16T15:00:04.617256",
     "exception": false,
     "start_time": "2022-10-16T15:00:04.580642",
     "status": "completed"
    },
    "tags": []
   },
   "outputs": [
    {
     "data": {
      "text/plain": [
       "Other      2667\n",
       "ProfExe    1276\n",
       "Office      948\n",
       "Mgr         767\n",
       "Self        193\n",
       "Sales       109\n",
       "Name: JOB, dtype: int64"
      ]
     },
     "execution_count": 45,
     "metadata": {},
     "output_type": "execute_result"
    }
   ],
   "source": [
    "df_categorical['JOB'].value_counts()"
   ]
  },
  {
   "cell_type": "code",
   "execution_count": 46,
   "id": "8ba36fc5",
   "metadata": {
    "execution": {
     "iopub.execute_input": "2022-10-16T15:00:04.669081Z",
     "iopub.status.busy": "2022-10-16T15:00:04.668609Z",
     "iopub.status.idle": "2022-10-16T15:00:04.678293Z",
     "shell.execute_reply": "2022-10-16T15:00:04.677499Z"
    },
    "papermill": {
     "duration": 0.038274,
     "end_time": "2022-10-16T15:00:04.680442",
     "exception": false,
     "start_time": "2022-10-16T15:00:04.642168",
     "status": "completed"
    },
    "tags": []
   },
   "outputs": [
    {
     "data": {
      "text/plain": [
       "DebtCon        3928\n",
       "HomeImp        1780\n",
       "OtherReason     252\n",
       "Name: REASON, dtype: int64"
      ]
     },
     "execution_count": 46,
     "metadata": {},
     "output_type": "execute_result"
    }
   ],
   "source": [
    "df_categorical['REASON'].value_counts()"
   ]
  },
  {
   "cell_type": "code",
   "execution_count": 47,
   "id": "6880ba8f",
   "metadata": {
    "execution": {
     "iopub.execute_input": "2022-10-16T15:00:04.732555Z",
     "iopub.status.busy": "2022-10-16T15:00:04.731876Z",
     "iopub.status.idle": "2022-10-16T15:00:04.741064Z",
     "shell.execute_reply": "2022-10-16T15:00:04.739984Z"
    },
    "papermill": {
     "duration": 0.037658,
     "end_time": "2022-10-16T15:00:04.743197",
     "exception": false,
     "start_time": "2022-10-16T15:00:04.705539",
     "status": "completed"
    },
    "tags": []
   },
   "outputs": [],
   "source": [
    "df_categorical = df_categorical.apply(le.fit_transform)"
   ]
  },
  {
   "cell_type": "code",
   "execution_count": 48,
   "id": "8e189aba",
   "metadata": {
    "execution": {
     "iopub.execute_input": "2022-10-16T15:00:04.794204Z",
     "iopub.status.busy": "2022-10-16T15:00:04.793820Z",
     "iopub.status.idle": "2022-10-16T15:00:04.800395Z",
     "shell.execute_reply": "2022-10-16T15:00:04.799171Z"
    },
    "papermill": {
     "duration": 0.035222,
     "end_time": "2022-10-16T15:00:04.802970",
     "exception": false,
     "start_time": "2022-10-16T15:00:04.767748",
     "status": "completed"
    },
    "tags": []
   },
   "outputs": [
    {
     "name": "stdout",
     "output_type": "stream",
     "text": [
      "[0 1 2 3 4 5]\n"
     ]
    }
   ],
   "source": [
    "print(le.transform(le.classes_))"
   ]
  },
  {
   "cell_type": "code",
   "execution_count": 49,
   "id": "46d9237e",
   "metadata": {
    "execution": {
     "iopub.execute_input": "2022-10-16T15:00:04.854971Z",
     "iopub.status.busy": "2022-10-16T15:00:04.854267Z",
     "iopub.status.idle": "2022-10-16T15:00:04.860643Z",
     "shell.execute_reply": "2022-10-16T15:00:04.859793Z"
    },
    "papermill": {
     "duration": 0.035097,
     "end_time": "2022-10-16T15:00:04.862743",
     "exception": false,
     "start_time": "2022-10-16T15:00:04.827646",
     "status": "completed"
    },
    "tags": []
   },
   "outputs": [
    {
     "data": {
      "text/plain": [
       "{'Mgr': 0, 'Office': 1, 'Other': 2, 'ProfExe': 3, 'Sales': 4, 'Self': 5}"
      ]
     },
     "execution_count": 49,
     "metadata": {},
     "output_type": "execute_result"
    }
   ],
   "source": [
    "le_name_mapping = dict(zip(le.classes_, le.transform(le.classes_)))\n",
    "le_name_mapping"
   ]
  },
  {
   "cell_type": "code",
   "execution_count": 50,
   "id": "c490e443",
   "metadata": {
    "execution": {
     "iopub.execute_input": "2022-10-16T15:00:04.915345Z",
     "iopub.status.busy": "2022-10-16T15:00:04.914652Z",
     "iopub.status.idle": "2022-10-16T15:00:04.920597Z",
     "shell.execute_reply": "2022-10-16T15:00:04.919546Z"
    },
    "papermill": {
     "duration": 0.035121,
     "end_time": "2022-10-16T15:00:04.923102",
     "exception": false,
     "start_time": "2022-10-16T15:00:04.887981",
     "status": "completed"
    },
    "tags": []
   },
   "outputs": [
    {
     "data": {
      "text/plain": [
       "['REASON', 'JOB']"
      ]
     },
     "execution_count": 50,
     "metadata": {},
     "output_type": "execute_result"
    }
   ],
   "source": [
    "list(df_categorical.columns)"
   ]
  },
  {
   "cell_type": "code",
   "execution_count": 51,
   "id": "eec76779",
   "metadata": {
    "execution": {
     "iopub.execute_input": "2022-10-16T15:00:04.974591Z",
     "iopub.status.busy": "2022-10-16T15:00:04.974125Z",
     "iopub.status.idle": "2022-10-16T15:00:04.981135Z",
     "shell.execute_reply": "2022-10-16T15:00:04.979589Z"
    },
    "papermill": {
     "duration": 0.03549,
     "end_time": "2022-10-16T15:00:04.983537",
     "exception": false,
     "start_time": "2022-10-16T15:00:04.948047",
     "status": "completed"
    },
    "tags": []
   },
   "outputs": [],
   "source": [
    "df_hmeq.drop(list(df_categorical.columns),axis=1,inplace=True)"
   ]
  },
  {
   "cell_type": "code",
   "execution_count": 52,
   "id": "2a613aa5",
   "metadata": {
    "execution": {
     "iopub.execute_input": "2022-10-16T15:00:05.035765Z",
     "iopub.status.busy": "2022-10-16T15:00:05.034551Z",
     "iopub.status.idle": "2022-10-16T15:00:05.045009Z",
     "shell.execute_reply": "2022-10-16T15:00:05.044000Z"
    },
    "papermill": {
     "duration": 0.038997,
     "end_time": "2022-10-16T15:00:05.047414",
     "exception": false,
     "start_time": "2022-10-16T15:00:05.008417",
     "status": "completed"
    },
    "tags": []
   },
   "outputs": [
    {
     "data": {
      "text/plain": [
       "BAD        0\n",
       "LOAN       0\n",
       "MORTDUE    0\n",
       "VALUE      0\n",
       "YOJ        0\n",
       "DEROG      0\n",
       "DELINQ     0\n",
       "CLAGE      0\n",
       "NINQ       0\n",
       "CLNO       0\n",
       "DEBTINC    0\n",
       "dtype: int64"
      ]
     },
     "execution_count": 52,
     "metadata": {},
     "output_type": "execute_result"
    }
   ],
   "source": [
    "df_hmeq.isnull().sum()"
   ]
  },
  {
   "cell_type": "code",
   "execution_count": 53,
   "id": "0218546a",
   "metadata": {
    "execution": {
     "iopub.execute_input": "2022-10-16T15:00:05.098830Z",
     "iopub.status.busy": "2022-10-16T15:00:05.098410Z",
     "iopub.status.idle": "2022-10-16T15:00:05.105397Z",
     "shell.execute_reply": "2022-10-16T15:00:05.104407Z"
    },
    "papermill": {
     "duration": 0.035435,
     "end_time": "2022-10-16T15:00:05.107617",
     "exception": false,
     "start_time": "2022-10-16T15:00:05.072182",
     "status": "completed"
    },
    "tags": []
   },
   "outputs": [],
   "source": [
    "df_hmeq = pd.concat([df_categorical,df_hmeq],axis=1)"
   ]
  },
  {
   "cell_type": "code",
   "execution_count": 54,
   "id": "b7c7dfc0",
   "metadata": {
    "execution": {
     "iopub.execute_input": "2022-10-16T15:00:05.159987Z",
     "iopub.status.busy": "2022-10-16T15:00:05.158500Z",
     "iopub.status.idle": "2022-10-16T15:00:05.166393Z",
     "shell.execute_reply": "2022-10-16T15:00:05.165180Z"
    },
    "papermill": {
     "duration": 0.036272,
     "end_time": "2022-10-16T15:00:05.168611",
     "exception": false,
     "start_time": "2022-10-16T15:00:05.132339",
     "status": "completed"
    },
    "tags": []
   },
   "outputs": [
    {
     "data": {
      "text/plain": [
       "(5960, 13)"
      ]
     },
     "execution_count": 54,
     "metadata": {},
     "output_type": "execute_result"
    }
   ],
   "source": [
    "df_hmeq.shape"
   ]
  },
  {
   "cell_type": "markdown",
   "id": "ccc1cf12",
   "metadata": {
    "papermill": {
     "duration": 0.024373,
     "end_time": "2022-10-16T15:00:05.218940",
     "exception": false,
     "start_time": "2022-10-16T15:00:05.194567",
     "status": "completed"
    },
    "tags": []
   },
   "source": [
    "### Basic EDA"
   ]
  },
  {
   "cell_type": "code",
   "execution_count": 55,
   "id": "3db42ec6",
   "metadata": {
    "execution": {
     "iopub.execute_input": "2022-10-16T15:00:05.270328Z",
     "iopub.status.busy": "2022-10-16T15:00:05.269918Z",
     "iopub.status.idle": "2022-10-16T15:00:05.472246Z",
     "shell.execute_reply": "2022-10-16T15:00:05.471071Z"
    },
    "papermill": {
     "duration": 0.231282,
     "end_time": "2022-10-16T15:00:05.475084",
     "exception": false,
     "start_time": "2022-10-16T15:00:05.243802",
     "status": "completed"
    },
    "tags": []
   },
   "outputs": [
    {
     "data": {
      "image/png": "[encoded data removed]",
      "text/plain": [
       "<Figure size 432x288 with 1 Axes>"
      ]
     },
     "metadata": {
      "needs_background": "light"
     },
     "output_type": "display_data"
    }
   ],
   "source": [
    "sns.countplot(x='BAD',data=df_hmeq)\n",
    "plt.show()"
   ]
  },
  {
   "cell_type": "markdown",
   "id": "0673a341",
   "metadata": {
    "papermill": {
     "duration": 0.025929,
     "end_time": "2022-10-16T15:00:05.526671",
     "exception": false,
     "start_time": "2022-10-16T15:00:05.500742",
     "status": "completed"
    },
    "tags": []
   },
   "source": [
    "- Imbalance data set as people who repaid have higer precentage as compare to people who were unable to pay the loan.\n"
   ]
  },
  {
   "cell_type": "markdown",
   "id": "b0ccc2c8",
   "metadata": {
    "papermill": {
     "duration": 0.024998,
     "end_time": "2022-10-16T15:00:05.576981",
     "exception": false,
     "start_time": "2022-10-16T15:00:05.551983",
     "status": "completed"
    },
    "tags": []
   },
   "source": [
    "### EDA is remaining"
   ]
  },
  {
   "cell_type": "code",
   "execution_count": 56,
   "id": "b5cd4807",
   "metadata": {
    "execution": {
     "iopub.execute_input": "2022-10-16T15:00:05.627925Z",
     "iopub.status.busy": "2022-10-16T15:00:05.627497Z",
     "iopub.status.idle": "2022-10-16T15:00:05.634493Z",
     "shell.execute_reply": "2022-10-16T15:00:05.633594Z"
    },
    "papermill": {
     "duration": 0.035073,
     "end_time": "2022-10-16T15:00:05.636765",
     "exception": false,
     "start_time": "2022-10-16T15:00:05.601692",
     "status": "completed"
    },
    "tags": []
   },
   "outputs": [],
   "source": [
    "#BaseLine Accuracy\n",
    "X = df_hmeq.drop('BAD',axis=1)\n",
    "y = df_hmeq['BAD']"
   ]
  },
  {
   "cell_type": "code",
   "execution_count": 57,
   "id": "58e85ee6",
   "metadata": {
    "execution": {
     "iopub.execute_input": "2022-10-16T15:00:05.688024Z",
     "iopub.status.busy": "2022-10-16T15:00:05.687628Z",
     "iopub.status.idle": "2022-10-16T15:00:05.699022Z",
     "shell.execute_reply": "2022-10-16T15:00:05.697750Z"
    },
    "papermill": {
     "duration": 0.040161,
     "end_time": "2022-10-16T15:00:05.701603",
     "exception": false,
     "start_time": "2022-10-16T15:00:05.661442",
     "status": "completed"
    },
    "tags": []
   },
   "outputs": [
    {
     "name": "stdout",
     "output_type": "stream",
     "text": [
      "(4172, 12)\n",
      "(4172,)\n",
      "(1788, 12)\n",
      "(1788,)\n"
     ]
    }
   ],
   "source": [
    "X_train,X_test,y_train,y_test = train_test_split(X,y,test_size=0.3,stratify=y,random_state=100)\n",
    "#Stratify will help in having the same proportion of y as in original data set for train and test\n",
    "print(X_train.shape)\n",
    "print(y_train.shape)\n",
    "print(X_test.shape)\n",
    "print(y_test.shape)"
   ]
  },
  {
   "cell_type": "code",
   "execution_count": 58,
   "id": "ab80e294",
   "metadata": {
    "execution": {
     "iopub.execute_input": "2022-10-16T15:00:05.754030Z",
     "iopub.status.busy": "2022-10-16T15:00:05.752920Z",
     "iopub.status.idle": "2022-10-16T15:00:05.759257Z",
     "shell.execute_reply": "2022-10-16T15:00:05.758527Z"
    },
    "papermill": {
     "duration": 0.034597,
     "end_time": "2022-10-16T15:00:05.761394",
     "exception": false,
     "start_time": "2022-10-16T15:00:05.726797",
     "status": "completed"
    },
    "tags": []
   },
   "outputs": [],
   "source": [
    "from sklearn.dummy import DummyClassifier"
   ]
  },
  {
   "cell_type": "code",
   "execution_count": 59,
   "id": "7cf7aecb",
   "metadata": {
    "execution": {
     "iopub.execute_input": "2022-10-16T15:00:05.813573Z",
     "iopub.status.busy": "2022-10-16T15:00:05.812821Z",
     "iopub.status.idle": "2022-10-16T15:00:05.821453Z",
     "shell.execute_reply": "2022-10-16T15:00:05.820590Z"
    },
    "papermill": {
     "duration": 0.036955,
     "end_time": "2022-10-16T15:00:05.823404",
     "exception": false,
     "start_time": "2022-10-16T15:00:05.786449",
     "status": "completed"
    },
    "tags": []
   },
   "outputs": [
    {
     "data": {
      "text/plain": [
       "DummyClassifier(strategy='most_frequent')"
      ]
     },
     "execution_count": 59,
     "metadata": {},
     "output_type": "execute_result"
    }
   ],
   "source": [
    "dummy_clf = DummyClassifier(strategy ='most_frequent')\n",
    "dummy_clf.fit(X_train,y_train)"
   ]
  },
  {
   "cell_type": "code",
   "execution_count": 60,
   "id": "48fc1a46",
   "metadata": {
    "execution": {
     "iopub.execute_input": "2022-10-16T15:00:05.875568Z",
     "iopub.status.busy": "2022-10-16T15:00:05.874858Z",
     "iopub.status.idle": "2022-10-16T15:00:05.881781Z",
     "shell.execute_reply": "2022-10-16T15:00:05.880303Z"
    },
    "papermill": {
     "duration": 0.035577,
     "end_time": "2022-10-16T15:00:05.884085",
     "exception": false,
     "start_time": "2022-10-16T15:00:05.848508",
     "status": "completed"
    },
    "tags": []
   },
   "outputs": [
    {
     "name": "stdout",
     "output_type": "stream",
     "text": [
      "0.8003355704697986\n"
     ]
    }
   ],
   "source": [
    "baseline_accurracy = dummy_clf.score(X_test,y_test)\n",
    "print(baseline_accurracy)"
   ]
  },
  {
   "cell_type": "markdown",
   "id": "6b701de8",
   "metadata": {
    "papermill": {
     "duration": 0.024545,
     "end_time": "2022-10-16T15:00:05.933877",
     "exception": false,
     "start_time": "2022-10-16T15:00:05.909332",
     "status": "completed"
    },
    "tags": []
   },
   "source": [
    "### Ensemble Learning"
   ]
  },
  {
   "cell_type": "code",
   "execution_count": 61,
   "id": "b497e90a",
   "metadata": {
    "execution": {
     "iopub.execute_input": "2022-10-16T15:00:05.986691Z",
     "iopub.status.busy": "2022-10-16T15:00:05.985480Z",
     "iopub.status.idle": "2022-10-16T15:00:06.183658Z",
     "shell.execute_reply": "2022-10-16T15:00:06.182469Z"
    },
    "papermill": {
     "duration": 0.227482,
     "end_time": "2022-10-16T15:00:06.186308",
     "exception": false,
     "start_time": "2022-10-16T15:00:05.958826",
     "status": "completed"
    },
    "tags": []
   },
   "outputs": [],
   "source": [
    "from sklearn.ensemble import BaggingClassifier\n",
    "from sklearn.metrics import accuracy_score"
   ]
  },
  {
   "cell_type": "code",
   "execution_count": 62,
   "id": "8cd2b0db",
   "metadata": {
    "execution": {
     "iopub.execute_input": "2022-10-16T15:00:06.239258Z",
     "iopub.status.busy": "2022-10-16T15:00:06.238854Z",
     "iopub.status.idle": "2022-10-16T15:00:06.522954Z",
     "shell.execute_reply": "2022-10-16T15:00:06.521598Z"
    },
    "papermill": {
     "duration": 0.313185,
     "end_time": "2022-10-16T15:00:06.525599",
     "exception": false,
     "start_time": "2022-10-16T15:00:06.212414",
     "status": "completed"
    },
    "tags": []
   },
   "outputs": [
    {
     "name": "stdout",
     "output_type": "stream",
     "text": [
      "Accuracy:0.8937360178970917\n"
     ]
    }
   ],
   "source": [
    "bagging_model = BaggingClassifier(random_state =100)\n",
    "bagging_model.fit(X_train,y_train)\n",
    "bagging_y_pred = bagging_model.predict(X_test)\n",
    "bagging_acc = accuracy_score(y_test ,bagging_y_pred )\n",
    "print(f'Accuracy:{bagging_acc}')"
   ]
  },
  {
   "cell_type": "code",
   "execution_count": 63,
   "id": "8591b126",
   "metadata": {
    "execution": {
     "iopub.execute_input": "2022-10-16T15:00:06.578593Z",
     "iopub.status.busy": "2022-10-16T15:00:06.578131Z",
     "iopub.status.idle": "2022-10-16T15:00:06.590687Z",
     "shell.execute_reply": "2022-10-16T15:00:06.589348Z"
    },
    "papermill": {
     "duration": 0.043367,
     "end_time": "2022-10-16T15:00:06.594807",
     "exception": false,
     "start_time": "2022-10-16T15:00:06.551440",
     "status": "completed"
    },
    "tags": []
   },
   "outputs": [
    {
     "name": "stdout",
     "output_type": "stream",
     "text": [
      "Classification Report:\n",
      "\n",
      "              precision    recall  f1-score   support\n",
      "\n",
      "           0       0.91      0.96      0.94      1431\n",
      "           1       0.80      0.63      0.70       357\n",
      "\n",
      "    accuracy                           0.89      1788\n",
      "   macro avg       0.85      0.79      0.82      1788\n",
      "weighted avg       0.89      0.89      0.89      1788\n",
      "\n"
     ]
    }
   ],
   "source": [
    "from sklearn.metrics import (\n",
    "    classification_report,\n",
    "    recall_score,\n",
    "    precision_score,\n",
    "    accuracy_score\n",
    ")\n",
    "print('Classification Report:\\n')\n",
    "print(classification_report(y_test, bagging_y_pred))"
   ]
  },
  {
   "cell_type": "markdown",
   "id": "130ffff6",
   "metadata": {
    "papermill": {
     "duration": 0.025658,
     "end_time": "2022-10-16T15:00:06.647531",
     "exception": false,
     "start_time": "2022-10-16T15:00:06.621873",
     "status": "completed"
    },
    "tags": []
   },
   "source": [
    "- Try sub-sampling the dataset as it is an imbalanced dataset."
   ]
  },
  {
   "cell_type": "code",
   "execution_count": 64,
   "id": "fecb0900",
   "metadata": {
    "execution": {
     "iopub.execute_input": "2022-10-16T15:00:06.701131Z",
     "iopub.status.busy": "2022-10-16T15:00:06.700434Z",
     "iopub.status.idle": "2022-10-16T15:00:06.709530Z",
     "shell.execute_reply": "2022-10-16T15:00:06.708761Z"
    },
    "papermill": {
     "duration": 0.03789,
     "end_time": "2022-10-16T15:00:06.711430",
     "exception": false,
     "start_time": "2022-10-16T15:00:06.673540",
     "status": "completed"
    },
    "tags": []
   },
   "outputs": [
    {
     "data": {
      "text/plain": [
       "0.6302521008403361"
      ]
     },
     "execution_count": 64,
     "metadata": {},
     "output_type": "execute_result"
    }
   ],
   "source": [
    "recall_score(y_test, bagging_y_pred)"
   ]
  },
  {
   "cell_type": "code",
   "execution_count": 65,
   "id": "f51503f9",
   "metadata": {
    "execution": {
     "iopub.execute_input": "2022-10-16T15:00:06.765058Z",
     "iopub.status.busy": "2022-10-16T15:00:06.763856Z",
     "iopub.status.idle": "2022-10-16T15:00:06.837027Z",
     "shell.execute_reply": "2022-10-16T15:00:06.834359Z"
    },
    "papermill": {
     "duration": 0.102474,
     "end_time": "2022-10-16T15:00:06.839464",
     "exception": false,
     "start_time": "2022-10-16T15:00:06.736990",
     "status": "completed"
    },
    "tags": []
   },
   "outputs": [
    {
     "name": "stdout",
     "output_type": "stream",
     "text": [
      "========================================\n",
      "Recall for Base Model 1:\t 0.61905\n",
      "----------------------------------------\n",
      "Recall for Base Model 2:\t 0.64426\n",
      "----------------------------------------\n",
      "Recall for Base Model 3:\t 0.60504\n",
      "----------------------------------------\n",
      "Recall for Base Model 4:\t 0.61625\n",
      "----------------------------------------\n",
      "Recall for Base Model 5:\t 0.61625\n",
      "----------------------------------------\n",
      "Recall for Base Model 6:\t 0.64706\n",
      "----------------------------------------\n",
      "Recall for Base Model 7:\t 0.61345\n",
      "----------------------------------------\n",
      "Recall for Base Model 8:\t 0.64706\n",
      "----------------------------------------\n",
      "Recall for Base Model 9:\t 0.62185\n",
      "----------------------------------------\n",
      "Recall for Base Model 10:\t 0.61064\n",
      "========================================\n",
      "Mean Recall Score:\t\t 0.62409\n",
      "Std Deviation:\t\t\t 0.01507\n",
      "Range:\t\t\t\t 0.04202\n",
      "Overall Recall for model:\t 0.63025\n"
     ]
    },
    {
     "name": "stderr",
     "output_type": "stream",
     "text": [
      "/opt/conda/lib/python3.7/site-packages/sklearn/base.py:444: UserWarning: X has feature names, but DecisionTreeClassifier was fitted without feature names\n",
      "  f\"X has feature names, but {self.__class__.__name__} was fitted without\"\n",
      "/opt/conda/lib/python3.7/site-packages/sklearn/base.py:444: UserWarning: X has feature names, but DecisionTreeClassifier was fitted without feature names\n",
      "  f\"X has feature names, but {self.__class__.__name__} was fitted without\"\n",
      "/opt/conda/lib/python3.7/site-packages/sklearn/base.py:444: UserWarning: X has feature names, but DecisionTreeClassifier was fitted without feature names\n",
      "  f\"X has feature names, but {self.__class__.__name__} was fitted without\"\n",
      "/opt/conda/lib/python3.7/site-packages/sklearn/base.py:444: UserWarning: X has feature names, but DecisionTreeClassifier was fitted without feature names\n",
      "  f\"X has feature names, but {self.__class__.__name__} was fitted without\"\n",
      "/opt/conda/lib/python3.7/site-packages/sklearn/base.py:444: UserWarning: X has feature names, but DecisionTreeClassifier was fitted without feature names\n",
      "  f\"X has feature names, but {self.__class__.__name__} was fitted without\"\n",
      "/opt/conda/lib/python3.7/site-packages/sklearn/base.py:444: UserWarning: X has feature names, but DecisionTreeClassifier was fitted without feature names\n",
      "  f\"X has feature names, but {self.__class__.__name__} was fitted without\"\n",
      "/opt/conda/lib/python3.7/site-packages/sklearn/base.py:444: UserWarning: X has feature names, but DecisionTreeClassifier was fitted without feature names\n",
      "  f\"X has feature names, but {self.__class__.__name__} was fitted without\"\n",
      "/opt/conda/lib/python3.7/site-packages/sklearn/base.py:444: UserWarning: X has feature names, but DecisionTreeClassifier was fitted without feature names\n",
      "  f\"X has feature names, but {self.__class__.__name__} was fitted without\"\n",
      "/opt/conda/lib/python3.7/site-packages/sklearn/base.py:444: UserWarning: X has feature names, but DecisionTreeClassifier was fitted without feature names\n",
      "  f\"X has feature names, but {self.__class__.__name__} was fitted without\"\n",
      "/opt/conda/lib/python3.7/site-packages/sklearn/base.py:444: UserWarning: X has feature names, but DecisionTreeClassifier was fitted without feature names\n",
      "  f\"X has feature names, but {self.__class__.__name__} was fitted without\"\n"
     ]
    }
   ],
   "source": [
    "def print_recall_scores(ensemble, feats, true_labels):\n",
    "    '''\n",
    "    Prints the recall scores for base estimators in a sklearn ensemble model.\n",
    "    '''\n",
    "    scores = []\n",
    "    for model_idx, model in enumerate(ensemble.estimators_):\n",
    "        if model_idx == 0:\n",
    "            print('='*40)\n",
    "        preds = model.predict(feats)\n",
    "        scores.append(recall_score(true_labels, preds))\n",
    "        model_recall = np.round(recall_score(true_labels, preds), 5)\n",
    "        print(f'Recall for Base Model {model_idx+1}:\\t', model_recall)\n",
    "        if model_idx < (len(ensemble.estimators_) - 1):\n",
    "            print('-'*40)\n",
    "        else:\n",
    "            print('='*40)\n",
    "    ensemble_preds = ensemble.predict(feats)\n",
    "    print(\"Mean Recall Score:\\t\\t\", np.round(np.array(scores).mean(), 5))\n",
    "    print(\"Std Deviation:\\t\\t\\t\", np.round(np.array(scores).std(), 5))\n",
    "    print(\"Range:\\t\\t\\t\\t\", np.round(np.array(scores).ptp(), 5))\n",
    "    print(f'Overall Recall for model:\\t {np.round(recall_score(y_test, ensemble_preds), 5)}')\n",
    "\n",
    "print_recall_scores(bagging_model, X_test, y_test)"
   ]
  },
  {
   "cell_type": "markdown",
   "id": "a2ab1fc4",
   "metadata": {
    "papermill": {
     "duration": 0.025373,
     "end_time": "2022-10-16T15:00:06.890637",
     "exception": false,
     "start_time": "2022-10-16T15:00:06.865264",
     "status": "completed"
    },
    "tags": []
   },
   "source": [
    "### Random Forests"
   ]
  },
  {
   "cell_type": "code",
   "execution_count": 66,
   "id": "8f866af7",
   "metadata": {
    "execution": {
     "iopub.execute_input": "2022-10-16T15:00:06.943872Z",
     "iopub.status.busy": "2022-10-16T15:00:06.943466Z",
     "iopub.status.idle": "2022-10-16T15:00:06.948303Z",
     "shell.execute_reply": "2022-10-16T15:00:06.947230Z"
    },
    "papermill": {
     "duration": 0.034253,
     "end_time": "2022-10-16T15:00:06.950610",
     "exception": false,
     "start_time": "2022-10-16T15:00:06.916357",
     "status": "completed"
    },
    "tags": []
   },
   "outputs": [],
   "source": [
    "from sklearn.ensemble import RandomForestClassifier"
   ]
  },
  {
   "cell_type": "code",
   "execution_count": 67,
   "id": "be955966",
   "metadata": {
    "execution": {
     "iopub.execute_input": "2022-10-16T15:00:07.004400Z",
     "iopub.status.busy": "2022-10-16T15:00:07.003963Z",
     "iopub.status.idle": "2022-10-16T15:00:07.009368Z",
     "shell.execute_reply": "2022-10-16T15:00:07.008290Z"
    },
    "papermill": {
     "duration": 0.034659,
     "end_time": "2022-10-16T15:00:07.011530",
     "exception": false,
     "start_time": "2022-10-16T15:00:06.976871",
     "status": "completed"
    },
    "tags": []
   },
   "outputs": [],
   "source": [
    "rf_model = RandomForestClassifier(n_estimators = 10,max_features = 7,random_state = 100)"
   ]
  },
  {
   "cell_type": "code",
   "execution_count": 68,
   "id": "c609a0ac",
   "metadata": {
    "execution": {
     "iopub.execute_input": "2022-10-16T15:00:07.065436Z",
     "iopub.status.busy": "2022-10-16T15:00:07.064337Z",
     "iopub.status.idle": "2022-10-16T15:00:07.244942Z",
     "shell.execute_reply": "2022-10-16T15:00:07.243968Z"
    },
    "papermill": {
     "duration": 0.209811,
     "end_time": "2022-10-16T15:00:07.247429",
     "exception": false,
     "start_time": "2022-10-16T15:00:07.037618",
     "status": "completed"
    },
    "tags": []
   },
   "outputs": [
    {
     "data": {
      "text/plain": [
       "RandomForestClassifier(max_features=7, n_estimators=10, random_state=100)"
      ]
     },
     "execution_count": 68,
     "metadata": {},
     "output_type": "execute_result"
    }
   ],
   "source": [
    "rf_model.fit(X_train,y_train)"
   ]
  },
  {
   "cell_type": "code",
   "execution_count": 69,
   "id": "aa0d2484",
   "metadata": {
    "execution": {
     "iopub.execute_input": "2022-10-16T15:00:07.301518Z",
     "iopub.status.busy": "2022-10-16T15:00:07.300679Z",
     "iopub.status.idle": "2022-10-16T15:00:07.313586Z",
     "shell.execute_reply": "2022-10-16T15:00:07.312548Z"
    },
    "papermill": {
     "duration": 0.042574,
     "end_time": "2022-10-16T15:00:07.316065",
     "exception": false,
     "start_time": "2022-10-16T15:00:07.273491",
     "status": "completed"
    },
    "tags": []
   },
   "outputs": [],
   "source": [
    "rf_y_test_pred = rf_model.predict(X_test)"
   ]
  },
  {
   "cell_type": "code",
   "execution_count": 70,
   "id": "d90ec641",
   "metadata": {
    "execution": {
     "iopub.execute_input": "2022-10-16T15:00:07.369985Z",
     "iopub.status.busy": "2022-10-16T15:00:07.369594Z",
     "iopub.status.idle": "2022-10-16T15:00:07.382600Z",
     "shell.execute_reply": "2022-10-16T15:00:07.381323Z"
    },
    "papermill": {
     "duration": 0.042833,
     "end_time": "2022-10-16T15:00:07.385008",
     "exception": false,
     "start_time": "2022-10-16T15:00:07.342175",
     "status": "completed"
    },
    "tags": []
   },
   "outputs": [
    {
     "name": "stdout",
     "output_type": "stream",
     "text": [
      "Classification Report for Random Forest:\n",
      "\n",
      "              precision    recall  f1-score   support\n",
      "\n",
      "           0       0.92      0.96      0.94      1431\n",
      "           1       0.80      0.64      0.71       357\n",
      "\n",
      "    accuracy                           0.90      1788\n",
      "   macro avg       0.86      0.80      0.83      1788\n",
      "weighted avg       0.89      0.90      0.89      1788\n",
      "\n"
     ]
    }
   ],
   "source": [
    "from sklearn.metrics import (\n",
    "    classification_report,\n",
    "    recall_score,\n",
    "    precision_score,\n",
    "    accuracy_score\n",
    ")\n",
    "print('Classification Report for Random Forest:\\n')\n",
    "print(classification_report(y_test, rf_y_test_pred))"
   ]
  },
  {
   "cell_type": "code",
   "execution_count": 71,
   "id": "57845451",
   "metadata": {
    "execution": {
     "iopub.execute_input": "2022-10-16T15:00:07.439163Z",
     "iopub.status.busy": "2022-10-16T15:00:07.438756Z",
     "iopub.status.idle": "2022-10-16T15:00:07.514279Z",
     "shell.execute_reply": "2022-10-16T15:00:07.512248Z"
    },
    "papermill": {
     "duration": 0.106441,
     "end_time": "2022-10-16T15:00:07.517486",
     "exception": false,
     "start_time": "2022-10-16T15:00:07.411045",
     "status": "completed"
    },
    "tags": []
   },
   "outputs": [
    {
     "name": "stdout",
     "output_type": "stream",
     "text": [
      "========================================\n",
      "Recall for Base Model 1:\t 0.57703\n",
      "----------------------------------------\n",
      "Recall for Base Model 2:\t 0.61625\n",
      "----------------------------------------\n",
      "Recall for Base Model 3:\t 0.64706\n",
      "----------------------------------------\n",
      "Recall for Base Model 4:\t 0.64986\n",
      "----------------------------------------\n",
      "Recall for Base Model 5:\t 0.59664\n",
      "----------------------------------------\n",
      "Recall for Base Model 6:\t 0.66106\n",
      "----------------------------------------\n",
      "Recall for Base Model 7:\t 0.64706\n",
      "----------------------------------------\n",
      "Recall for Base Model 8:\t 0.64706\n",
      "----------------------------------------\n",
      "Recall for Base Model 9:\t 0.60784\n",
      "----------------------------------------\n",
      "Recall for Base Model 10:\t 0.62465\n",
      "========================================\n",
      "Mean Recall Score:\t\t 0.62745\n",
      "Std Deviation:\t\t\t 0.02607\n",
      "Range:\t\t\t\t 0.08403\n",
      "Overall Recall for model:\t 0.64426\n"
     ]
    },
    {
     "name": "stderr",
     "output_type": "stream",
     "text": [
      "/opt/conda/lib/python3.7/site-packages/sklearn/base.py:444: UserWarning: X has feature names, but DecisionTreeClassifier was fitted without feature names\n",
      "  f\"X has feature names, but {self.__class__.__name__} was fitted without\"\n",
      "/opt/conda/lib/python3.7/site-packages/sklearn/base.py:444: UserWarning: X has feature names, but DecisionTreeClassifier was fitted without feature names\n",
      "  f\"X has feature names, but {self.__class__.__name__} was fitted without\"\n",
      "/opt/conda/lib/python3.7/site-packages/sklearn/base.py:444: UserWarning: X has feature names, but DecisionTreeClassifier was fitted without feature names\n",
      "  f\"X has feature names, but {self.__class__.__name__} was fitted without\"\n",
      "/opt/conda/lib/python3.7/site-packages/sklearn/base.py:444: UserWarning: X has feature names, but DecisionTreeClassifier was fitted without feature names\n",
      "  f\"X has feature names, but {self.__class__.__name__} was fitted without\"\n",
      "/opt/conda/lib/python3.7/site-packages/sklearn/base.py:444: UserWarning: X has feature names, but DecisionTreeClassifier was fitted without feature names\n",
      "  f\"X has feature names, but {self.__class__.__name__} was fitted without\"\n",
      "/opt/conda/lib/python3.7/site-packages/sklearn/base.py:444: UserWarning: X has feature names, but DecisionTreeClassifier was fitted without feature names\n",
      "  f\"X has feature names, but {self.__class__.__name__} was fitted without\"\n",
      "/opt/conda/lib/python3.7/site-packages/sklearn/base.py:444: UserWarning: X has feature names, but DecisionTreeClassifier was fitted without feature names\n",
      "  f\"X has feature names, but {self.__class__.__name__} was fitted without\"\n",
      "/opt/conda/lib/python3.7/site-packages/sklearn/base.py:444: UserWarning: X has feature names, but DecisionTreeClassifier was fitted without feature names\n",
      "  f\"X has feature names, but {self.__class__.__name__} was fitted without\"\n",
      "/opt/conda/lib/python3.7/site-packages/sklearn/base.py:444: UserWarning: X has feature names, but DecisionTreeClassifier was fitted without feature names\n",
      "  f\"X has feature names, but {self.__class__.__name__} was fitted without\"\n",
      "/opt/conda/lib/python3.7/site-packages/sklearn/base.py:444: UserWarning: X has feature names, but DecisionTreeClassifier was fitted without feature names\n",
      "  f\"X has feature names, but {self.__class__.__name__} was fitted without\"\n"
     ]
    }
   ],
   "source": [
    "def print_recall_scores(ensemble, feats, true_labels):\n",
    "    '''\n",
    "    Prints the recall scores for base estimators in a sklearn ensemble model.\n",
    "    '''\n",
    "    scores = []\n",
    "    for model_idx, model in enumerate(ensemble.estimators_):\n",
    "        if model_idx == 0:\n",
    "            print('='*40)\n",
    "        preds = model.predict(feats)\n",
    "        scores.append(recall_score(true_labels, preds))\n",
    "        model_recall = np.round(recall_score(true_labels, preds), 5)\n",
    "        print(f'Recall for Base Model {model_idx+1}:\\t', model_recall)\n",
    "        if model_idx < (len(ensemble.estimators_) - 1):\n",
    "            print('-'*40)\n",
    "        else:\n",
    "            print('='*40)\n",
    "    ensemble_preds = ensemble.predict(feats)\n",
    "    print(\"Mean Recall Score:\\t\\t\", np.round(np.array(scores).mean(), 5))\n",
    "    print(\"Std Deviation:\\t\\t\\t\", np.round(np.array(scores).std(), 5))\n",
    "    print(\"Range:\\t\\t\\t\\t\", np.round(np.array(scores).ptp(), 5))\n",
    "    print(f'Overall Recall for model:\\t {np.round(recall_score(y_test, ensemble_preds), 5)}')\n",
    "\n",
    "print_recall_scores(rf_model, X_test, y_test)"
   ]
  },
  {
   "cell_type": "code",
   "execution_count": 72,
   "id": "4d90384d",
   "metadata": {
    "execution": {
     "iopub.execute_input": "2022-10-16T15:00:07.573058Z",
     "iopub.status.busy": "2022-10-16T15:00:07.572636Z",
     "iopub.status.idle": "2022-10-16T15:00:09.308421Z",
     "shell.execute_reply": "2022-10-16T15:00:09.307227Z"
    },
    "papermill": {
     "duration": 1.766162,
     "end_time": "2022-10-16T15:00:09.310703",
     "exception": false,
     "start_time": "2022-10-16T15:00:07.544541",
     "status": "completed"
    },
    "tags": []
   },
   "outputs": [
    {
     "data": {
      "text/plain": [
       "RandomForestClassifier(max_features=7, oob_score=True, random_state=50)"
      ]
     },
     "execution_count": 72,
     "metadata": {},
     "output_type": "execute_result"
    }
   ],
   "source": [
    "rf_model_oob = RandomForestClassifier(n_estimators = 100,max_features = 7,oob_score=True,random_state = 50)\n",
    "rf_model_oob.fit(X_train,y_train)"
   ]
  },
  {
   "cell_type": "code",
   "execution_count": 73,
   "id": "96d5d339",
   "metadata": {
    "execution": {
     "iopub.execute_input": "2022-10-16T15:00:09.365936Z",
     "iopub.status.busy": "2022-10-16T15:00:09.365398Z",
     "iopub.status.idle": "2022-10-16T15:00:09.419551Z",
     "shell.execute_reply": "2022-10-16T15:00:09.418120Z"
    },
    "papermill": {
     "duration": 0.085992,
     "end_time": "2022-10-16T15:00:09.423066",
     "exception": false,
     "start_time": "2022-10-16T15:00:09.337074",
     "status": "completed"
    },
    "tags": []
   },
   "outputs": [
    {
     "name": "stdout",
     "output_type": "stream",
     "text": [
      "OOB Score:0.9051\n",
      "Testing Accuracy:1\n",
      "Acc.Difference:0.0949\n"
     ]
    }
   ],
   "source": [
    "oob_score = round(rf_model_oob.oob_score_,4)\n",
    "acc_oob = round(accuracy_score(y_test,rf_model_oob.predict(X_test)))\n",
    "diff_oob = round(abs(oob_score-acc_oob),4)\n",
    "\n",
    "print(f'OOB Score:{oob_score}')\n",
    "print(f'Testing Accuracy:{acc_oob}')\n",
    "print(f'Acc.Difference:{diff_oob}')"
   ]
  },
  {
   "cell_type": "markdown",
   "id": "0190c0d4",
   "metadata": {
    "papermill": {
     "duration": 0.02576,
     "end_time": "2022-10-16T15:00:09.476043",
     "exception": false,
     "start_time": "2022-10-16T15:00:09.450283",
     "status": "completed"
    },
    "tags": []
   },
   "source": [
    "- OOB score is comparable to the Accuracy score."
   ]
  },
  {
   "cell_type": "code",
   "execution_count": null,
   "id": "c540c463",
   "metadata": {
    "papermill": {
     "duration": 0.026099,
     "end_time": "2022-10-16T15:00:09.528677",
     "exception": false,
     "start_time": "2022-10-16T15:00:09.502578",
     "status": "completed"
    },
    "tags": []
   },
   "outputs": [],
   "source": []
  }
 ],
 "metadata": {
  "kernelspec": {
   "display_name": "Python 3",
   "language": "python",
   "name": "python3"
  },
  "language_info": {
   "codemirror_mode": {
    "name": "ipython",
    "version": 3
   },
   "file_extension": ".py",
   "mimetype": "text/x-python",
   "name": "python",
   "nbconvert_exporter": "python",
   "pygments_lexer": "ipython3",
   "version": "3.7.12"
  },
  "papermill": {
   "default_parameters": {},
   "duration": 20.236125,
   "end_time": "2022-10-16T15:00:10.378080",
   "environment_variables": {},
   "exception": null,
   "input_path": "__notebook__.ipynb",
   "output_path": "__notebook__.ipynb",
   "parameters": {},
   "start_time": "2022-10-16T14:59:50.141955",
   "version": "2.3.4"
  }
 },
 "nbformat": 4,
 "nbformat_minor": 5
}
