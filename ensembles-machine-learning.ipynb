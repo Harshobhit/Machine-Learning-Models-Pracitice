{
 "cells": [
  {
   "cell_type": "code",
   "execution_count": 1,
   "id": "41ad1063",
   "metadata": {
    "_cell_guid": "b1076dfc-b9ad-4769-8c92-a6c4dae69d19",
    "_uuid": "8f2839f25d086af736a60e9eeb907d3b93b6e0e5",
    "execution": {
     "iopub.execute_input": "2022-10-15T18:55:03.531997Z",
     "iopub.status.busy": "2022-10-15T18:55:03.531462Z",
     "iopub.status.idle": "2022-10-15T18:55:04.938806Z",
     "shell.execute_reply": "2022-10-15T18:55:04.937654Z"
    },
    "papermill": {
     "duration": 1.434155,
     "end_time": "2022-10-15T18:55:04.942151",
     "exception": false,
     "start_time": "2022-10-15T18:55:03.507996",
     "status": "completed"
    },
    "tags": []
   },
   "outputs": [],
   "source": [
    "import numpy as np\n",
    "import pandas as pd\n",
    "import matplotlib.pyplot as plt\n",
    "import seaborn as sns\n",
    "from sklearn.model_selection import train_test_split"
   ]
  },
  {
   "cell_type": "markdown",
   "id": "b4b5a67c",
   "metadata": {
    "papermill": {
     "duration": 0.017324,
     "end_time": "2022-10-15T18:55:04.976958",
     "exception": false,
     "start_time": "2022-10-15T18:55:04.959634",
     "status": "completed"
    },
    "tags": []
   },
   "source": [
    "### Reading Data\n"
   ]
  },
  {
   "cell_type": "code",
   "execution_count": 2,
   "id": "202390cb",
   "metadata": {
    "execution": {
     "iopub.execute_input": "2022-10-15T18:55:05.014642Z",
     "iopub.status.busy": "2022-10-15T18:55:05.014202Z",
     "iopub.status.idle": "2022-10-15T18:55:05.052849Z",
     "shell.execute_reply": "2022-10-15T18:55:05.051993Z"
    },
    "papermill": {
     "duration": 0.060127,
     "end_time": "2022-10-15T18:55:05.055367",
     "exception": false,
     "start_time": "2022-10-15T18:55:04.995240",
     "status": "completed"
    },
    "tags": []
   },
   "outputs": [],
   "source": [
    "df_hmeq = pd.read_csv('../input/hmeq-data/hmeq.csv')"
   ]
  },
  {
   "cell_type": "code",
   "execution_count": 3,
   "id": "2f791fbf",
   "metadata": {
    "execution": {
     "iopub.execute_input": "2022-10-15T18:55:05.092198Z",
     "iopub.status.busy": "2022-10-15T18:55:05.091261Z",
     "iopub.status.idle": "2022-10-15T18:55:05.128257Z",
     "shell.execute_reply": "2022-10-15T18:55:05.124796Z"
    },
    "papermill": {
     "duration": 0.058995,
     "end_time": "2022-10-15T18:55:05.131870",
     "exception": false,
     "start_time": "2022-10-15T18:55:05.072875",
     "status": "completed"
    },
    "tags": []
   },
   "outputs": [
    {
     "data": {
      "text/html": [
       "<div>\n",
       "<style scoped>\n",
       "    .dataframe tbody tr th:only-of-type {\n",
       "        vertical-align: middle;\n",
       "    }\n",
       "\n",
       "    .dataframe tbody tr th {\n",
       "        vertical-align: top;\n",
       "    }\n",
       "\n",
       "    .dataframe thead th {\n",
       "        text-align: right;\n",
       "    }\n",
       "</style>\n",
       "<table border=\"1\" class=\"dataframe\">\n",
       "  <thead>\n",
       "    <tr style=\"text-align: right;\">\n",
       "      <th></th>\n",
       "      <th>BAD</th>\n",
       "      <th>LOAN</th>\n",
       "      <th>MORTDUE</th>\n",
       "      <th>VALUE</th>\n",
       "      <th>REASON</th>\n",
       "      <th>JOB</th>\n",
       "      <th>YOJ</th>\n",
       "      <th>DEROG</th>\n",
       "      <th>DELINQ</th>\n",
       "      <th>CLAGE</th>\n",
       "      <th>NINQ</th>\n",
       "      <th>CLNO</th>\n",
       "      <th>DEBTINC</th>\n",
       "    </tr>\n",
       "  </thead>\n",
       "  <tbody>\n",
       "    <tr>\n",
       "      <th>0</th>\n",
       "      <td>1</td>\n",
       "      <td>1100</td>\n",
       "      <td>25860.0</td>\n",
       "      <td>39025.0</td>\n",
       "      <td>HomeImp</td>\n",
       "      <td>Other</td>\n",
       "      <td>10.5</td>\n",
       "      <td>0.0</td>\n",
       "      <td>0.0</td>\n",
       "      <td>94.366667</td>\n",
       "      <td>1.0</td>\n",
       "      <td>9.0</td>\n",
       "      <td>NaN</td>\n",
       "    </tr>\n",
       "    <tr>\n",
       "      <th>1</th>\n",
       "      <td>1</td>\n",
       "      <td>1300</td>\n",
       "      <td>70053.0</td>\n",
       "      <td>68400.0</td>\n",
       "      <td>HomeImp</td>\n",
       "      <td>Other</td>\n",
       "      <td>7.0</td>\n",
       "      <td>0.0</td>\n",
       "      <td>2.0</td>\n",
       "      <td>121.833333</td>\n",
       "      <td>0.0</td>\n",
       "      <td>14.0</td>\n",
       "      <td>NaN</td>\n",
       "    </tr>\n",
       "    <tr>\n",
       "      <th>2</th>\n",
       "      <td>1</td>\n",
       "      <td>1500</td>\n",
       "      <td>13500.0</td>\n",
       "      <td>16700.0</td>\n",
       "      <td>HomeImp</td>\n",
       "      <td>Other</td>\n",
       "      <td>4.0</td>\n",
       "      <td>0.0</td>\n",
       "      <td>0.0</td>\n",
       "      <td>149.466667</td>\n",
       "      <td>1.0</td>\n",
       "      <td>10.0</td>\n",
       "      <td>NaN</td>\n",
       "    </tr>\n",
       "    <tr>\n",
       "      <th>3</th>\n",
       "      <td>1</td>\n",
       "      <td>1500</td>\n",
       "      <td>NaN</td>\n",
       "      <td>NaN</td>\n",
       "      <td>NaN</td>\n",
       "      <td>NaN</td>\n",
       "      <td>NaN</td>\n",
       "      <td>NaN</td>\n",
       "      <td>NaN</td>\n",
       "      <td>NaN</td>\n",
       "      <td>NaN</td>\n",
       "      <td>NaN</td>\n",
       "      <td>NaN</td>\n",
       "    </tr>\n",
       "    <tr>\n",
       "      <th>4</th>\n",
       "      <td>0</td>\n",
       "      <td>1700</td>\n",
       "      <td>97800.0</td>\n",
       "      <td>112000.0</td>\n",
       "      <td>HomeImp</td>\n",
       "      <td>Office</td>\n",
       "      <td>3.0</td>\n",
       "      <td>0.0</td>\n",
       "      <td>0.0</td>\n",
       "      <td>93.333333</td>\n",
       "      <td>0.0</td>\n",
       "      <td>14.0</td>\n",
       "      <td>NaN</td>\n",
       "    </tr>\n",
       "  </tbody>\n",
       "</table>\n",
       "</div>"
      ],
      "text/plain": [
       "   BAD  LOAN  MORTDUE     VALUE   REASON     JOB   YOJ  DEROG  DELINQ  \\\n",
       "0    1  1100  25860.0   39025.0  HomeImp   Other  10.5    0.0     0.0   \n",
       "1    1  1300  70053.0   68400.0  HomeImp   Other   7.0    0.0     2.0   \n",
       "2    1  1500  13500.0   16700.0  HomeImp   Other   4.0    0.0     0.0   \n",
       "3    1  1500      NaN       NaN      NaN     NaN   NaN    NaN     NaN   \n",
       "4    0  1700  97800.0  112000.0  HomeImp  Office   3.0    0.0     0.0   \n",
       "\n",
       "        CLAGE  NINQ  CLNO  DEBTINC  \n",
       "0   94.366667   1.0   9.0      NaN  \n",
       "1  121.833333   0.0  14.0      NaN  \n",
       "2  149.466667   1.0  10.0      NaN  \n",
       "3         NaN   NaN   NaN      NaN  \n",
       "4   93.333333   0.0  14.0      NaN  "
      ]
     },
     "execution_count": 3,
     "metadata": {},
     "output_type": "execute_result"
    }
   ],
   "source": [
    "df_hmeq.head()"
   ]
  },
  {
   "cell_type": "code",
   "execution_count": 4,
   "id": "c962bf68",
   "metadata": {
    "execution": {
     "iopub.execute_input": "2022-10-15T18:55:05.178631Z",
     "iopub.status.busy": "2022-10-15T18:55:05.177642Z",
     "iopub.status.idle": "2022-10-15T18:55:05.186360Z",
     "shell.execute_reply": "2022-10-15T18:55:05.185083Z"
    },
    "papermill": {
     "duration": 0.03834,
     "end_time": "2022-10-15T18:55:05.189068",
     "exception": false,
     "start_time": "2022-10-15T18:55:05.150728",
     "status": "completed"
    },
    "tags": []
   },
   "outputs": [
    {
     "data": {
      "text/plain": [
       "Index(['BAD', 'LOAN', 'MORTDUE', 'VALUE', 'REASON', 'JOB', 'YOJ', 'DEROG',\n",
       "       'DELINQ', 'CLAGE', 'NINQ', 'CLNO', 'DEBTINC'],\n",
       "      dtype='object')"
      ]
     },
     "execution_count": 4,
     "metadata": {},
     "output_type": "execute_result"
    }
   ],
   "source": [
    "df_hmeq.columns"
   ]
  },
  {
   "cell_type": "markdown",
   "id": "65a95cb7",
   "metadata": {
    "papermill": {
     "duration": 0.018312,
     "end_time": "2022-10-15T18:55:05.236339",
     "exception": false,
     "start_time": "2022-10-15T18:55:05.218027",
     "status": "completed"
    },
    "tags": []
   },
   "source": [
    "Bad<br>\n",
    "1 = client defaulted on loan 0 = loan repaid<br><br>\n",
    "LOAN<br>Amount of the loan request<br><br>MORTDUE<br>Amount due on existing mortgage<br><br>VALUE<br>Value of current property<br><br>REASON<br>DebtCon = debt consolidation HomeImp = home improvement<br><br>JOB<br>Six occupational categories<br><br>YOJ<br>Years at present job<br><br>DEROG<br>Number of major derogatory reports<br><br>DELINQ<br>Number of delinquent credit lines<br><br>CLAGE<br>Age of oldest trade line in months<br><br>\n",
    "NINQ<br>\n",
    "Number of recent credit lines<br>\n",
    "\n",
    "CLNO<br>\n",
    "Number of credit lines<br>\n",
    "\n",
    "DEBTINC<br>\n",
    "Debt-to-income ratio<br>"
   ]
  },
  {
   "cell_type": "code",
   "execution_count": 5,
   "id": "8b3f218e",
   "metadata": {
    "execution": {
     "iopub.execute_input": "2022-10-15T18:55:05.273834Z",
     "iopub.status.busy": "2022-10-15T18:55:05.273015Z",
     "iopub.status.idle": "2022-10-15T18:55:05.284982Z",
     "shell.execute_reply": "2022-10-15T18:55:05.283854Z"
    },
    "papermill": {
     "duration": 0.033436,
     "end_time": "2022-10-15T18:55:05.287407",
     "exception": false,
     "start_time": "2022-10-15T18:55:05.253971",
     "status": "completed"
    },
    "tags": []
   },
   "outputs": [
    {
     "data": {
      "text/plain": [
       "BAD         0.000000\n",
       "LOAN        0.000000\n",
       "MORTDUE     8.691275\n",
       "VALUE       1.879195\n",
       "REASON      4.228188\n",
       "JOB         4.681208\n",
       "YOJ         8.640940\n",
       "DEROG      11.879195\n",
       "DELINQ      9.731544\n",
       "CLAGE       5.167785\n",
       "NINQ        8.557047\n",
       "CLNO        3.724832\n",
       "DEBTINC    21.258389\n",
       "dtype: float64"
      ]
     },
     "execution_count": 5,
     "metadata": {},
     "output_type": "execute_result"
    }
   ],
   "source": [
    "df_hmeq.isnull().sum()/df_hmeq.shape[0] *100"
   ]
  },
  {
   "cell_type": "code",
   "execution_count": 6,
   "id": "8ef0321a",
   "metadata": {
    "execution": {
     "iopub.execute_input": "2022-10-15T18:55:05.324445Z",
     "iopub.status.busy": "2022-10-15T18:55:05.323747Z",
     "iopub.status.idle": "2022-10-15T18:55:05.356719Z",
     "shell.execute_reply": "2022-10-15T18:55:05.355271Z"
    },
    "papermill": {
     "duration": 0.054164,
     "end_time": "2022-10-15T18:55:05.359123",
     "exception": false,
     "start_time": "2022-10-15T18:55:05.304959",
     "status": "completed"
    },
    "tags": []
   },
   "outputs": [
    {
     "name": "stdout",
     "output_type": "stream",
     "text": [
      "<class 'pandas.core.frame.DataFrame'>\n",
      "RangeIndex: 5960 entries, 0 to 5959\n",
      "Data columns (total 13 columns):\n",
      " #   Column   Non-Null Count  Dtype  \n",
      "---  ------   --------------  -----  \n",
      " 0   BAD      5960 non-null   int64  \n",
      " 1   LOAN     5960 non-null   int64  \n",
      " 2   MORTDUE  5442 non-null   float64\n",
      " 3   VALUE    5848 non-null   float64\n",
      " 4   REASON   5708 non-null   object \n",
      " 5   JOB      5681 non-null   object \n",
      " 6   YOJ      5445 non-null   float64\n",
      " 7   DEROG    5252 non-null   float64\n",
      " 8   DELINQ   5380 non-null   float64\n",
      " 9   CLAGE    5652 non-null   float64\n",
      " 10  NINQ     5450 non-null   float64\n",
      " 11  CLNO     5738 non-null   float64\n",
      " 12  DEBTINC  4693 non-null   float64\n",
      "dtypes: float64(9), int64(2), object(2)\n",
      "memory usage: 605.4+ KB\n"
     ]
    }
   ],
   "source": [
    "df_hmeq.info()"
   ]
  },
  {
   "cell_type": "markdown",
   "id": "474febd6",
   "metadata": {
    "papermill": {
     "duration": 0.017233,
     "end_time": "2022-10-15T18:55:05.394620",
     "exception": false,
     "start_time": "2022-10-15T18:55:05.377387",
     "status": "completed"
    },
    "tags": []
   },
   "source": [
    "### Handling Missing Values"
   ]
  },
  {
   "cell_type": "code",
   "execution_count": 7,
   "id": "473edb2e",
   "metadata": {
    "execution": {
     "iopub.execute_input": "2022-10-15T18:55:05.431887Z",
     "iopub.status.busy": "2022-10-15T18:55:05.431144Z",
     "iopub.status.idle": "2022-10-15T18:55:05.459038Z",
     "shell.execute_reply": "2022-10-15T18:55:05.457914Z"
    },
    "papermill": {
     "duration": 0.049102,
     "end_time": "2022-10-15T18:55:05.461247",
     "exception": false,
     "start_time": "2022-10-15T18:55:05.412145",
     "status": "completed"
    },
    "tags": []
   },
   "outputs": [
    {
     "data": {
      "text/html": [
       "<div>\n",
       "<style scoped>\n",
       "    .dataframe tbody tr th:only-of-type {\n",
       "        vertical-align: middle;\n",
       "    }\n",
       "\n",
       "    .dataframe tbody tr th {\n",
       "        vertical-align: top;\n",
       "    }\n",
       "\n",
       "    .dataframe thead th {\n",
       "        text-align: right;\n",
       "    }\n",
       "</style>\n",
       "<table border=\"1\" class=\"dataframe\">\n",
       "  <thead>\n",
       "    <tr style=\"text-align: right;\">\n",
       "      <th></th>\n",
       "      <th>BAD</th>\n",
       "      <th>LOAN</th>\n",
       "      <th>MORTDUE</th>\n",
       "      <th>VALUE</th>\n",
       "      <th>REASON</th>\n",
       "      <th>JOB</th>\n",
       "      <th>YOJ</th>\n",
       "      <th>DEROG</th>\n",
       "      <th>DELINQ</th>\n",
       "      <th>CLAGE</th>\n",
       "      <th>NINQ</th>\n",
       "      <th>CLNO</th>\n",
       "      <th>DEBTINC</th>\n",
       "    </tr>\n",
       "  </thead>\n",
       "  <tbody>\n",
       "    <tr>\n",
       "      <th>3</th>\n",
       "      <td>1</td>\n",
       "      <td>1500</td>\n",
       "      <td>NaN</td>\n",
       "      <td>NaN</td>\n",
       "      <td>NaN</td>\n",
       "      <td>NaN</td>\n",
       "      <td>NaN</td>\n",
       "      <td>NaN</td>\n",
       "      <td>NaN</td>\n",
       "      <td>NaN</td>\n",
       "      <td>NaN</td>\n",
       "      <td>NaN</td>\n",
       "      <td>NaN</td>\n",
       "    </tr>\n",
       "    <tr>\n",
       "      <th>9</th>\n",
       "      <td>1</td>\n",
       "      <td>2000</td>\n",
       "      <td>NaN</td>\n",
       "      <td>62250.0</td>\n",
       "      <td>HomeImp</td>\n",
       "      <td>Sales</td>\n",
       "      <td>16.0</td>\n",
       "      <td>0.0</td>\n",
       "      <td>0.0</td>\n",
       "      <td>115.800000</td>\n",
       "      <td>0.0</td>\n",
       "      <td>13.0</td>\n",
       "      <td>NaN</td>\n",
       "    </tr>\n",
       "    <tr>\n",
       "      <th>24</th>\n",
       "      <td>1</td>\n",
       "      <td>2400</td>\n",
       "      <td>NaN</td>\n",
       "      <td>17180.0</td>\n",
       "      <td>HomeImp</td>\n",
       "      <td>Other</td>\n",
       "      <td>NaN</td>\n",
       "      <td>0.0</td>\n",
       "      <td>0.0</td>\n",
       "      <td>14.566667</td>\n",
       "      <td>3.0</td>\n",
       "      <td>4.0</td>\n",
       "      <td>NaN</td>\n",
       "    </tr>\n",
       "    <tr>\n",
       "      <th>40</th>\n",
       "      <td>1</td>\n",
       "      <td>3000</td>\n",
       "      <td>NaN</td>\n",
       "      <td>8800.0</td>\n",
       "      <td>HomeImp</td>\n",
       "      <td>Other</td>\n",
       "      <td>2.0</td>\n",
       "      <td>0.0</td>\n",
       "      <td>1.0</td>\n",
       "      <td>77.766667</td>\n",
       "      <td>0.0</td>\n",
       "      <td>3.0</td>\n",
       "      <td>NaN</td>\n",
       "    </tr>\n",
       "    <tr>\n",
       "      <th>41</th>\n",
       "      <td>1</td>\n",
       "      <td>3000</td>\n",
       "      <td>NaN</td>\n",
       "      <td>33000.0</td>\n",
       "      <td>HomeImp</td>\n",
       "      <td>Other</td>\n",
       "      <td>1.0</td>\n",
       "      <td>0.0</td>\n",
       "      <td>1.0</td>\n",
       "      <td>23.300000</td>\n",
       "      <td>1.0</td>\n",
       "      <td>2.0</td>\n",
       "      <td>NaN</td>\n",
       "    </tr>\n",
       "    <tr>\n",
       "      <th>...</th>\n",
       "      <td>...</td>\n",
       "      <td>...</td>\n",
       "      <td>...</td>\n",
       "      <td>...</td>\n",
       "      <td>...</td>\n",
       "      <td>...</td>\n",
       "      <td>...</td>\n",
       "      <td>...</td>\n",
       "      <td>...</td>\n",
       "      <td>...</td>\n",
       "      <td>...</td>\n",
       "      <td>...</td>\n",
       "      <td>...</td>\n",
       "    </tr>\n",
       "    <tr>\n",
       "      <th>5880</th>\n",
       "      <td>0</td>\n",
       "      <td>53700</td>\n",
       "      <td>NaN</td>\n",
       "      <td>84205.0</td>\n",
       "      <td>HomeImp</td>\n",
       "      <td>Other</td>\n",
       "      <td>NaN</td>\n",
       "      <td>0.0</td>\n",
       "      <td>0.0</td>\n",
       "      <td>339.665615</td>\n",
       "      <td>0.0</td>\n",
       "      <td>7.0</td>\n",
       "      <td>22.639940</td>\n",
       "    </tr>\n",
       "    <tr>\n",
       "      <th>5883</th>\n",
       "      <td>0</td>\n",
       "      <td>53800</td>\n",
       "      <td>NaN</td>\n",
       "      <td>81322.0</td>\n",
       "      <td>HomeImp</td>\n",
       "      <td>Self</td>\n",
       "      <td>9.0</td>\n",
       "      <td>0.0</td>\n",
       "      <td>0.0</td>\n",
       "      <td>171.447555</td>\n",
       "      <td>0.0</td>\n",
       "      <td>22.0</td>\n",
       "      <td>24.709060</td>\n",
       "    </tr>\n",
       "    <tr>\n",
       "      <th>5884</th>\n",
       "      <td>0</td>\n",
       "      <td>53900</td>\n",
       "      <td>NaN</td>\n",
       "      <td>91309.0</td>\n",
       "      <td>HomeImp</td>\n",
       "      <td>Other</td>\n",
       "      <td>NaN</td>\n",
       "      <td>0.0</td>\n",
       "      <td>0.0</td>\n",
       "      <td>349.795748</td>\n",
       "      <td>0.0</td>\n",
       "      <td>6.0</td>\n",
       "      <td>22.061330</td>\n",
       "    </tr>\n",
       "    <tr>\n",
       "      <th>5930</th>\n",
       "      <td>1</td>\n",
       "      <td>72300</td>\n",
       "      <td>NaN</td>\n",
       "      <td>85000.0</td>\n",
       "      <td>DebtCon</td>\n",
       "      <td>Other</td>\n",
       "      <td>1.0</td>\n",
       "      <td>0.0</td>\n",
       "      <td>0.0</td>\n",
       "      <td>117.166667</td>\n",
       "      <td>9.0</td>\n",
       "      <td>23.0</td>\n",
       "      <td>NaN</td>\n",
       "    </tr>\n",
       "    <tr>\n",
       "      <th>5931</th>\n",
       "      <td>1</td>\n",
       "      <td>75400</td>\n",
       "      <td>NaN</td>\n",
       "      <td>89609.0</td>\n",
       "      <td>DebtCon</td>\n",
       "      <td>Other</td>\n",
       "      <td>1.0</td>\n",
       "      <td>0.0</td>\n",
       "      <td>0.0</td>\n",
       "      <td>115.763534</td>\n",
       "      <td>9.0</td>\n",
       "      <td>23.0</td>\n",
       "      <td>41.105569</td>\n",
       "    </tr>\n",
       "  </tbody>\n",
       "</table>\n",
       "<p>518 rows × 13 columns</p>\n",
       "</div>"
      ],
      "text/plain": [
       "      BAD   LOAN  MORTDUE    VALUE   REASON    JOB   YOJ  DEROG  DELINQ  \\\n",
       "3       1   1500      NaN      NaN      NaN    NaN   NaN    NaN     NaN   \n",
       "9       1   2000      NaN  62250.0  HomeImp  Sales  16.0    0.0     0.0   \n",
       "24      1   2400      NaN  17180.0  HomeImp  Other   NaN    0.0     0.0   \n",
       "40      1   3000      NaN   8800.0  HomeImp  Other   2.0    0.0     1.0   \n",
       "41      1   3000      NaN  33000.0  HomeImp  Other   1.0    0.0     1.0   \n",
       "...   ...    ...      ...      ...      ...    ...   ...    ...     ...   \n",
       "5880    0  53700      NaN  84205.0  HomeImp  Other   NaN    0.0     0.0   \n",
       "5883    0  53800      NaN  81322.0  HomeImp   Self   9.0    0.0     0.0   \n",
       "5884    0  53900      NaN  91309.0  HomeImp  Other   NaN    0.0     0.0   \n",
       "5930    1  72300      NaN  85000.0  DebtCon  Other   1.0    0.0     0.0   \n",
       "5931    1  75400      NaN  89609.0  DebtCon  Other   1.0    0.0     0.0   \n",
       "\n",
       "           CLAGE  NINQ  CLNO    DEBTINC  \n",
       "3            NaN   NaN   NaN        NaN  \n",
       "9     115.800000   0.0  13.0        NaN  \n",
       "24     14.566667   3.0   4.0        NaN  \n",
       "40     77.766667   0.0   3.0        NaN  \n",
       "41     23.300000   1.0   2.0        NaN  \n",
       "...          ...   ...   ...        ...  \n",
       "5880  339.665615   0.0   7.0  22.639940  \n",
       "5883  171.447555   0.0  22.0  24.709060  \n",
       "5884  349.795748   0.0   6.0  22.061330  \n",
       "5930  117.166667   9.0  23.0        NaN  \n",
       "5931  115.763534   9.0  23.0  41.105569  \n",
       "\n",
       "[518 rows x 13 columns]"
      ]
     },
     "execution_count": 7,
     "metadata": {},
     "output_type": "execute_result"
    }
   ],
   "source": [
    "#Mortdue\n",
    "df_hmeq[df_hmeq['MORTDUE'].isna()]"
   ]
  },
  {
   "cell_type": "code",
   "execution_count": 8,
   "id": "c536c426",
   "metadata": {
    "execution": {
     "iopub.execute_input": "2022-10-15T18:55:05.499602Z",
     "iopub.status.busy": "2022-10-15T18:55:05.499012Z",
     "iopub.status.idle": "2022-10-15T18:55:05.510741Z",
     "shell.execute_reply": "2022-10-15T18:55:05.509847Z"
    },
    "papermill": {
     "duration": 0.033523,
     "end_time": "2022-10-15T18:55:05.512997",
     "exception": false,
     "start_time": "2022-10-15T18:55:05.479474",
     "status": "completed"
    },
    "tags": []
   },
   "outputs": [
    {
     "data": {
      "text/plain": [
       "42000.0     11\n",
       "47000.0     10\n",
       "65000.0      9\n",
       "50000.0      7\n",
       "124000.0     7\n",
       "            ..\n",
       "65372.0      1\n",
       "15346.0      1\n",
       "58549.0      1\n",
       "69195.0      1\n",
       "48811.0      1\n",
       "Name: MORTDUE, Length: 5053, dtype: int64"
      ]
     },
     "execution_count": 8,
     "metadata": {},
     "output_type": "execute_result"
    }
   ],
   "source": [
    "df_hmeq['MORTDUE'].value_counts()"
   ]
  },
  {
   "cell_type": "markdown",
   "id": "216cb4ba",
   "metadata": {
    "papermill": {
     "duration": 0.017909,
     "end_time": "2022-10-15T18:55:05.549166",
     "exception": false,
     "start_time": "2022-10-15T18:55:05.531257",
     "status": "completed"
    },
    "tags": []
   },
   "source": [
    "- For the MortDue column missing values could be due to the fact that the person does have a mortgage.\n",
    "- For this column missing values can be replaced with 0 as it would not affect the data as such.As person not having a mortgage or is it is not know if a person is having a mortgage or not can be represented by 0."
   ]
  },
  {
   "cell_type": "code",
   "execution_count": 9,
   "id": "4d583bd0",
   "metadata": {
    "execution": {
     "iopub.execute_input": "2022-10-15T18:55:05.587542Z",
     "iopub.status.busy": "2022-10-15T18:55:05.586903Z",
     "iopub.status.idle": "2022-10-15T18:55:05.592045Z",
     "shell.execute_reply": "2022-10-15T18:55:05.591163Z"
    },
    "papermill": {
     "duration": 0.026986,
     "end_time": "2022-10-15T18:55:05.594317",
     "exception": false,
     "start_time": "2022-10-15T18:55:05.567331",
     "status": "completed"
    },
    "tags": []
   },
   "outputs": [],
   "source": [
    "df_hmeq['MORTDUE'].fillna(0,inplace=True)"
   ]
  },
  {
   "cell_type": "code",
   "execution_count": 10,
   "id": "24a5a680",
   "metadata": {
    "execution": {
     "iopub.execute_input": "2022-10-15T18:55:05.632975Z",
     "iopub.status.busy": "2022-10-15T18:55:05.632224Z",
     "iopub.status.idle": "2022-10-15T18:55:05.658980Z",
     "shell.execute_reply": "2022-10-15T18:55:05.657759Z"
    },
    "papermill": {
     "duration": 0.049092,
     "end_time": "2022-10-15T18:55:05.661614",
     "exception": false,
     "start_time": "2022-10-15T18:55:05.612522",
     "status": "completed"
    },
    "tags": []
   },
   "outputs": [
    {
     "data": {
      "text/html": [
       "<div>\n",
       "<style scoped>\n",
       "    .dataframe tbody tr th:only-of-type {\n",
       "        vertical-align: middle;\n",
       "    }\n",
       "\n",
       "    .dataframe tbody tr th {\n",
       "        vertical-align: top;\n",
       "    }\n",
       "\n",
       "    .dataframe thead th {\n",
       "        text-align: right;\n",
       "    }\n",
       "</style>\n",
       "<table border=\"1\" class=\"dataframe\">\n",
       "  <thead>\n",
       "    <tr style=\"text-align: right;\">\n",
       "      <th></th>\n",
       "      <th>BAD</th>\n",
       "      <th>LOAN</th>\n",
       "      <th>MORTDUE</th>\n",
       "      <th>VALUE</th>\n",
       "      <th>REASON</th>\n",
       "      <th>JOB</th>\n",
       "      <th>YOJ</th>\n",
       "      <th>DEROG</th>\n",
       "      <th>DELINQ</th>\n",
       "      <th>CLAGE</th>\n",
       "      <th>NINQ</th>\n",
       "      <th>CLNO</th>\n",
       "      <th>DEBTINC</th>\n",
       "    </tr>\n",
       "  </thead>\n",
       "  <tbody>\n",
       "    <tr>\n",
       "      <th>3</th>\n",
       "      <td>1</td>\n",
       "      <td>1500</td>\n",
       "      <td>0.0</td>\n",
       "      <td>NaN</td>\n",
       "      <td>NaN</td>\n",
       "      <td>NaN</td>\n",
       "      <td>NaN</td>\n",
       "      <td>NaN</td>\n",
       "      <td>NaN</td>\n",
       "      <td>NaN</td>\n",
       "      <td>NaN</td>\n",
       "      <td>NaN</td>\n",
       "      <td>NaN</td>\n",
       "    </tr>\n",
       "    <tr>\n",
       "      <th>10</th>\n",
       "      <td>1</td>\n",
       "      <td>2000</td>\n",
       "      <td>22608.0</td>\n",
       "      <td>NaN</td>\n",
       "      <td>NaN</td>\n",
       "      <td>NaN</td>\n",
       "      <td>18.0</td>\n",
       "      <td>NaN</td>\n",
       "      <td>NaN</td>\n",
       "      <td>NaN</td>\n",
       "      <td>NaN</td>\n",
       "      <td>NaN</td>\n",
       "      <td>NaN</td>\n",
       "    </tr>\n",
       "    <tr>\n",
       "      <th>17</th>\n",
       "      <td>1</td>\n",
       "      <td>2200</td>\n",
       "      <td>23030.0</td>\n",
       "      <td>NaN</td>\n",
       "      <td>NaN</td>\n",
       "      <td>NaN</td>\n",
       "      <td>19.0</td>\n",
       "      <td>NaN</td>\n",
       "      <td>NaN</td>\n",
       "      <td>NaN</td>\n",
       "      <td>NaN</td>\n",
       "      <td>NaN</td>\n",
       "      <td>3.711312</td>\n",
       "    </tr>\n",
       "    <tr>\n",
       "      <th>23</th>\n",
       "      <td>1</td>\n",
       "      <td>2400</td>\n",
       "      <td>18000.0</td>\n",
       "      <td>NaN</td>\n",
       "      <td>HomeImp</td>\n",
       "      <td>Mgr</td>\n",
       "      <td>22.0</td>\n",
       "      <td>NaN</td>\n",
       "      <td>2.0</td>\n",
       "      <td>121.733333</td>\n",
       "      <td>0.0</td>\n",
       "      <td>10.0</td>\n",
       "      <td>NaN</td>\n",
       "    </tr>\n",
       "    <tr>\n",
       "      <th>57</th>\n",
       "      <td>1</td>\n",
       "      <td>3200</td>\n",
       "      <td>23159.0</td>\n",
       "      <td>NaN</td>\n",
       "      <td>HomeImp</td>\n",
       "      <td>Mgr</td>\n",
       "      <td>20.0</td>\n",
       "      <td>NaN</td>\n",
       "      <td>2.0</td>\n",
       "      <td>117.805748</td>\n",
       "      <td>0.0</td>\n",
       "      <td>9.0</td>\n",
       "      <td>0.524499</td>\n",
       "    </tr>\n",
       "    <tr>\n",
       "      <th>...</th>\n",
       "      <td>...</td>\n",
       "      <td>...</td>\n",
       "      <td>...</td>\n",
       "      <td>...</td>\n",
       "      <td>...</td>\n",
       "      <td>...</td>\n",
       "      <td>...</td>\n",
       "      <td>...</td>\n",
       "      <td>...</td>\n",
       "      <td>...</td>\n",
       "      <td>...</td>\n",
       "      <td>...</td>\n",
       "      <td>...</td>\n",
       "    </tr>\n",
       "    <tr>\n",
       "      <th>5817</th>\n",
       "      <td>1</td>\n",
       "      <td>50000</td>\n",
       "      <td>26976.0</td>\n",
       "      <td>NaN</td>\n",
       "      <td>DebtCon</td>\n",
       "      <td>Mgr</td>\n",
       "      <td>8.3</td>\n",
       "      <td>1.0</td>\n",
       "      <td>0.0</td>\n",
       "      <td>111.600000</td>\n",
       "      <td>1.0</td>\n",
       "      <td>6.0</td>\n",
       "      <td>NaN</td>\n",
       "    </tr>\n",
       "    <tr>\n",
       "      <th>5818</th>\n",
       "      <td>1</td>\n",
       "      <td>50000</td>\n",
       "      <td>106000.0</td>\n",
       "      <td>NaN</td>\n",
       "      <td>DebtCon</td>\n",
       "      <td>Mgr</td>\n",
       "      <td>0.8</td>\n",
       "      <td>0.0</td>\n",
       "      <td>2.0</td>\n",
       "      <td>252.633333</td>\n",
       "      <td>3.0</td>\n",
       "      <td>32.0</td>\n",
       "      <td>NaN</td>\n",
       "    </tr>\n",
       "    <tr>\n",
       "      <th>5822</th>\n",
       "      <td>1</td>\n",
       "      <td>50000</td>\n",
       "      <td>30338.0</td>\n",
       "      <td>NaN</td>\n",
       "      <td>DebtCon</td>\n",
       "      <td>Mgr</td>\n",
       "      <td>8.0</td>\n",
       "      <td>0.0</td>\n",
       "      <td>0.0</td>\n",
       "      <td>91.431005</td>\n",
       "      <td>0.0</td>\n",
       "      <td>5.0</td>\n",
       "      <td>35.084001</td>\n",
       "    </tr>\n",
       "    <tr>\n",
       "      <th>5826</th>\n",
       "      <td>1</td>\n",
       "      <td>50100</td>\n",
       "      <td>256431.0</td>\n",
       "      <td>NaN</td>\n",
       "      <td>NaN</td>\n",
       "      <td>Other</td>\n",
       "      <td>0.0</td>\n",
       "      <td>0.0</td>\n",
       "      <td>4.0</td>\n",
       "      <td>142.343205</td>\n",
       "      <td>2.0</td>\n",
       "      <td>25.0</td>\n",
       "      <td>3.342570</td>\n",
       "    </tr>\n",
       "    <tr>\n",
       "      <th>5828</th>\n",
       "      <td>1</td>\n",
       "      <td>50200</td>\n",
       "      <td>34668.0</td>\n",
       "      <td>NaN</td>\n",
       "      <td>DebtCon</td>\n",
       "      <td>Mgr</td>\n",
       "      <td>7.0</td>\n",
       "      <td>1.0</td>\n",
       "      <td>0.0</td>\n",
       "      <td>117.682548</td>\n",
       "      <td>1.0</td>\n",
       "      <td>5.0</td>\n",
       "      <td>36.724486</td>\n",
       "    </tr>\n",
       "  </tbody>\n",
       "</table>\n",
       "<p>112 rows × 13 columns</p>\n",
       "</div>"
      ],
      "text/plain": [
       "      BAD   LOAN   MORTDUE  VALUE   REASON    JOB   YOJ  DEROG  DELINQ  \\\n",
       "3       1   1500       0.0    NaN      NaN    NaN   NaN    NaN     NaN   \n",
       "10      1   2000   22608.0    NaN      NaN    NaN  18.0    NaN     NaN   \n",
       "17      1   2200   23030.0    NaN      NaN    NaN  19.0    NaN     NaN   \n",
       "23      1   2400   18000.0    NaN  HomeImp    Mgr  22.0    NaN     2.0   \n",
       "57      1   3200   23159.0    NaN  HomeImp    Mgr  20.0    NaN     2.0   \n",
       "...   ...    ...       ...    ...      ...    ...   ...    ...     ...   \n",
       "5817    1  50000   26976.0    NaN  DebtCon    Mgr   8.3    1.0     0.0   \n",
       "5818    1  50000  106000.0    NaN  DebtCon    Mgr   0.8    0.0     2.0   \n",
       "5822    1  50000   30338.0    NaN  DebtCon    Mgr   8.0    0.0     0.0   \n",
       "5826    1  50100  256431.0    NaN      NaN  Other   0.0    0.0     4.0   \n",
       "5828    1  50200   34668.0    NaN  DebtCon    Mgr   7.0    1.0     0.0   \n",
       "\n",
       "           CLAGE  NINQ  CLNO    DEBTINC  \n",
       "3            NaN   NaN   NaN        NaN  \n",
       "10           NaN   NaN   NaN        NaN  \n",
       "17           NaN   NaN   NaN   3.711312  \n",
       "23    121.733333   0.0  10.0        NaN  \n",
       "57    117.805748   0.0   9.0   0.524499  \n",
       "...          ...   ...   ...        ...  \n",
       "5817  111.600000   1.0   6.0        NaN  \n",
       "5818  252.633333   3.0  32.0        NaN  \n",
       "5822   91.431005   0.0   5.0  35.084001  \n",
       "5826  142.343205   2.0  25.0   3.342570  \n",
       "5828  117.682548   1.0   5.0  36.724486  \n",
       "\n",
       "[112 rows x 13 columns]"
      ]
     },
     "execution_count": 10,
     "metadata": {},
     "output_type": "execute_result"
    }
   ],
   "source": [
    "#Value Missing Values\n",
    "df_hmeq[df_hmeq['VALUE'].isna()]"
   ]
  },
  {
   "cell_type": "code",
   "execution_count": 11,
   "id": "e832aaca",
   "metadata": {
    "execution": {
     "iopub.execute_input": "2022-10-15T18:55:05.700655Z",
     "iopub.status.busy": "2022-10-15T18:55:05.700227Z",
     "iopub.status.idle": "2022-10-15T18:55:05.711260Z",
     "shell.execute_reply": "2022-10-15T18:55:05.710099Z"
    },
    "papermill": {
     "duration": 0.033078,
     "end_time": "2022-10-15T18:55:05.713491",
     "exception": false,
     "start_time": "2022-10-15T18:55:05.680413",
     "status": "completed"
    },
    "tags": []
   },
   "outputs": [
    {
     "data": {
      "text/plain": [
       "60000.0     15\n",
       "80000.0     14\n",
       "85000.0     12\n",
       "65000.0     11\n",
       "78000.0     10\n",
       "            ..\n",
       "116994.0     1\n",
       "42682.0      1\n",
       "72175.0      1\n",
       "70095.0      1\n",
       "88934.0      1\n",
       "Name: VALUE, Length: 5381, dtype: int64"
      ]
     },
     "execution_count": 11,
     "metadata": {},
     "output_type": "execute_result"
    }
   ],
   "source": [
    "df_hmeq['VALUE'].value_counts()"
   ]
  },
  {
   "cell_type": "code",
   "execution_count": 12,
   "id": "e2cf5499",
   "metadata": {
    "execution": {
     "iopub.execute_input": "2022-10-15T18:55:05.753048Z",
     "iopub.status.busy": "2022-10-15T18:55:05.752533Z",
     "iopub.status.idle": "2022-10-15T18:55:05.760422Z",
     "shell.execute_reply": "2022-10-15T18:55:05.759540Z"
    },
    "papermill": {
     "duration": 0.030363,
     "end_time": "2022-10-15T18:55:05.762617",
     "exception": false,
     "start_time": "2022-10-15T18:55:05.732254",
     "status": "completed"
    },
    "tags": []
   },
   "outputs": [
    {
     "data": {
      "text/plain": [
       "101776.04874145007"
      ]
     },
     "execution_count": 12,
     "metadata": {},
     "output_type": "execute_result"
    }
   ],
   "source": [
    "df_hmeq['VALUE'].mean()"
   ]
  },
  {
   "cell_type": "code",
   "execution_count": 13,
   "id": "8bc5ef23",
   "metadata": {
    "execution": {
     "iopub.execute_input": "2022-10-15T18:55:05.802753Z",
     "iopub.status.busy": "2022-10-15T18:55:05.801626Z",
     "iopub.status.idle": "2022-10-15T18:55:05.808652Z",
     "shell.execute_reply": "2022-10-15T18:55:05.807530Z"
    },
    "papermill": {
     "duration": 0.029716,
     "end_time": "2022-10-15T18:55:05.811292",
     "exception": false,
     "start_time": "2022-10-15T18:55:05.781576",
     "status": "completed"
    },
    "tags": []
   },
   "outputs": [],
   "source": [
    "df_hmeq['VALUE'].fillna(df_hmeq['VALUE'].mean(),inplace=True)"
   ]
  },
  {
   "cell_type": "code",
   "execution_count": 14,
   "id": "a9ff407c",
   "metadata": {
    "execution": {
     "iopub.execute_input": "2022-10-15T18:55:05.852312Z",
     "iopub.status.busy": "2022-10-15T18:55:05.851789Z",
     "iopub.status.idle": "2022-10-15T18:55:05.882100Z",
     "shell.execute_reply": "2022-10-15T18:55:05.880864Z"
    },
    "papermill": {
     "duration": 0.053689,
     "end_time": "2022-10-15T18:55:05.884534",
     "exception": false,
     "start_time": "2022-10-15T18:55:05.830845",
     "status": "completed"
    },
    "tags": []
   },
   "outputs": [
    {
     "data": {
      "text/html": [
       "<div>\n",
       "<style scoped>\n",
       "    .dataframe tbody tr th:only-of-type {\n",
       "        vertical-align: middle;\n",
       "    }\n",
       "\n",
       "    .dataframe tbody tr th {\n",
       "        vertical-align: top;\n",
       "    }\n",
       "\n",
       "    .dataframe thead th {\n",
       "        text-align: right;\n",
       "    }\n",
       "</style>\n",
       "<table border=\"1\" class=\"dataframe\">\n",
       "  <thead>\n",
       "    <tr style=\"text-align: right;\">\n",
       "      <th></th>\n",
       "      <th>BAD</th>\n",
       "      <th>LOAN</th>\n",
       "      <th>MORTDUE</th>\n",
       "      <th>VALUE</th>\n",
       "      <th>REASON</th>\n",
       "      <th>JOB</th>\n",
       "      <th>YOJ</th>\n",
       "      <th>DEROG</th>\n",
       "      <th>DELINQ</th>\n",
       "      <th>CLAGE</th>\n",
       "      <th>NINQ</th>\n",
       "      <th>CLNO</th>\n",
       "      <th>DEBTINC</th>\n",
       "    </tr>\n",
       "  </thead>\n",
       "  <tbody>\n",
       "    <tr>\n",
       "      <th>3</th>\n",
       "      <td>1</td>\n",
       "      <td>1500</td>\n",
       "      <td>0.0</td>\n",
       "      <td>101776.048741</td>\n",
       "      <td>NaN</td>\n",
       "      <td>NaN</td>\n",
       "      <td>NaN</td>\n",
       "      <td>NaN</td>\n",
       "      <td>NaN</td>\n",
       "      <td>NaN</td>\n",
       "      <td>NaN</td>\n",
       "      <td>NaN</td>\n",
       "      <td>NaN</td>\n",
       "    </tr>\n",
       "    <tr>\n",
       "      <th>10</th>\n",
       "      <td>1</td>\n",
       "      <td>2000</td>\n",
       "      <td>22608.0</td>\n",
       "      <td>101776.048741</td>\n",
       "      <td>NaN</td>\n",
       "      <td>NaN</td>\n",
       "      <td>18.0</td>\n",
       "      <td>NaN</td>\n",
       "      <td>NaN</td>\n",
       "      <td>NaN</td>\n",
       "      <td>NaN</td>\n",
       "      <td>NaN</td>\n",
       "      <td>NaN</td>\n",
       "    </tr>\n",
       "    <tr>\n",
       "      <th>13</th>\n",
       "      <td>0</td>\n",
       "      <td>2000</td>\n",
       "      <td>64536.0</td>\n",
       "      <td>87400.000000</td>\n",
       "      <td>NaN</td>\n",
       "      <td>Mgr</td>\n",
       "      <td>2.5</td>\n",
       "      <td>0.0</td>\n",
       "      <td>0.0</td>\n",
       "      <td>147.133333</td>\n",
       "      <td>0.0</td>\n",
       "      <td>24.0</td>\n",
       "      <td>NaN</td>\n",
       "    </tr>\n",
       "    <tr>\n",
       "      <th>17</th>\n",
       "      <td>1</td>\n",
       "      <td>2200</td>\n",
       "      <td>23030.0</td>\n",
       "      <td>101776.048741</td>\n",
       "      <td>NaN</td>\n",
       "      <td>NaN</td>\n",
       "      <td>19.0</td>\n",
       "      <td>NaN</td>\n",
       "      <td>NaN</td>\n",
       "      <td>NaN</td>\n",
       "      <td>NaN</td>\n",
       "      <td>NaN</td>\n",
       "      <td>3.711312</td>\n",
       "    </tr>\n",
       "    <tr>\n",
       "      <th>51</th>\n",
       "      <td>0</td>\n",
       "      <td>3100</td>\n",
       "      <td>0.0</td>\n",
       "      <td>70400.000000</td>\n",
       "      <td>NaN</td>\n",
       "      <td>NaN</td>\n",
       "      <td>NaN</td>\n",
       "      <td>NaN</td>\n",
       "      <td>NaN</td>\n",
       "      <td>NaN</td>\n",
       "      <td>NaN</td>\n",
       "      <td>NaN</td>\n",
       "      <td>NaN</td>\n",
       "    </tr>\n",
       "    <tr>\n",
       "      <th>...</th>\n",
       "      <td>...</td>\n",
       "      <td>...</td>\n",
       "      <td>...</td>\n",
       "      <td>...</td>\n",
       "      <td>...</td>\n",
       "      <td>...</td>\n",
       "      <td>...</td>\n",
       "      <td>...</td>\n",
       "      <td>...</td>\n",
       "      <td>...</td>\n",
       "      <td>...</td>\n",
       "      <td>...</td>\n",
       "      <td>...</td>\n",
       "    </tr>\n",
       "    <tr>\n",
       "      <th>5435</th>\n",
       "      <td>1</td>\n",
       "      <td>32000</td>\n",
       "      <td>92400.0</td>\n",
       "      <td>215000.000000</td>\n",
       "      <td>NaN</td>\n",
       "      <td>Self</td>\n",
       "      <td>2.5</td>\n",
       "      <td>1.0</td>\n",
       "      <td>3.0</td>\n",
       "      <td>165.333333</td>\n",
       "      <td>1.0</td>\n",
       "      <td>40.0</td>\n",
       "      <td>NaN</td>\n",
       "    </tr>\n",
       "    <tr>\n",
       "      <th>5468</th>\n",
       "      <td>1</td>\n",
       "      <td>32900</td>\n",
       "      <td>0.0</td>\n",
       "      <td>55657.000000</td>\n",
       "      <td>NaN</td>\n",
       "      <td>NaN</td>\n",
       "      <td>1.0</td>\n",
       "      <td>1.0</td>\n",
       "      <td>3.0</td>\n",
       "      <td>210.012265</td>\n",
       "      <td>10.0</td>\n",
       "      <td>15.0</td>\n",
       "      <td>1.909225</td>\n",
       "    </tr>\n",
       "    <tr>\n",
       "      <th>5803</th>\n",
       "      <td>1</td>\n",
       "      <td>49500</td>\n",
       "      <td>247500.0</td>\n",
       "      <td>101776.048741</td>\n",
       "      <td>NaN</td>\n",
       "      <td>Other</td>\n",
       "      <td>0.0</td>\n",
       "      <td>0.0</td>\n",
       "      <td>4.0</td>\n",
       "      <td>160.333333</td>\n",
       "      <td>2.0</td>\n",
       "      <td>25.0</td>\n",
       "      <td>NaN</td>\n",
       "    </tr>\n",
       "    <tr>\n",
       "      <th>5826</th>\n",
       "      <td>1</td>\n",
       "      <td>50100</td>\n",
       "      <td>256431.0</td>\n",
       "      <td>101776.048741</td>\n",
       "      <td>NaN</td>\n",
       "      <td>Other</td>\n",
       "      <td>0.0</td>\n",
       "      <td>0.0</td>\n",
       "      <td>4.0</td>\n",
       "      <td>142.343205</td>\n",
       "      <td>2.0</td>\n",
       "      <td>25.0</td>\n",
       "      <td>3.342570</td>\n",
       "    </tr>\n",
       "    <tr>\n",
       "      <th>5900</th>\n",
       "      <td>1</td>\n",
       "      <td>61400</td>\n",
       "      <td>46126.0</td>\n",
       "      <td>83800.000000</td>\n",
       "      <td>NaN</td>\n",
       "      <td>Other</td>\n",
       "      <td>33.0</td>\n",
       "      <td>0.0</td>\n",
       "      <td>1.0</td>\n",
       "      <td>339.900000</td>\n",
       "      <td>1.0</td>\n",
       "      <td>23.0</td>\n",
       "      <td>NaN</td>\n",
       "    </tr>\n",
       "  </tbody>\n",
       "</table>\n",
       "<p>252 rows × 13 columns</p>\n",
       "</div>"
      ],
      "text/plain": [
       "      BAD   LOAN   MORTDUE          VALUE REASON    JOB   YOJ  DEROG  DELINQ  \\\n",
       "3       1   1500       0.0  101776.048741    NaN    NaN   NaN    NaN     NaN   \n",
       "10      1   2000   22608.0  101776.048741    NaN    NaN  18.0    NaN     NaN   \n",
       "13      0   2000   64536.0   87400.000000    NaN    Mgr   2.5    0.0     0.0   \n",
       "17      1   2200   23030.0  101776.048741    NaN    NaN  19.0    NaN     NaN   \n",
       "51      0   3100       0.0   70400.000000    NaN    NaN   NaN    NaN     NaN   \n",
       "...   ...    ...       ...            ...    ...    ...   ...    ...     ...   \n",
       "5435    1  32000   92400.0  215000.000000    NaN   Self   2.5    1.0     3.0   \n",
       "5468    1  32900       0.0   55657.000000    NaN    NaN   1.0    1.0     3.0   \n",
       "5803    1  49500  247500.0  101776.048741    NaN  Other   0.0    0.0     4.0   \n",
       "5826    1  50100  256431.0  101776.048741    NaN  Other   0.0    0.0     4.0   \n",
       "5900    1  61400   46126.0   83800.000000    NaN  Other  33.0    0.0     1.0   \n",
       "\n",
       "           CLAGE  NINQ  CLNO   DEBTINC  \n",
       "3            NaN   NaN   NaN       NaN  \n",
       "10           NaN   NaN   NaN       NaN  \n",
       "13    147.133333   0.0  24.0       NaN  \n",
       "17           NaN   NaN   NaN  3.711312  \n",
       "51           NaN   NaN   NaN       NaN  \n",
       "...          ...   ...   ...       ...  \n",
       "5435  165.333333   1.0  40.0       NaN  \n",
       "5468  210.012265  10.0  15.0  1.909225  \n",
       "5803  160.333333   2.0  25.0       NaN  \n",
       "5826  142.343205   2.0  25.0  3.342570  \n",
       "5900  339.900000   1.0  23.0       NaN  \n",
       "\n",
       "[252 rows x 13 columns]"
      ]
     },
     "execution_count": 14,
     "metadata": {},
     "output_type": "execute_result"
    }
   ],
   "source": [
    "#Reason Missing Values\n",
    "df_hmeq[df_hmeq['REASON'].isna()]"
   ]
  },
  {
   "cell_type": "code",
   "execution_count": 15,
   "id": "690b3984",
   "metadata": {
    "execution": {
     "iopub.execute_input": "2022-10-15T18:55:05.926175Z",
     "iopub.status.busy": "2022-10-15T18:55:05.925506Z",
     "iopub.status.idle": "2022-10-15T18:55:05.934501Z",
     "shell.execute_reply": "2022-10-15T18:55:05.933478Z"
    },
    "papermill": {
     "duration": 0.032821,
     "end_time": "2022-10-15T18:55:05.936668",
     "exception": false,
     "start_time": "2022-10-15T18:55:05.903847",
     "status": "completed"
    },
    "tags": []
   },
   "outputs": [
    {
     "data": {
      "text/plain": [
       "DebtCon    3928\n",
       "HomeImp    1780\n",
       "Name: REASON, dtype: int64"
      ]
     },
     "execution_count": 15,
     "metadata": {},
     "output_type": "execute_result"
    }
   ],
   "source": [
    "df_hmeq['REASON'].value_counts()"
   ]
  },
  {
   "cell_type": "markdown",
   "id": "29166df6",
   "metadata": {
    "papermill": {
     "duration": 0.020089,
     "end_time": "2022-10-15T18:55:05.975968",
     "exception": false,
     "start_time": "2022-10-15T18:55:05.955879",
     "status": "completed"
    },
    "tags": []
   },
   "source": [
    "- For Reason column there are 2 available options DebCon,HomeImp.For columns where don't the reason for taking loan it is better to classify them as a seperate category as 'Other Reason'."
   ]
  },
  {
   "cell_type": "code",
   "execution_count": 16,
   "id": "ca461b65",
   "metadata": {
    "execution": {
     "iopub.execute_input": "2022-10-15T18:55:06.018738Z",
     "iopub.status.busy": "2022-10-15T18:55:06.018070Z",
     "iopub.status.idle": "2022-10-15T18:55:06.024258Z",
     "shell.execute_reply": "2022-10-15T18:55:06.023188Z"
    },
    "papermill": {
     "duration": 0.03066,
     "end_time": "2022-10-15T18:55:06.026606",
     "exception": false,
     "start_time": "2022-10-15T18:55:05.995946",
     "status": "completed"
    },
    "tags": []
   },
   "outputs": [],
   "source": [
    "df_hmeq['REASON'].fillna('OtherReason',inplace=True)"
   ]
  },
  {
   "cell_type": "code",
   "execution_count": 17,
   "id": "8615c563",
   "metadata": {
    "execution": {
     "iopub.execute_input": "2022-10-15T18:55:06.068135Z",
     "iopub.status.busy": "2022-10-15T18:55:06.067319Z",
     "iopub.status.idle": "2022-10-15T18:55:06.075754Z",
     "shell.execute_reply": "2022-10-15T18:55:06.074586Z"
    },
    "papermill": {
     "duration": 0.032064,
     "end_time": "2022-10-15T18:55:06.078272",
     "exception": false,
     "start_time": "2022-10-15T18:55:06.046208",
     "status": "completed"
    },
    "tags": []
   },
   "outputs": [
    {
     "data": {
      "text/plain": [
       "Other      2388\n",
       "ProfExe    1276\n",
       "Office      948\n",
       "Mgr         767\n",
       "Self        193\n",
       "Sales       109\n",
       "Name: JOB, dtype: int64"
      ]
     },
     "execution_count": 17,
     "metadata": {},
     "output_type": "execute_result"
    }
   ],
   "source": [
    "#Job missing values\n",
    "df_hmeq['JOB'].value_counts()"
   ]
  },
  {
   "cell_type": "code",
   "execution_count": 18,
   "id": "8ad0ef6a",
   "metadata": {
    "execution": {
     "iopub.execute_input": "2022-10-15T18:55:06.120241Z",
     "iopub.status.busy": "2022-10-15T18:55:06.119484Z",
     "iopub.status.idle": "2022-10-15T18:55:06.127365Z",
     "shell.execute_reply": "2022-10-15T18:55:06.125995Z"
    },
    "papermill": {
     "duration": 0.031833,
     "end_time": "2022-10-15T18:55:06.129934",
     "exception": false,
     "start_time": "2022-10-15T18:55:06.098101",
     "status": "completed"
    },
    "tags": []
   },
   "outputs": [],
   "source": [
    "#Replacing missing values of Job column with it's mode.\n",
    "df_hmeq['JOB'].fillna(df_hmeq['JOB'].mode()[0],inplace=True)"
   ]
  },
  {
   "cell_type": "code",
   "execution_count": 19,
   "id": "d10e4e39",
   "metadata": {
    "execution": {
     "iopub.execute_input": "2022-10-15T18:55:06.171819Z",
     "iopub.status.busy": "2022-10-15T18:55:06.171370Z",
     "iopub.status.idle": "2022-10-15T18:55:06.197858Z",
     "shell.execute_reply": "2022-10-15T18:55:06.196716Z"
    },
    "papermill": {
     "duration": 0.050818,
     "end_time": "2022-10-15T18:55:06.200405",
     "exception": false,
     "start_time": "2022-10-15T18:55:06.149587",
     "status": "completed"
    },
    "tags": []
   },
   "outputs": [
    {
     "data": {
      "text/html": [
       "<div>\n",
       "<style scoped>\n",
       "    .dataframe tbody tr th:only-of-type {\n",
       "        vertical-align: middle;\n",
       "    }\n",
       "\n",
       "    .dataframe tbody tr th {\n",
       "        vertical-align: top;\n",
       "    }\n",
       "\n",
       "    .dataframe thead th {\n",
       "        text-align: right;\n",
       "    }\n",
       "</style>\n",
       "<table border=\"1\" class=\"dataframe\">\n",
       "  <thead>\n",
       "    <tr style=\"text-align: right;\">\n",
       "      <th></th>\n",
       "      <th>BAD</th>\n",
       "      <th>LOAN</th>\n",
       "      <th>MORTDUE</th>\n",
       "      <th>VALUE</th>\n",
       "      <th>REASON</th>\n",
       "      <th>JOB</th>\n",
       "      <th>YOJ</th>\n",
       "      <th>DEROG</th>\n",
       "      <th>DELINQ</th>\n",
       "      <th>CLAGE</th>\n",
       "      <th>NINQ</th>\n",
       "      <th>CLNO</th>\n",
       "      <th>DEBTINC</th>\n",
       "    </tr>\n",
       "  </thead>\n",
       "  <tbody>\n",
       "    <tr>\n",
       "      <th>3</th>\n",
       "      <td>1</td>\n",
       "      <td>1500</td>\n",
       "      <td>0.0</td>\n",
       "      <td>101776.048741</td>\n",
       "      <td>OtherReason</td>\n",
       "      <td>Other</td>\n",
       "      <td>NaN</td>\n",
       "      <td>NaN</td>\n",
       "      <td>NaN</td>\n",
       "      <td>NaN</td>\n",
       "      <td>NaN</td>\n",
       "      <td>NaN</td>\n",
       "      <td>NaN</td>\n",
       "    </tr>\n",
       "    <tr>\n",
       "      <th>15</th>\n",
       "      <td>1</td>\n",
       "      <td>2200</td>\n",
       "      <td>24280.0</td>\n",
       "      <td>34687.000000</td>\n",
       "      <td>HomeImp</td>\n",
       "      <td>Other</td>\n",
       "      <td>NaN</td>\n",
       "      <td>0.0</td>\n",
       "      <td>1.0</td>\n",
       "      <td>300.866667</td>\n",
       "      <td>0.0</td>\n",
       "      <td>8.0</td>\n",
       "      <td>NaN</td>\n",
       "    </tr>\n",
       "    <tr>\n",
       "      <th>24</th>\n",
       "      <td>1</td>\n",
       "      <td>2400</td>\n",
       "      <td>0.0</td>\n",
       "      <td>17180.000000</td>\n",
       "      <td>HomeImp</td>\n",
       "      <td>Other</td>\n",
       "      <td>NaN</td>\n",
       "      <td>0.0</td>\n",
       "      <td>0.0</td>\n",
       "      <td>14.566667</td>\n",
       "      <td>3.0</td>\n",
       "      <td>4.0</td>\n",
       "      <td>NaN</td>\n",
       "    </tr>\n",
       "    <tr>\n",
       "      <th>29</th>\n",
       "      <td>0</td>\n",
       "      <td>2500</td>\n",
       "      <td>7229.0</td>\n",
       "      <td>44516.000000</td>\n",
       "      <td>HomeImp</td>\n",
       "      <td>Self</td>\n",
       "      <td>NaN</td>\n",
       "      <td>0.0</td>\n",
       "      <td>0.0</td>\n",
       "      <td>208.000000</td>\n",
       "      <td>0.0</td>\n",
       "      <td>12.0</td>\n",
       "      <td>NaN</td>\n",
       "    </tr>\n",
       "    <tr>\n",
       "      <th>51</th>\n",
       "      <td>0</td>\n",
       "      <td>3100</td>\n",
       "      <td>0.0</td>\n",
       "      <td>70400.000000</td>\n",
       "      <td>OtherReason</td>\n",
       "      <td>Other</td>\n",
       "      <td>NaN</td>\n",
       "      <td>NaN</td>\n",
       "      <td>NaN</td>\n",
       "      <td>NaN</td>\n",
       "      <td>NaN</td>\n",
       "      <td>NaN</td>\n",
       "      <td>NaN</td>\n",
       "    </tr>\n",
       "    <tr>\n",
       "      <th>...</th>\n",
       "      <td>...</td>\n",
       "      <td>...</td>\n",
       "      <td>...</td>\n",
       "      <td>...</td>\n",
       "      <td>...</td>\n",
       "      <td>...</td>\n",
       "      <td>...</td>\n",
       "      <td>...</td>\n",
       "      <td>...</td>\n",
       "      <td>...</td>\n",
       "      <td>...</td>\n",
       "      <td>...</td>\n",
       "      <td>...</td>\n",
       "    </tr>\n",
       "    <tr>\n",
       "      <th>5854</th>\n",
       "      <td>0</td>\n",
       "      <td>51500</td>\n",
       "      <td>0.0</td>\n",
       "      <td>90003.000000</td>\n",
       "      <td>HomeImp</td>\n",
       "      <td>Other</td>\n",
       "      <td>NaN</td>\n",
       "      <td>0.0</td>\n",
       "      <td>0.0</td>\n",
       "      <td>347.802514</td>\n",
       "      <td>0.0</td>\n",
       "      <td>7.0</td>\n",
       "      <td>25.324002</td>\n",
       "    </tr>\n",
       "    <tr>\n",
       "      <th>5862</th>\n",
       "      <td>0</td>\n",
       "      <td>52200</td>\n",
       "      <td>0.0</td>\n",
       "      <td>90240.000000</td>\n",
       "      <td>HomeImp</td>\n",
       "      <td>Other</td>\n",
       "      <td>NaN</td>\n",
       "      <td>0.0</td>\n",
       "      <td>0.0</td>\n",
       "      <td>341.828812</td>\n",
       "      <td>0.0</td>\n",
       "      <td>7.0</td>\n",
       "      <td>24.016671</td>\n",
       "    </tr>\n",
       "    <tr>\n",
       "      <th>5865</th>\n",
       "      <td>0</td>\n",
       "      <td>52300</td>\n",
       "      <td>0.0</td>\n",
       "      <td>84584.000000</td>\n",
       "      <td>HomeImp</td>\n",
       "      <td>Other</td>\n",
       "      <td>NaN</td>\n",
       "      <td>1.0</td>\n",
       "      <td>0.0</td>\n",
       "      <td>350.920996</td>\n",
       "      <td>0.0</td>\n",
       "      <td>7.0</td>\n",
       "      <td>24.355304</td>\n",
       "    </tr>\n",
       "    <tr>\n",
       "      <th>5880</th>\n",
       "      <td>0</td>\n",
       "      <td>53700</td>\n",
       "      <td>0.0</td>\n",
       "      <td>84205.000000</td>\n",
       "      <td>HomeImp</td>\n",
       "      <td>Other</td>\n",
       "      <td>NaN</td>\n",
       "      <td>0.0</td>\n",
       "      <td>0.0</td>\n",
       "      <td>339.665615</td>\n",
       "      <td>0.0</td>\n",
       "      <td>7.0</td>\n",
       "      <td>22.639940</td>\n",
       "    </tr>\n",
       "    <tr>\n",
       "      <th>5884</th>\n",
       "      <td>0</td>\n",
       "      <td>53900</td>\n",
       "      <td>0.0</td>\n",
       "      <td>91309.000000</td>\n",
       "      <td>HomeImp</td>\n",
       "      <td>Other</td>\n",
       "      <td>NaN</td>\n",
       "      <td>0.0</td>\n",
       "      <td>0.0</td>\n",
       "      <td>349.795748</td>\n",
       "      <td>0.0</td>\n",
       "      <td>6.0</td>\n",
       "      <td>22.061330</td>\n",
       "    </tr>\n",
       "  </tbody>\n",
       "</table>\n",
       "<p>515 rows × 13 columns</p>\n",
       "</div>"
      ],
      "text/plain": [
       "      BAD   LOAN  MORTDUE          VALUE       REASON    JOB  YOJ  DEROG  \\\n",
       "3       1   1500      0.0  101776.048741  OtherReason  Other  NaN    NaN   \n",
       "15      1   2200  24280.0   34687.000000      HomeImp  Other  NaN    0.0   \n",
       "24      1   2400      0.0   17180.000000      HomeImp  Other  NaN    0.0   \n",
       "29      0   2500   7229.0   44516.000000      HomeImp   Self  NaN    0.0   \n",
       "51      0   3100      0.0   70400.000000  OtherReason  Other  NaN    NaN   \n",
       "...   ...    ...      ...            ...          ...    ...  ...    ...   \n",
       "5854    0  51500      0.0   90003.000000      HomeImp  Other  NaN    0.0   \n",
       "5862    0  52200      0.0   90240.000000      HomeImp  Other  NaN    0.0   \n",
       "5865    0  52300      0.0   84584.000000      HomeImp  Other  NaN    1.0   \n",
       "5880    0  53700      0.0   84205.000000      HomeImp  Other  NaN    0.0   \n",
       "5884    0  53900      0.0   91309.000000      HomeImp  Other  NaN    0.0   \n",
       "\n",
       "      DELINQ       CLAGE  NINQ  CLNO    DEBTINC  \n",
       "3        NaN         NaN   NaN   NaN        NaN  \n",
       "15       1.0  300.866667   0.0   8.0        NaN  \n",
       "24       0.0   14.566667   3.0   4.0        NaN  \n",
       "29       0.0  208.000000   0.0  12.0        NaN  \n",
       "51       NaN         NaN   NaN   NaN        NaN  \n",
       "...      ...         ...   ...   ...        ...  \n",
       "5854     0.0  347.802514   0.0   7.0  25.324002  \n",
       "5862     0.0  341.828812   0.0   7.0  24.016671  \n",
       "5865     0.0  350.920996   0.0   7.0  24.355304  \n",
       "5880     0.0  339.665615   0.0   7.0  22.639940  \n",
       "5884     0.0  349.795748   0.0   6.0  22.061330  \n",
       "\n",
       "[515 rows x 13 columns]"
      ]
     },
     "execution_count": 19,
     "metadata": {},
     "output_type": "execute_result"
    }
   ],
   "source": [
    "df_hmeq[df_hmeq['YOJ'].isna()]"
   ]
  },
  {
   "cell_type": "code",
   "execution_count": 20,
   "id": "2c849002",
   "metadata": {
    "execution": {
     "iopub.execute_input": "2022-10-15T18:55:06.243081Z",
     "iopub.status.busy": "2022-10-15T18:55:06.242376Z",
     "iopub.status.idle": "2022-10-15T18:55:06.248070Z",
     "shell.execute_reply": "2022-10-15T18:55:06.247313Z"
    },
    "papermill": {
     "duration": 0.029436,
     "end_time": "2022-10-15T18:55:06.250184",
     "exception": false,
     "start_time": "2022-10-15T18:55:06.220748",
     "status": "completed"
    },
    "tags": []
   },
   "outputs": [],
   "source": [
    "#Replacing null values for YOJ with it's mean\n",
    "df_hmeq['YOJ'].fillna(df_hmeq['YOJ'].mean(),inplace=True)"
   ]
  },
  {
   "cell_type": "code",
   "execution_count": 21,
   "id": "05ca5c16",
   "metadata": {
    "execution": {
     "iopub.execute_input": "2022-10-15T18:55:06.292985Z",
     "iopub.status.busy": "2022-10-15T18:55:06.292288Z",
     "iopub.status.idle": "2022-10-15T18:55:06.317695Z",
     "shell.execute_reply": "2022-10-15T18:55:06.316524Z"
    },
    "papermill": {
     "duration": 0.049379,
     "end_time": "2022-10-15T18:55:06.320051",
     "exception": false,
     "start_time": "2022-10-15T18:55:06.270672",
     "status": "completed"
    },
    "tags": []
   },
   "outputs": [
    {
     "data": {
      "text/html": [
       "<div>\n",
       "<style scoped>\n",
       "    .dataframe tbody tr th:only-of-type {\n",
       "        vertical-align: middle;\n",
       "    }\n",
       "\n",
       "    .dataframe tbody tr th {\n",
       "        vertical-align: top;\n",
       "    }\n",
       "\n",
       "    .dataframe thead th {\n",
       "        text-align: right;\n",
       "    }\n",
       "</style>\n",
       "<table border=\"1\" class=\"dataframe\">\n",
       "  <thead>\n",
       "    <tr style=\"text-align: right;\">\n",
       "      <th></th>\n",
       "      <th>BAD</th>\n",
       "      <th>LOAN</th>\n",
       "      <th>MORTDUE</th>\n",
       "      <th>VALUE</th>\n",
       "      <th>REASON</th>\n",
       "      <th>JOB</th>\n",
       "      <th>YOJ</th>\n",
       "      <th>DEROG</th>\n",
       "      <th>DELINQ</th>\n",
       "      <th>CLAGE</th>\n",
       "      <th>NINQ</th>\n",
       "      <th>CLNO</th>\n",
       "      <th>DEBTINC</th>\n",
       "    </tr>\n",
       "  </thead>\n",
       "  <tbody>\n",
       "    <tr>\n",
       "      <th>3</th>\n",
       "      <td>1</td>\n",
       "      <td>1500</td>\n",
       "      <td>0.0</td>\n",
       "      <td>101776.048741</td>\n",
       "      <td>OtherReason</td>\n",
       "      <td>Other</td>\n",
       "      <td>8.922268</td>\n",
       "      <td>NaN</td>\n",
       "      <td>NaN</td>\n",
       "      <td>NaN</td>\n",
       "      <td>NaN</td>\n",
       "      <td>NaN</td>\n",
       "      <td>NaN</td>\n",
       "    </tr>\n",
       "    <tr>\n",
       "      <th>10</th>\n",
       "      <td>1</td>\n",
       "      <td>2000</td>\n",
       "      <td>22608.0</td>\n",
       "      <td>101776.048741</td>\n",
       "      <td>OtherReason</td>\n",
       "      <td>Other</td>\n",
       "      <td>18.000000</td>\n",
       "      <td>NaN</td>\n",
       "      <td>NaN</td>\n",
       "      <td>NaN</td>\n",
       "      <td>NaN</td>\n",
       "      <td>NaN</td>\n",
       "      <td>NaN</td>\n",
       "    </tr>\n",
       "    <tr>\n",
       "      <th>17</th>\n",
       "      <td>1</td>\n",
       "      <td>2200</td>\n",
       "      <td>23030.0</td>\n",
       "      <td>101776.048741</td>\n",
       "      <td>OtherReason</td>\n",
       "      <td>Other</td>\n",
       "      <td>19.000000</td>\n",
       "      <td>NaN</td>\n",
       "      <td>NaN</td>\n",
       "      <td>NaN</td>\n",
       "      <td>NaN</td>\n",
       "      <td>NaN</td>\n",
       "      <td>3.711312</td>\n",
       "    </tr>\n",
       "    <tr>\n",
       "      <th>23</th>\n",
       "      <td>1</td>\n",
       "      <td>2400</td>\n",
       "      <td>18000.0</td>\n",
       "      <td>101776.048741</td>\n",
       "      <td>HomeImp</td>\n",
       "      <td>Mgr</td>\n",
       "      <td>22.000000</td>\n",
       "      <td>NaN</td>\n",
       "      <td>2.0</td>\n",
       "      <td>121.733333</td>\n",
       "      <td>0.0</td>\n",
       "      <td>10.0</td>\n",
       "      <td>NaN</td>\n",
       "    </tr>\n",
       "    <tr>\n",
       "      <th>48</th>\n",
       "      <td>0</td>\n",
       "      <td>3000</td>\n",
       "      <td>58000.0</td>\n",
       "      <td>71500.000000</td>\n",
       "      <td>HomeImp</td>\n",
       "      <td>Mgr</td>\n",
       "      <td>10.000000</td>\n",
       "      <td>NaN</td>\n",
       "      <td>2.0</td>\n",
       "      <td>211.933333</td>\n",
       "      <td>0.0</td>\n",
       "      <td>25.0</td>\n",
       "      <td>NaN</td>\n",
       "    </tr>\n",
       "    <tr>\n",
       "      <th>...</th>\n",
       "      <td>...</td>\n",
       "      <td>...</td>\n",
       "      <td>...</td>\n",
       "      <td>...</td>\n",
       "      <td>...</td>\n",
       "      <td>...</td>\n",
       "      <td>...</td>\n",
       "      <td>...</td>\n",
       "      <td>...</td>\n",
       "      <td>...</td>\n",
       "      <td>...</td>\n",
       "      <td>...</td>\n",
       "      <td>...</td>\n",
       "    </tr>\n",
       "    <tr>\n",
       "      <th>5735</th>\n",
       "      <td>0</td>\n",
       "      <td>42900</td>\n",
       "      <td>101731.0</td>\n",
       "      <td>155688.000000</td>\n",
       "      <td>DebtCon</td>\n",
       "      <td>Other</td>\n",
       "      <td>14.000000</td>\n",
       "      <td>NaN</td>\n",
       "      <td>1.0</td>\n",
       "      <td>235.352057</td>\n",
       "      <td>3.0</td>\n",
       "      <td>30.0</td>\n",
       "      <td>43.181424</td>\n",
       "    </tr>\n",
       "    <tr>\n",
       "      <th>5763</th>\n",
       "      <td>0</td>\n",
       "      <td>44400</td>\n",
       "      <td>100564.0</td>\n",
       "      <td>154708.000000</td>\n",
       "      <td>DebtCon</td>\n",
       "      <td>Other</td>\n",
       "      <td>14.000000</td>\n",
       "      <td>NaN</td>\n",
       "      <td>0.0</td>\n",
       "      <td>253.914111</td>\n",
       "      <td>3.0</td>\n",
       "      <td>30.0</td>\n",
       "      <td>43.902152</td>\n",
       "    </tr>\n",
       "    <tr>\n",
       "      <th>5766</th>\n",
       "      <td>0</td>\n",
       "      <td>44900</td>\n",
       "      <td>95410.0</td>\n",
       "      <td>157649.000000</td>\n",
       "      <td>DebtCon</td>\n",
       "      <td>Other</td>\n",
       "      <td>16.000000</td>\n",
       "      <td>NaN</td>\n",
       "      <td>1.0</td>\n",
       "      <td>216.101046</td>\n",
       "      <td>4.0</td>\n",
       "      <td>31.0</td>\n",
       "      <td>40.483515</td>\n",
       "    </tr>\n",
       "    <tr>\n",
       "      <th>5820</th>\n",
       "      <td>1</td>\n",
       "      <td>50000</td>\n",
       "      <td>80286.0</td>\n",
       "      <td>145000.000000</td>\n",
       "      <td>DebtCon</td>\n",
       "      <td>Other</td>\n",
       "      <td>12.000000</td>\n",
       "      <td>NaN</td>\n",
       "      <td>1.0</td>\n",
       "      <td>178.766599</td>\n",
       "      <td>0.0</td>\n",
       "      <td>35.0</td>\n",
       "      <td>NaN</td>\n",
       "    </tr>\n",
       "    <tr>\n",
       "      <th>5882</th>\n",
       "      <td>1</td>\n",
       "      <td>53800</td>\n",
       "      <td>82324.0</td>\n",
       "      <td>154409.000000</td>\n",
       "      <td>DebtCon</td>\n",
       "      <td>Other</td>\n",
       "      <td>10.000000</td>\n",
       "      <td>NaN</td>\n",
       "      <td>1.0</td>\n",
       "      <td>157.484011</td>\n",
       "      <td>0.0</td>\n",
       "      <td>34.0</td>\n",
       "      <td>41.659044</td>\n",
       "    </tr>\n",
       "  </tbody>\n",
       "</table>\n",
       "<p>708 rows × 13 columns</p>\n",
       "</div>"
      ],
      "text/plain": [
       "      BAD   LOAN   MORTDUE          VALUE       REASON    JOB        YOJ  \\\n",
       "3       1   1500       0.0  101776.048741  OtherReason  Other   8.922268   \n",
       "10      1   2000   22608.0  101776.048741  OtherReason  Other  18.000000   \n",
       "17      1   2200   23030.0  101776.048741  OtherReason  Other  19.000000   \n",
       "23      1   2400   18000.0  101776.048741      HomeImp    Mgr  22.000000   \n",
       "48      0   3000   58000.0   71500.000000      HomeImp    Mgr  10.000000   \n",
       "...   ...    ...       ...            ...          ...    ...        ...   \n",
       "5735    0  42900  101731.0  155688.000000      DebtCon  Other  14.000000   \n",
       "5763    0  44400  100564.0  154708.000000      DebtCon  Other  14.000000   \n",
       "5766    0  44900   95410.0  157649.000000      DebtCon  Other  16.000000   \n",
       "5820    1  50000   80286.0  145000.000000      DebtCon  Other  12.000000   \n",
       "5882    1  53800   82324.0  154409.000000      DebtCon  Other  10.000000   \n",
       "\n",
       "      DEROG  DELINQ       CLAGE  NINQ  CLNO    DEBTINC  \n",
       "3       NaN     NaN         NaN   NaN   NaN        NaN  \n",
       "10      NaN     NaN         NaN   NaN   NaN        NaN  \n",
       "17      NaN     NaN         NaN   NaN   NaN   3.711312  \n",
       "23      NaN     2.0  121.733333   0.0  10.0        NaN  \n",
       "48      NaN     2.0  211.933333   0.0  25.0        NaN  \n",
       "...     ...     ...         ...   ...   ...        ...  \n",
       "5735    NaN     1.0  235.352057   3.0  30.0  43.181424  \n",
       "5763    NaN     0.0  253.914111   3.0  30.0  43.902152  \n",
       "5766    NaN     1.0  216.101046   4.0  31.0  40.483515  \n",
       "5820    NaN     1.0  178.766599   0.0  35.0        NaN  \n",
       "5882    NaN     1.0  157.484011   0.0  34.0  41.659044  \n",
       "\n",
       "[708 rows x 13 columns]"
      ]
     },
     "execution_count": 21,
     "metadata": {},
     "output_type": "execute_result"
    }
   ],
   "source": [
    "#DEROG missing values\n",
    "df_hmeq[df_hmeq['DEROG'].isna()]"
   ]
  },
  {
   "cell_type": "code",
   "execution_count": 22,
   "id": "d2f73004",
   "metadata": {
    "execution": {
     "iopub.execute_input": "2022-10-15T18:55:06.363350Z",
     "iopub.status.busy": "2022-10-15T18:55:06.362582Z",
     "iopub.status.idle": "2022-10-15T18:55:06.372234Z",
     "shell.execute_reply": "2022-10-15T18:55:06.371017Z"
    },
    "papermill": {
     "duration": 0.03434,
     "end_time": "2022-10-15T18:55:06.374666",
     "exception": false,
     "start_time": "2022-10-15T18:55:06.340326",
     "status": "completed"
    },
    "tags": []
   },
   "outputs": [
    {
     "data": {
      "text/plain": [
       "0.0     4527\n",
       "1.0      435\n",
       "2.0      160\n",
       "3.0       58\n",
       "4.0       23\n",
       "5.0       15\n",
       "6.0       15\n",
       "7.0        8\n",
       "8.0        6\n",
       "9.0        3\n",
       "10.0       2\n",
       "Name: DEROG, dtype: int64"
      ]
     },
     "execution_count": 22,
     "metadata": {},
     "output_type": "execute_result"
    }
   ],
   "source": [
    "df_hmeq['DEROG'].value_counts()"
   ]
  },
  {
   "cell_type": "markdown",
   "id": "c20e1068",
   "metadata": {
    "papermill": {
     "duration": 0.020138,
     "end_time": "2022-10-15T18:55:06.415317",
     "exception": false,
     "start_time": "2022-10-15T18:55:06.395179",
     "status": "completed"
    },
    "tags": []
   },
   "source": [
    "- For Derog column the missing values can be replaced with 0 as Nan and 0 for count of Derog reports will signify the same thing."
   ]
  },
  {
   "cell_type": "code",
   "execution_count": 23,
   "id": "ee5f0254",
   "metadata": {
    "execution": {
     "iopub.execute_input": "2022-10-15T18:55:06.458516Z",
     "iopub.status.busy": "2022-10-15T18:55:06.457808Z",
     "iopub.status.idle": "2022-10-15T18:55:06.463511Z",
     "shell.execute_reply": "2022-10-15T18:55:06.462651Z"
    },
    "papermill": {
     "duration": 0.030137,
     "end_time": "2022-10-15T18:55:06.465901",
     "exception": false,
     "start_time": "2022-10-15T18:55:06.435764",
     "status": "completed"
    },
    "tags": []
   },
   "outputs": [],
   "source": [
    "df_hmeq['DEROG'].fillna(0,inplace=True)"
   ]
  },
  {
   "cell_type": "code",
   "execution_count": 24,
   "id": "1f70dddc",
   "metadata": {
    "execution": {
     "iopub.execute_input": "2022-10-15T18:55:06.508900Z",
     "iopub.status.busy": "2022-10-15T18:55:06.508239Z",
     "iopub.status.idle": "2022-10-15T18:55:06.517640Z",
     "shell.execute_reply": "2022-10-15T18:55:06.516441Z"
    },
    "papermill": {
     "duration": 0.033589,
     "end_time": "2022-10-15T18:55:06.519915",
     "exception": false,
     "start_time": "2022-10-15T18:55:06.486326",
     "status": "completed"
    },
    "tags": []
   },
   "outputs": [
    {
     "data": {
      "text/plain": [
       "0.0     4179\n",
       "1.0      654\n",
       "2.0      250\n",
       "3.0      129\n",
       "4.0       78\n",
       "5.0       38\n",
       "6.0       27\n",
       "7.0       13\n",
       "8.0        5\n",
       "10.0       2\n",
       "11.0       2\n",
       "15.0       1\n",
       "12.0       1\n",
       "13.0       1\n",
       "Name: DELINQ, dtype: int64"
      ]
     },
     "execution_count": 24,
     "metadata": {},
     "output_type": "execute_result"
    }
   ],
   "source": [
    "#DELINQ missing values\n",
    "df_hmeq['DELINQ'].value_counts()"
   ]
  },
  {
   "cell_type": "markdown",
   "id": "18b6c46d",
   "metadata": {
    "papermill": {
     "duration": 0.020729,
     "end_time": "2022-10-15T18:55:06.561044",
     "exception": false,
     "start_time": "2022-10-15T18:55:06.540315",
     "status": "completed"
    },
    "tags": []
   },
   "source": [
    "For DELINQ column the missing values can be replaced with 0 as Nan and 0 for count of Derog reports will signify the same thing."
   ]
  },
  {
   "cell_type": "code",
   "execution_count": 25,
   "id": "07356a08",
   "metadata": {
    "execution": {
     "iopub.execute_input": "2022-10-15T18:55:06.604412Z",
     "iopub.status.busy": "2022-10-15T18:55:06.603647Z",
     "iopub.status.idle": "2022-10-15T18:55:06.609493Z",
     "shell.execute_reply": "2022-10-15T18:55:06.608631Z"
    },
    "papermill": {
     "duration": 0.03035,
     "end_time": "2022-10-15T18:55:06.611863",
     "exception": false,
     "start_time": "2022-10-15T18:55:06.581513",
     "status": "completed"
    },
    "tags": []
   },
   "outputs": [],
   "source": [
    "df_hmeq['DELINQ'].fillna(0,inplace=True)"
   ]
  },
  {
   "cell_type": "code",
   "execution_count": 26,
   "id": "8aa72ca5",
   "metadata": {
    "execution": {
     "iopub.execute_input": "2022-10-15T18:55:06.655145Z",
     "iopub.status.busy": "2022-10-15T18:55:06.654435Z",
     "iopub.status.idle": "2022-10-15T18:55:06.664415Z",
     "shell.execute_reply": "2022-10-15T18:55:06.663273Z"
    },
    "papermill": {
     "duration": 0.034363,
     "end_time": "2022-10-15T18:55:06.666647",
     "exception": false,
     "start_time": "2022-10-15T18:55:06.632284",
     "status": "completed"
    },
    "tags": []
   },
   "outputs": [
    {
     "data": {
      "text/plain": [
       "102.500000    7\n",
       "206.966667    7\n",
       "177.500000    6\n",
       "123.766667    6\n",
       "95.366667     6\n",
       "             ..\n",
       "240.856017    1\n",
       "196.241371    1\n",
       "71.461705     1\n",
       "184.880011    1\n",
       "219.601002    1\n",
       "Name: CLAGE, Length: 5314, dtype: int64"
      ]
     },
     "execution_count": 26,
     "metadata": {},
     "output_type": "execute_result"
    }
   ],
   "source": [
    "#CLAGE missing values\n",
    "df_hmeq['CLAGE'].value_counts()"
   ]
  },
  {
   "cell_type": "code",
   "execution_count": 27,
   "id": "2ec30a26",
   "metadata": {
    "execution": {
     "iopub.execute_input": "2022-10-15T18:55:06.709774Z",
     "iopub.status.busy": "2022-10-15T18:55:06.709129Z",
     "iopub.status.idle": "2022-10-15T18:55:06.721959Z",
     "shell.execute_reply": "2022-10-15T18:55:06.720876Z"
    },
    "papermill": {
     "duration": 0.037212,
     "end_time": "2022-10-15T18:55:06.724342",
     "exception": false,
     "start_time": "2022-10-15T18:55:06.687130",
     "status": "completed"
    },
    "tags": []
   },
   "outputs": [
    {
     "data": {
      "text/plain": [
       "count    5652.000000\n",
       "mean      179.766275\n",
       "std        85.810092\n",
       "min         0.000000\n",
       "25%       115.116702\n",
       "50%       173.466667\n",
       "75%       231.562278\n",
       "max      1168.233561\n",
       "Name: CLAGE, dtype: float64"
      ]
     },
     "execution_count": 27,
     "metadata": {},
     "output_type": "execute_result"
    }
   ],
   "source": [
    "df_hmeq['CLAGE'].describe()"
   ]
  },
  {
   "cell_type": "code",
   "execution_count": 28,
   "id": "21a2138c",
   "metadata": {
    "execution": {
     "iopub.execute_input": "2022-10-15T18:55:06.769083Z",
     "iopub.status.busy": "2022-10-15T18:55:06.768078Z",
     "iopub.status.idle": "2022-10-15T18:55:06.795090Z",
     "shell.execute_reply": "2022-10-15T18:55:06.793983Z"
    },
    "papermill": {
     "duration": 0.052057,
     "end_time": "2022-10-15T18:55:06.797612",
     "exception": false,
     "start_time": "2022-10-15T18:55:06.745555",
     "status": "completed"
    },
    "tags": []
   },
   "outputs": [
    {
     "data": {
      "text/html": [
       "<div>\n",
       "<style scoped>\n",
       "    .dataframe tbody tr th:only-of-type {\n",
       "        vertical-align: middle;\n",
       "    }\n",
       "\n",
       "    .dataframe tbody tr th {\n",
       "        vertical-align: top;\n",
       "    }\n",
       "\n",
       "    .dataframe thead th {\n",
       "        text-align: right;\n",
       "    }\n",
       "</style>\n",
       "<table border=\"1\" class=\"dataframe\">\n",
       "  <thead>\n",
       "    <tr style=\"text-align: right;\">\n",
       "      <th></th>\n",
       "      <th>BAD</th>\n",
       "      <th>LOAN</th>\n",
       "      <th>MORTDUE</th>\n",
       "      <th>VALUE</th>\n",
       "      <th>REASON</th>\n",
       "      <th>JOB</th>\n",
       "      <th>YOJ</th>\n",
       "      <th>DEROG</th>\n",
       "      <th>DELINQ</th>\n",
       "      <th>CLAGE</th>\n",
       "      <th>NINQ</th>\n",
       "      <th>CLNO</th>\n",
       "      <th>DEBTINC</th>\n",
       "    </tr>\n",
       "  </thead>\n",
       "  <tbody>\n",
       "    <tr>\n",
       "      <th>3</th>\n",
       "      <td>1</td>\n",
       "      <td>1500</td>\n",
       "      <td>0.0</td>\n",
       "      <td>101776.048741</td>\n",
       "      <td>OtherReason</td>\n",
       "      <td>Other</td>\n",
       "      <td>8.922268</td>\n",
       "      <td>0.0</td>\n",
       "      <td>0.0</td>\n",
       "      <td>NaN</td>\n",
       "      <td>NaN</td>\n",
       "      <td>NaN</td>\n",
       "      <td>NaN</td>\n",
       "    </tr>\n",
       "    <tr>\n",
       "      <th>10</th>\n",
       "      <td>1</td>\n",
       "      <td>2000</td>\n",
       "      <td>22608.0</td>\n",
       "      <td>101776.048741</td>\n",
       "      <td>OtherReason</td>\n",
       "      <td>Other</td>\n",
       "      <td>18.000000</td>\n",
       "      <td>0.0</td>\n",
       "      <td>0.0</td>\n",
       "      <td>NaN</td>\n",
       "      <td>NaN</td>\n",
       "      <td>NaN</td>\n",
       "      <td>NaN</td>\n",
       "    </tr>\n",
       "    <tr>\n",
       "      <th>17</th>\n",
       "      <td>1</td>\n",
       "      <td>2200</td>\n",
       "      <td>23030.0</td>\n",
       "      <td>101776.048741</td>\n",
       "      <td>OtherReason</td>\n",
       "      <td>Other</td>\n",
       "      <td>19.000000</td>\n",
       "      <td>0.0</td>\n",
       "      <td>0.0</td>\n",
       "      <td>NaN</td>\n",
       "      <td>NaN</td>\n",
       "      <td>NaN</td>\n",
       "      <td>3.711312</td>\n",
       "    </tr>\n",
       "    <tr>\n",
       "      <th>21</th>\n",
       "      <td>1</td>\n",
       "      <td>2400</td>\n",
       "      <td>50000.0</td>\n",
       "      <td>73395.000000</td>\n",
       "      <td>HomeImp</td>\n",
       "      <td>ProfExe</td>\n",
       "      <td>5.000000</td>\n",
       "      <td>1.0</td>\n",
       "      <td>0.0</td>\n",
       "      <td>NaN</td>\n",
       "      <td>1.0</td>\n",
       "      <td>0.0</td>\n",
       "      <td>NaN</td>\n",
       "    </tr>\n",
       "    <tr>\n",
       "      <th>51</th>\n",
       "      <td>0</td>\n",
       "      <td>3100</td>\n",
       "      <td>0.0</td>\n",
       "      <td>70400.000000</td>\n",
       "      <td>OtherReason</td>\n",
       "      <td>Other</td>\n",
       "      <td>8.922268</td>\n",
       "      <td>0.0</td>\n",
       "      <td>0.0</td>\n",
       "      <td>NaN</td>\n",
       "      <td>NaN</td>\n",
       "      <td>NaN</td>\n",
       "      <td>NaN</td>\n",
       "    </tr>\n",
       "    <tr>\n",
       "      <th>...</th>\n",
       "      <td>...</td>\n",
       "      <td>...</td>\n",
       "      <td>...</td>\n",
       "      <td>...</td>\n",
       "      <td>...</td>\n",
       "      <td>...</td>\n",
       "      <td>...</td>\n",
       "      <td>...</td>\n",
       "      <td>...</td>\n",
       "      <td>...</td>\n",
       "      <td>...</td>\n",
       "      <td>...</td>\n",
       "      <td>...</td>\n",
       "    </tr>\n",
       "    <tr>\n",
       "      <th>5608</th>\n",
       "      <td>0</td>\n",
       "      <td>37800</td>\n",
       "      <td>31214.0</td>\n",
       "      <td>58282.000000</td>\n",
       "      <td>DebtCon</td>\n",
       "      <td>Other</td>\n",
       "      <td>8.922268</td>\n",
       "      <td>0.0</td>\n",
       "      <td>0.0</td>\n",
       "      <td>NaN</td>\n",
       "      <td>7.0</td>\n",
       "      <td>0.0</td>\n",
       "      <td>34.226190</td>\n",
       "    </tr>\n",
       "    <tr>\n",
       "      <th>5635</th>\n",
       "      <td>0</td>\n",
       "      <td>38900</td>\n",
       "      <td>31836.0</td>\n",
       "      <td>54976.000000</td>\n",
       "      <td>DebtCon</td>\n",
       "      <td>Other</td>\n",
       "      <td>8.922268</td>\n",
       "      <td>0.0</td>\n",
       "      <td>0.0</td>\n",
       "      <td>NaN</td>\n",
       "      <td>6.0</td>\n",
       "      <td>0.0</td>\n",
       "      <td>33.459246</td>\n",
       "    </tr>\n",
       "    <tr>\n",
       "      <th>5637</th>\n",
       "      <td>0</td>\n",
       "      <td>39000</td>\n",
       "      <td>36335.0</td>\n",
       "      <td>50704.000000</td>\n",
       "      <td>DebtCon</td>\n",
       "      <td>Other</td>\n",
       "      <td>8.922268</td>\n",
       "      <td>0.0</td>\n",
       "      <td>0.0</td>\n",
       "      <td>NaN</td>\n",
       "      <td>7.0</td>\n",
       "      <td>0.0</td>\n",
       "      <td>31.244399</td>\n",
       "    </tr>\n",
       "    <tr>\n",
       "      <th>5784</th>\n",
       "      <td>1</td>\n",
       "      <td>47000</td>\n",
       "      <td>159500.0</td>\n",
       "      <td>230000.000000</td>\n",
       "      <td>DebtCon</td>\n",
       "      <td>Office</td>\n",
       "      <td>3.000000</td>\n",
       "      <td>0.0</td>\n",
       "      <td>0.0</td>\n",
       "      <td>NaN</td>\n",
       "      <td>0.0</td>\n",
       "      <td>0.0</td>\n",
       "      <td>NaN</td>\n",
       "    </tr>\n",
       "    <tr>\n",
       "      <th>5804</th>\n",
       "      <td>1</td>\n",
       "      <td>49500</td>\n",
       "      <td>9000.0</td>\n",
       "      <td>55000.000000</td>\n",
       "      <td>DebtCon</td>\n",
       "      <td>Other</td>\n",
       "      <td>3.000000</td>\n",
       "      <td>0.0</td>\n",
       "      <td>0.0</td>\n",
       "      <td>NaN</td>\n",
       "      <td>0.0</td>\n",
       "      <td>0.0</td>\n",
       "      <td>NaN</td>\n",
       "    </tr>\n",
       "  </tbody>\n",
       "</table>\n",
       "<p>308 rows × 13 columns</p>\n",
       "</div>"
      ],
      "text/plain": [
       "      BAD   LOAN   MORTDUE          VALUE       REASON      JOB        YOJ  \\\n",
       "3       1   1500       0.0  101776.048741  OtherReason    Other   8.922268   \n",
       "10      1   2000   22608.0  101776.048741  OtherReason    Other  18.000000   \n",
       "17      1   2200   23030.0  101776.048741  OtherReason    Other  19.000000   \n",
       "21      1   2400   50000.0   73395.000000      HomeImp  ProfExe   5.000000   \n",
       "51      0   3100       0.0   70400.000000  OtherReason    Other   8.922268   \n",
       "...   ...    ...       ...            ...          ...      ...        ...   \n",
       "5608    0  37800   31214.0   58282.000000      DebtCon    Other   8.922268   \n",
       "5635    0  38900   31836.0   54976.000000      DebtCon    Other   8.922268   \n",
       "5637    0  39000   36335.0   50704.000000      DebtCon    Other   8.922268   \n",
       "5784    1  47000  159500.0  230000.000000      DebtCon   Office   3.000000   \n",
       "5804    1  49500    9000.0   55000.000000      DebtCon    Other   3.000000   \n",
       "\n",
       "      DEROG  DELINQ  CLAGE  NINQ  CLNO    DEBTINC  \n",
       "3       0.0     0.0    NaN   NaN   NaN        NaN  \n",
       "10      0.0     0.0    NaN   NaN   NaN        NaN  \n",
       "17      0.0     0.0    NaN   NaN   NaN   3.711312  \n",
       "21      1.0     0.0    NaN   1.0   0.0        NaN  \n",
       "51      0.0     0.0    NaN   NaN   NaN        NaN  \n",
       "...     ...     ...    ...   ...   ...        ...  \n",
       "5608    0.0     0.0    NaN   7.0   0.0  34.226190  \n",
       "5635    0.0     0.0    NaN   6.0   0.0  33.459246  \n",
       "5637    0.0     0.0    NaN   7.0   0.0  31.244399  \n",
       "5784    0.0     0.0    NaN   0.0   0.0        NaN  \n",
       "5804    0.0     0.0    NaN   0.0   0.0        NaN  \n",
       "\n",
       "[308 rows x 13 columns]"
      ]
     },
     "execution_count": 28,
     "metadata": {},
     "output_type": "execute_result"
    }
   ],
   "source": [
    "df_hmeq[df_hmeq['CLAGE'].isna()]"
   ]
  },
  {
   "cell_type": "markdown",
   "id": "648e5bb9",
   "metadata": {
    "papermill": {
     "duration": 0.020931,
     "end_time": "2022-10-15T18:55:06.839730",
     "exception": false,
     "start_time": "2022-10-15T18:55:06.818799",
     "status": "completed"
    },
    "tags": []
   },
   "source": [
    "- A trade line is an important record-keeping mechanism that tracks the activity of borrowers on their credit reports.\n",
    "- CLAGE is Age of oldest trade line in months\n",
    "- It means the oldest transaction that the borrower made where he was given some credit.\n",
    "- If it is missing it might be as many of the credit lines are till 7-10 years so for some case it may be quite old.\n",
    "- It makes no sense if we impute with mean/mode as it will be unwise to impute someone's past credit line with mean.\n",
    "- It is better to replace the missing values with 0 for CLAGE so as to avoid any impact on the data."
   ]
  },
  {
   "cell_type": "code",
   "execution_count": 29,
   "id": "31748a34",
   "metadata": {
    "execution": {
     "iopub.execute_input": "2022-10-15T18:55:06.885079Z",
     "iopub.status.busy": "2022-10-15T18:55:06.883915Z",
     "iopub.status.idle": "2022-10-15T18:55:06.889492Z",
     "shell.execute_reply": "2022-10-15T18:55:06.888463Z"
    },
    "papermill": {
     "duration": 0.030104,
     "end_time": "2022-10-15T18:55:06.891863",
     "exception": false,
     "start_time": "2022-10-15T18:55:06.861759",
     "status": "completed"
    },
    "tags": []
   },
   "outputs": [],
   "source": [
    "df_hmeq['CLAGE'].fillna(0,inplace=True)"
   ]
  },
  {
   "cell_type": "code",
   "execution_count": 30,
   "id": "79e21291",
   "metadata": {
    "execution": {
     "iopub.execute_input": "2022-10-15T18:55:06.935759Z",
     "iopub.status.busy": "2022-10-15T18:55:06.935369Z",
     "iopub.status.idle": "2022-10-15T18:55:06.944684Z",
     "shell.execute_reply": "2022-10-15T18:55:06.943472Z"
    },
    "papermill": {
     "duration": 0.034276,
     "end_time": "2022-10-15T18:55:06.947020",
     "exception": false,
     "start_time": "2022-10-15T18:55:06.912744",
     "status": "completed"
    },
    "tags": []
   },
   "outputs": [
    {
     "data": {
      "text/plain": [
       "0.0     2531\n",
       "1.0     1339\n",
       "2.0      780\n",
       "3.0      392\n",
       "4.0      156\n",
       "5.0       75\n",
       "6.0       56\n",
       "7.0       44\n",
       "10.0      28\n",
       "8.0       22\n",
       "9.0       11\n",
       "11.0      10\n",
       "12.0       2\n",
       "13.0       2\n",
       "14.0       1\n",
       "17.0       1\n",
       "Name: NINQ, dtype: int64"
      ]
     },
     "execution_count": 30,
     "metadata": {},
     "output_type": "execute_result"
    }
   ],
   "source": [
    "# NINQ missing values\n",
    "df_hmeq['NINQ'].value_counts()"
   ]
  },
  {
   "cell_type": "markdown",
   "id": "c98fac8f",
   "metadata": {
    "papermill": {
     "duration": 0.020975,
     "end_time": "2022-10-15T18:55:06.989180",
     "exception": false,
     "start_time": "2022-10-15T18:55:06.968205",
     "status": "completed"
    },
    "tags": []
   },
   "source": [
    "- A missing value for NINQ can be imputed with 0.Imputing with 0 is a safe option as it would not impact the data as such."
   ]
  },
  {
   "cell_type": "code",
   "execution_count": 31,
   "id": "f8c5c1a5",
   "metadata": {
    "execution": {
     "iopub.execute_input": "2022-10-15T18:55:07.034580Z",
     "iopub.status.busy": "2022-10-15T18:55:07.033876Z",
     "iopub.status.idle": "2022-10-15T18:55:07.039053Z",
     "shell.execute_reply": "2022-10-15T18:55:07.038118Z"
    },
    "papermill": {
     "duration": 0.031205,
     "end_time": "2022-10-15T18:55:07.041593",
     "exception": false,
     "start_time": "2022-10-15T18:55:07.010388",
     "status": "completed"
    },
    "tags": []
   },
   "outputs": [],
   "source": [
    "df_hmeq['NINQ'].fillna(0,inplace=True)"
   ]
  },
  {
   "cell_type": "code",
   "execution_count": 32,
   "id": "2a35a4fd",
   "metadata": {
    "execution": {
     "iopub.execute_input": "2022-10-15T18:55:07.085423Z",
     "iopub.status.busy": "2022-10-15T18:55:07.084999Z",
     "iopub.status.idle": "2022-10-15T18:55:07.094871Z",
     "shell.execute_reply": "2022-10-15T18:55:07.093610Z"
    },
    "papermill": {
     "duration": 0.034575,
     "end_time": "2022-10-15T18:55:07.097236",
     "exception": false,
     "start_time": "2022-10-15T18:55:07.062661",
     "status": "completed"
    },
    "tags": []
   },
   "outputs": [
    {
     "data": {
      "text/plain": [
       "16.0    316\n",
       "19.0    307\n",
       "24.0    264\n",
       "23.0    259\n",
       "21.0    235\n",
       "       ... \n",
       "58.0      3\n",
       "71.0      2\n",
       "53.0      2\n",
       "57.0      1\n",
       "63.0      1\n",
       "Name: CLNO, Length: 62, dtype: int64"
      ]
     },
     "execution_count": 32,
     "metadata": {},
     "output_type": "execute_result"
    }
   ],
   "source": [
    "#CLNO missing values\n",
    "df_hmeq['CLNO'].value_counts()"
   ]
  },
  {
   "cell_type": "code",
   "execution_count": 33,
   "id": "6dc93f0f",
   "metadata": {
    "execution": {
     "iopub.execute_input": "2022-10-15T18:55:07.141814Z",
     "iopub.status.busy": "2022-10-15T18:55:07.141381Z",
     "iopub.status.idle": "2022-10-15T18:55:07.153889Z",
     "shell.execute_reply": "2022-10-15T18:55:07.152206Z"
    },
    "papermill": {
     "duration": 0.039118,
     "end_time": "2022-10-15T18:55:07.157585",
     "exception": false,
     "start_time": "2022-10-15T18:55:07.118467",
     "status": "completed"
    },
    "tags": []
   },
   "outputs": [
    {
     "data": {
      "text/plain": [
       "count    5738.000000\n",
       "mean       21.296096\n",
       "std        10.138933\n",
       "min         0.000000\n",
       "25%        15.000000\n",
       "50%        20.000000\n",
       "75%        26.000000\n",
       "max        71.000000\n",
       "Name: CLNO, dtype: float64"
      ]
     },
     "execution_count": 33,
     "metadata": {},
     "output_type": "execute_result"
    }
   ],
   "source": [
    "df_hmeq['CLNO'].describe()"
   ]
  },
  {
   "cell_type": "markdown",
   "id": "f747d30f",
   "metadata": {
    "papermill": {
     "duration": 0.020705,
     "end_time": "2022-10-15T18:55:07.199549",
     "exception": false,
     "start_time": "2022-10-15T18:55:07.178844",
     "status": "completed"
    },
    "tags": []
   },
   "source": [
    "- A missing value for CLNO can be imputed with 0.Imputing with 0 is a safe option as it would not impact the data as such."
   ]
  },
  {
   "cell_type": "code",
   "execution_count": 34,
   "id": "5e6eae7d",
   "metadata": {
    "execution": {
     "iopub.execute_input": "2022-10-15T18:55:07.244218Z",
     "iopub.status.busy": "2022-10-15T18:55:07.243095Z",
     "iopub.status.idle": "2022-10-15T18:55:07.248692Z",
     "shell.execute_reply": "2022-10-15T18:55:07.247869Z"
    },
    "papermill": {
     "duration": 0.030522,
     "end_time": "2022-10-15T18:55:07.251119",
     "exception": false,
     "start_time": "2022-10-15T18:55:07.220597",
     "status": "completed"
    },
    "tags": []
   },
   "outputs": [],
   "source": [
    "df_hmeq['CLNO'].fillna(0,inplace=True)"
   ]
  },
  {
   "cell_type": "code",
   "execution_count": 35,
   "id": "f784b5c3",
   "metadata": {
    "execution": {
     "iopub.execute_input": "2022-10-15T18:55:07.295390Z",
     "iopub.status.busy": "2022-10-15T18:55:07.294966Z",
     "iopub.status.idle": "2022-10-15T18:55:07.304792Z",
     "shell.execute_reply": "2022-10-15T18:55:07.303775Z"
    },
    "papermill": {
     "duration": 0.034853,
     "end_time": "2022-10-15T18:55:07.307236",
     "exception": false,
     "start_time": "2022-10-15T18:55:07.272383",
     "status": "completed"
    },
    "tags": []
   },
   "outputs": [
    {
     "data": {
      "text/plain": [
       "37.113614    1\n",
       "44.382578    1\n",
       "31.614680    1\n",
       "41.576701    1\n",
       "41.395462    1\n",
       "            ..\n",
       "31.613930    1\n",
       "39.244669    1\n",
       "40.943866    1\n",
       "30.444839    1\n",
       "34.571519    1\n",
       "Name: DEBTINC, Length: 4693, dtype: int64"
      ]
     },
     "execution_count": 35,
     "metadata": {},
     "output_type": "execute_result"
    }
   ],
   "source": [
    "#CLNO missing values\n",
    "df_hmeq['DEBTINC'].value_counts()"
   ]
  },
  {
   "cell_type": "code",
   "execution_count": 36,
   "id": "3b0b2d86",
   "metadata": {
    "execution": {
     "iopub.execute_input": "2022-10-15T18:55:07.351617Z",
     "iopub.status.busy": "2022-10-15T18:55:07.351149Z",
     "iopub.status.idle": "2022-10-15T18:55:07.362557Z",
     "shell.execute_reply": "2022-10-15T18:55:07.361698Z"
    },
    "papermill": {
     "duration": 0.036119,
     "end_time": "2022-10-15T18:55:07.364813",
     "exception": false,
     "start_time": "2022-10-15T18:55:07.328694",
     "status": "completed"
    },
    "tags": []
   },
   "outputs": [
    {
     "data": {
      "text/plain": [
       "count    4693.000000\n",
       "mean       33.779915\n",
       "std         8.601746\n",
       "min         0.524499\n",
       "25%        29.140031\n",
       "50%        34.818262\n",
       "75%        39.003141\n",
       "max       203.312149\n",
       "Name: DEBTINC, dtype: float64"
      ]
     },
     "execution_count": 36,
     "metadata": {},
     "output_type": "execute_result"
    }
   ],
   "source": [
    "df_hmeq['DEBTINC'].describe()"
   ]
  },
  {
   "cell_type": "code",
   "execution_count": 37,
   "id": "50038619",
   "metadata": {
    "execution": {
     "iopub.execute_input": "2022-10-15T18:55:07.409298Z",
     "iopub.status.busy": "2022-10-15T18:55:07.408882Z",
     "iopub.status.idle": "2022-10-15T18:55:07.437672Z",
     "shell.execute_reply": "2022-10-15T18:55:07.436565Z"
    },
    "papermill": {
     "duration": 0.053865,
     "end_time": "2022-10-15T18:55:07.440045",
     "exception": false,
     "start_time": "2022-10-15T18:55:07.386180",
     "status": "completed"
    },
    "tags": []
   },
   "outputs": [
    {
     "data": {
      "text/html": [
       "<div>\n",
       "<style scoped>\n",
       "    .dataframe tbody tr th:only-of-type {\n",
       "        vertical-align: middle;\n",
       "    }\n",
       "\n",
       "    .dataframe tbody tr th {\n",
       "        vertical-align: top;\n",
       "    }\n",
       "\n",
       "    .dataframe thead th {\n",
       "        text-align: right;\n",
       "    }\n",
       "</style>\n",
       "<table border=\"1\" class=\"dataframe\">\n",
       "  <thead>\n",
       "    <tr style=\"text-align: right;\">\n",
       "      <th></th>\n",
       "      <th>BAD</th>\n",
       "      <th>LOAN</th>\n",
       "      <th>MORTDUE</th>\n",
       "      <th>VALUE</th>\n",
       "      <th>REASON</th>\n",
       "      <th>JOB</th>\n",
       "      <th>YOJ</th>\n",
       "      <th>DEROG</th>\n",
       "      <th>DELINQ</th>\n",
       "      <th>CLAGE</th>\n",
       "      <th>NINQ</th>\n",
       "      <th>CLNO</th>\n",
       "      <th>DEBTINC</th>\n",
       "    </tr>\n",
       "  </thead>\n",
       "  <tbody>\n",
       "    <tr>\n",
       "      <th>0</th>\n",
       "      <td>1</td>\n",
       "      <td>1100</td>\n",
       "      <td>25860.0</td>\n",
       "      <td>39025.000000</td>\n",
       "      <td>HomeImp</td>\n",
       "      <td>Other</td>\n",
       "      <td>10.500000</td>\n",
       "      <td>0.0</td>\n",
       "      <td>0.0</td>\n",
       "      <td>94.366667</td>\n",
       "      <td>1.0</td>\n",
       "      <td>9.0</td>\n",
       "      <td>NaN</td>\n",
       "    </tr>\n",
       "    <tr>\n",
       "      <th>1</th>\n",
       "      <td>1</td>\n",
       "      <td>1300</td>\n",
       "      <td>70053.0</td>\n",
       "      <td>68400.000000</td>\n",
       "      <td>HomeImp</td>\n",
       "      <td>Other</td>\n",
       "      <td>7.000000</td>\n",
       "      <td>0.0</td>\n",
       "      <td>2.0</td>\n",
       "      <td>121.833333</td>\n",
       "      <td>0.0</td>\n",
       "      <td>14.0</td>\n",
       "      <td>NaN</td>\n",
       "    </tr>\n",
       "    <tr>\n",
       "      <th>2</th>\n",
       "      <td>1</td>\n",
       "      <td>1500</td>\n",
       "      <td>13500.0</td>\n",
       "      <td>16700.000000</td>\n",
       "      <td>HomeImp</td>\n",
       "      <td>Other</td>\n",
       "      <td>4.000000</td>\n",
       "      <td>0.0</td>\n",
       "      <td>0.0</td>\n",
       "      <td>149.466667</td>\n",
       "      <td>1.0</td>\n",
       "      <td>10.0</td>\n",
       "      <td>NaN</td>\n",
       "    </tr>\n",
       "    <tr>\n",
       "      <th>3</th>\n",
       "      <td>1</td>\n",
       "      <td>1500</td>\n",
       "      <td>0.0</td>\n",
       "      <td>101776.048741</td>\n",
       "      <td>OtherReason</td>\n",
       "      <td>Other</td>\n",
       "      <td>8.922268</td>\n",
       "      <td>0.0</td>\n",
       "      <td>0.0</td>\n",
       "      <td>0.000000</td>\n",
       "      <td>0.0</td>\n",
       "      <td>0.0</td>\n",
       "      <td>NaN</td>\n",
       "    </tr>\n",
       "    <tr>\n",
       "      <th>4</th>\n",
       "      <td>0</td>\n",
       "      <td>1700</td>\n",
       "      <td>97800.0</td>\n",
       "      <td>112000.000000</td>\n",
       "      <td>HomeImp</td>\n",
       "      <td>Office</td>\n",
       "      <td>3.000000</td>\n",
       "      <td>0.0</td>\n",
       "      <td>0.0</td>\n",
       "      <td>93.333333</td>\n",
       "      <td>0.0</td>\n",
       "      <td>14.0</td>\n",
       "      <td>NaN</td>\n",
       "    </tr>\n",
       "    <tr>\n",
       "      <th>...</th>\n",
       "      <td>...</td>\n",
       "      <td>...</td>\n",
       "      <td>...</td>\n",
       "      <td>...</td>\n",
       "      <td>...</td>\n",
       "      <td>...</td>\n",
       "      <td>...</td>\n",
       "      <td>...</td>\n",
       "      <td>...</td>\n",
       "      <td>...</td>\n",
       "      <td>...</td>\n",
       "      <td>...</td>\n",
       "      <td>...</td>\n",
       "    </tr>\n",
       "    <tr>\n",
       "      <th>5930</th>\n",
       "      <td>1</td>\n",
       "      <td>72300</td>\n",
       "      <td>0.0</td>\n",
       "      <td>85000.000000</td>\n",
       "      <td>DebtCon</td>\n",
       "      <td>Other</td>\n",
       "      <td>1.000000</td>\n",
       "      <td>0.0</td>\n",
       "      <td>0.0</td>\n",
       "      <td>117.166667</td>\n",
       "      <td>9.0</td>\n",
       "      <td>23.0</td>\n",
       "      <td>NaN</td>\n",
       "    </tr>\n",
       "    <tr>\n",
       "      <th>5932</th>\n",
       "      <td>1</td>\n",
       "      <td>76500</td>\n",
       "      <td>38206.0</td>\n",
       "      <td>90000.000000</td>\n",
       "      <td>DebtCon</td>\n",
       "      <td>Other</td>\n",
       "      <td>12.000000</td>\n",
       "      <td>0.0</td>\n",
       "      <td>0.0</td>\n",
       "      <td>134.900000</td>\n",
       "      <td>0.0</td>\n",
       "      <td>26.0</td>\n",
       "      <td>NaN</td>\n",
       "    </tr>\n",
       "    <tr>\n",
       "      <th>5933</th>\n",
       "      <td>1</td>\n",
       "      <td>77200</td>\n",
       "      <td>83962.0</td>\n",
       "      <td>215000.000000</td>\n",
       "      <td>HomeImp</td>\n",
       "      <td>Self</td>\n",
       "      <td>8.000000</td>\n",
       "      <td>1.0</td>\n",
       "      <td>2.0</td>\n",
       "      <td>71.533132</td>\n",
       "      <td>3.0</td>\n",
       "      <td>14.0</td>\n",
       "      <td>NaN</td>\n",
       "    </tr>\n",
       "    <tr>\n",
       "      <th>5935</th>\n",
       "      <td>0</td>\n",
       "      <td>78400</td>\n",
       "      <td>13900.0</td>\n",
       "      <td>102910.000000</td>\n",
       "      <td>HomeImp</td>\n",
       "      <td>Other</td>\n",
       "      <td>27.000000</td>\n",
       "      <td>0.0</td>\n",
       "      <td>1.0</td>\n",
       "      <td>138.000000</td>\n",
       "      <td>0.0</td>\n",
       "      <td>14.0</td>\n",
       "      <td>NaN</td>\n",
       "    </tr>\n",
       "    <tr>\n",
       "      <th>5948</th>\n",
       "      <td>0</td>\n",
       "      <td>86000</td>\n",
       "      <td>47355.0</td>\n",
       "      <td>85000.000000</td>\n",
       "      <td>DebtCon</td>\n",
       "      <td>Other</td>\n",
       "      <td>15.000000</td>\n",
       "      <td>0.0</td>\n",
       "      <td>0.0</td>\n",
       "      <td>210.966667</td>\n",
       "      <td>0.0</td>\n",
       "      <td>16.0</td>\n",
       "      <td>NaN</td>\n",
       "    </tr>\n",
       "  </tbody>\n",
       "</table>\n",
       "<p>1267 rows × 13 columns</p>\n",
       "</div>"
      ],
      "text/plain": [
       "      BAD   LOAN  MORTDUE          VALUE       REASON     JOB        YOJ  \\\n",
       "0       1   1100  25860.0   39025.000000      HomeImp   Other  10.500000   \n",
       "1       1   1300  70053.0   68400.000000      HomeImp   Other   7.000000   \n",
       "2       1   1500  13500.0   16700.000000      HomeImp   Other   4.000000   \n",
       "3       1   1500      0.0  101776.048741  OtherReason   Other   8.922268   \n",
       "4       0   1700  97800.0  112000.000000      HomeImp  Office   3.000000   \n",
       "...   ...    ...      ...            ...          ...     ...        ...   \n",
       "5930    1  72300      0.0   85000.000000      DebtCon   Other   1.000000   \n",
       "5932    1  76500  38206.0   90000.000000      DebtCon   Other  12.000000   \n",
       "5933    1  77200  83962.0  215000.000000      HomeImp    Self   8.000000   \n",
       "5935    0  78400  13900.0  102910.000000      HomeImp   Other  27.000000   \n",
       "5948    0  86000  47355.0   85000.000000      DebtCon   Other  15.000000   \n",
       "\n",
       "      DEROG  DELINQ       CLAGE  NINQ  CLNO  DEBTINC  \n",
       "0       0.0     0.0   94.366667   1.0   9.0      NaN  \n",
       "1       0.0     2.0  121.833333   0.0  14.0      NaN  \n",
       "2       0.0     0.0  149.466667   1.0  10.0      NaN  \n",
       "3       0.0     0.0    0.000000   0.0   0.0      NaN  \n",
       "4       0.0     0.0   93.333333   0.0  14.0      NaN  \n",
       "...     ...     ...         ...   ...   ...      ...  \n",
       "5930    0.0     0.0  117.166667   9.0  23.0      NaN  \n",
       "5932    0.0     0.0  134.900000   0.0  26.0      NaN  \n",
       "5933    1.0     2.0   71.533132   3.0  14.0      NaN  \n",
       "5935    0.0     1.0  138.000000   0.0  14.0      NaN  \n",
       "5948    0.0     0.0  210.966667   0.0  16.0      NaN  \n",
       "\n",
       "[1267 rows x 13 columns]"
      ]
     },
     "execution_count": 37,
     "metadata": {},
     "output_type": "execute_result"
    }
   ],
   "source": [
    "df_hmeq[df_hmeq['DEBTINC'].isna()]"
   ]
  },
  {
   "cell_type": "code",
   "execution_count": 38,
   "id": "79ff3e76",
   "metadata": {
    "execution": {
     "iopub.execute_input": "2022-10-15T18:55:07.485653Z",
     "iopub.status.busy": "2022-10-15T18:55:07.484628Z",
     "iopub.status.idle": "2022-10-15T18:55:07.492020Z",
     "shell.execute_reply": "2022-10-15T18:55:07.491242Z"
    },
    "papermill": {
     "duration": 0.032219,
     "end_time": "2022-10-15T18:55:07.494100",
     "exception": false,
     "start_time": "2022-10-15T18:55:07.461881",
     "status": "completed"
    },
    "tags": []
   },
   "outputs": [
    {
     "data": {
      "text/plain": [
       "21.258389261744966"
      ]
     },
     "execution_count": 38,
     "metadata": {},
     "output_type": "execute_result"
    }
   ],
   "source": [
    "df_hmeq['DEBTINC'].isnull().sum()/df_hmeq.shape[0]*100"
   ]
  },
  {
   "cell_type": "markdown",
   "id": "9c1fae66",
   "metadata": {
    "papermill": {
     "duration": 0.021434,
     "end_time": "2022-10-15T18:55:07.537484",
     "exception": false,
     "start_time": "2022-10-15T18:55:07.516050",
     "status": "completed"
    },
    "tags": []
   },
   "source": [
    "- We cannot impute DEBTINC missing values with 0 as 0 would signify debt is 0 but is not the case on looking from above data.\n",
    "- 21% of values are missing which is very high percentage so the option to drop them is also not advisiable.\n",
    "- Mean would be the ideal imputation\n"
   ]
  },
  {
   "cell_type": "code",
   "execution_count": 39,
   "id": "470c285b",
   "metadata": {
    "execution": {
     "iopub.execute_input": "2022-10-15T18:55:07.583114Z",
     "iopub.status.busy": "2022-10-15T18:55:07.582683Z",
     "iopub.status.idle": "2022-10-15T18:55:07.588747Z",
     "shell.execute_reply": "2022-10-15T18:55:07.587539Z"
    },
    "papermill": {
     "duration": 0.031684,
     "end_time": "2022-10-15T18:55:07.591017",
     "exception": false,
     "start_time": "2022-10-15T18:55:07.559333",
     "status": "completed"
    },
    "tags": []
   },
   "outputs": [],
   "source": [
    "df_hmeq['DEBTINC'].fillna(df_hmeq['DEBTINC'].mean(),inplace=True)"
   ]
  },
  {
   "cell_type": "code",
   "execution_count": 40,
   "id": "10822547",
   "metadata": {
    "execution": {
     "iopub.execute_input": "2022-10-15T18:55:07.637156Z",
     "iopub.status.busy": "2022-10-15T18:55:07.636648Z",
     "iopub.status.idle": "2022-10-15T18:55:07.648080Z",
     "shell.execute_reply": "2022-10-15T18:55:07.647035Z"
    },
    "papermill": {
     "duration": 0.037515,
     "end_time": "2022-10-15T18:55:07.650513",
     "exception": false,
     "start_time": "2022-10-15T18:55:07.612998",
     "status": "completed"
    },
    "tags": []
   },
   "outputs": [
    {
     "data": {
      "text/plain": [
       "BAD        0\n",
       "LOAN       0\n",
       "MORTDUE    0\n",
       "VALUE      0\n",
       "REASON     0\n",
       "JOB        0\n",
       "YOJ        0\n",
       "DEROG      0\n",
       "DELINQ     0\n",
       "CLAGE      0\n",
       "NINQ       0\n",
       "CLNO       0\n",
       "DEBTINC    0\n",
       "dtype: int64"
      ]
     },
     "execution_count": 40,
     "metadata": {},
     "output_type": "execute_result"
    }
   ],
   "source": [
    "df_hmeq.isnull().sum()"
   ]
  },
  {
   "cell_type": "markdown",
   "id": "da8618c4",
   "metadata": {
    "papermill": {
     "duration": 0.02268,
     "end_time": "2022-10-15T18:55:07.697196",
     "exception": false,
     "start_time": "2022-10-15T18:55:07.674516",
     "status": "completed"
    },
    "tags": []
   },
   "source": [
    "- All missing values have been handled"
   ]
  },
  {
   "cell_type": "markdown",
   "id": "5be22e68",
   "metadata": {
    "papermill": {
     "duration": 0.02184,
     "end_time": "2022-10-15T18:55:07.741566",
     "exception": false,
     "start_time": "2022-10-15T18:55:07.719726",
     "status": "completed"
    },
    "tags": []
   },
   "source": [
    "##### "
   ]
  },
  {
   "cell_type": "code",
   "execution_count": 41,
   "id": "9e2b83df",
   "metadata": {
    "execution": {
     "iopub.execute_input": "2022-10-15T18:55:07.787806Z",
     "iopub.status.busy": "2022-10-15T18:55:07.787362Z",
     "iopub.status.idle": "2022-10-15T18:55:07.803982Z",
     "shell.execute_reply": "2022-10-15T18:55:07.802045Z"
    },
    "papermill": {
     "duration": 0.044143,
     "end_time": "2022-10-15T18:55:07.807672",
     "exception": false,
     "start_time": "2022-10-15T18:55:07.763529",
     "status": "completed"
    },
    "tags": []
   },
   "outputs": [
    {
     "name": "stdout",
     "output_type": "stream",
     "text": [
      "<class 'pandas.core.frame.DataFrame'>\n",
      "RangeIndex: 5960 entries, 0 to 5959\n",
      "Data columns (total 13 columns):\n",
      " #   Column   Non-Null Count  Dtype  \n",
      "---  ------   --------------  -----  \n",
      " 0   BAD      5960 non-null   int64  \n",
      " 1   LOAN     5960 non-null   int64  \n",
      " 2   MORTDUE  5960 non-null   float64\n",
      " 3   VALUE    5960 non-null   float64\n",
      " 4   REASON   5960 non-null   object \n",
      " 5   JOB      5960 non-null   object \n",
      " 6   YOJ      5960 non-null   float64\n",
      " 7   DEROG    5960 non-null   float64\n",
      " 8   DELINQ   5960 non-null   float64\n",
      " 9   CLAGE    5960 non-null   float64\n",
      " 10  NINQ     5960 non-null   float64\n",
      " 11  CLNO     5960 non-null   float64\n",
      " 12  DEBTINC  5960 non-null   float64\n",
      "dtypes: float64(9), int64(2), object(2)\n",
      "memory usage: 605.4+ KB\n"
     ]
    }
   ],
   "source": [
    "df_hmeq.info()"
   ]
  },
  {
   "cell_type": "markdown",
   "id": "2879267e",
   "metadata": {
    "papermill": {
     "duration": 0.022299,
     "end_time": "2022-10-15T18:55:07.852650",
     "exception": false,
     "start_time": "2022-10-15T18:55:07.830351",
     "status": "completed"
    },
    "tags": []
   },
   "source": [
    "### Data Transformation"
   ]
  },
  {
   "cell_type": "markdown",
   "id": "ded1dd9d",
   "metadata": {
    "papermill": {
     "duration": 0.022169,
     "end_time": "2022-10-15T18:55:07.897325",
     "exception": false,
     "start_time": "2022-10-15T18:55:07.875156",
     "status": "completed"
    },
    "tags": []
   },
   "source": [
    "#### Label Encoding the categorical variables so as to use in the ML model"
   ]
  },
  {
   "cell_type": "code",
   "execution_count": 42,
   "id": "15c82d34",
   "metadata": {
    "execution": {
     "iopub.execute_input": "2022-10-15T18:55:07.943372Z",
     "iopub.status.busy": "2022-10-15T18:55:07.942641Z",
     "iopub.status.idle": "2022-10-15T18:55:07.947685Z",
     "shell.execute_reply": "2022-10-15T18:55:07.946771Z"
    },
    "papermill": {
     "duration": 0.030547,
     "end_time": "2022-10-15T18:55:07.949805",
     "exception": false,
     "start_time": "2022-10-15T18:55:07.919258",
     "status": "completed"
    },
    "tags": []
   },
   "outputs": [],
   "source": [
    "from sklearn import preprocessing\n",
    "le = preprocessing.LabelEncoder()"
   ]
  },
  {
   "cell_type": "code",
   "execution_count": 43,
   "id": "e2756395",
   "metadata": {
    "execution": {
     "iopub.execute_input": "2022-10-15T18:55:07.996706Z",
     "iopub.status.busy": "2022-10-15T18:55:07.996311Z",
     "iopub.status.idle": "2022-10-15T18:55:08.002769Z",
     "shell.execute_reply": "2022-10-15T18:55:08.001504Z"
    },
    "papermill": {
     "duration": 0.032913,
     "end_time": "2022-10-15T18:55:08.005178",
     "exception": false,
     "start_time": "2022-10-15T18:55:07.972265",
     "status": "completed"
    },
    "tags": []
   },
   "outputs": [],
   "source": [
    "df_categorical = df_hmeq.select_dtypes(include=['object'])"
   ]
  },
  {
   "cell_type": "code",
   "execution_count": 44,
   "id": "fdcdd830",
   "metadata": {
    "execution": {
     "iopub.execute_input": "2022-10-15T18:55:08.052557Z",
     "iopub.status.busy": "2022-10-15T18:55:08.052168Z",
     "iopub.status.idle": "2022-10-15T18:55:08.062362Z",
     "shell.execute_reply": "2022-10-15T18:55:08.061241Z"
    },
    "papermill": {
     "duration": 0.037624,
     "end_time": "2022-10-15T18:55:08.064808",
     "exception": false,
     "start_time": "2022-10-15T18:55:08.027184",
     "status": "completed"
    },
    "tags": []
   },
   "outputs": [
    {
     "data": {
      "text/html": [
       "<div>\n",
       "<style scoped>\n",
       "    .dataframe tbody tr th:only-of-type {\n",
       "        vertical-align: middle;\n",
       "    }\n",
       "\n",
       "    .dataframe tbody tr th {\n",
       "        vertical-align: top;\n",
       "    }\n",
       "\n",
       "    .dataframe thead th {\n",
       "        text-align: right;\n",
       "    }\n",
       "</style>\n",
       "<table border=\"1\" class=\"dataframe\">\n",
       "  <thead>\n",
       "    <tr style=\"text-align: right;\">\n",
       "      <th></th>\n",
       "      <th>REASON</th>\n",
       "      <th>JOB</th>\n",
       "    </tr>\n",
       "  </thead>\n",
       "  <tbody>\n",
       "    <tr>\n",
       "      <th>0</th>\n",
       "      <td>HomeImp</td>\n",
       "      <td>Other</td>\n",
       "    </tr>\n",
       "    <tr>\n",
       "      <th>1</th>\n",
       "      <td>HomeImp</td>\n",
       "      <td>Other</td>\n",
       "    </tr>\n",
       "    <tr>\n",
       "      <th>2</th>\n",
       "      <td>HomeImp</td>\n",
       "      <td>Other</td>\n",
       "    </tr>\n",
       "    <tr>\n",
       "      <th>3</th>\n",
       "      <td>OtherReason</td>\n",
       "      <td>Other</td>\n",
       "    </tr>\n",
       "    <tr>\n",
       "      <th>4</th>\n",
       "      <td>HomeImp</td>\n",
       "      <td>Office</td>\n",
       "    </tr>\n",
       "  </tbody>\n",
       "</table>\n",
       "</div>"
      ],
      "text/plain": [
       "        REASON     JOB\n",
       "0      HomeImp   Other\n",
       "1      HomeImp   Other\n",
       "2      HomeImp   Other\n",
       "3  OtherReason   Other\n",
       "4      HomeImp  Office"
      ]
     },
     "execution_count": 44,
     "metadata": {},
     "output_type": "execute_result"
    }
   ],
   "source": [
    "df_categorical.head()"
   ]
  },
  {
   "cell_type": "code",
   "execution_count": 45,
   "id": "11e2ebe1",
   "metadata": {
    "execution": {
     "iopub.execute_input": "2022-10-15T18:55:08.111453Z",
     "iopub.status.busy": "2022-10-15T18:55:08.111073Z",
     "iopub.status.idle": "2022-10-15T18:55:08.119863Z",
     "shell.execute_reply": "2022-10-15T18:55:08.118697Z"
    },
    "papermill": {
     "duration": 0.034856,
     "end_time": "2022-10-15T18:55:08.122229",
     "exception": false,
     "start_time": "2022-10-15T18:55:08.087373",
     "status": "completed"
    },
    "tags": []
   },
   "outputs": [
    {
     "data": {
      "text/plain": [
       "Other      2667\n",
       "ProfExe    1276\n",
       "Office      948\n",
       "Mgr         767\n",
       "Self        193\n",
       "Sales       109\n",
       "Name: JOB, dtype: int64"
      ]
     },
     "execution_count": 45,
     "metadata": {},
     "output_type": "execute_result"
    }
   ],
   "source": [
    "df_categorical['JOB'].value_counts()"
   ]
  },
  {
   "cell_type": "code",
   "execution_count": 46,
   "id": "a3bd49d8",
   "metadata": {
    "execution": {
     "iopub.execute_input": "2022-10-15T18:55:08.169530Z",
     "iopub.status.busy": "2022-10-15T18:55:08.169113Z",
     "iopub.status.idle": "2022-10-15T18:55:08.179150Z",
     "shell.execute_reply": "2022-10-15T18:55:08.177792Z"
    },
    "papermill": {
     "duration": 0.037026,
     "end_time": "2022-10-15T18:55:08.181577",
     "exception": false,
     "start_time": "2022-10-15T18:55:08.144551",
     "status": "completed"
    },
    "tags": []
   },
   "outputs": [
    {
     "data": {
      "text/plain": [
       "DebtCon        3928\n",
       "HomeImp        1780\n",
       "OtherReason     252\n",
       "Name: REASON, dtype: int64"
      ]
     },
     "execution_count": 46,
     "metadata": {},
     "output_type": "execute_result"
    }
   ],
   "source": [
    "df_categorical['REASON'].value_counts()"
   ]
  },
  {
   "cell_type": "code",
   "execution_count": 47,
   "id": "33d04444",
   "metadata": {
    "execution": {
     "iopub.execute_input": "2022-10-15T18:55:08.230277Z",
     "iopub.status.busy": "2022-10-15T18:55:08.229805Z",
     "iopub.status.idle": "2022-10-15T18:55:08.239023Z",
     "shell.execute_reply": "2022-10-15T18:55:08.237982Z"
    },
    "papermill": {
     "duration": 0.036533,
     "end_time": "2022-10-15T18:55:08.241313",
     "exception": false,
     "start_time": "2022-10-15T18:55:08.204780",
     "status": "completed"
    },
    "tags": []
   },
   "outputs": [],
   "source": [
    "df_categorical = df_categorical.apply(le.fit_transform)"
   ]
  },
  {
   "cell_type": "code",
   "execution_count": 48,
   "id": "a6b5de63",
   "metadata": {
    "execution": {
     "iopub.execute_input": "2022-10-15T18:55:08.288390Z",
     "iopub.status.busy": "2022-10-15T18:55:08.287992Z",
     "iopub.status.idle": "2022-10-15T18:55:08.294008Z",
     "shell.execute_reply": "2022-10-15T18:55:08.292599Z"
    },
    "papermill": {
     "duration": 0.033206,
     "end_time": "2022-10-15T18:55:08.296956",
     "exception": false,
     "start_time": "2022-10-15T18:55:08.263750",
     "status": "completed"
    },
    "tags": []
   },
   "outputs": [
    {
     "name": "stdout",
     "output_type": "stream",
     "text": [
      "[0 1 2 3 4 5]\n"
     ]
    }
   ],
   "source": [
    "print(le.transform(le.classes_))"
   ]
  },
  {
   "cell_type": "code",
   "execution_count": 49,
   "id": "494410bc",
   "metadata": {
    "execution": {
     "iopub.execute_input": "2022-10-15T18:55:08.345166Z",
     "iopub.status.busy": "2022-10-15T18:55:08.344731Z",
     "iopub.status.idle": "2022-10-15T18:55:08.353080Z",
     "shell.execute_reply": "2022-10-15T18:55:08.351900Z"
    },
    "papermill": {
     "duration": 0.034785,
     "end_time": "2022-10-15T18:55:08.355426",
     "exception": false,
     "start_time": "2022-10-15T18:55:08.320641",
     "status": "completed"
    },
    "tags": []
   },
   "outputs": [
    {
     "data": {
      "text/plain": [
       "{'Mgr': 0, 'Office': 1, 'Other': 2, 'ProfExe': 3, 'Sales': 4, 'Self': 5}"
      ]
     },
     "execution_count": 49,
     "metadata": {},
     "output_type": "execute_result"
    }
   ],
   "source": [
    "le_name_mapping = dict(zip(le.classes_, le.transform(le.classes_)))\n",
    "le_name_mapping"
   ]
  },
  {
   "cell_type": "code",
   "execution_count": 50,
   "id": "389b35ea",
   "metadata": {
    "execution": {
     "iopub.execute_input": "2022-10-15T18:55:08.403369Z",
     "iopub.status.busy": "2022-10-15T18:55:08.402402Z",
     "iopub.status.idle": "2022-10-15T18:55:08.409065Z",
     "shell.execute_reply": "2022-10-15T18:55:08.408238Z"
    },
    "papermill": {
     "duration": 0.032615,
     "end_time": "2022-10-15T18:55:08.411170",
     "exception": false,
     "start_time": "2022-10-15T18:55:08.378555",
     "status": "completed"
    },
    "tags": []
   },
   "outputs": [
    {
     "data": {
      "text/plain": [
       "['REASON', 'JOB']"
      ]
     },
     "execution_count": 50,
     "metadata": {},
     "output_type": "execute_result"
    }
   ],
   "source": [
    "list(df_categorical.columns)"
   ]
  },
  {
   "cell_type": "code",
   "execution_count": 51,
   "id": "e7d1926b",
   "metadata": {
    "execution": {
     "iopub.execute_input": "2022-10-15T18:55:08.458686Z",
     "iopub.status.busy": "2022-10-15T18:55:08.457953Z",
     "iopub.status.idle": "2022-10-15T18:55:08.464157Z",
     "shell.execute_reply": "2022-10-15T18:55:08.463255Z"
    },
    "papermill": {
     "duration": 0.032605,
     "end_time": "2022-10-15T18:55:08.466463",
     "exception": false,
     "start_time": "2022-10-15T18:55:08.433858",
     "status": "completed"
    },
    "tags": []
   },
   "outputs": [],
   "source": [
    "df_hmeq.drop(list(df_categorical.columns),axis=1,inplace=True)"
   ]
  },
  {
   "cell_type": "code",
   "execution_count": 52,
   "id": "8de86444",
   "metadata": {
    "execution": {
     "iopub.execute_input": "2022-10-15T18:55:08.514715Z",
     "iopub.status.busy": "2022-10-15T18:55:08.513995Z",
     "iopub.status.idle": "2022-10-15T18:55:08.522266Z",
     "shell.execute_reply": "2022-10-15T18:55:08.521461Z"
    },
    "papermill": {
     "duration": 0.03529,
     "end_time": "2022-10-15T18:55:08.524397",
     "exception": false,
     "start_time": "2022-10-15T18:55:08.489107",
     "status": "completed"
    },
    "tags": []
   },
   "outputs": [
    {
     "data": {
      "text/plain": [
       "BAD        0\n",
       "LOAN       0\n",
       "MORTDUE    0\n",
       "VALUE      0\n",
       "YOJ        0\n",
       "DEROG      0\n",
       "DELINQ     0\n",
       "CLAGE      0\n",
       "NINQ       0\n",
       "CLNO       0\n",
       "DEBTINC    0\n",
       "dtype: int64"
      ]
     },
     "execution_count": 52,
     "metadata": {},
     "output_type": "execute_result"
    }
   ],
   "source": [
    "df_hmeq.isnull().sum()"
   ]
  },
  {
   "cell_type": "code",
   "execution_count": 53,
   "id": "03c67392",
   "metadata": {
    "execution": {
     "iopub.execute_input": "2022-10-15T18:55:08.573461Z",
     "iopub.status.busy": "2022-10-15T18:55:08.572691Z",
     "iopub.status.idle": "2022-10-15T18:55:08.579838Z",
     "shell.execute_reply": "2022-10-15T18:55:08.578900Z"
    },
    "papermill": {
     "duration": 0.034889,
     "end_time": "2022-10-15T18:55:08.582246",
     "exception": false,
     "start_time": "2022-10-15T18:55:08.547357",
     "status": "completed"
    },
    "tags": []
   },
   "outputs": [],
   "source": [
    "df_hmeq = pd.concat([df_categorical,df_hmeq],axis=1)"
   ]
  },
  {
   "cell_type": "code",
   "execution_count": 54,
   "id": "d62fdc71",
   "metadata": {
    "execution": {
     "iopub.execute_input": "2022-10-15T18:55:08.630139Z",
     "iopub.status.busy": "2022-10-15T18:55:08.629709Z",
     "iopub.status.idle": "2022-10-15T18:55:08.635323Z",
     "shell.execute_reply": "2022-10-15T18:55:08.634566Z"
    },
    "papermill": {
     "duration": 0.031986,
     "end_time": "2022-10-15T18:55:08.637359",
     "exception": false,
     "start_time": "2022-10-15T18:55:08.605373",
     "status": "completed"
    },
    "tags": []
   },
   "outputs": [
    {
     "data": {
      "text/plain": [
       "(5960, 13)"
      ]
     },
     "execution_count": 54,
     "metadata": {},
     "output_type": "execute_result"
    }
   ],
   "source": [
    "df_hmeq.shape"
   ]
  },
  {
   "cell_type": "markdown",
   "id": "4a559244",
   "metadata": {
    "papermill": {
     "duration": 0.022965,
     "end_time": "2022-10-15T18:55:08.683393",
     "exception": false,
     "start_time": "2022-10-15T18:55:08.660428",
     "status": "completed"
    },
    "tags": []
   },
   "source": [
    "### Basic EDA"
   ]
  },
  {
   "cell_type": "code",
   "execution_count": 55,
   "id": "f4c4b727",
   "metadata": {
    "execution": {
     "iopub.execute_input": "2022-10-15T18:55:08.731736Z",
     "iopub.status.busy": "2022-10-15T18:55:08.731005Z",
     "iopub.status.idle": "2022-10-15T18:55:08.935699Z",
     "shell.execute_reply": "2022-10-15T18:55:08.934555Z"
    },
    "papermill": {
     "duration": 0.23172,
     "end_time": "2022-10-15T18:55:08.938285",
     "exception": false,
     "start_time": "2022-10-15T18:55:08.706565",
     "status": "completed"
    },
    "tags": []
   },
   "outputs": [
    {
     "data": {
      "image/png": "[encoded data removed]",
      "text/plain": [
       "<Figure size 432x288 with 1 Axes>"
      ]
     },
     "metadata": {
      "needs_background": "light"
     },
     "output_type": "display_data"
    }
   ],
   "source": [
    "sns.countplot(x='BAD',data=df_hmeq)\n",
    "plt.show()"
   ]
  },
  {
   "cell_type": "markdown",
   "id": "e296bda2",
   "metadata": {
    "papermill": {
     "duration": 0.022704,
     "end_time": "2022-10-15T18:55:08.984195",
     "exception": false,
     "start_time": "2022-10-15T18:55:08.961491",
     "status": "completed"
    },
    "tags": []
   },
   "source": [
    "- Imbalance data set as people who repaid have higer precentage as compare to people who were unable to pay the loan.\n"
   ]
  },
  {
   "cell_type": "markdown",
   "id": "ee99ce76",
   "metadata": {
    "papermill": {
     "duration": 0.023714,
     "end_time": "2022-10-15T18:55:09.031079",
     "exception": false,
     "start_time": "2022-10-15T18:55:09.007365",
     "status": "completed"
    },
    "tags": []
   },
   "source": [
    "### EDA is remaining"
   ]
  },
  {
   "cell_type": "code",
   "execution_count": 56,
   "id": "2868d665",
   "metadata": {
    "execution": {
     "iopub.execute_input": "2022-10-15T18:55:09.081122Z",
     "iopub.status.busy": "2022-10-15T18:55:09.080662Z",
     "iopub.status.idle": "2022-10-15T18:55:09.088008Z",
     "shell.execute_reply": "2022-10-15T18:55:09.086864Z"
    },
    "papermill": {
     "duration": 0.036186,
     "end_time": "2022-10-15T18:55:09.090643",
     "exception": false,
     "start_time": "2022-10-15T18:55:09.054457",
     "status": "completed"
    },
    "tags": []
   },
   "outputs": [],
   "source": [
    "#BaseLine Accuracy\n",
    "X = df_hmeq.drop('BAD',axis=1)\n",
    "y = df_hmeq['BAD']"
   ]
  },
  {
   "cell_type": "code",
   "execution_count": 57,
   "id": "e7e94d22",
   "metadata": {
    "execution": {
     "iopub.execute_input": "2022-10-15T18:55:09.139151Z",
     "iopub.status.busy": "2022-10-15T18:55:09.138679Z",
     "iopub.status.idle": "2022-10-15T18:55:09.151529Z",
     "shell.execute_reply": "2022-10-15T18:55:09.150199Z"
    },
    "papermill": {
     "duration": 0.041103,
     "end_time": "2022-10-15T18:55:09.155160",
     "exception": false,
     "start_time": "2022-10-15T18:55:09.114057",
     "status": "completed"
    },
    "tags": []
   },
   "outputs": [
    {
     "name": "stdout",
     "output_type": "stream",
     "text": [
      "(4172, 12)\n",
      "(4172,)\n",
      "(1788, 12)\n",
      "(1788,)\n"
     ]
    }
   ],
   "source": [
    "X_train,X_test,y_train,y_test = train_test_split(X,y,test_size=0.3,stratify=y,random_state=100)\n",
    "#Stratify will help in having the same proportion of y as in original data set for train and test\n",
    "print(X_train.shape)\n",
    "print(y_train.shape)\n",
    "print(X_test.shape)\n",
    "print(y_test.shape)"
   ]
  },
  {
   "cell_type": "code",
   "execution_count": 58,
   "id": "1832b56b",
   "metadata": {
    "execution": {
     "iopub.execute_input": "2022-10-15T18:55:09.205090Z",
     "iopub.status.busy": "2022-10-15T18:55:09.204296Z",
     "iopub.status.idle": "2022-10-15T18:55:09.210890Z",
     "shell.execute_reply": "2022-10-15T18:55:09.210048Z"
    },
    "papermill": {
     "duration": 0.03356,
     "end_time": "2022-10-15T18:55:09.213173",
     "exception": false,
     "start_time": "2022-10-15T18:55:09.179613",
     "status": "completed"
    },
    "tags": []
   },
   "outputs": [],
   "source": [
    "from sklearn.dummy import DummyClassifier"
   ]
  },
  {
   "cell_type": "code",
   "execution_count": 59,
   "id": "ae478df9",
   "metadata": {
    "execution": {
     "iopub.execute_input": "2022-10-15T18:55:09.262511Z",
     "iopub.status.busy": "2022-10-15T18:55:09.262074Z",
     "iopub.status.idle": "2022-10-15T18:55:09.272892Z",
     "shell.execute_reply": "2022-10-15T18:55:09.271787Z"
    },
    "papermill": {
     "duration": 0.038806,
     "end_time": "2022-10-15T18:55:09.275529",
     "exception": false,
     "start_time": "2022-10-15T18:55:09.236723",
     "status": "completed"
    },
    "tags": []
   },
   "outputs": [
    {
     "data": {
      "text/plain": [
       "DummyClassifier(strategy='most_frequent')"
      ]
     },
     "execution_count": 59,
     "metadata": {},
     "output_type": "execute_result"
    }
   ],
   "source": [
    "dummy_clf = DummyClassifier(strategy ='most_frequent')\n",
    "dummy_clf.fit(X_train,y_train)"
   ]
  },
  {
   "cell_type": "code",
   "execution_count": 60,
   "id": "c797ea6b",
   "metadata": {
    "execution": {
     "iopub.execute_input": "2022-10-15T18:55:09.324604Z",
     "iopub.status.busy": "2022-10-15T18:55:09.324183Z",
     "iopub.status.idle": "2022-10-15T18:55:09.331571Z",
     "shell.execute_reply": "2022-10-15T18:55:09.330431Z"
    },
    "papermill": {
     "duration": 0.034901,
     "end_time": "2022-10-15T18:55:09.333940",
     "exception": false,
     "start_time": "2022-10-15T18:55:09.299039",
     "status": "completed"
    },
    "tags": []
   },
   "outputs": [
    {
     "name": "stdout",
     "output_type": "stream",
     "text": [
      "0.8003355704697986\n"
     ]
    }
   ],
   "source": [
    "baseline_accurracy = dummy_clf.score(X_test,y_test)\n",
    "print(baseline_accurracy)"
   ]
  },
  {
   "cell_type": "markdown",
   "id": "c5008e35",
   "metadata": {
    "papermill": {
     "duration": 0.023085,
     "end_time": "2022-10-15T18:55:09.380672",
     "exception": false,
     "start_time": "2022-10-15T18:55:09.357587",
     "status": "completed"
    },
    "tags": []
   },
   "source": [
    "### Ensemble Learning"
   ]
  },
  {
   "cell_type": "code",
   "execution_count": 61,
   "id": "84766483",
   "metadata": {
    "execution": {
     "iopub.execute_input": "2022-10-15T18:55:09.429061Z",
     "iopub.status.busy": "2022-10-15T18:55:09.428627Z",
     "iopub.status.idle": "2022-10-15T18:55:09.649622Z",
     "shell.execute_reply": "2022-10-15T18:55:09.648620Z"
    },
    "papermill": {
     "duration": 0.248029,
     "end_time": "2022-10-15T18:55:09.652127",
     "exception": false,
     "start_time": "2022-10-15T18:55:09.404098",
     "status": "completed"
    },
    "tags": []
   },
   "outputs": [],
   "source": [
    "from sklearn.ensemble import BaggingClassifier\n",
    "from sklearn.metrics import accuracy_score"
   ]
  },
  {
   "cell_type": "code",
   "execution_count": 62,
   "id": "68ff59d6",
   "metadata": {
    "execution": {
     "iopub.execute_input": "2022-10-15T18:55:09.701204Z",
     "iopub.status.busy": "2022-10-15T18:55:09.700777Z",
     "iopub.status.idle": "2022-10-15T18:55:09.985099Z",
     "shell.execute_reply": "2022-10-15T18:55:09.983388Z"
    },
    "papermill": {
     "duration": 0.312165,
     "end_time": "2022-10-15T18:55:09.987842",
     "exception": false,
     "start_time": "2022-10-15T18:55:09.675677",
     "status": "completed"
    },
    "tags": []
   },
   "outputs": [
    {
     "name": "stdout",
     "output_type": "stream",
     "text": [
      "Accuracy:0.8937360178970917\n"
     ]
    }
   ],
   "source": [
    "bagging_model = BaggingClassifier(random_state =100)\n",
    "bagging_model.fit(X_train,y_train)\n",
    "bagging_y_pred = bagging_model.predict(X_test)\n",
    "bagging_acc = accuracy_score(y_test ,bagging_y_pred )\n",
    "print(f'Accuracy:{bagging_acc}')"
   ]
  },
  {
   "cell_type": "code",
   "execution_count": 63,
   "id": "b4c60d80",
   "metadata": {
    "execution": {
     "iopub.execute_input": "2022-10-15T18:55:10.037185Z",
     "iopub.status.busy": "2022-10-15T18:55:10.036748Z",
     "iopub.status.idle": "2022-10-15T18:55:10.051221Z",
     "shell.execute_reply": "2022-10-15T18:55:10.049857Z"
    },
    "papermill": {
     "duration": 0.042025,
     "end_time": "2022-10-15T18:55:10.053732",
     "exception": false,
     "start_time": "2022-10-15T18:55:10.011707",
     "status": "completed"
    },
    "tags": []
   },
   "outputs": [
    {
     "name": "stdout",
     "output_type": "stream",
     "text": [
      "Classification Report:\n",
      "\n",
      "              precision    recall  f1-score   support\n",
      "\n",
      "           0       0.91      0.96      0.94      1431\n",
      "           1       0.80      0.63      0.70       357\n",
      "\n",
      "    accuracy                           0.89      1788\n",
      "   macro avg       0.85      0.79      0.82      1788\n",
      "weighted avg       0.89      0.89      0.89      1788\n",
      "\n"
     ]
    }
   ],
   "source": [
    "from sklearn.metrics import (\n",
    "    classification_report,\n",
    "    recall_score,\n",
    "    precision_score,\n",
    "    accuracy_score\n",
    ")\n",
    "print('Classification Report:\\n')\n",
    "print(classification_report(y_test, bagging_y_pred))"
   ]
  },
  {
   "cell_type": "markdown",
   "id": "0ea2a07e",
   "metadata": {
    "papermill": {
     "duration": 0.023982,
     "end_time": "2022-10-15T18:55:10.101376",
     "exception": false,
     "start_time": "2022-10-15T18:55:10.077394",
     "status": "completed"
    },
    "tags": []
   },
   "source": [
    "- Try sub-sampling the dataset as it is an imbalanced dataset."
   ]
  },
  {
   "cell_type": "code",
   "execution_count": 64,
   "id": "475118d2",
   "metadata": {
    "execution": {
     "iopub.execute_input": "2022-10-15T18:55:10.150576Z",
     "iopub.status.busy": "2022-10-15T18:55:10.149664Z",
     "iopub.status.idle": "2022-10-15T18:55:10.158268Z",
     "shell.execute_reply": "2022-10-15T18:55:10.157002Z"
    },
    "papermill": {
     "duration": 0.035714,
     "end_time": "2022-10-15T18:55:10.160422",
     "exception": false,
     "start_time": "2022-10-15T18:55:10.124708",
     "status": "completed"
    },
    "tags": []
   },
   "outputs": [
    {
     "data": {
      "text/plain": [
       "0.6302521008403361"
      ]
     },
     "execution_count": 64,
     "metadata": {},
     "output_type": "execute_result"
    }
   ],
   "source": [
    "recall_score(y_test, bagging_y_pred)"
   ]
  },
  {
   "cell_type": "code",
   "execution_count": 65,
   "id": "d19ed777",
   "metadata": {
    "execution": {
     "iopub.execute_input": "2022-10-15T18:55:10.210042Z",
     "iopub.status.busy": "2022-10-15T18:55:10.209608Z",
     "iopub.status.idle": "2022-10-15T18:55:10.282744Z",
     "shell.execute_reply": "2022-10-15T18:55:10.281153Z"
    },
    "papermill": {
     "duration": 0.101993,
     "end_time": "2022-10-15T18:55:10.286325",
     "exception": false,
     "start_time": "2022-10-15T18:55:10.184332",
     "status": "completed"
    },
    "tags": []
   },
   "outputs": [
    {
     "name": "stdout",
     "output_type": "stream",
     "text": [
      "========================================\n",
      "Recall for Base Model 1:\t 0.61905\n",
      "----------------------------------------\n",
      "Recall for Base Model 2:\t 0.64426\n",
      "----------------------------------------\n",
      "Recall for Base Model 3:\t 0.60504\n",
      "----------------------------------------\n",
      "Recall for Base Model 4:\t 0.61625\n",
      "----------------------------------------\n",
      "Recall for Base Model 5:\t 0.61625\n",
      "----------------------------------------\n",
      "Recall for Base Model 6:\t 0.64706\n",
      "----------------------------------------\n",
      "Recall for Base Model 7:\t 0.61345\n",
      "----------------------------------------\n",
      "Recall for Base Model 8:\t 0.64706\n",
      "----------------------------------------\n",
      "Recall for Base Model 9:\t 0.62185\n",
      "----------------------------------------\n",
      "Recall for Base Model 10:\t 0.61064\n",
      "========================================\n",
      "Mean Recall Score:\t\t 0.62409\n",
      "Std Deviation:\t\t\t 0.01507\n",
      "Range:\t\t\t\t 0.04202\n",
      "Overall Recall for model:\t 0.63025\n"
     ]
    },
    {
     "name": "stderr",
     "output_type": "stream",
     "text": [
      "/opt/conda/lib/python3.7/site-packages/sklearn/base.py:444: UserWarning: X has feature names, but DecisionTreeClassifier was fitted without feature names\n",
      "  f\"X has feature names, but {self.__class__.__name__} was fitted without\"\n",
      "/opt/conda/lib/python3.7/site-packages/sklearn/base.py:444: UserWarning: X has feature names, but DecisionTreeClassifier was fitted without feature names\n",
      "  f\"X has feature names, but {self.__class__.__name__} was fitted without\"\n",
      "/opt/conda/lib/python3.7/site-packages/sklearn/base.py:444: UserWarning: X has feature names, but DecisionTreeClassifier was fitted without feature names\n",
      "  f\"X has feature names, but {self.__class__.__name__} was fitted without\"\n",
      "/opt/conda/lib/python3.7/site-packages/sklearn/base.py:444: UserWarning: X has feature names, but DecisionTreeClassifier was fitted without feature names\n",
      "  f\"X has feature names, but {self.__class__.__name__} was fitted without\"\n",
      "/opt/conda/lib/python3.7/site-packages/sklearn/base.py:444: UserWarning: X has feature names, but DecisionTreeClassifier was fitted without feature names\n",
      "  f\"X has feature names, but {self.__class__.__name__} was fitted without\"\n",
      "/opt/conda/lib/python3.7/site-packages/sklearn/base.py:444: UserWarning: X has feature names, but DecisionTreeClassifier was fitted without feature names\n",
      "  f\"X has feature names, but {self.__class__.__name__} was fitted without\"\n",
      "/opt/conda/lib/python3.7/site-packages/sklearn/base.py:444: UserWarning: X has feature names, but DecisionTreeClassifier was fitted without feature names\n",
      "  f\"X has feature names, but {self.__class__.__name__} was fitted without\"\n",
      "/opt/conda/lib/python3.7/site-packages/sklearn/base.py:444: UserWarning: X has feature names, but DecisionTreeClassifier was fitted without feature names\n",
      "  f\"X has feature names, but {self.__class__.__name__} was fitted without\"\n",
      "/opt/conda/lib/python3.7/site-packages/sklearn/base.py:444: UserWarning: X has feature names, but DecisionTreeClassifier was fitted without feature names\n",
      "  f\"X has feature names, but {self.__class__.__name__} was fitted without\"\n",
      "/opt/conda/lib/python3.7/site-packages/sklearn/base.py:444: UserWarning: X has feature names, but DecisionTreeClassifier was fitted without feature names\n",
      "  f\"X has feature names, but {self.__class__.__name__} was fitted without\"\n"
     ]
    }
   ],
   "source": [
    "def print_recall_scores(ensemble, feats, true_labels):\n",
    "    '''\n",
    "    Prints the recall scores for base estimators in a sklearn ensemble model.\n",
    "    '''\n",
    "    scores = []\n",
    "    for model_idx, model in enumerate(ensemble.estimators_):\n",
    "        if model_idx == 0:\n",
    "            print('='*40)\n",
    "        preds = model.predict(feats)\n",
    "        scores.append(recall_score(true_labels, preds))\n",
    "        model_recall = np.round(recall_score(true_labels, preds), 5)\n",
    "        print(f'Recall for Base Model {model_idx+1}:\\t', model_recall)\n",
    "        if model_idx < (len(ensemble.estimators_) - 1):\n",
    "            print('-'*40)\n",
    "        else:\n",
    "            print('='*40)\n",
    "    ensemble_preds = ensemble.predict(feats)\n",
    "    print(\"Mean Recall Score:\\t\\t\", np.round(np.array(scores).mean(), 5))\n",
    "    print(\"Std Deviation:\\t\\t\\t\", np.round(np.array(scores).std(), 5))\n",
    "    print(\"Range:\\t\\t\\t\\t\", np.round(np.array(scores).ptp(), 5))\n",
    "    print(f'Overall Recall for model:\\t {np.round(recall_score(y_test, ensemble_preds), 5)}')\n",
    "\n",
    "print_recall_scores(bagging_model, X_test, y_test)"
   ]
  },
  {
   "cell_type": "code",
   "execution_count": null,
   "id": "5df04900",
   "metadata": {
    "papermill": {
     "duration": 0.023759,
     "end_time": "2022-10-15T18:55:10.334539",
     "exception": false,
     "start_time": "2022-10-15T18:55:10.310780",
     "status": "completed"
    },
    "tags": []
   },
   "outputs": [],
   "source": []
  }
 ],
 "metadata": {
  "kernelspec": {
   "display_name": "Python 3",
   "language": "python",
   "name": "python3"
  },
  "language_info": {
   "codemirror_mode": {
    "name": "ipython",
    "version": 3
   },
   "file_extension": ".py",
   "mimetype": "text/x-python",
   "name": "python",
   "nbconvert_exporter": "python",
   "pygments_lexer": "ipython3",
   "version": "3.7.12"
  },
  "papermill": {
   "default_parameters": {},
   "duration": 17.549797,
   "end_time": "2022-10-15T18:55:11.181162",
   "environment_variables": {},
   "exception": null,
   "input_path": "__notebook__.ipynb",
   "output_path": "__notebook__.ipynb",
   "parameters": {},
   "start_time": "2022-10-15T18:54:53.631365",
   "version": "2.3.4"
  }
 },
 "nbformat": 4,
 "nbformat_minor": 5
}
