{
 "cells": [
  {
   "cell_type": "code",
   "execution_count": 1,
   "id": "f99da2df",
   "metadata": {
    "_cell_guid": "b1076dfc-b9ad-4769-8c92-a6c4dae69d19",
    "_uuid": "8f2839f25d086af736a60e9eeb907d3b93b6e0e5",
    "execution": {
     "iopub.execute_input": "2022-10-18T03:37:33.221489Z",
     "iopub.status.busy": "2022-10-18T03:37:33.220716Z",
     "iopub.status.idle": "2022-10-18T03:37:34.141224Z",
     "shell.execute_reply": "2022-10-18T03:37:34.140527Z"
    },
    "papermill": {
     "duration": 0.945502,
     "end_time": "2022-10-18T03:37:34.143425",
     "exception": false,
     "start_time": "2022-10-18T03:37:33.197923",
     "status": "completed"
    },
    "tags": []
   },
   "outputs": [],
   "source": [
    "import numpy as np\n",
    "import pandas as pd\n",
    "import matplotlib.pyplot as plt\n",
    "import seaborn as sns\n",
    "from sklearn.model_selection import train_test_split"
   ]
  },
  {
   "cell_type": "markdown",
   "id": "9f6f6790",
   "metadata": {
    "papermill": {
     "duration": 0.017486,
     "end_time": "2022-10-18T03:37:34.179079",
     "exception": false,
     "start_time": "2022-10-18T03:37:34.161593",
     "status": "completed"
    },
    "tags": []
   },
   "source": [
    "### Reading Data\n"
   ]
  },
  {
   "cell_type": "code",
   "execution_count": 2,
   "id": "99cf7f00",
   "metadata": {
    "execution": {
     "iopub.execute_input": "2022-10-18T03:37:34.216258Z",
     "iopub.status.busy": "2022-10-18T03:37:34.215675Z",
     "iopub.status.idle": "2022-10-18T03:37:34.248905Z",
     "shell.execute_reply": "2022-10-18T03:37:34.248243Z"
    },
    "papermill": {
     "duration": 0.054283,
     "end_time": "2022-10-18T03:37:34.251007",
     "exception": false,
     "start_time": "2022-10-18T03:37:34.196724",
     "status": "completed"
    },
    "tags": []
   },
   "outputs": [],
   "source": [
    "df_hmeq = pd.read_csv('../input/hmeq-data/hmeq.csv')"
   ]
  },
  {
   "cell_type": "code",
   "execution_count": 3,
   "id": "5912af4a",
   "metadata": {
    "execution": {
     "iopub.execute_input": "2022-10-18T03:37:34.288431Z",
     "iopub.status.busy": "2022-10-18T03:37:34.287864Z",
     "iopub.status.idle": "2022-10-18T03:37:34.310667Z",
     "shell.execute_reply": "2022-10-18T03:37:34.309827Z"
    },
    "papermill": {
     "duration": 0.04356,
     "end_time": "2022-10-18T03:37:34.312694",
     "exception": false,
     "start_time": "2022-10-18T03:37:34.269134",
     "status": "completed"
    },
    "tags": []
   },
   "outputs": [
    {
     "data": {
      "text/html": [
       "<div>\n",
       "<style scoped>\n",
       "    .dataframe tbody tr th:only-of-type {\n",
       "        vertical-align: middle;\n",
       "    }\n",
       "\n",
       "    .dataframe tbody tr th {\n",
       "        vertical-align: top;\n",
       "    }\n",
       "\n",
       "    .dataframe thead th {\n",
       "        text-align: right;\n",
       "    }\n",
       "</style>\n",
       "<table border=\"1\" class=\"dataframe\">\n",
       "  <thead>\n",
       "    <tr style=\"text-align: right;\">\n",
       "      <th></th>\n",
       "      <th>BAD</th>\n",
       "      <th>LOAN</th>\n",
       "      <th>MORTDUE</th>\n",
       "      <th>VALUE</th>\n",
       "      <th>REASON</th>\n",
       "      <th>JOB</th>\n",
       "      <th>YOJ</th>\n",
       "      <th>DEROG</th>\n",
       "      <th>DELINQ</th>\n",
       "      <th>CLAGE</th>\n",
       "      <th>NINQ</th>\n",
       "      <th>CLNO</th>\n",
       "      <th>DEBTINC</th>\n",
       "    </tr>\n",
       "  </thead>\n",
       "  <tbody>\n",
       "    <tr>\n",
       "      <th>0</th>\n",
       "      <td>1</td>\n",
       "      <td>1100</td>\n",
       "      <td>25860.0</td>\n",
       "      <td>39025.0</td>\n",
       "      <td>HomeImp</td>\n",
       "      <td>Other</td>\n",
       "      <td>10.5</td>\n",
       "      <td>0.0</td>\n",
       "      <td>0.0</td>\n",
       "      <td>94.366667</td>\n",
       "      <td>1.0</td>\n",
       "      <td>9.0</td>\n",
       "      <td>NaN</td>\n",
       "    </tr>\n",
       "    <tr>\n",
       "      <th>1</th>\n",
       "      <td>1</td>\n",
       "      <td>1300</td>\n",
       "      <td>70053.0</td>\n",
       "      <td>68400.0</td>\n",
       "      <td>HomeImp</td>\n",
       "      <td>Other</td>\n",
       "      <td>7.0</td>\n",
       "      <td>0.0</td>\n",
       "      <td>2.0</td>\n",
       "      <td>121.833333</td>\n",
       "      <td>0.0</td>\n",
       "      <td>14.0</td>\n",
       "      <td>NaN</td>\n",
       "    </tr>\n",
       "    <tr>\n",
       "      <th>2</th>\n",
       "      <td>1</td>\n",
       "      <td>1500</td>\n",
       "      <td>13500.0</td>\n",
       "      <td>16700.0</td>\n",
       "      <td>HomeImp</td>\n",
       "      <td>Other</td>\n",
       "      <td>4.0</td>\n",
       "      <td>0.0</td>\n",
       "      <td>0.0</td>\n",
       "      <td>149.466667</td>\n",
       "      <td>1.0</td>\n",
       "      <td>10.0</td>\n",
       "      <td>NaN</td>\n",
       "    </tr>\n",
       "    <tr>\n",
       "      <th>3</th>\n",
       "      <td>1</td>\n",
       "      <td>1500</td>\n",
       "      <td>NaN</td>\n",
       "      <td>NaN</td>\n",
       "      <td>NaN</td>\n",
       "      <td>NaN</td>\n",
       "      <td>NaN</td>\n",
       "      <td>NaN</td>\n",
       "      <td>NaN</td>\n",
       "      <td>NaN</td>\n",
       "      <td>NaN</td>\n",
       "      <td>NaN</td>\n",
       "      <td>NaN</td>\n",
       "    </tr>\n",
       "    <tr>\n",
       "      <th>4</th>\n",
       "      <td>0</td>\n",
       "      <td>1700</td>\n",
       "      <td>97800.0</td>\n",
       "      <td>112000.0</td>\n",
       "      <td>HomeImp</td>\n",
       "      <td>Office</td>\n",
       "      <td>3.0</td>\n",
       "      <td>0.0</td>\n",
       "      <td>0.0</td>\n",
       "      <td>93.333333</td>\n",
       "      <td>0.0</td>\n",
       "      <td>14.0</td>\n",
       "      <td>NaN</td>\n",
       "    </tr>\n",
       "  </tbody>\n",
       "</table>\n",
       "</div>"
      ],
      "text/plain": [
       "   BAD  LOAN  MORTDUE     VALUE   REASON     JOB   YOJ  DEROG  DELINQ  \\\n",
       "0    1  1100  25860.0   39025.0  HomeImp   Other  10.5    0.0     0.0   \n",
       "1    1  1300  70053.0   68400.0  HomeImp   Other   7.0    0.0     2.0   \n",
       "2    1  1500  13500.0   16700.0  HomeImp   Other   4.0    0.0     0.0   \n",
       "3    1  1500      NaN       NaN      NaN     NaN   NaN    NaN     NaN   \n",
       "4    0  1700  97800.0  112000.0  HomeImp  Office   3.0    0.0     0.0   \n",
       "\n",
       "        CLAGE  NINQ  CLNO  DEBTINC  \n",
       "0   94.366667   1.0   9.0      NaN  \n",
       "1  121.833333   0.0  14.0      NaN  \n",
       "2  149.466667   1.0  10.0      NaN  \n",
       "3         NaN   NaN   NaN      NaN  \n",
       "4   93.333333   0.0  14.0      NaN  "
      ]
     },
     "execution_count": 3,
     "metadata": {},
     "output_type": "execute_result"
    }
   ],
   "source": [
    "df_hmeq.head()"
   ]
  },
  {
   "cell_type": "code",
   "execution_count": 4,
   "id": "300a4e64",
   "metadata": {
    "execution": {
     "iopub.execute_input": "2022-10-18T03:37:34.350863Z",
     "iopub.status.busy": "2022-10-18T03:37:34.350332Z",
     "iopub.status.idle": "2022-10-18T03:37:34.356231Z",
     "shell.execute_reply": "2022-10-18T03:37:34.355465Z"
    },
    "papermill": {
     "duration": 0.026858,
     "end_time": "2022-10-18T03:37:34.357802",
     "exception": false,
     "start_time": "2022-10-18T03:37:34.330944",
     "status": "completed"
    },
    "tags": []
   },
   "outputs": [
    {
     "data": {
      "text/plain": [
       "Index(['BAD', 'LOAN', 'MORTDUE', 'VALUE', 'REASON', 'JOB', 'YOJ', 'DEROG',\n",
       "       'DELINQ', 'CLAGE', 'NINQ', 'CLNO', 'DEBTINC'],\n",
       "      dtype='object')"
      ]
     },
     "execution_count": 4,
     "metadata": {},
     "output_type": "execute_result"
    }
   ],
   "source": [
    "df_hmeq.columns"
   ]
  },
  {
   "cell_type": "markdown",
   "id": "7425b39f",
   "metadata": {
    "papermill": {
     "duration": 0.017426,
     "end_time": "2022-10-18T03:37:34.393199",
     "exception": false,
     "start_time": "2022-10-18T03:37:34.375773",
     "status": "completed"
    },
    "tags": []
   },
   "source": [
    "Bad<br>\n",
    "1 = client defaulted on loan 0 = loan repaid<br><br>\n",
    "LOAN<br>Amount of the loan request<br><br>MORTDUE<br>Amount due on existing mortgage<br><br>VALUE<br>Value of current property<br><br>REASON<br>DebtCon = debt consolidation HomeImp = home improvement<br><br>JOB<br>Six occupational categories<br><br>YOJ<br>Years at present job<br><br>DEROG<br>Number of major derogatory reports<br><br>DELINQ<br>Number of delinquent credit lines<br><br>CLAGE<br>Age of oldest trade line in months<br><br>\n",
    "NINQ<br>\n",
    "Number of recent credit lines<br>\n",
    "\n",
    "CLNO<br>\n",
    "Number of credit lines<br>\n",
    "\n",
    "DEBTINC<br>\n",
    "Debt-to-income ratio<br>"
   ]
  },
  {
   "cell_type": "code",
   "execution_count": 5,
   "id": "a4ec9e41",
   "metadata": {
    "execution": {
     "iopub.execute_input": "2022-10-18T03:37:34.430535Z",
     "iopub.status.busy": "2022-10-18T03:37:34.429775Z",
     "iopub.status.idle": "2022-10-18T03:37:34.437869Z",
     "shell.execute_reply": "2022-10-18T03:37:34.437293Z"
    },
    "papermill": {
     "duration": 0.028501,
     "end_time": "2022-10-18T03:37:34.439477",
     "exception": false,
     "start_time": "2022-10-18T03:37:34.410976",
     "status": "completed"
    },
    "tags": []
   },
   "outputs": [
    {
     "data": {
      "text/plain": [
       "BAD         0.000000\n",
       "LOAN        0.000000\n",
       "MORTDUE     8.691275\n",
       "VALUE       1.879195\n",
       "REASON      4.228188\n",
       "JOB         4.681208\n",
       "YOJ         8.640940\n",
       "DEROG      11.879195\n",
       "DELINQ      9.731544\n",
       "CLAGE       5.167785\n",
       "NINQ        8.557047\n",
       "CLNO        3.724832\n",
       "DEBTINC    21.258389\n",
       "dtype: float64"
      ]
     },
     "execution_count": 5,
     "metadata": {},
     "output_type": "execute_result"
    }
   ],
   "source": [
    "df_hmeq.isnull().sum()/df_hmeq.shape[0] *100"
   ]
  },
  {
   "cell_type": "code",
   "execution_count": 6,
   "id": "cab07a4d",
   "metadata": {
    "execution": {
     "iopub.execute_input": "2022-10-18T03:37:34.477403Z",
     "iopub.status.busy": "2022-10-18T03:37:34.476872Z",
     "iopub.status.idle": "2022-10-18T03:37:34.497035Z",
     "shell.execute_reply": "2022-10-18T03:37:34.496256Z"
    },
    "papermill": {
     "duration": 0.041213,
     "end_time": "2022-10-18T03:37:34.498930",
     "exception": false,
     "start_time": "2022-10-18T03:37:34.457717",
     "status": "completed"
    },
    "tags": []
   },
   "outputs": [
    {
     "name": "stdout",
     "output_type": "stream",
     "text": [
      "<class 'pandas.core.frame.DataFrame'>\n",
      "RangeIndex: 5960 entries, 0 to 5959\n",
      "Data columns (total 13 columns):\n",
      " #   Column   Non-Null Count  Dtype  \n",
      "---  ------   --------------  -----  \n",
      " 0   BAD      5960 non-null   int64  \n",
      " 1   LOAN     5960 non-null   int64  \n",
      " 2   MORTDUE  5442 non-null   float64\n",
      " 3   VALUE    5848 non-null   float64\n",
      " 4   REASON   5708 non-null   object \n",
      " 5   JOB      5681 non-null   object \n",
      " 6   YOJ      5445 non-null   float64\n",
      " 7   DEROG    5252 non-null   float64\n",
      " 8   DELINQ   5380 non-null   float64\n",
      " 9   CLAGE    5652 non-null   float64\n",
      " 10  NINQ     5450 non-null   float64\n",
      " 11  CLNO     5738 non-null   float64\n",
      " 12  DEBTINC  4693 non-null   float64\n",
      "dtypes: float64(9), int64(2), object(2)\n",
      "memory usage: 605.4+ KB\n"
     ]
    }
   ],
   "source": [
    "df_hmeq.info()"
   ]
  },
  {
   "cell_type": "markdown",
   "id": "5f325d77",
   "metadata": {
    "papermill": {
     "duration": 0.018071,
     "end_time": "2022-10-18T03:37:34.535409",
     "exception": false,
     "start_time": "2022-10-18T03:37:34.517338",
     "status": "completed"
    },
    "tags": []
   },
   "source": [
    "### Handling Missing Values"
   ]
  },
  {
   "cell_type": "code",
   "execution_count": 7,
   "id": "b4a6ada6",
   "metadata": {
    "execution": {
     "iopub.execute_input": "2022-10-18T03:37:34.573222Z",
     "iopub.status.busy": "2022-10-18T03:37:34.572836Z",
     "iopub.status.idle": "2022-10-18T03:37:34.596888Z",
     "shell.execute_reply": "2022-10-18T03:37:34.596004Z"
    },
    "papermill": {
     "duration": 0.045054,
     "end_time": "2022-10-18T03:37:34.598858",
     "exception": false,
     "start_time": "2022-10-18T03:37:34.553804",
     "status": "completed"
    },
    "tags": []
   },
   "outputs": [
    {
     "data": {
      "text/html": [
       "<div>\n",
       "<style scoped>\n",
       "    .dataframe tbody tr th:only-of-type {\n",
       "        vertical-align: middle;\n",
       "    }\n",
       "\n",
       "    .dataframe tbody tr th {\n",
       "        vertical-align: top;\n",
       "    }\n",
       "\n",
       "    .dataframe thead th {\n",
       "        text-align: right;\n",
       "    }\n",
       "</style>\n",
       "<table border=\"1\" class=\"dataframe\">\n",
       "  <thead>\n",
       "    <tr style=\"text-align: right;\">\n",
       "      <th></th>\n",
       "      <th>BAD</th>\n",
       "      <th>LOAN</th>\n",
       "      <th>MORTDUE</th>\n",
       "      <th>VALUE</th>\n",
       "      <th>REASON</th>\n",
       "      <th>JOB</th>\n",
       "      <th>YOJ</th>\n",
       "      <th>DEROG</th>\n",
       "      <th>DELINQ</th>\n",
       "      <th>CLAGE</th>\n",
       "      <th>NINQ</th>\n",
       "      <th>CLNO</th>\n",
       "      <th>DEBTINC</th>\n",
       "    </tr>\n",
       "  </thead>\n",
       "  <tbody>\n",
       "    <tr>\n",
       "      <th>3</th>\n",
       "      <td>1</td>\n",
       "      <td>1500</td>\n",
       "      <td>NaN</td>\n",
       "      <td>NaN</td>\n",
       "      <td>NaN</td>\n",
       "      <td>NaN</td>\n",
       "      <td>NaN</td>\n",
       "      <td>NaN</td>\n",
       "      <td>NaN</td>\n",
       "      <td>NaN</td>\n",
       "      <td>NaN</td>\n",
       "      <td>NaN</td>\n",
       "      <td>NaN</td>\n",
       "    </tr>\n",
       "    <tr>\n",
       "      <th>9</th>\n",
       "      <td>1</td>\n",
       "      <td>2000</td>\n",
       "      <td>NaN</td>\n",
       "      <td>62250.0</td>\n",
       "      <td>HomeImp</td>\n",
       "      <td>Sales</td>\n",
       "      <td>16.0</td>\n",
       "      <td>0.0</td>\n",
       "      <td>0.0</td>\n",
       "      <td>115.800000</td>\n",
       "      <td>0.0</td>\n",
       "      <td>13.0</td>\n",
       "      <td>NaN</td>\n",
       "    </tr>\n",
       "    <tr>\n",
       "      <th>24</th>\n",
       "      <td>1</td>\n",
       "      <td>2400</td>\n",
       "      <td>NaN</td>\n",
       "      <td>17180.0</td>\n",
       "      <td>HomeImp</td>\n",
       "      <td>Other</td>\n",
       "      <td>NaN</td>\n",
       "      <td>0.0</td>\n",
       "      <td>0.0</td>\n",
       "      <td>14.566667</td>\n",
       "      <td>3.0</td>\n",
       "      <td>4.0</td>\n",
       "      <td>NaN</td>\n",
       "    </tr>\n",
       "    <tr>\n",
       "      <th>40</th>\n",
       "      <td>1</td>\n",
       "      <td>3000</td>\n",
       "      <td>NaN</td>\n",
       "      <td>8800.0</td>\n",
       "      <td>HomeImp</td>\n",
       "      <td>Other</td>\n",
       "      <td>2.0</td>\n",
       "      <td>0.0</td>\n",
       "      <td>1.0</td>\n",
       "      <td>77.766667</td>\n",
       "      <td>0.0</td>\n",
       "      <td>3.0</td>\n",
       "      <td>NaN</td>\n",
       "    </tr>\n",
       "    <tr>\n",
       "      <th>41</th>\n",
       "      <td>1</td>\n",
       "      <td>3000</td>\n",
       "      <td>NaN</td>\n",
       "      <td>33000.0</td>\n",
       "      <td>HomeImp</td>\n",
       "      <td>Other</td>\n",
       "      <td>1.0</td>\n",
       "      <td>0.0</td>\n",
       "      <td>1.0</td>\n",
       "      <td>23.300000</td>\n",
       "      <td>1.0</td>\n",
       "      <td>2.0</td>\n",
       "      <td>NaN</td>\n",
       "    </tr>\n",
       "    <tr>\n",
       "      <th>...</th>\n",
       "      <td>...</td>\n",
       "      <td>...</td>\n",
       "      <td>...</td>\n",
       "      <td>...</td>\n",
       "      <td>...</td>\n",
       "      <td>...</td>\n",
       "      <td>...</td>\n",
       "      <td>...</td>\n",
       "      <td>...</td>\n",
       "      <td>...</td>\n",
       "      <td>...</td>\n",
       "      <td>...</td>\n",
       "      <td>...</td>\n",
       "    </tr>\n",
       "    <tr>\n",
       "      <th>5880</th>\n",
       "      <td>0</td>\n",
       "      <td>53700</td>\n",
       "      <td>NaN</td>\n",
       "      <td>84205.0</td>\n",
       "      <td>HomeImp</td>\n",
       "      <td>Other</td>\n",
       "      <td>NaN</td>\n",
       "      <td>0.0</td>\n",
       "      <td>0.0</td>\n",
       "      <td>339.665615</td>\n",
       "      <td>0.0</td>\n",
       "      <td>7.0</td>\n",
       "      <td>22.639940</td>\n",
       "    </tr>\n",
       "    <tr>\n",
       "      <th>5883</th>\n",
       "      <td>0</td>\n",
       "      <td>53800</td>\n",
       "      <td>NaN</td>\n",
       "      <td>81322.0</td>\n",
       "      <td>HomeImp</td>\n",
       "      <td>Self</td>\n",
       "      <td>9.0</td>\n",
       "      <td>0.0</td>\n",
       "      <td>0.0</td>\n",
       "      <td>171.447555</td>\n",
       "      <td>0.0</td>\n",
       "      <td>22.0</td>\n",
       "      <td>24.709060</td>\n",
       "    </tr>\n",
       "    <tr>\n",
       "      <th>5884</th>\n",
       "      <td>0</td>\n",
       "      <td>53900</td>\n",
       "      <td>NaN</td>\n",
       "      <td>91309.0</td>\n",
       "      <td>HomeImp</td>\n",
       "      <td>Other</td>\n",
       "      <td>NaN</td>\n",
       "      <td>0.0</td>\n",
       "      <td>0.0</td>\n",
       "      <td>349.795748</td>\n",
       "      <td>0.0</td>\n",
       "      <td>6.0</td>\n",
       "      <td>22.061330</td>\n",
       "    </tr>\n",
       "    <tr>\n",
       "      <th>5930</th>\n",
       "      <td>1</td>\n",
       "      <td>72300</td>\n",
       "      <td>NaN</td>\n",
       "      <td>85000.0</td>\n",
       "      <td>DebtCon</td>\n",
       "      <td>Other</td>\n",
       "      <td>1.0</td>\n",
       "      <td>0.0</td>\n",
       "      <td>0.0</td>\n",
       "      <td>117.166667</td>\n",
       "      <td>9.0</td>\n",
       "      <td>23.0</td>\n",
       "      <td>NaN</td>\n",
       "    </tr>\n",
       "    <tr>\n",
       "      <th>5931</th>\n",
       "      <td>1</td>\n",
       "      <td>75400</td>\n",
       "      <td>NaN</td>\n",
       "      <td>89609.0</td>\n",
       "      <td>DebtCon</td>\n",
       "      <td>Other</td>\n",
       "      <td>1.0</td>\n",
       "      <td>0.0</td>\n",
       "      <td>0.0</td>\n",
       "      <td>115.763534</td>\n",
       "      <td>9.0</td>\n",
       "      <td>23.0</td>\n",
       "      <td>41.105569</td>\n",
       "    </tr>\n",
       "  </tbody>\n",
       "</table>\n",
       "<p>518 rows × 13 columns</p>\n",
       "</div>"
      ],
      "text/plain": [
       "      BAD   LOAN  MORTDUE    VALUE   REASON    JOB   YOJ  DEROG  DELINQ  \\\n",
       "3       1   1500      NaN      NaN      NaN    NaN   NaN    NaN     NaN   \n",
       "9       1   2000      NaN  62250.0  HomeImp  Sales  16.0    0.0     0.0   \n",
       "24      1   2400      NaN  17180.0  HomeImp  Other   NaN    0.0     0.0   \n",
       "40      1   3000      NaN   8800.0  HomeImp  Other   2.0    0.0     1.0   \n",
       "41      1   3000      NaN  33000.0  HomeImp  Other   1.0    0.0     1.0   \n",
       "...   ...    ...      ...      ...      ...    ...   ...    ...     ...   \n",
       "5880    0  53700      NaN  84205.0  HomeImp  Other   NaN    0.0     0.0   \n",
       "5883    0  53800      NaN  81322.0  HomeImp   Self   9.0    0.0     0.0   \n",
       "5884    0  53900      NaN  91309.0  HomeImp  Other   NaN    0.0     0.0   \n",
       "5930    1  72300      NaN  85000.0  DebtCon  Other   1.0    0.0     0.0   \n",
       "5931    1  75400      NaN  89609.0  DebtCon  Other   1.0    0.0     0.0   \n",
       "\n",
       "           CLAGE  NINQ  CLNO    DEBTINC  \n",
       "3            NaN   NaN   NaN        NaN  \n",
       "9     115.800000   0.0  13.0        NaN  \n",
       "24     14.566667   3.0   4.0        NaN  \n",
       "40     77.766667   0.0   3.0        NaN  \n",
       "41     23.300000   1.0   2.0        NaN  \n",
       "...          ...   ...   ...        ...  \n",
       "5880  339.665615   0.0   7.0  22.639940  \n",
       "5883  171.447555   0.0  22.0  24.709060  \n",
       "5884  349.795748   0.0   6.0  22.061330  \n",
       "5930  117.166667   9.0  23.0        NaN  \n",
       "5931  115.763534   9.0  23.0  41.105569  \n",
       "\n",
       "[518 rows x 13 columns]"
      ]
     },
     "execution_count": 7,
     "metadata": {},
     "output_type": "execute_result"
    }
   ],
   "source": [
    "#Mortdue\n",
    "df_hmeq[df_hmeq['MORTDUE'].isna()]"
   ]
  },
  {
   "cell_type": "code",
   "execution_count": 8,
   "id": "f7b5bee0",
   "metadata": {
    "execution": {
     "iopub.execute_input": "2022-10-18T03:37:34.638142Z",
     "iopub.status.busy": "2022-10-18T03:37:34.637543Z",
     "iopub.status.idle": "2022-10-18T03:37:34.647285Z",
     "shell.execute_reply": "2022-10-18T03:37:34.646508Z"
    },
    "papermill": {
     "duration": 0.031416,
     "end_time": "2022-10-18T03:37:34.649004",
     "exception": false,
     "start_time": "2022-10-18T03:37:34.617588",
     "status": "completed"
    },
    "tags": []
   },
   "outputs": [
    {
     "data": {
      "text/plain": [
       "42000.0     11\n",
       "47000.0     10\n",
       "65000.0      9\n",
       "50000.0      7\n",
       "124000.0     7\n",
       "            ..\n",
       "65372.0      1\n",
       "15346.0      1\n",
       "58549.0      1\n",
       "69195.0      1\n",
       "48811.0      1\n",
       "Name: MORTDUE, Length: 5053, dtype: int64"
      ]
     },
     "execution_count": 8,
     "metadata": {},
     "output_type": "execute_result"
    }
   ],
   "source": [
    "df_hmeq['MORTDUE'].value_counts()"
   ]
  },
  {
   "cell_type": "markdown",
   "id": "6c2206a5",
   "metadata": {
    "papermill": {
     "duration": 0.018194,
     "end_time": "2022-10-18T03:37:34.685716",
     "exception": false,
     "start_time": "2022-10-18T03:37:34.667522",
     "status": "completed"
    },
    "tags": []
   },
   "source": [
    "- For the MortDue column missing values could be due to the fact that the person does have a mortgage.\n",
    "- For this column missing values can be replaced with 0 as it would not affect the data as such.As person not having a mortgage or is it is not know if a person is having a mortgage or not can be represented by 0."
   ]
  },
  {
   "cell_type": "code",
   "execution_count": 9,
   "id": "863be555",
   "metadata": {
    "execution": {
     "iopub.execute_input": "2022-10-18T03:37:34.724495Z",
     "iopub.status.busy": "2022-10-18T03:37:34.724179Z",
     "iopub.status.idle": "2022-10-18T03:37:34.728847Z",
     "shell.execute_reply": "2022-10-18T03:37:34.728089Z"
    },
    "papermill": {
     "duration": 0.026044,
     "end_time": "2022-10-18T03:37:34.730503",
     "exception": false,
     "start_time": "2022-10-18T03:37:34.704459",
     "status": "completed"
    },
    "tags": []
   },
   "outputs": [],
   "source": [
    "df_hmeq['MORTDUE'].fillna(0,inplace=True)"
   ]
  },
  {
   "cell_type": "code",
   "execution_count": 10,
   "id": "d5bb9ab8",
   "metadata": {
    "execution": {
     "iopub.execute_input": "2022-10-18T03:37:34.769014Z",
     "iopub.status.busy": "2022-10-18T03:37:34.768527Z",
     "iopub.status.idle": "2022-10-18T03:37:34.789313Z",
     "shell.execute_reply": "2022-10-18T03:37:34.788431Z"
    },
    "papermill": {
     "duration": 0.041993,
     "end_time": "2022-10-18T03:37:34.791055",
     "exception": false,
     "start_time": "2022-10-18T03:37:34.749062",
     "status": "completed"
    },
    "tags": []
   },
   "outputs": [
    {
     "data": {
      "text/html": [
       "<div>\n",
       "<style scoped>\n",
       "    .dataframe tbody tr th:only-of-type {\n",
       "        vertical-align: middle;\n",
       "    }\n",
       "\n",
       "    .dataframe tbody tr th {\n",
       "        vertical-align: top;\n",
       "    }\n",
       "\n",
       "    .dataframe thead th {\n",
       "        text-align: right;\n",
       "    }\n",
       "</style>\n",
       "<table border=\"1\" class=\"dataframe\">\n",
       "  <thead>\n",
       "    <tr style=\"text-align: right;\">\n",
       "      <th></th>\n",
       "      <th>BAD</th>\n",
       "      <th>LOAN</th>\n",
       "      <th>MORTDUE</th>\n",
       "      <th>VALUE</th>\n",
       "      <th>REASON</th>\n",
       "      <th>JOB</th>\n",
       "      <th>YOJ</th>\n",
       "      <th>DEROG</th>\n",
       "      <th>DELINQ</th>\n",
       "      <th>CLAGE</th>\n",
       "      <th>NINQ</th>\n",
       "      <th>CLNO</th>\n",
       "      <th>DEBTINC</th>\n",
       "    </tr>\n",
       "  </thead>\n",
       "  <tbody>\n",
       "    <tr>\n",
       "      <th>3</th>\n",
       "      <td>1</td>\n",
       "      <td>1500</td>\n",
       "      <td>0.0</td>\n",
       "      <td>NaN</td>\n",
       "      <td>NaN</td>\n",
       "      <td>NaN</td>\n",
       "      <td>NaN</td>\n",
       "      <td>NaN</td>\n",
       "      <td>NaN</td>\n",
       "      <td>NaN</td>\n",
       "      <td>NaN</td>\n",
       "      <td>NaN</td>\n",
       "      <td>NaN</td>\n",
       "    </tr>\n",
       "    <tr>\n",
       "      <th>10</th>\n",
       "      <td>1</td>\n",
       "      <td>2000</td>\n",
       "      <td>22608.0</td>\n",
       "      <td>NaN</td>\n",
       "      <td>NaN</td>\n",
       "      <td>NaN</td>\n",
       "      <td>18.0</td>\n",
       "      <td>NaN</td>\n",
       "      <td>NaN</td>\n",
       "      <td>NaN</td>\n",
       "      <td>NaN</td>\n",
       "      <td>NaN</td>\n",
       "      <td>NaN</td>\n",
       "    </tr>\n",
       "    <tr>\n",
       "      <th>17</th>\n",
       "      <td>1</td>\n",
       "      <td>2200</td>\n",
       "      <td>23030.0</td>\n",
       "      <td>NaN</td>\n",
       "      <td>NaN</td>\n",
       "      <td>NaN</td>\n",
       "      <td>19.0</td>\n",
       "      <td>NaN</td>\n",
       "      <td>NaN</td>\n",
       "      <td>NaN</td>\n",
       "      <td>NaN</td>\n",
       "      <td>NaN</td>\n",
       "      <td>3.711312</td>\n",
       "    </tr>\n",
       "    <tr>\n",
       "      <th>23</th>\n",
       "      <td>1</td>\n",
       "      <td>2400</td>\n",
       "      <td>18000.0</td>\n",
       "      <td>NaN</td>\n",
       "      <td>HomeImp</td>\n",
       "      <td>Mgr</td>\n",
       "      <td>22.0</td>\n",
       "      <td>NaN</td>\n",
       "      <td>2.0</td>\n",
       "      <td>121.733333</td>\n",
       "      <td>0.0</td>\n",
       "      <td>10.0</td>\n",
       "      <td>NaN</td>\n",
       "    </tr>\n",
       "    <tr>\n",
       "      <th>57</th>\n",
       "      <td>1</td>\n",
       "      <td>3200</td>\n",
       "      <td>23159.0</td>\n",
       "      <td>NaN</td>\n",
       "      <td>HomeImp</td>\n",
       "      <td>Mgr</td>\n",
       "      <td>20.0</td>\n",
       "      <td>NaN</td>\n",
       "      <td>2.0</td>\n",
       "      <td>117.805748</td>\n",
       "      <td>0.0</td>\n",
       "      <td>9.0</td>\n",
       "      <td>0.524499</td>\n",
       "    </tr>\n",
       "    <tr>\n",
       "      <th>...</th>\n",
       "      <td>...</td>\n",
       "      <td>...</td>\n",
       "      <td>...</td>\n",
       "      <td>...</td>\n",
       "      <td>...</td>\n",
       "      <td>...</td>\n",
       "      <td>...</td>\n",
       "      <td>...</td>\n",
       "      <td>...</td>\n",
       "      <td>...</td>\n",
       "      <td>...</td>\n",
       "      <td>...</td>\n",
       "      <td>...</td>\n",
       "    </tr>\n",
       "    <tr>\n",
       "      <th>5817</th>\n",
       "      <td>1</td>\n",
       "      <td>50000</td>\n",
       "      <td>26976.0</td>\n",
       "      <td>NaN</td>\n",
       "      <td>DebtCon</td>\n",
       "      <td>Mgr</td>\n",
       "      <td>8.3</td>\n",
       "      <td>1.0</td>\n",
       "      <td>0.0</td>\n",
       "      <td>111.600000</td>\n",
       "      <td>1.0</td>\n",
       "      <td>6.0</td>\n",
       "      <td>NaN</td>\n",
       "    </tr>\n",
       "    <tr>\n",
       "      <th>5818</th>\n",
       "      <td>1</td>\n",
       "      <td>50000</td>\n",
       "      <td>106000.0</td>\n",
       "      <td>NaN</td>\n",
       "      <td>DebtCon</td>\n",
       "      <td>Mgr</td>\n",
       "      <td>0.8</td>\n",
       "      <td>0.0</td>\n",
       "      <td>2.0</td>\n",
       "      <td>252.633333</td>\n",
       "      <td>3.0</td>\n",
       "      <td>32.0</td>\n",
       "      <td>NaN</td>\n",
       "    </tr>\n",
       "    <tr>\n",
       "      <th>5822</th>\n",
       "      <td>1</td>\n",
       "      <td>50000</td>\n",
       "      <td>30338.0</td>\n",
       "      <td>NaN</td>\n",
       "      <td>DebtCon</td>\n",
       "      <td>Mgr</td>\n",
       "      <td>8.0</td>\n",
       "      <td>0.0</td>\n",
       "      <td>0.0</td>\n",
       "      <td>91.431005</td>\n",
       "      <td>0.0</td>\n",
       "      <td>5.0</td>\n",
       "      <td>35.084001</td>\n",
       "    </tr>\n",
       "    <tr>\n",
       "      <th>5826</th>\n",
       "      <td>1</td>\n",
       "      <td>50100</td>\n",
       "      <td>256431.0</td>\n",
       "      <td>NaN</td>\n",
       "      <td>NaN</td>\n",
       "      <td>Other</td>\n",
       "      <td>0.0</td>\n",
       "      <td>0.0</td>\n",
       "      <td>4.0</td>\n",
       "      <td>142.343205</td>\n",
       "      <td>2.0</td>\n",
       "      <td>25.0</td>\n",
       "      <td>3.342570</td>\n",
       "    </tr>\n",
       "    <tr>\n",
       "      <th>5828</th>\n",
       "      <td>1</td>\n",
       "      <td>50200</td>\n",
       "      <td>34668.0</td>\n",
       "      <td>NaN</td>\n",
       "      <td>DebtCon</td>\n",
       "      <td>Mgr</td>\n",
       "      <td>7.0</td>\n",
       "      <td>1.0</td>\n",
       "      <td>0.0</td>\n",
       "      <td>117.682548</td>\n",
       "      <td>1.0</td>\n",
       "      <td>5.0</td>\n",
       "      <td>36.724486</td>\n",
       "    </tr>\n",
       "  </tbody>\n",
       "</table>\n",
       "<p>112 rows × 13 columns</p>\n",
       "</div>"
      ],
      "text/plain": [
       "      BAD   LOAN   MORTDUE  VALUE   REASON    JOB   YOJ  DEROG  DELINQ  \\\n",
       "3       1   1500       0.0    NaN      NaN    NaN   NaN    NaN     NaN   \n",
       "10      1   2000   22608.0    NaN      NaN    NaN  18.0    NaN     NaN   \n",
       "17      1   2200   23030.0    NaN      NaN    NaN  19.0    NaN     NaN   \n",
       "23      1   2400   18000.0    NaN  HomeImp    Mgr  22.0    NaN     2.0   \n",
       "57      1   3200   23159.0    NaN  HomeImp    Mgr  20.0    NaN     2.0   \n",
       "...   ...    ...       ...    ...      ...    ...   ...    ...     ...   \n",
       "5817    1  50000   26976.0    NaN  DebtCon    Mgr   8.3    1.0     0.0   \n",
       "5818    1  50000  106000.0    NaN  DebtCon    Mgr   0.8    0.0     2.0   \n",
       "5822    1  50000   30338.0    NaN  DebtCon    Mgr   8.0    0.0     0.0   \n",
       "5826    1  50100  256431.0    NaN      NaN  Other   0.0    0.0     4.0   \n",
       "5828    1  50200   34668.0    NaN  DebtCon    Mgr   7.0    1.0     0.0   \n",
       "\n",
       "           CLAGE  NINQ  CLNO    DEBTINC  \n",
       "3            NaN   NaN   NaN        NaN  \n",
       "10           NaN   NaN   NaN        NaN  \n",
       "17           NaN   NaN   NaN   3.711312  \n",
       "23    121.733333   0.0  10.0        NaN  \n",
       "57    117.805748   0.0   9.0   0.524499  \n",
       "...          ...   ...   ...        ...  \n",
       "5817  111.600000   1.0   6.0        NaN  \n",
       "5818  252.633333   3.0  32.0        NaN  \n",
       "5822   91.431005   0.0   5.0  35.084001  \n",
       "5826  142.343205   2.0  25.0   3.342570  \n",
       "5828  117.682548   1.0   5.0  36.724486  \n",
       "\n",
       "[112 rows x 13 columns]"
      ]
     },
     "execution_count": 10,
     "metadata": {},
     "output_type": "execute_result"
    }
   ],
   "source": [
    "#Value Missing Values\n",
    "df_hmeq[df_hmeq['VALUE'].isna()]"
   ]
  },
  {
   "cell_type": "code",
   "execution_count": 11,
   "id": "f6aa1091",
   "metadata": {
    "execution": {
     "iopub.execute_input": "2022-10-18T03:37:34.830538Z",
     "iopub.status.busy": "2022-10-18T03:37:34.830209Z",
     "iopub.status.idle": "2022-10-18T03:37:34.838169Z",
     "shell.execute_reply": "2022-10-18T03:37:34.837460Z"
    },
    "papermill": {
     "duration": 0.029554,
     "end_time": "2022-10-18T03:37:34.839707",
     "exception": false,
     "start_time": "2022-10-18T03:37:34.810153",
     "status": "completed"
    },
    "tags": []
   },
   "outputs": [
    {
     "data": {
      "text/plain": [
       "60000.0     15\n",
       "80000.0     14\n",
       "85000.0     12\n",
       "65000.0     11\n",
       "78000.0     10\n",
       "            ..\n",
       "116994.0     1\n",
       "42682.0      1\n",
       "72175.0      1\n",
       "70095.0      1\n",
       "88934.0      1\n",
       "Name: VALUE, Length: 5381, dtype: int64"
      ]
     },
     "execution_count": 11,
     "metadata": {},
     "output_type": "execute_result"
    }
   ],
   "source": [
    "df_hmeq['VALUE'].value_counts()"
   ]
  },
  {
   "cell_type": "code",
   "execution_count": 12,
   "id": "7f3dc11c",
   "metadata": {
    "execution": {
     "iopub.execute_input": "2022-10-18T03:37:34.879911Z",
     "iopub.status.busy": "2022-10-18T03:37:34.879313Z",
     "iopub.status.idle": "2022-10-18T03:37:34.885461Z",
     "shell.execute_reply": "2022-10-18T03:37:34.884653Z"
    },
    "papermill": {
     "duration": 0.0282,
     "end_time": "2022-10-18T03:37:34.887102",
     "exception": false,
     "start_time": "2022-10-18T03:37:34.858902",
     "status": "completed"
    },
    "tags": []
   },
   "outputs": [
    {
     "data": {
      "text/plain": [
       "101776.04874145007"
      ]
     },
     "execution_count": 12,
     "metadata": {},
     "output_type": "execute_result"
    }
   ],
   "source": [
    "df_hmeq['VALUE'].mean()"
   ]
  },
  {
   "cell_type": "code",
   "execution_count": 13,
   "id": "b10e2964",
   "metadata": {
    "execution": {
     "iopub.execute_input": "2022-10-18T03:37:34.926608Z",
     "iopub.status.busy": "2022-10-18T03:37:34.926296Z",
     "iopub.status.idle": "2022-10-18T03:37:34.930932Z",
     "shell.execute_reply": "2022-10-18T03:37:34.930235Z"
    },
    "papermill": {
     "duration": 0.026355,
     "end_time": "2022-10-18T03:37:34.932479",
     "exception": false,
     "start_time": "2022-10-18T03:37:34.906124",
     "status": "completed"
    },
    "tags": []
   },
   "outputs": [],
   "source": [
    "df_hmeq['VALUE'].fillna(df_hmeq['VALUE'].mean(),inplace=True)"
   ]
  },
  {
   "cell_type": "code",
   "execution_count": 14,
   "id": "ec7c6d6c",
   "metadata": {
    "execution": {
     "iopub.execute_input": "2022-10-18T03:37:34.972148Z",
     "iopub.status.busy": "2022-10-18T03:37:34.971671Z",
     "iopub.status.idle": "2022-10-18T03:37:34.991921Z",
     "shell.execute_reply": "2022-10-18T03:37:34.991299Z"
    },
    "papermill": {
     "duration": 0.041912,
     "end_time": "2022-10-18T03:37:34.993536",
     "exception": false,
     "start_time": "2022-10-18T03:37:34.951624",
     "status": "completed"
    },
    "tags": []
   },
   "outputs": [
    {
     "data": {
      "text/html": [
       "<div>\n",
       "<style scoped>\n",
       "    .dataframe tbody tr th:only-of-type {\n",
       "        vertical-align: middle;\n",
       "    }\n",
       "\n",
       "    .dataframe tbody tr th {\n",
       "        vertical-align: top;\n",
       "    }\n",
       "\n",
       "    .dataframe thead th {\n",
       "        text-align: right;\n",
       "    }\n",
       "</style>\n",
       "<table border=\"1\" class=\"dataframe\">\n",
       "  <thead>\n",
       "    <tr style=\"text-align: right;\">\n",
       "      <th></th>\n",
       "      <th>BAD</th>\n",
       "      <th>LOAN</th>\n",
       "      <th>MORTDUE</th>\n",
       "      <th>VALUE</th>\n",
       "      <th>REASON</th>\n",
       "      <th>JOB</th>\n",
       "      <th>YOJ</th>\n",
       "      <th>DEROG</th>\n",
       "      <th>DELINQ</th>\n",
       "      <th>CLAGE</th>\n",
       "      <th>NINQ</th>\n",
       "      <th>CLNO</th>\n",
       "      <th>DEBTINC</th>\n",
       "    </tr>\n",
       "  </thead>\n",
       "  <tbody>\n",
       "    <tr>\n",
       "      <th>3</th>\n",
       "      <td>1</td>\n",
       "      <td>1500</td>\n",
       "      <td>0.0</td>\n",
       "      <td>101776.048741</td>\n",
       "      <td>NaN</td>\n",
       "      <td>NaN</td>\n",
       "      <td>NaN</td>\n",
       "      <td>NaN</td>\n",
       "      <td>NaN</td>\n",
       "      <td>NaN</td>\n",
       "      <td>NaN</td>\n",
       "      <td>NaN</td>\n",
       "      <td>NaN</td>\n",
       "    </tr>\n",
       "    <tr>\n",
       "      <th>10</th>\n",
       "      <td>1</td>\n",
       "      <td>2000</td>\n",
       "      <td>22608.0</td>\n",
       "      <td>101776.048741</td>\n",
       "      <td>NaN</td>\n",
       "      <td>NaN</td>\n",
       "      <td>18.0</td>\n",
       "      <td>NaN</td>\n",
       "      <td>NaN</td>\n",
       "      <td>NaN</td>\n",
       "      <td>NaN</td>\n",
       "      <td>NaN</td>\n",
       "      <td>NaN</td>\n",
       "    </tr>\n",
       "    <tr>\n",
       "      <th>13</th>\n",
       "      <td>0</td>\n",
       "      <td>2000</td>\n",
       "      <td>64536.0</td>\n",
       "      <td>87400.000000</td>\n",
       "      <td>NaN</td>\n",
       "      <td>Mgr</td>\n",
       "      <td>2.5</td>\n",
       "      <td>0.0</td>\n",
       "      <td>0.0</td>\n",
       "      <td>147.133333</td>\n",
       "      <td>0.0</td>\n",
       "      <td>24.0</td>\n",
       "      <td>NaN</td>\n",
       "    </tr>\n",
       "    <tr>\n",
       "      <th>17</th>\n",
       "      <td>1</td>\n",
       "      <td>2200</td>\n",
       "      <td>23030.0</td>\n",
       "      <td>101776.048741</td>\n",
       "      <td>NaN</td>\n",
       "      <td>NaN</td>\n",
       "      <td>19.0</td>\n",
       "      <td>NaN</td>\n",
       "      <td>NaN</td>\n",
       "      <td>NaN</td>\n",
       "      <td>NaN</td>\n",
       "      <td>NaN</td>\n",
       "      <td>3.711312</td>\n",
       "    </tr>\n",
       "    <tr>\n",
       "      <th>51</th>\n",
       "      <td>0</td>\n",
       "      <td>3100</td>\n",
       "      <td>0.0</td>\n",
       "      <td>70400.000000</td>\n",
       "      <td>NaN</td>\n",
       "      <td>NaN</td>\n",
       "      <td>NaN</td>\n",
       "      <td>NaN</td>\n",
       "      <td>NaN</td>\n",
       "      <td>NaN</td>\n",
       "      <td>NaN</td>\n",
       "      <td>NaN</td>\n",
       "      <td>NaN</td>\n",
       "    </tr>\n",
       "    <tr>\n",
       "      <th>...</th>\n",
       "      <td>...</td>\n",
       "      <td>...</td>\n",
       "      <td>...</td>\n",
       "      <td>...</td>\n",
       "      <td>...</td>\n",
       "      <td>...</td>\n",
       "      <td>...</td>\n",
       "      <td>...</td>\n",
       "      <td>...</td>\n",
       "      <td>...</td>\n",
       "      <td>...</td>\n",
       "      <td>...</td>\n",
       "      <td>...</td>\n",
       "    </tr>\n",
       "    <tr>\n",
       "      <th>5435</th>\n",
       "      <td>1</td>\n",
       "      <td>32000</td>\n",
       "      <td>92400.0</td>\n",
       "      <td>215000.000000</td>\n",
       "      <td>NaN</td>\n",
       "      <td>Self</td>\n",
       "      <td>2.5</td>\n",
       "      <td>1.0</td>\n",
       "      <td>3.0</td>\n",
       "      <td>165.333333</td>\n",
       "      <td>1.0</td>\n",
       "      <td>40.0</td>\n",
       "      <td>NaN</td>\n",
       "    </tr>\n",
       "    <tr>\n",
       "      <th>5468</th>\n",
       "      <td>1</td>\n",
       "      <td>32900</td>\n",
       "      <td>0.0</td>\n",
       "      <td>55657.000000</td>\n",
       "      <td>NaN</td>\n",
       "      <td>NaN</td>\n",
       "      <td>1.0</td>\n",
       "      <td>1.0</td>\n",
       "      <td>3.0</td>\n",
       "      <td>210.012265</td>\n",
       "      <td>10.0</td>\n",
       "      <td>15.0</td>\n",
       "      <td>1.909225</td>\n",
       "    </tr>\n",
       "    <tr>\n",
       "      <th>5803</th>\n",
       "      <td>1</td>\n",
       "      <td>49500</td>\n",
       "      <td>247500.0</td>\n",
       "      <td>101776.048741</td>\n",
       "      <td>NaN</td>\n",
       "      <td>Other</td>\n",
       "      <td>0.0</td>\n",
       "      <td>0.0</td>\n",
       "      <td>4.0</td>\n",
       "      <td>160.333333</td>\n",
       "      <td>2.0</td>\n",
       "      <td>25.0</td>\n",
       "      <td>NaN</td>\n",
       "    </tr>\n",
       "    <tr>\n",
       "      <th>5826</th>\n",
       "      <td>1</td>\n",
       "      <td>50100</td>\n",
       "      <td>256431.0</td>\n",
       "      <td>101776.048741</td>\n",
       "      <td>NaN</td>\n",
       "      <td>Other</td>\n",
       "      <td>0.0</td>\n",
       "      <td>0.0</td>\n",
       "      <td>4.0</td>\n",
       "      <td>142.343205</td>\n",
       "      <td>2.0</td>\n",
       "      <td>25.0</td>\n",
       "      <td>3.342570</td>\n",
       "    </tr>\n",
       "    <tr>\n",
       "      <th>5900</th>\n",
       "      <td>1</td>\n",
       "      <td>61400</td>\n",
       "      <td>46126.0</td>\n",
       "      <td>83800.000000</td>\n",
       "      <td>NaN</td>\n",
       "      <td>Other</td>\n",
       "      <td>33.0</td>\n",
       "      <td>0.0</td>\n",
       "      <td>1.0</td>\n",
       "      <td>339.900000</td>\n",
       "      <td>1.0</td>\n",
       "      <td>23.0</td>\n",
       "      <td>NaN</td>\n",
       "    </tr>\n",
       "  </tbody>\n",
       "</table>\n",
       "<p>252 rows × 13 columns</p>\n",
       "</div>"
      ],
      "text/plain": [
       "      BAD   LOAN   MORTDUE          VALUE REASON    JOB   YOJ  DEROG  DELINQ  \\\n",
       "3       1   1500       0.0  101776.048741    NaN    NaN   NaN    NaN     NaN   \n",
       "10      1   2000   22608.0  101776.048741    NaN    NaN  18.0    NaN     NaN   \n",
       "13      0   2000   64536.0   87400.000000    NaN    Mgr   2.5    0.0     0.0   \n",
       "17      1   2200   23030.0  101776.048741    NaN    NaN  19.0    NaN     NaN   \n",
       "51      0   3100       0.0   70400.000000    NaN    NaN   NaN    NaN     NaN   \n",
       "...   ...    ...       ...            ...    ...    ...   ...    ...     ...   \n",
       "5435    1  32000   92400.0  215000.000000    NaN   Self   2.5    1.0     3.0   \n",
       "5468    1  32900       0.0   55657.000000    NaN    NaN   1.0    1.0     3.0   \n",
       "5803    1  49500  247500.0  101776.048741    NaN  Other   0.0    0.0     4.0   \n",
       "5826    1  50100  256431.0  101776.048741    NaN  Other   0.0    0.0     4.0   \n",
       "5900    1  61400   46126.0   83800.000000    NaN  Other  33.0    0.0     1.0   \n",
       "\n",
       "           CLAGE  NINQ  CLNO   DEBTINC  \n",
       "3            NaN   NaN   NaN       NaN  \n",
       "10           NaN   NaN   NaN       NaN  \n",
       "13    147.133333   0.0  24.0       NaN  \n",
       "17           NaN   NaN   NaN  3.711312  \n",
       "51           NaN   NaN   NaN       NaN  \n",
       "...          ...   ...   ...       ...  \n",
       "5435  165.333333   1.0  40.0       NaN  \n",
       "5468  210.012265  10.0  15.0  1.909225  \n",
       "5803  160.333333   2.0  25.0       NaN  \n",
       "5826  142.343205   2.0  25.0  3.342570  \n",
       "5900  339.900000   1.0  23.0       NaN  \n",
       "\n",
       "[252 rows x 13 columns]"
      ]
     },
     "execution_count": 14,
     "metadata": {},
     "output_type": "execute_result"
    }
   ],
   "source": [
    "#Reason Missing Values\n",
    "df_hmeq[df_hmeq['REASON'].isna()]"
   ]
  },
  {
   "cell_type": "code",
   "execution_count": 15,
   "id": "26f02458",
   "metadata": {
    "execution": {
     "iopub.execute_input": "2022-10-18T03:37:35.033760Z",
     "iopub.status.busy": "2022-10-18T03:37:35.033296Z",
     "iopub.status.idle": "2022-10-18T03:37:35.039259Z",
     "shell.execute_reply": "2022-10-18T03:37:35.038674Z"
    },
    "papermill": {
     "duration": 0.027714,
     "end_time": "2022-10-18T03:37:35.040759",
     "exception": false,
     "start_time": "2022-10-18T03:37:35.013045",
     "status": "completed"
    },
    "tags": []
   },
   "outputs": [
    {
     "data": {
      "text/plain": [
       "DebtCon    3928\n",
       "HomeImp    1780\n",
       "Name: REASON, dtype: int64"
      ]
     },
     "execution_count": 15,
     "metadata": {},
     "output_type": "execute_result"
    }
   ],
   "source": [
    "df_hmeq['REASON'].value_counts()"
   ]
  },
  {
   "cell_type": "markdown",
   "id": "472904d4",
   "metadata": {
    "papermill": {
     "duration": 0.019453,
     "end_time": "2022-10-18T03:37:35.079711",
     "exception": false,
     "start_time": "2022-10-18T03:37:35.060258",
     "status": "completed"
    },
    "tags": []
   },
   "source": [
    "- For Reason column there are 2 available options DebCon,HomeImp.For columns where don't the reason for taking loan it is better to classify them as a seperate category as 'Other Reason'."
   ]
  },
  {
   "cell_type": "code",
   "execution_count": 16,
   "id": "4ee23d48",
   "metadata": {
    "execution": {
     "iopub.execute_input": "2022-10-18T03:37:35.120462Z",
     "iopub.status.busy": "2022-10-18T03:37:35.119981Z",
     "iopub.status.idle": "2022-10-18T03:37:35.124529Z",
     "shell.execute_reply": "2022-10-18T03:37:35.123778Z"
    },
    "papermill": {
     "duration": 0.027241,
     "end_time": "2022-10-18T03:37:35.126413",
     "exception": false,
     "start_time": "2022-10-18T03:37:35.099172",
     "status": "completed"
    },
    "tags": []
   },
   "outputs": [],
   "source": [
    "df_hmeq['REASON'].fillna('OtherReason',inplace=True)"
   ]
  },
  {
   "cell_type": "code",
   "execution_count": 17,
   "id": "2bbc5b2b",
   "metadata": {
    "execution": {
     "iopub.execute_input": "2022-10-18T03:37:35.167808Z",
     "iopub.status.busy": "2022-10-18T03:37:35.167461Z",
     "iopub.status.idle": "2022-10-18T03:37:35.174543Z",
     "shell.execute_reply": "2022-10-18T03:37:35.173891Z"
    },
    "papermill": {
     "duration": 0.029915,
     "end_time": "2022-10-18T03:37:35.176403",
     "exception": false,
     "start_time": "2022-10-18T03:37:35.146488",
     "status": "completed"
    },
    "tags": []
   },
   "outputs": [
    {
     "data": {
      "text/plain": [
       "Other      2388\n",
       "ProfExe    1276\n",
       "Office      948\n",
       "Mgr         767\n",
       "Self        193\n",
       "Sales       109\n",
       "Name: JOB, dtype: int64"
      ]
     },
     "execution_count": 17,
     "metadata": {},
     "output_type": "execute_result"
    }
   ],
   "source": [
    "#Job missing values\n",
    "df_hmeq['JOB'].value_counts()"
   ]
  },
  {
   "cell_type": "code",
   "execution_count": 18,
   "id": "dff916ec",
   "metadata": {
    "execution": {
     "iopub.execute_input": "2022-10-18T03:37:35.218593Z",
     "iopub.status.busy": "2022-10-18T03:37:35.217758Z",
     "iopub.status.idle": "2022-10-18T03:37:35.223724Z",
     "shell.execute_reply": "2022-10-18T03:37:35.222976Z"
    },
    "papermill": {
     "duration": 0.029186,
     "end_time": "2022-10-18T03:37:35.225634",
     "exception": false,
     "start_time": "2022-10-18T03:37:35.196448",
     "status": "completed"
    },
    "tags": []
   },
   "outputs": [],
   "source": [
    "#Replacing missing values of Job column with it's mode.\n",
    "df_hmeq['JOB'].fillna(df_hmeq['JOB'].mode()[0],inplace=True)"
   ]
  },
  {
   "cell_type": "code",
   "execution_count": 19,
   "id": "605a4f51",
   "metadata": {
    "execution": {
     "iopub.execute_input": "2022-10-18T03:37:35.267910Z",
     "iopub.status.busy": "2022-10-18T03:37:35.267585Z",
     "iopub.status.idle": "2022-10-18T03:37:35.291168Z",
     "shell.execute_reply": "2022-10-18T03:37:35.290139Z"
    },
    "papermill": {
     "duration": 0.047518,
     "end_time": "2022-10-18T03:37:35.293041",
     "exception": false,
     "start_time": "2022-10-18T03:37:35.245523",
     "status": "completed"
    },
    "tags": []
   },
   "outputs": [
    {
     "data": {
      "text/html": [
       "<div>\n",
       "<style scoped>\n",
       "    .dataframe tbody tr th:only-of-type {\n",
       "        vertical-align: middle;\n",
       "    }\n",
       "\n",
       "    .dataframe tbody tr th {\n",
       "        vertical-align: top;\n",
       "    }\n",
       "\n",
       "    .dataframe thead th {\n",
       "        text-align: right;\n",
       "    }\n",
       "</style>\n",
       "<table border=\"1\" class=\"dataframe\">\n",
       "  <thead>\n",
       "    <tr style=\"text-align: right;\">\n",
       "      <th></th>\n",
       "      <th>BAD</th>\n",
       "      <th>LOAN</th>\n",
       "      <th>MORTDUE</th>\n",
       "      <th>VALUE</th>\n",
       "      <th>REASON</th>\n",
       "      <th>JOB</th>\n",
       "      <th>YOJ</th>\n",
       "      <th>DEROG</th>\n",
       "      <th>DELINQ</th>\n",
       "      <th>CLAGE</th>\n",
       "      <th>NINQ</th>\n",
       "      <th>CLNO</th>\n",
       "      <th>DEBTINC</th>\n",
       "    </tr>\n",
       "  </thead>\n",
       "  <tbody>\n",
       "    <tr>\n",
       "      <th>3</th>\n",
       "      <td>1</td>\n",
       "      <td>1500</td>\n",
       "      <td>0.0</td>\n",
       "      <td>101776.048741</td>\n",
       "      <td>OtherReason</td>\n",
       "      <td>Other</td>\n",
       "      <td>NaN</td>\n",
       "      <td>NaN</td>\n",
       "      <td>NaN</td>\n",
       "      <td>NaN</td>\n",
       "      <td>NaN</td>\n",
       "      <td>NaN</td>\n",
       "      <td>NaN</td>\n",
       "    </tr>\n",
       "    <tr>\n",
       "      <th>15</th>\n",
       "      <td>1</td>\n",
       "      <td>2200</td>\n",
       "      <td>24280.0</td>\n",
       "      <td>34687.000000</td>\n",
       "      <td>HomeImp</td>\n",
       "      <td>Other</td>\n",
       "      <td>NaN</td>\n",
       "      <td>0.0</td>\n",
       "      <td>1.0</td>\n",
       "      <td>300.866667</td>\n",
       "      <td>0.0</td>\n",
       "      <td>8.0</td>\n",
       "      <td>NaN</td>\n",
       "    </tr>\n",
       "    <tr>\n",
       "      <th>24</th>\n",
       "      <td>1</td>\n",
       "      <td>2400</td>\n",
       "      <td>0.0</td>\n",
       "      <td>17180.000000</td>\n",
       "      <td>HomeImp</td>\n",
       "      <td>Other</td>\n",
       "      <td>NaN</td>\n",
       "      <td>0.0</td>\n",
       "      <td>0.0</td>\n",
       "      <td>14.566667</td>\n",
       "      <td>3.0</td>\n",
       "      <td>4.0</td>\n",
       "      <td>NaN</td>\n",
       "    </tr>\n",
       "    <tr>\n",
       "      <th>29</th>\n",
       "      <td>0</td>\n",
       "      <td>2500</td>\n",
       "      <td>7229.0</td>\n",
       "      <td>44516.000000</td>\n",
       "      <td>HomeImp</td>\n",
       "      <td>Self</td>\n",
       "      <td>NaN</td>\n",
       "      <td>0.0</td>\n",
       "      <td>0.0</td>\n",
       "      <td>208.000000</td>\n",
       "      <td>0.0</td>\n",
       "      <td>12.0</td>\n",
       "      <td>NaN</td>\n",
       "    </tr>\n",
       "    <tr>\n",
       "      <th>51</th>\n",
       "      <td>0</td>\n",
       "      <td>3100</td>\n",
       "      <td>0.0</td>\n",
       "      <td>70400.000000</td>\n",
       "      <td>OtherReason</td>\n",
       "      <td>Other</td>\n",
       "      <td>NaN</td>\n",
       "      <td>NaN</td>\n",
       "      <td>NaN</td>\n",
       "      <td>NaN</td>\n",
       "      <td>NaN</td>\n",
       "      <td>NaN</td>\n",
       "      <td>NaN</td>\n",
       "    </tr>\n",
       "    <tr>\n",
       "      <th>...</th>\n",
       "      <td>...</td>\n",
       "      <td>...</td>\n",
       "      <td>...</td>\n",
       "      <td>...</td>\n",
       "      <td>...</td>\n",
       "      <td>...</td>\n",
       "      <td>...</td>\n",
       "      <td>...</td>\n",
       "      <td>...</td>\n",
       "      <td>...</td>\n",
       "      <td>...</td>\n",
       "      <td>...</td>\n",
       "      <td>...</td>\n",
       "    </tr>\n",
       "    <tr>\n",
       "      <th>5854</th>\n",
       "      <td>0</td>\n",
       "      <td>51500</td>\n",
       "      <td>0.0</td>\n",
       "      <td>90003.000000</td>\n",
       "      <td>HomeImp</td>\n",
       "      <td>Other</td>\n",
       "      <td>NaN</td>\n",
       "      <td>0.0</td>\n",
       "      <td>0.0</td>\n",
       "      <td>347.802514</td>\n",
       "      <td>0.0</td>\n",
       "      <td>7.0</td>\n",
       "      <td>25.324002</td>\n",
       "    </tr>\n",
       "    <tr>\n",
       "      <th>5862</th>\n",
       "      <td>0</td>\n",
       "      <td>52200</td>\n",
       "      <td>0.0</td>\n",
       "      <td>90240.000000</td>\n",
       "      <td>HomeImp</td>\n",
       "      <td>Other</td>\n",
       "      <td>NaN</td>\n",
       "      <td>0.0</td>\n",
       "      <td>0.0</td>\n",
       "      <td>341.828812</td>\n",
       "      <td>0.0</td>\n",
       "      <td>7.0</td>\n",
       "      <td>24.016671</td>\n",
       "    </tr>\n",
       "    <tr>\n",
       "      <th>5865</th>\n",
       "      <td>0</td>\n",
       "      <td>52300</td>\n",
       "      <td>0.0</td>\n",
       "      <td>84584.000000</td>\n",
       "      <td>HomeImp</td>\n",
       "      <td>Other</td>\n",
       "      <td>NaN</td>\n",
       "      <td>1.0</td>\n",
       "      <td>0.0</td>\n",
       "      <td>350.920996</td>\n",
       "      <td>0.0</td>\n",
       "      <td>7.0</td>\n",
       "      <td>24.355304</td>\n",
       "    </tr>\n",
       "    <tr>\n",
       "      <th>5880</th>\n",
       "      <td>0</td>\n",
       "      <td>53700</td>\n",
       "      <td>0.0</td>\n",
       "      <td>84205.000000</td>\n",
       "      <td>HomeImp</td>\n",
       "      <td>Other</td>\n",
       "      <td>NaN</td>\n",
       "      <td>0.0</td>\n",
       "      <td>0.0</td>\n",
       "      <td>339.665615</td>\n",
       "      <td>0.0</td>\n",
       "      <td>7.0</td>\n",
       "      <td>22.639940</td>\n",
       "    </tr>\n",
       "    <tr>\n",
       "      <th>5884</th>\n",
       "      <td>0</td>\n",
       "      <td>53900</td>\n",
       "      <td>0.0</td>\n",
       "      <td>91309.000000</td>\n",
       "      <td>HomeImp</td>\n",
       "      <td>Other</td>\n",
       "      <td>NaN</td>\n",
       "      <td>0.0</td>\n",
       "      <td>0.0</td>\n",
       "      <td>349.795748</td>\n",
       "      <td>0.0</td>\n",
       "      <td>6.0</td>\n",
       "      <td>22.061330</td>\n",
       "    </tr>\n",
       "  </tbody>\n",
       "</table>\n",
       "<p>515 rows × 13 columns</p>\n",
       "</div>"
      ],
      "text/plain": [
       "      BAD   LOAN  MORTDUE          VALUE       REASON    JOB  YOJ  DEROG  \\\n",
       "3       1   1500      0.0  101776.048741  OtherReason  Other  NaN    NaN   \n",
       "15      1   2200  24280.0   34687.000000      HomeImp  Other  NaN    0.0   \n",
       "24      1   2400      0.0   17180.000000      HomeImp  Other  NaN    0.0   \n",
       "29      0   2500   7229.0   44516.000000      HomeImp   Self  NaN    0.0   \n",
       "51      0   3100      0.0   70400.000000  OtherReason  Other  NaN    NaN   \n",
       "...   ...    ...      ...            ...          ...    ...  ...    ...   \n",
       "5854    0  51500      0.0   90003.000000      HomeImp  Other  NaN    0.0   \n",
       "5862    0  52200      0.0   90240.000000      HomeImp  Other  NaN    0.0   \n",
       "5865    0  52300      0.0   84584.000000      HomeImp  Other  NaN    1.0   \n",
       "5880    0  53700      0.0   84205.000000      HomeImp  Other  NaN    0.0   \n",
       "5884    0  53900      0.0   91309.000000      HomeImp  Other  NaN    0.0   \n",
       "\n",
       "      DELINQ       CLAGE  NINQ  CLNO    DEBTINC  \n",
       "3        NaN         NaN   NaN   NaN        NaN  \n",
       "15       1.0  300.866667   0.0   8.0        NaN  \n",
       "24       0.0   14.566667   3.0   4.0        NaN  \n",
       "29       0.0  208.000000   0.0  12.0        NaN  \n",
       "51       NaN         NaN   NaN   NaN        NaN  \n",
       "...      ...         ...   ...   ...        ...  \n",
       "5854     0.0  347.802514   0.0   7.0  25.324002  \n",
       "5862     0.0  341.828812   0.0   7.0  24.016671  \n",
       "5865     0.0  350.920996   0.0   7.0  24.355304  \n",
       "5880     0.0  339.665615   0.0   7.0  22.639940  \n",
       "5884     0.0  349.795748   0.0   6.0  22.061330  \n",
       "\n",
       "[515 rows x 13 columns]"
      ]
     },
     "execution_count": 19,
     "metadata": {},
     "output_type": "execute_result"
    }
   ],
   "source": [
    "df_hmeq[df_hmeq['YOJ'].isna()]"
   ]
  },
  {
   "cell_type": "code",
   "execution_count": 20,
   "id": "00771d4d",
   "metadata": {
    "execution": {
     "iopub.execute_input": "2022-10-18T03:37:35.336236Z",
     "iopub.status.busy": "2022-10-18T03:37:35.335620Z",
     "iopub.status.idle": "2022-10-18T03:37:35.340365Z",
     "shell.execute_reply": "2022-10-18T03:37:35.339706Z"
    },
    "papermill": {
     "duration": 0.028182,
     "end_time": "2022-10-18T03:37:35.342054",
     "exception": false,
     "start_time": "2022-10-18T03:37:35.313872",
     "status": "completed"
    },
    "tags": []
   },
   "outputs": [],
   "source": [
    "#Replacing null values for YOJ with it's mean\n",
    "df_hmeq['YOJ'].fillna(df_hmeq['YOJ'].mean(),inplace=True)"
   ]
  },
  {
   "cell_type": "code",
   "execution_count": 21,
   "id": "3c0b734d",
   "metadata": {
    "execution": {
     "iopub.execute_input": "2022-10-18T03:37:35.382378Z",
     "iopub.status.busy": "2022-10-18T03:37:35.381867Z",
     "iopub.status.idle": "2022-10-18T03:37:35.402173Z",
     "shell.execute_reply": "2022-10-18T03:37:35.401349Z"
    },
    "papermill": {
     "duration": 0.042287,
     "end_time": "2022-10-18T03:37:35.403913",
     "exception": false,
     "start_time": "2022-10-18T03:37:35.361626",
     "status": "completed"
    },
    "tags": []
   },
   "outputs": [
    {
     "data": {
      "text/html": [
       "<div>\n",
       "<style scoped>\n",
       "    .dataframe tbody tr th:only-of-type {\n",
       "        vertical-align: middle;\n",
       "    }\n",
       "\n",
       "    .dataframe tbody tr th {\n",
       "        vertical-align: top;\n",
       "    }\n",
       "\n",
       "    .dataframe thead th {\n",
       "        text-align: right;\n",
       "    }\n",
       "</style>\n",
       "<table border=\"1\" class=\"dataframe\">\n",
       "  <thead>\n",
       "    <tr style=\"text-align: right;\">\n",
       "      <th></th>\n",
       "      <th>BAD</th>\n",
       "      <th>LOAN</th>\n",
       "      <th>MORTDUE</th>\n",
       "      <th>VALUE</th>\n",
       "      <th>REASON</th>\n",
       "      <th>JOB</th>\n",
       "      <th>YOJ</th>\n",
       "      <th>DEROG</th>\n",
       "      <th>DELINQ</th>\n",
       "      <th>CLAGE</th>\n",
       "      <th>NINQ</th>\n",
       "      <th>CLNO</th>\n",
       "      <th>DEBTINC</th>\n",
       "    </tr>\n",
       "  </thead>\n",
       "  <tbody>\n",
       "    <tr>\n",
       "      <th>3</th>\n",
       "      <td>1</td>\n",
       "      <td>1500</td>\n",
       "      <td>0.0</td>\n",
       "      <td>101776.048741</td>\n",
       "      <td>OtherReason</td>\n",
       "      <td>Other</td>\n",
       "      <td>8.922268</td>\n",
       "      <td>NaN</td>\n",
       "      <td>NaN</td>\n",
       "      <td>NaN</td>\n",
       "      <td>NaN</td>\n",
       "      <td>NaN</td>\n",
       "      <td>NaN</td>\n",
       "    </tr>\n",
       "    <tr>\n",
       "      <th>10</th>\n",
       "      <td>1</td>\n",
       "      <td>2000</td>\n",
       "      <td>22608.0</td>\n",
       "      <td>101776.048741</td>\n",
       "      <td>OtherReason</td>\n",
       "      <td>Other</td>\n",
       "      <td>18.000000</td>\n",
       "      <td>NaN</td>\n",
       "      <td>NaN</td>\n",
       "      <td>NaN</td>\n",
       "      <td>NaN</td>\n",
       "      <td>NaN</td>\n",
       "      <td>NaN</td>\n",
       "    </tr>\n",
       "    <tr>\n",
       "      <th>17</th>\n",
       "      <td>1</td>\n",
       "      <td>2200</td>\n",
       "      <td>23030.0</td>\n",
       "      <td>101776.048741</td>\n",
       "      <td>OtherReason</td>\n",
       "      <td>Other</td>\n",
       "      <td>19.000000</td>\n",
       "      <td>NaN</td>\n",
       "      <td>NaN</td>\n",
       "      <td>NaN</td>\n",
       "      <td>NaN</td>\n",
       "      <td>NaN</td>\n",
       "      <td>3.711312</td>\n",
       "    </tr>\n",
       "    <tr>\n",
       "      <th>23</th>\n",
       "      <td>1</td>\n",
       "      <td>2400</td>\n",
       "      <td>18000.0</td>\n",
       "      <td>101776.048741</td>\n",
       "      <td>HomeImp</td>\n",
       "      <td>Mgr</td>\n",
       "      <td>22.000000</td>\n",
       "      <td>NaN</td>\n",
       "      <td>2.0</td>\n",
       "      <td>121.733333</td>\n",
       "      <td>0.0</td>\n",
       "      <td>10.0</td>\n",
       "      <td>NaN</td>\n",
       "    </tr>\n",
       "    <tr>\n",
       "      <th>48</th>\n",
       "      <td>0</td>\n",
       "      <td>3000</td>\n",
       "      <td>58000.0</td>\n",
       "      <td>71500.000000</td>\n",
       "      <td>HomeImp</td>\n",
       "      <td>Mgr</td>\n",
       "      <td>10.000000</td>\n",
       "      <td>NaN</td>\n",
       "      <td>2.0</td>\n",
       "      <td>211.933333</td>\n",
       "      <td>0.0</td>\n",
       "      <td>25.0</td>\n",
       "      <td>NaN</td>\n",
       "    </tr>\n",
       "    <tr>\n",
       "      <th>...</th>\n",
       "      <td>...</td>\n",
       "      <td>...</td>\n",
       "      <td>...</td>\n",
       "      <td>...</td>\n",
       "      <td>...</td>\n",
       "      <td>...</td>\n",
       "      <td>...</td>\n",
       "      <td>...</td>\n",
       "      <td>...</td>\n",
       "      <td>...</td>\n",
       "      <td>...</td>\n",
       "      <td>...</td>\n",
       "      <td>...</td>\n",
       "    </tr>\n",
       "    <tr>\n",
       "      <th>5735</th>\n",
       "      <td>0</td>\n",
       "      <td>42900</td>\n",
       "      <td>101731.0</td>\n",
       "      <td>155688.000000</td>\n",
       "      <td>DebtCon</td>\n",
       "      <td>Other</td>\n",
       "      <td>14.000000</td>\n",
       "      <td>NaN</td>\n",
       "      <td>1.0</td>\n",
       "      <td>235.352057</td>\n",
       "      <td>3.0</td>\n",
       "      <td>30.0</td>\n",
       "      <td>43.181424</td>\n",
       "    </tr>\n",
       "    <tr>\n",
       "      <th>5763</th>\n",
       "      <td>0</td>\n",
       "      <td>44400</td>\n",
       "      <td>100564.0</td>\n",
       "      <td>154708.000000</td>\n",
       "      <td>DebtCon</td>\n",
       "      <td>Other</td>\n",
       "      <td>14.000000</td>\n",
       "      <td>NaN</td>\n",
       "      <td>0.0</td>\n",
       "      <td>253.914111</td>\n",
       "      <td>3.0</td>\n",
       "      <td>30.0</td>\n",
       "      <td>43.902152</td>\n",
       "    </tr>\n",
       "    <tr>\n",
       "      <th>5766</th>\n",
       "      <td>0</td>\n",
       "      <td>44900</td>\n",
       "      <td>95410.0</td>\n",
       "      <td>157649.000000</td>\n",
       "      <td>DebtCon</td>\n",
       "      <td>Other</td>\n",
       "      <td>16.000000</td>\n",
       "      <td>NaN</td>\n",
       "      <td>1.0</td>\n",
       "      <td>216.101046</td>\n",
       "      <td>4.0</td>\n",
       "      <td>31.0</td>\n",
       "      <td>40.483515</td>\n",
       "    </tr>\n",
       "    <tr>\n",
       "      <th>5820</th>\n",
       "      <td>1</td>\n",
       "      <td>50000</td>\n",
       "      <td>80286.0</td>\n",
       "      <td>145000.000000</td>\n",
       "      <td>DebtCon</td>\n",
       "      <td>Other</td>\n",
       "      <td>12.000000</td>\n",
       "      <td>NaN</td>\n",
       "      <td>1.0</td>\n",
       "      <td>178.766599</td>\n",
       "      <td>0.0</td>\n",
       "      <td>35.0</td>\n",
       "      <td>NaN</td>\n",
       "    </tr>\n",
       "    <tr>\n",
       "      <th>5882</th>\n",
       "      <td>1</td>\n",
       "      <td>53800</td>\n",
       "      <td>82324.0</td>\n",
       "      <td>154409.000000</td>\n",
       "      <td>DebtCon</td>\n",
       "      <td>Other</td>\n",
       "      <td>10.000000</td>\n",
       "      <td>NaN</td>\n",
       "      <td>1.0</td>\n",
       "      <td>157.484011</td>\n",
       "      <td>0.0</td>\n",
       "      <td>34.0</td>\n",
       "      <td>41.659044</td>\n",
       "    </tr>\n",
       "  </tbody>\n",
       "</table>\n",
       "<p>708 rows × 13 columns</p>\n",
       "</div>"
      ],
      "text/plain": [
       "      BAD   LOAN   MORTDUE          VALUE       REASON    JOB        YOJ  \\\n",
       "3       1   1500       0.0  101776.048741  OtherReason  Other   8.922268   \n",
       "10      1   2000   22608.0  101776.048741  OtherReason  Other  18.000000   \n",
       "17      1   2200   23030.0  101776.048741  OtherReason  Other  19.000000   \n",
       "23      1   2400   18000.0  101776.048741      HomeImp    Mgr  22.000000   \n",
       "48      0   3000   58000.0   71500.000000      HomeImp    Mgr  10.000000   \n",
       "...   ...    ...       ...            ...          ...    ...        ...   \n",
       "5735    0  42900  101731.0  155688.000000      DebtCon  Other  14.000000   \n",
       "5763    0  44400  100564.0  154708.000000      DebtCon  Other  14.000000   \n",
       "5766    0  44900   95410.0  157649.000000      DebtCon  Other  16.000000   \n",
       "5820    1  50000   80286.0  145000.000000      DebtCon  Other  12.000000   \n",
       "5882    1  53800   82324.0  154409.000000      DebtCon  Other  10.000000   \n",
       "\n",
       "      DEROG  DELINQ       CLAGE  NINQ  CLNO    DEBTINC  \n",
       "3       NaN     NaN         NaN   NaN   NaN        NaN  \n",
       "10      NaN     NaN         NaN   NaN   NaN        NaN  \n",
       "17      NaN     NaN         NaN   NaN   NaN   3.711312  \n",
       "23      NaN     2.0  121.733333   0.0  10.0        NaN  \n",
       "48      NaN     2.0  211.933333   0.0  25.0        NaN  \n",
       "...     ...     ...         ...   ...   ...        ...  \n",
       "5735    NaN     1.0  235.352057   3.0  30.0  43.181424  \n",
       "5763    NaN     0.0  253.914111   3.0  30.0  43.902152  \n",
       "5766    NaN     1.0  216.101046   4.0  31.0  40.483515  \n",
       "5820    NaN     1.0  178.766599   0.0  35.0        NaN  \n",
       "5882    NaN     1.0  157.484011   0.0  34.0  41.659044  \n",
       "\n",
       "[708 rows x 13 columns]"
      ]
     },
     "execution_count": 21,
     "metadata": {},
     "output_type": "execute_result"
    }
   ],
   "source": [
    "#DEROG missing values\n",
    "df_hmeq[df_hmeq['DEROG'].isna()]"
   ]
  },
  {
   "cell_type": "code",
   "execution_count": 22,
   "id": "2d6a977c",
   "metadata": {
    "execution": {
     "iopub.execute_input": "2022-10-18T03:37:35.451090Z",
     "iopub.status.busy": "2022-10-18T03:37:35.450536Z",
     "iopub.status.idle": "2022-10-18T03:37:35.458696Z",
     "shell.execute_reply": "2022-10-18T03:37:35.457727Z"
    },
    "papermill": {
     "duration": 0.036927,
     "end_time": "2022-10-18T03:37:35.460628",
     "exception": false,
     "start_time": "2022-10-18T03:37:35.423701",
     "status": "completed"
    },
    "tags": []
   },
   "outputs": [
    {
     "data": {
      "text/plain": [
       "0.0     4527\n",
       "1.0      435\n",
       "2.0      160\n",
       "3.0       58\n",
       "4.0       23\n",
       "5.0       15\n",
       "6.0       15\n",
       "7.0        8\n",
       "8.0        6\n",
       "9.0        3\n",
       "10.0       2\n",
       "Name: DEROG, dtype: int64"
      ]
     },
     "execution_count": 22,
     "metadata": {},
     "output_type": "execute_result"
    }
   ],
   "source": [
    "df_hmeq['DEROG'].value_counts()"
   ]
  },
  {
   "cell_type": "markdown",
   "id": "06ae1b7c",
   "metadata": {
    "papermill": {
     "duration": 0.019782,
     "end_time": "2022-10-18T03:37:35.504850",
     "exception": false,
     "start_time": "2022-10-18T03:37:35.485068",
     "status": "completed"
    },
    "tags": []
   },
   "source": [
    "- For Derog column the missing values can be replaced with 0 as Nan and 0 for count of Derog reports will signify the same thing."
   ]
  },
  {
   "cell_type": "code",
   "execution_count": 23,
   "id": "a4bf4dbc",
   "metadata": {
    "execution": {
     "iopub.execute_input": "2022-10-18T03:37:35.546554Z",
     "iopub.status.busy": "2022-10-18T03:37:35.546043Z",
     "iopub.status.idle": "2022-10-18T03:37:35.550379Z",
     "shell.execute_reply": "2022-10-18T03:37:35.549740Z"
    },
    "papermill": {
     "duration": 0.027179,
     "end_time": "2022-10-18T03:37:35.551988",
     "exception": false,
     "start_time": "2022-10-18T03:37:35.524809",
     "status": "completed"
    },
    "tags": []
   },
   "outputs": [],
   "source": [
    "df_hmeq['DEROG'].fillna(0,inplace=True)"
   ]
  },
  {
   "cell_type": "code",
   "execution_count": 24,
   "id": "4d4f8ff7",
   "metadata": {
    "execution": {
     "iopub.execute_input": "2022-10-18T03:37:35.596687Z",
     "iopub.status.busy": "2022-10-18T03:37:35.596125Z",
     "iopub.status.idle": "2022-10-18T03:37:35.605166Z",
     "shell.execute_reply": "2022-10-18T03:37:35.604286Z"
    },
    "papermill": {
     "duration": 0.034145,
     "end_time": "2022-10-18T03:37:35.607591",
     "exception": false,
     "start_time": "2022-10-18T03:37:35.573446",
     "status": "completed"
    },
    "tags": []
   },
   "outputs": [
    {
     "data": {
      "text/plain": [
       "0.0     4179\n",
       "1.0      654\n",
       "2.0      250\n",
       "3.0      129\n",
       "4.0       78\n",
       "5.0       38\n",
       "6.0       27\n",
       "7.0       13\n",
       "8.0        5\n",
       "10.0       2\n",
       "11.0       2\n",
       "15.0       1\n",
       "12.0       1\n",
       "13.0       1\n",
       "Name: DELINQ, dtype: int64"
      ]
     },
     "execution_count": 24,
     "metadata": {},
     "output_type": "execute_result"
    }
   ],
   "source": [
    "#DELINQ missing values\n",
    "df_hmeq['DELINQ'].value_counts()"
   ]
  },
  {
   "cell_type": "markdown",
   "id": "ad4aae7c",
   "metadata": {
    "papermill": {
     "duration": 0.020534,
     "end_time": "2022-10-18T03:37:35.649689",
     "exception": false,
     "start_time": "2022-10-18T03:37:35.629155",
     "status": "completed"
    },
    "tags": []
   },
   "source": [
    "For DELINQ column the missing values can be replaced with 0 as Nan and 0 for count of Derog reports will signify the same thing."
   ]
  },
  {
   "cell_type": "code",
   "execution_count": 25,
   "id": "17b2a598",
   "metadata": {
    "execution": {
     "iopub.execute_input": "2022-10-18T03:37:35.696355Z",
     "iopub.status.busy": "2022-10-18T03:37:35.695253Z",
     "iopub.status.idle": "2022-10-18T03:37:35.700079Z",
     "shell.execute_reply": "2022-10-18T03:37:35.699402Z"
    },
    "papermill": {
     "duration": 0.028864,
     "end_time": "2022-10-18T03:37:35.701758",
     "exception": false,
     "start_time": "2022-10-18T03:37:35.672894",
     "status": "completed"
    },
    "tags": []
   },
   "outputs": [],
   "source": [
    "df_hmeq['DELINQ'].fillna(0,inplace=True)"
   ]
  },
  {
   "cell_type": "code",
   "execution_count": 26,
   "id": "29eebbb5",
   "metadata": {
    "execution": {
     "iopub.execute_input": "2022-10-18T03:37:35.745642Z",
     "iopub.status.busy": "2022-10-18T03:37:35.745290Z",
     "iopub.status.idle": "2022-10-18T03:37:35.753356Z",
     "shell.execute_reply": "2022-10-18T03:37:35.752660Z"
    },
    "papermill": {
     "duration": 0.031465,
     "end_time": "2022-10-18T03:37:35.754824",
     "exception": false,
     "start_time": "2022-10-18T03:37:35.723359",
     "status": "completed"
    },
    "tags": []
   },
   "outputs": [
    {
     "data": {
      "text/plain": [
       "102.500000    7\n",
       "206.966667    7\n",
       "177.500000    6\n",
       "123.766667    6\n",
       "95.366667     6\n",
       "             ..\n",
       "240.856017    1\n",
       "196.241371    1\n",
       "71.461705     1\n",
       "184.880011    1\n",
       "219.601002    1\n",
       "Name: CLAGE, Length: 5314, dtype: int64"
      ]
     },
     "execution_count": 26,
     "metadata": {},
     "output_type": "execute_result"
    }
   ],
   "source": [
    "#CLAGE missing values\n",
    "df_hmeq['CLAGE'].value_counts()"
   ]
  },
  {
   "cell_type": "code",
   "execution_count": 27,
   "id": "16c79e74",
   "metadata": {
    "execution": {
     "iopub.execute_input": "2022-10-18T03:37:35.802528Z",
     "iopub.status.busy": "2022-10-18T03:37:35.801546Z",
     "iopub.status.idle": "2022-10-18T03:37:35.812556Z",
     "shell.execute_reply": "2022-10-18T03:37:35.811887Z"
    },
    "papermill": {
     "duration": 0.038383,
     "end_time": "2022-10-18T03:37:35.814096",
     "exception": false,
     "start_time": "2022-10-18T03:37:35.775713",
     "status": "completed"
    },
    "tags": []
   },
   "outputs": [
    {
     "data": {
      "text/plain": [
       "count    5652.000000\n",
       "mean      179.766275\n",
       "std        85.810092\n",
       "min         0.000000\n",
       "25%       115.116702\n",
       "50%       173.466667\n",
       "75%       231.562278\n",
       "max      1168.233561\n",
       "Name: CLAGE, dtype: float64"
      ]
     },
     "execution_count": 27,
     "metadata": {},
     "output_type": "execute_result"
    }
   ],
   "source": [
    "df_hmeq['CLAGE'].describe()"
   ]
  },
  {
   "cell_type": "code",
   "execution_count": 28,
   "id": "93c4da8b",
   "metadata": {
    "execution": {
     "iopub.execute_input": "2022-10-18T03:37:35.861807Z",
     "iopub.status.busy": "2022-10-18T03:37:35.860738Z",
     "iopub.status.idle": "2022-10-18T03:37:35.883069Z",
     "shell.execute_reply": "2022-10-18T03:37:35.882241Z"
    },
    "papermill": {
     "duration": 0.049116,
     "end_time": "2022-10-18T03:37:35.884809",
     "exception": false,
     "start_time": "2022-10-18T03:37:35.835693",
     "status": "completed"
    },
    "tags": []
   },
   "outputs": [
    {
     "data": {
      "text/html": [
       "<div>\n",
       "<style scoped>\n",
       "    .dataframe tbody tr th:only-of-type {\n",
       "        vertical-align: middle;\n",
       "    }\n",
       "\n",
       "    .dataframe tbody tr th {\n",
       "        vertical-align: top;\n",
       "    }\n",
       "\n",
       "    .dataframe thead th {\n",
       "        text-align: right;\n",
       "    }\n",
       "</style>\n",
       "<table border=\"1\" class=\"dataframe\">\n",
       "  <thead>\n",
       "    <tr style=\"text-align: right;\">\n",
       "      <th></th>\n",
       "      <th>BAD</th>\n",
       "      <th>LOAN</th>\n",
       "      <th>MORTDUE</th>\n",
       "      <th>VALUE</th>\n",
       "      <th>REASON</th>\n",
       "      <th>JOB</th>\n",
       "      <th>YOJ</th>\n",
       "      <th>DEROG</th>\n",
       "      <th>DELINQ</th>\n",
       "      <th>CLAGE</th>\n",
       "      <th>NINQ</th>\n",
       "      <th>CLNO</th>\n",
       "      <th>DEBTINC</th>\n",
       "    </tr>\n",
       "  </thead>\n",
       "  <tbody>\n",
       "    <tr>\n",
       "      <th>3</th>\n",
       "      <td>1</td>\n",
       "      <td>1500</td>\n",
       "      <td>0.0</td>\n",
       "      <td>101776.048741</td>\n",
       "      <td>OtherReason</td>\n",
       "      <td>Other</td>\n",
       "      <td>8.922268</td>\n",
       "      <td>0.0</td>\n",
       "      <td>0.0</td>\n",
       "      <td>NaN</td>\n",
       "      <td>NaN</td>\n",
       "      <td>NaN</td>\n",
       "      <td>NaN</td>\n",
       "    </tr>\n",
       "    <tr>\n",
       "      <th>10</th>\n",
       "      <td>1</td>\n",
       "      <td>2000</td>\n",
       "      <td>22608.0</td>\n",
       "      <td>101776.048741</td>\n",
       "      <td>OtherReason</td>\n",
       "      <td>Other</td>\n",
       "      <td>18.000000</td>\n",
       "      <td>0.0</td>\n",
       "      <td>0.0</td>\n",
       "      <td>NaN</td>\n",
       "      <td>NaN</td>\n",
       "      <td>NaN</td>\n",
       "      <td>NaN</td>\n",
       "    </tr>\n",
       "    <tr>\n",
       "      <th>17</th>\n",
       "      <td>1</td>\n",
       "      <td>2200</td>\n",
       "      <td>23030.0</td>\n",
       "      <td>101776.048741</td>\n",
       "      <td>OtherReason</td>\n",
       "      <td>Other</td>\n",
       "      <td>19.000000</td>\n",
       "      <td>0.0</td>\n",
       "      <td>0.0</td>\n",
       "      <td>NaN</td>\n",
       "      <td>NaN</td>\n",
       "      <td>NaN</td>\n",
       "      <td>3.711312</td>\n",
       "    </tr>\n",
       "    <tr>\n",
       "      <th>21</th>\n",
       "      <td>1</td>\n",
       "      <td>2400</td>\n",
       "      <td>50000.0</td>\n",
       "      <td>73395.000000</td>\n",
       "      <td>HomeImp</td>\n",
       "      <td>ProfExe</td>\n",
       "      <td>5.000000</td>\n",
       "      <td>1.0</td>\n",
       "      <td>0.0</td>\n",
       "      <td>NaN</td>\n",
       "      <td>1.0</td>\n",
       "      <td>0.0</td>\n",
       "      <td>NaN</td>\n",
       "    </tr>\n",
       "    <tr>\n",
       "      <th>51</th>\n",
       "      <td>0</td>\n",
       "      <td>3100</td>\n",
       "      <td>0.0</td>\n",
       "      <td>70400.000000</td>\n",
       "      <td>OtherReason</td>\n",
       "      <td>Other</td>\n",
       "      <td>8.922268</td>\n",
       "      <td>0.0</td>\n",
       "      <td>0.0</td>\n",
       "      <td>NaN</td>\n",
       "      <td>NaN</td>\n",
       "      <td>NaN</td>\n",
       "      <td>NaN</td>\n",
       "    </tr>\n",
       "    <tr>\n",
       "      <th>...</th>\n",
       "      <td>...</td>\n",
       "      <td>...</td>\n",
       "      <td>...</td>\n",
       "      <td>...</td>\n",
       "      <td>...</td>\n",
       "      <td>...</td>\n",
       "      <td>...</td>\n",
       "      <td>...</td>\n",
       "      <td>...</td>\n",
       "      <td>...</td>\n",
       "      <td>...</td>\n",
       "      <td>...</td>\n",
       "      <td>...</td>\n",
       "    </tr>\n",
       "    <tr>\n",
       "      <th>5608</th>\n",
       "      <td>0</td>\n",
       "      <td>37800</td>\n",
       "      <td>31214.0</td>\n",
       "      <td>58282.000000</td>\n",
       "      <td>DebtCon</td>\n",
       "      <td>Other</td>\n",
       "      <td>8.922268</td>\n",
       "      <td>0.0</td>\n",
       "      <td>0.0</td>\n",
       "      <td>NaN</td>\n",
       "      <td>7.0</td>\n",
       "      <td>0.0</td>\n",
       "      <td>34.226190</td>\n",
       "    </tr>\n",
       "    <tr>\n",
       "      <th>5635</th>\n",
       "      <td>0</td>\n",
       "      <td>38900</td>\n",
       "      <td>31836.0</td>\n",
       "      <td>54976.000000</td>\n",
       "      <td>DebtCon</td>\n",
       "      <td>Other</td>\n",
       "      <td>8.922268</td>\n",
       "      <td>0.0</td>\n",
       "      <td>0.0</td>\n",
       "      <td>NaN</td>\n",
       "      <td>6.0</td>\n",
       "      <td>0.0</td>\n",
       "      <td>33.459246</td>\n",
       "    </tr>\n",
       "    <tr>\n",
       "      <th>5637</th>\n",
       "      <td>0</td>\n",
       "      <td>39000</td>\n",
       "      <td>36335.0</td>\n",
       "      <td>50704.000000</td>\n",
       "      <td>DebtCon</td>\n",
       "      <td>Other</td>\n",
       "      <td>8.922268</td>\n",
       "      <td>0.0</td>\n",
       "      <td>0.0</td>\n",
       "      <td>NaN</td>\n",
       "      <td>7.0</td>\n",
       "      <td>0.0</td>\n",
       "      <td>31.244399</td>\n",
       "    </tr>\n",
       "    <tr>\n",
       "      <th>5784</th>\n",
       "      <td>1</td>\n",
       "      <td>47000</td>\n",
       "      <td>159500.0</td>\n",
       "      <td>230000.000000</td>\n",
       "      <td>DebtCon</td>\n",
       "      <td>Office</td>\n",
       "      <td>3.000000</td>\n",
       "      <td>0.0</td>\n",
       "      <td>0.0</td>\n",
       "      <td>NaN</td>\n",
       "      <td>0.0</td>\n",
       "      <td>0.0</td>\n",
       "      <td>NaN</td>\n",
       "    </tr>\n",
       "    <tr>\n",
       "      <th>5804</th>\n",
       "      <td>1</td>\n",
       "      <td>49500</td>\n",
       "      <td>9000.0</td>\n",
       "      <td>55000.000000</td>\n",
       "      <td>DebtCon</td>\n",
       "      <td>Other</td>\n",
       "      <td>3.000000</td>\n",
       "      <td>0.0</td>\n",
       "      <td>0.0</td>\n",
       "      <td>NaN</td>\n",
       "      <td>0.0</td>\n",
       "      <td>0.0</td>\n",
       "      <td>NaN</td>\n",
       "    </tr>\n",
       "  </tbody>\n",
       "</table>\n",
       "<p>308 rows × 13 columns</p>\n",
       "</div>"
      ],
      "text/plain": [
       "      BAD   LOAN   MORTDUE          VALUE       REASON      JOB        YOJ  \\\n",
       "3       1   1500       0.0  101776.048741  OtherReason    Other   8.922268   \n",
       "10      1   2000   22608.0  101776.048741  OtherReason    Other  18.000000   \n",
       "17      1   2200   23030.0  101776.048741  OtherReason    Other  19.000000   \n",
       "21      1   2400   50000.0   73395.000000      HomeImp  ProfExe   5.000000   \n",
       "51      0   3100       0.0   70400.000000  OtherReason    Other   8.922268   \n",
       "...   ...    ...       ...            ...          ...      ...        ...   \n",
       "5608    0  37800   31214.0   58282.000000      DebtCon    Other   8.922268   \n",
       "5635    0  38900   31836.0   54976.000000      DebtCon    Other   8.922268   \n",
       "5637    0  39000   36335.0   50704.000000      DebtCon    Other   8.922268   \n",
       "5784    1  47000  159500.0  230000.000000      DebtCon   Office   3.000000   \n",
       "5804    1  49500    9000.0   55000.000000      DebtCon    Other   3.000000   \n",
       "\n",
       "      DEROG  DELINQ  CLAGE  NINQ  CLNO    DEBTINC  \n",
       "3       0.0     0.0    NaN   NaN   NaN        NaN  \n",
       "10      0.0     0.0    NaN   NaN   NaN        NaN  \n",
       "17      0.0     0.0    NaN   NaN   NaN   3.711312  \n",
       "21      1.0     0.0    NaN   1.0   0.0        NaN  \n",
       "51      0.0     0.0    NaN   NaN   NaN        NaN  \n",
       "...     ...     ...    ...   ...   ...        ...  \n",
       "5608    0.0     0.0    NaN   7.0   0.0  34.226190  \n",
       "5635    0.0     0.0    NaN   6.0   0.0  33.459246  \n",
       "5637    0.0     0.0    NaN   7.0   0.0  31.244399  \n",
       "5784    0.0     0.0    NaN   0.0   0.0        NaN  \n",
       "5804    0.0     0.0    NaN   0.0   0.0        NaN  \n",
       "\n",
       "[308 rows x 13 columns]"
      ]
     },
     "execution_count": 28,
     "metadata": {},
     "output_type": "execute_result"
    }
   ],
   "source": [
    "df_hmeq[df_hmeq['CLAGE'].isna()]"
   ]
  },
  {
   "cell_type": "markdown",
   "id": "f3e425dd",
   "metadata": {
    "papermill": {
     "duration": 0.020893,
     "end_time": "2022-10-18T03:37:35.927091",
     "exception": false,
     "start_time": "2022-10-18T03:37:35.906198",
     "status": "completed"
    },
    "tags": []
   },
   "source": [
    "- A trade line is an important record-keeping mechanism that tracks the activity of borrowers on their credit reports.\n",
    "- CLAGE is Age of oldest trade line in months\n",
    "- It means the oldest transaction that the borrower made where he was given some credit.\n",
    "- If it is missing it might be as many of the credit lines are till 7-10 years so for some case it may be quite old.\n",
    "- It makes no sense if we impute with mean/mode as it will be unwise to impute someone's past credit line with mean.\n",
    "- It is better to replace the missing values with 0 for CLAGE so as to avoid any impact on the data."
   ]
  },
  {
   "cell_type": "code",
   "execution_count": 29,
   "id": "655ccae2",
   "metadata": {
    "execution": {
     "iopub.execute_input": "2022-10-18T03:37:35.970604Z",
     "iopub.status.busy": "2022-10-18T03:37:35.969749Z",
     "iopub.status.idle": "2022-10-18T03:37:35.974421Z",
     "shell.execute_reply": "2022-10-18T03:37:35.973837Z"
    },
    "papermill": {
     "duration": 0.028134,
     "end_time": "2022-10-18T03:37:35.976070",
     "exception": false,
     "start_time": "2022-10-18T03:37:35.947936",
     "status": "completed"
    },
    "tags": []
   },
   "outputs": [],
   "source": [
    "df_hmeq['CLAGE'].fillna(0,inplace=True)"
   ]
  },
  {
   "cell_type": "code",
   "execution_count": 30,
   "id": "f6248127",
   "metadata": {
    "execution": {
     "iopub.execute_input": "2022-10-18T03:37:36.019369Z",
     "iopub.status.busy": "2022-10-18T03:37:36.019046Z",
     "iopub.status.idle": "2022-10-18T03:37:36.027072Z",
     "shell.execute_reply": "2022-10-18T03:37:36.026186Z"
    },
    "papermill": {
     "duration": 0.031993,
     "end_time": "2022-10-18T03:37:36.028792",
     "exception": false,
     "start_time": "2022-10-18T03:37:35.996799",
     "status": "completed"
    },
    "tags": []
   },
   "outputs": [
    {
     "data": {
      "text/plain": [
       "0.0     2531\n",
       "1.0     1339\n",
       "2.0      780\n",
       "3.0      392\n",
       "4.0      156\n",
       "5.0       75\n",
       "6.0       56\n",
       "7.0       44\n",
       "10.0      28\n",
       "8.0       22\n",
       "9.0       11\n",
       "11.0      10\n",
       "12.0       2\n",
       "13.0       2\n",
       "14.0       1\n",
       "17.0       1\n",
       "Name: NINQ, dtype: int64"
      ]
     },
     "execution_count": 30,
     "metadata": {},
     "output_type": "execute_result"
    }
   ],
   "source": [
    "# NINQ missing values\n",
    "df_hmeq['NINQ'].value_counts()"
   ]
  },
  {
   "cell_type": "markdown",
   "id": "fc439c41",
   "metadata": {
    "papermill": {
     "duration": 0.021247,
     "end_time": "2022-10-18T03:37:36.071110",
     "exception": false,
     "start_time": "2022-10-18T03:37:36.049863",
     "status": "completed"
    },
    "tags": []
   },
   "source": [
    "- A missing value for NINQ can be imputed with 0.Imputing with 0 is a safe option as it would not impact the data as such."
   ]
  },
  {
   "cell_type": "code",
   "execution_count": 31,
   "id": "0db25100",
   "metadata": {
    "execution": {
     "iopub.execute_input": "2022-10-18T03:37:36.115631Z",
     "iopub.status.busy": "2022-10-18T03:37:36.115314Z",
     "iopub.status.idle": "2022-10-18T03:37:36.120309Z",
     "shell.execute_reply": "2022-10-18T03:37:36.119320Z"
    },
    "papermill": {
     "duration": 0.029381,
     "end_time": "2022-10-18T03:37:36.122110",
     "exception": false,
     "start_time": "2022-10-18T03:37:36.092729",
     "status": "completed"
    },
    "tags": []
   },
   "outputs": [],
   "source": [
    "df_hmeq['NINQ'].fillna(0,inplace=True)"
   ]
  },
  {
   "cell_type": "code",
   "execution_count": 32,
   "id": "b8086d3c",
   "metadata": {
    "execution": {
     "iopub.execute_input": "2022-10-18T03:37:36.167536Z",
     "iopub.status.busy": "2022-10-18T03:37:36.166557Z",
     "iopub.status.idle": "2022-10-18T03:37:36.174847Z",
     "shell.execute_reply": "2022-10-18T03:37:36.174000Z"
    },
    "papermill": {
     "duration": 0.032938,
     "end_time": "2022-10-18T03:37:36.176691",
     "exception": false,
     "start_time": "2022-10-18T03:37:36.143753",
     "status": "completed"
    },
    "tags": []
   },
   "outputs": [
    {
     "data": {
      "text/plain": [
       "16.0    316\n",
       "19.0    307\n",
       "24.0    264\n",
       "23.0    259\n",
       "21.0    235\n",
       "       ... \n",
       "58.0      3\n",
       "71.0      2\n",
       "53.0      2\n",
       "57.0      1\n",
       "63.0      1\n",
       "Name: CLNO, Length: 62, dtype: int64"
      ]
     },
     "execution_count": 32,
     "metadata": {},
     "output_type": "execute_result"
    }
   ],
   "source": [
    "#CLNO missing values\n",
    "df_hmeq['CLNO'].value_counts()"
   ]
  },
  {
   "cell_type": "code",
   "execution_count": 33,
   "id": "8258c767",
   "metadata": {
    "execution": {
     "iopub.execute_input": "2022-10-18T03:37:36.223525Z",
     "iopub.status.busy": "2022-10-18T03:37:36.222328Z",
     "iopub.status.idle": "2022-10-18T03:37:36.232911Z",
     "shell.execute_reply": "2022-10-18T03:37:36.231991Z"
    },
    "papermill": {
     "duration": 0.03631,
     "end_time": "2022-10-18T03:37:36.234732",
     "exception": false,
     "start_time": "2022-10-18T03:37:36.198422",
     "status": "completed"
    },
    "tags": []
   },
   "outputs": [
    {
     "data": {
      "text/plain": [
       "count    5738.000000\n",
       "mean       21.296096\n",
       "std        10.138933\n",
       "min         0.000000\n",
       "25%        15.000000\n",
       "50%        20.000000\n",
       "75%        26.000000\n",
       "max        71.000000\n",
       "Name: CLNO, dtype: float64"
      ]
     },
     "execution_count": 33,
     "metadata": {},
     "output_type": "execute_result"
    }
   ],
   "source": [
    "df_hmeq['CLNO'].describe()"
   ]
  },
  {
   "cell_type": "markdown",
   "id": "4af95977",
   "metadata": {
    "papermill": {
     "duration": 0.02062,
     "end_time": "2022-10-18T03:37:36.276967",
     "exception": false,
     "start_time": "2022-10-18T03:37:36.256347",
     "status": "completed"
    },
    "tags": []
   },
   "source": [
    "- A missing value for CLNO can be imputed with 0.Imputing with 0 is a safe option as it would not impact the data as such."
   ]
  },
  {
   "cell_type": "code",
   "execution_count": 34,
   "id": "0421b82c",
   "metadata": {
    "execution": {
     "iopub.execute_input": "2022-10-18T03:37:36.320339Z",
     "iopub.status.busy": "2022-10-18T03:37:36.319797Z",
     "iopub.status.idle": "2022-10-18T03:37:36.324350Z",
     "shell.execute_reply": "2022-10-18T03:37:36.323489Z"
    },
    "papermill": {
     "duration": 0.028436,
     "end_time": "2022-10-18T03:37:36.326223",
     "exception": false,
     "start_time": "2022-10-18T03:37:36.297787",
     "status": "completed"
    },
    "tags": []
   },
   "outputs": [],
   "source": [
    "df_hmeq['CLNO'].fillna(0,inplace=True)"
   ]
  },
  {
   "cell_type": "code",
   "execution_count": 35,
   "id": "980efc37",
   "metadata": {
    "execution": {
     "iopub.execute_input": "2022-10-18T03:37:36.369058Z",
     "iopub.status.busy": "2022-10-18T03:37:36.368753Z",
     "iopub.status.idle": "2022-10-18T03:37:36.377050Z",
     "shell.execute_reply": "2022-10-18T03:37:36.376180Z"
    },
    "papermill": {
     "duration": 0.031758,
     "end_time": "2022-10-18T03:37:36.378925",
     "exception": false,
     "start_time": "2022-10-18T03:37:36.347167",
     "status": "completed"
    },
    "tags": []
   },
   "outputs": [
    {
     "data": {
      "text/plain": [
       "37.113614    1\n",
       "44.382578    1\n",
       "31.614680    1\n",
       "41.576701    1\n",
       "41.395462    1\n",
       "            ..\n",
       "31.613930    1\n",
       "39.244669    1\n",
       "40.943866    1\n",
       "30.444839    1\n",
       "34.571519    1\n",
       "Name: DEBTINC, Length: 4693, dtype: int64"
      ]
     },
     "execution_count": 35,
     "metadata": {},
     "output_type": "execute_result"
    }
   ],
   "source": [
    "#CLNO missing values\n",
    "df_hmeq['DEBTINC'].value_counts()"
   ]
  },
  {
   "cell_type": "code",
   "execution_count": 36,
   "id": "e1fe8682",
   "metadata": {
    "execution": {
     "iopub.execute_input": "2022-10-18T03:37:36.424201Z",
     "iopub.status.busy": "2022-10-18T03:37:36.423108Z",
     "iopub.status.idle": "2022-10-18T03:37:36.432561Z",
     "shell.execute_reply": "2022-10-18T03:37:36.431966Z"
    },
    "papermill": {
     "duration": 0.033304,
     "end_time": "2022-10-18T03:37:36.434076",
     "exception": false,
     "start_time": "2022-10-18T03:37:36.400772",
     "status": "completed"
    },
    "tags": []
   },
   "outputs": [
    {
     "data": {
      "text/plain": [
       "count    4693.000000\n",
       "mean       33.779915\n",
       "std         8.601746\n",
       "min         0.524499\n",
       "25%        29.140031\n",
       "50%        34.818262\n",
       "75%        39.003141\n",
       "max       203.312149\n",
       "Name: DEBTINC, dtype: float64"
      ]
     },
     "execution_count": 36,
     "metadata": {},
     "output_type": "execute_result"
    }
   ],
   "source": [
    "df_hmeq['DEBTINC'].describe()"
   ]
  },
  {
   "cell_type": "code",
   "execution_count": 37,
   "id": "c2eb68fd",
   "metadata": {
    "execution": {
     "iopub.execute_input": "2022-10-18T03:37:36.478165Z",
     "iopub.status.busy": "2022-10-18T03:37:36.477826Z",
     "iopub.status.idle": "2022-10-18T03:37:36.499075Z",
     "shell.execute_reply": "2022-10-18T03:37:36.498250Z"
    },
    "papermill": {
     "duration": 0.045357,
     "end_time": "2022-10-18T03:37:36.500840",
     "exception": false,
     "start_time": "2022-10-18T03:37:36.455483",
     "status": "completed"
    },
    "tags": []
   },
   "outputs": [
    {
     "data": {
      "text/html": [
       "<div>\n",
       "<style scoped>\n",
       "    .dataframe tbody tr th:only-of-type {\n",
       "        vertical-align: middle;\n",
       "    }\n",
       "\n",
       "    .dataframe tbody tr th {\n",
       "        vertical-align: top;\n",
       "    }\n",
       "\n",
       "    .dataframe thead th {\n",
       "        text-align: right;\n",
       "    }\n",
       "</style>\n",
       "<table border=\"1\" class=\"dataframe\">\n",
       "  <thead>\n",
       "    <tr style=\"text-align: right;\">\n",
       "      <th></th>\n",
       "      <th>BAD</th>\n",
       "      <th>LOAN</th>\n",
       "      <th>MORTDUE</th>\n",
       "      <th>VALUE</th>\n",
       "      <th>REASON</th>\n",
       "      <th>JOB</th>\n",
       "      <th>YOJ</th>\n",
       "      <th>DEROG</th>\n",
       "      <th>DELINQ</th>\n",
       "      <th>CLAGE</th>\n",
       "      <th>NINQ</th>\n",
       "      <th>CLNO</th>\n",
       "      <th>DEBTINC</th>\n",
       "    </tr>\n",
       "  </thead>\n",
       "  <tbody>\n",
       "    <tr>\n",
       "      <th>0</th>\n",
       "      <td>1</td>\n",
       "      <td>1100</td>\n",
       "      <td>25860.0</td>\n",
       "      <td>39025.000000</td>\n",
       "      <td>HomeImp</td>\n",
       "      <td>Other</td>\n",
       "      <td>10.500000</td>\n",
       "      <td>0.0</td>\n",
       "      <td>0.0</td>\n",
       "      <td>94.366667</td>\n",
       "      <td>1.0</td>\n",
       "      <td>9.0</td>\n",
       "      <td>NaN</td>\n",
       "    </tr>\n",
       "    <tr>\n",
       "      <th>1</th>\n",
       "      <td>1</td>\n",
       "      <td>1300</td>\n",
       "      <td>70053.0</td>\n",
       "      <td>68400.000000</td>\n",
       "      <td>HomeImp</td>\n",
       "      <td>Other</td>\n",
       "      <td>7.000000</td>\n",
       "      <td>0.0</td>\n",
       "      <td>2.0</td>\n",
       "      <td>121.833333</td>\n",
       "      <td>0.0</td>\n",
       "      <td>14.0</td>\n",
       "      <td>NaN</td>\n",
       "    </tr>\n",
       "    <tr>\n",
       "      <th>2</th>\n",
       "      <td>1</td>\n",
       "      <td>1500</td>\n",
       "      <td>13500.0</td>\n",
       "      <td>16700.000000</td>\n",
       "      <td>HomeImp</td>\n",
       "      <td>Other</td>\n",
       "      <td>4.000000</td>\n",
       "      <td>0.0</td>\n",
       "      <td>0.0</td>\n",
       "      <td>149.466667</td>\n",
       "      <td>1.0</td>\n",
       "      <td>10.0</td>\n",
       "      <td>NaN</td>\n",
       "    </tr>\n",
       "    <tr>\n",
       "      <th>3</th>\n",
       "      <td>1</td>\n",
       "      <td>1500</td>\n",
       "      <td>0.0</td>\n",
       "      <td>101776.048741</td>\n",
       "      <td>OtherReason</td>\n",
       "      <td>Other</td>\n",
       "      <td>8.922268</td>\n",
       "      <td>0.0</td>\n",
       "      <td>0.0</td>\n",
       "      <td>0.000000</td>\n",
       "      <td>0.0</td>\n",
       "      <td>0.0</td>\n",
       "      <td>NaN</td>\n",
       "    </tr>\n",
       "    <tr>\n",
       "      <th>4</th>\n",
       "      <td>0</td>\n",
       "      <td>1700</td>\n",
       "      <td>97800.0</td>\n",
       "      <td>112000.000000</td>\n",
       "      <td>HomeImp</td>\n",
       "      <td>Office</td>\n",
       "      <td>3.000000</td>\n",
       "      <td>0.0</td>\n",
       "      <td>0.0</td>\n",
       "      <td>93.333333</td>\n",
       "      <td>0.0</td>\n",
       "      <td>14.0</td>\n",
       "      <td>NaN</td>\n",
       "    </tr>\n",
       "    <tr>\n",
       "      <th>...</th>\n",
       "      <td>...</td>\n",
       "      <td>...</td>\n",
       "      <td>...</td>\n",
       "      <td>...</td>\n",
       "      <td>...</td>\n",
       "      <td>...</td>\n",
       "      <td>...</td>\n",
       "      <td>...</td>\n",
       "      <td>...</td>\n",
       "      <td>...</td>\n",
       "      <td>...</td>\n",
       "      <td>...</td>\n",
       "      <td>...</td>\n",
       "    </tr>\n",
       "    <tr>\n",
       "      <th>5930</th>\n",
       "      <td>1</td>\n",
       "      <td>72300</td>\n",
       "      <td>0.0</td>\n",
       "      <td>85000.000000</td>\n",
       "      <td>DebtCon</td>\n",
       "      <td>Other</td>\n",
       "      <td>1.000000</td>\n",
       "      <td>0.0</td>\n",
       "      <td>0.0</td>\n",
       "      <td>117.166667</td>\n",
       "      <td>9.0</td>\n",
       "      <td>23.0</td>\n",
       "      <td>NaN</td>\n",
       "    </tr>\n",
       "    <tr>\n",
       "      <th>5932</th>\n",
       "      <td>1</td>\n",
       "      <td>76500</td>\n",
       "      <td>38206.0</td>\n",
       "      <td>90000.000000</td>\n",
       "      <td>DebtCon</td>\n",
       "      <td>Other</td>\n",
       "      <td>12.000000</td>\n",
       "      <td>0.0</td>\n",
       "      <td>0.0</td>\n",
       "      <td>134.900000</td>\n",
       "      <td>0.0</td>\n",
       "      <td>26.0</td>\n",
       "      <td>NaN</td>\n",
       "    </tr>\n",
       "    <tr>\n",
       "      <th>5933</th>\n",
       "      <td>1</td>\n",
       "      <td>77200</td>\n",
       "      <td>83962.0</td>\n",
       "      <td>215000.000000</td>\n",
       "      <td>HomeImp</td>\n",
       "      <td>Self</td>\n",
       "      <td>8.000000</td>\n",
       "      <td>1.0</td>\n",
       "      <td>2.0</td>\n",
       "      <td>71.533132</td>\n",
       "      <td>3.0</td>\n",
       "      <td>14.0</td>\n",
       "      <td>NaN</td>\n",
       "    </tr>\n",
       "    <tr>\n",
       "      <th>5935</th>\n",
       "      <td>0</td>\n",
       "      <td>78400</td>\n",
       "      <td>13900.0</td>\n",
       "      <td>102910.000000</td>\n",
       "      <td>HomeImp</td>\n",
       "      <td>Other</td>\n",
       "      <td>27.000000</td>\n",
       "      <td>0.0</td>\n",
       "      <td>1.0</td>\n",
       "      <td>138.000000</td>\n",
       "      <td>0.0</td>\n",
       "      <td>14.0</td>\n",
       "      <td>NaN</td>\n",
       "    </tr>\n",
       "    <tr>\n",
       "      <th>5948</th>\n",
       "      <td>0</td>\n",
       "      <td>86000</td>\n",
       "      <td>47355.0</td>\n",
       "      <td>85000.000000</td>\n",
       "      <td>DebtCon</td>\n",
       "      <td>Other</td>\n",
       "      <td>15.000000</td>\n",
       "      <td>0.0</td>\n",
       "      <td>0.0</td>\n",
       "      <td>210.966667</td>\n",
       "      <td>0.0</td>\n",
       "      <td>16.0</td>\n",
       "      <td>NaN</td>\n",
       "    </tr>\n",
       "  </tbody>\n",
       "</table>\n",
       "<p>1267 rows × 13 columns</p>\n",
       "</div>"
      ],
      "text/plain": [
       "      BAD   LOAN  MORTDUE          VALUE       REASON     JOB        YOJ  \\\n",
       "0       1   1100  25860.0   39025.000000      HomeImp   Other  10.500000   \n",
       "1       1   1300  70053.0   68400.000000      HomeImp   Other   7.000000   \n",
       "2       1   1500  13500.0   16700.000000      HomeImp   Other   4.000000   \n",
       "3       1   1500      0.0  101776.048741  OtherReason   Other   8.922268   \n",
       "4       0   1700  97800.0  112000.000000      HomeImp  Office   3.000000   \n",
       "...   ...    ...      ...            ...          ...     ...        ...   \n",
       "5930    1  72300      0.0   85000.000000      DebtCon   Other   1.000000   \n",
       "5932    1  76500  38206.0   90000.000000      DebtCon   Other  12.000000   \n",
       "5933    1  77200  83962.0  215000.000000      HomeImp    Self   8.000000   \n",
       "5935    0  78400  13900.0  102910.000000      HomeImp   Other  27.000000   \n",
       "5948    0  86000  47355.0   85000.000000      DebtCon   Other  15.000000   \n",
       "\n",
       "      DEROG  DELINQ       CLAGE  NINQ  CLNO  DEBTINC  \n",
       "0       0.0     0.0   94.366667   1.0   9.0      NaN  \n",
       "1       0.0     2.0  121.833333   0.0  14.0      NaN  \n",
       "2       0.0     0.0  149.466667   1.0  10.0      NaN  \n",
       "3       0.0     0.0    0.000000   0.0   0.0      NaN  \n",
       "4       0.0     0.0   93.333333   0.0  14.0      NaN  \n",
       "...     ...     ...         ...   ...   ...      ...  \n",
       "5930    0.0     0.0  117.166667   9.0  23.0      NaN  \n",
       "5932    0.0     0.0  134.900000   0.0  26.0      NaN  \n",
       "5933    1.0     2.0   71.533132   3.0  14.0      NaN  \n",
       "5935    0.0     1.0  138.000000   0.0  14.0      NaN  \n",
       "5948    0.0     0.0  210.966667   0.0  16.0      NaN  \n",
       "\n",
       "[1267 rows x 13 columns]"
      ]
     },
     "execution_count": 37,
     "metadata": {},
     "output_type": "execute_result"
    }
   ],
   "source": [
    "df_hmeq[df_hmeq['DEBTINC'].isna()]"
   ]
  },
  {
   "cell_type": "code",
   "execution_count": 38,
   "id": "aae4be0f",
   "metadata": {
    "execution": {
     "iopub.execute_input": "2022-10-18T03:37:36.545400Z",
     "iopub.status.busy": "2022-10-18T03:37:36.544814Z",
     "iopub.status.idle": "2022-10-18T03:37:36.551107Z",
     "shell.execute_reply": "2022-10-18T03:37:36.550419Z"
    },
    "papermill": {
     "duration": 0.030333,
     "end_time": "2022-10-18T03:37:36.552769",
     "exception": false,
     "start_time": "2022-10-18T03:37:36.522436",
     "status": "completed"
    },
    "tags": []
   },
   "outputs": [
    {
     "data": {
      "text/plain": [
       "21.258389261744966"
      ]
     },
     "execution_count": 38,
     "metadata": {},
     "output_type": "execute_result"
    }
   ],
   "source": [
    "df_hmeq['DEBTINC'].isnull().sum()/df_hmeq.shape[0]*100"
   ]
  },
  {
   "cell_type": "markdown",
   "id": "86deba04",
   "metadata": {
    "papermill": {
     "duration": 0.021334,
     "end_time": "2022-10-18T03:37:36.596095",
     "exception": false,
     "start_time": "2022-10-18T03:37:36.574761",
     "status": "completed"
    },
    "tags": []
   },
   "source": [
    "- We cannot impute DEBTINC missing values with 0 as 0 would signify debt is 0 but is not the case on looking from above data.\n",
    "- 21% of values are missing which is very high percentage so the option to drop them is also not advisiable.\n",
    "- Mean would be the ideal imputation\n"
   ]
  },
  {
   "cell_type": "code",
   "execution_count": 39,
   "id": "9d76bf41",
   "metadata": {
    "execution": {
     "iopub.execute_input": "2022-10-18T03:37:36.641359Z",
     "iopub.status.busy": "2022-10-18T03:37:36.640767Z",
     "iopub.status.idle": "2022-10-18T03:37:36.645504Z",
     "shell.execute_reply": "2022-10-18T03:37:36.644919Z"
    },
    "papermill": {
     "duration": 0.029103,
     "end_time": "2022-10-18T03:37:36.647177",
     "exception": false,
     "start_time": "2022-10-18T03:37:36.618074",
     "status": "completed"
    },
    "tags": []
   },
   "outputs": [],
   "source": [
    "df_hmeq['DEBTINC'].fillna(df_hmeq['DEBTINC'].mean(),inplace=True)"
   ]
  },
  {
   "cell_type": "code",
   "execution_count": 40,
   "id": "83051d4b",
   "metadata": {
    "execution": {
     "iopub.execute_input": "2022-10-18T03:37:36.693412Z",
     "iopub.status.busy": "2022-10-18T03:37:36.692526Z",
     "iopub.status.idle": "2022-10-18T03:37:36.700746Z",
     "shell.execute_reply": "2022-10-18T03:37:36.699943Z"
    },
    "papermill": {
     "duration": 0.033093,
     "end_time": "2022-10-18T03:37:36.702424",
     "exception": false,
     "start_time": "2022-10-18T03:37:36.669331",
     "status": "completed"
    },
    "tags": []
   },
   "outputs": [
    {
     "data": {
      "text/plain": [
       "BAD        0\n",
       "LOAN       0\n",
       "MORTDUE    0\n",
       "VALUE      0\n",
       "REASON     0\n",
       "JOB        0\n",
       "YOJ        0\n",
       "DEROG      0\n",
       "DELINQ     0\n",
       "CLAGE      0\n",
       "NINQ       0\n",
       "CLNO       0\n",
       "DEBTINC    0\n",
       "dtype: int64"
      ]
     },
     "execution_count": 40,
     "metadata": {},
     "output_type": "execute_result"
    }
   ],
   "source": [
    "df_hmeq.isnull().sum()"
   ]
  },
  {
   "cell_type": "markdown",
   "id": "74de5a7b",
   "metadata": {
    "papermill": {
     "duration": 0.021201,
     "end_time": "2022-10-18T03:37:36.745623",
     "exception": false,
     "start_time": "2022-10-18T03:37:36.724422",
     "status": "completed"
    },
    "tags": []
   },
   "source": [
    "- All missing values have been handled"
   ]
  },
  {
   "cell_type": "markdown",
   "id": "c982bb53",
   "metadata": {
    "papermill": {
     "duration": 0.021392,
     "end_time": "2022-10-18T03:37:36.788568",
     "exception": false,
     "start_time": "2022-10-18T03:37:36.767176",
     "status": "completed"
    },
    "tags": []
   },
   "source": [
    "##### "
   ]
  },
  {
   "cell_type": "code",
   "execution_count": 41,
   "id": "39b9e689",
   "metadata": {
    "execution": {
     "iopub.execute_input": "2022-10-18T03:37:36.834028Z",
     "iopub.status.busy": "2022-10-18T03:37:36.833255Z",
     "iopub.status.idle": "2022-10-18T03:37:36.843560Z",
     "shell.execute_reply": "2022-10-18T03:37:36.842594Z"
    },
    "papermill": {
     "duration": 0.034874,
     "end_time": "2022-10-18T03:37:36.845031",
     "exception": false,
     "start_time": "2022-10-18T03:37:36.810157",
     "status": "completed"
    },
    "tags": []
   },
   "outputs": [
    {
     "name": "stdout",
     "output_type": "stream",
     "text": [
      "<class 'pandas.core.frame.DataFrame'>\n",
      "RangeIndex: 5960 entries, 0 to 5959\n",
      "Data columns (total 13 columns):\n",
      " #   Column   Non-Null Count  Dtype  \n",
      "---  ------   --------------  -----  \n",
      " 0   BAD      5960 non-null   int64  \n",
      " 1   LOAN     5960 non-null   int64  \n",
      " 2   MORTDUE  5960 non-null   float64\n",
      " 3   VALUE    5960 non-null   float64\n",
      " 4   REASON   5960 non-null   object \n",
      " 5   JOB      5960 non-null   object \n",
      " 6   YOJ      5960 non-null   float64\n",
      " 7   DEROG    5960 non-null   float64\n",
      " 8   DELINQ   5960 non-null   float64\n",
      " 9   CLAGE    5960 non-null   float64\n",
      " 10  NINQ     5960 non-null   float64\n",
      " 11  CLNO     5960 non-null   float64\n",
      " 12  DEBTINC  5960 non-null   float64\n",
      "dtypes: float64(9), int64(2), object(2)\n",
      "memory usage: 605.4+ KB\n"
     ]
    }
   ],
   "source": [
    "df_hmeq.info()"
   ]
  },
  {
   "cell_type": "markdown",
   "id": "dbe807ed",
   "metadata": {
    "papermill": {
     "duration": 0.021435,
     "end_time": "2022-10-18T03:37:36.888262",
     "exception": false,
     "start_time": "2022-10-18T03:37:36.866827",
     "status": "completed"
    },
    "tags": []
   },
   "source": [
    "### Data Transformation"
   ]
  },
  {
   "cell_type": "markdown",
   "id": "0ea4e9f4",
   "metadata": {
    "papermill": {
     "duration": 0.021147,
     "end_time": "2022-10-18T03:37:36.932158",
     "exception": false,
     "start_time": "2022-10-18T03:37:36.911011",
     "status": "completed"
    },
    "tags": []
   },
   "source": [
    "#### Label Encoding the categorical variables so as to use in the ML model"
   ]
  },
  {
   "cell_type": "code",
   "execution_count": 42,
   "id": "7c8eb220",
   "metadata": {
    "execution": {
     "iopub.execute_input": "2022-10-18T03:37:36.976603Z",
     "iopub.status.busy": "2022-10-18T03:37:36.976085Z",
     "iopub.status.idle": "2022-10-18T03:37:36.979457Z",
     "shell.execute_reply": "2022-10-18T03:37:36.978878Z"
    },
    "papermill": {
     "duration": 0.027359,
     "end_time": "2022-10-18T03:37:36.980944",
     "exception": false,
     "start_time": "2022-10-18T03:37:36.953585",
     "status": "completed"
    },
    "tags": []
   },
   "outputs": [],
   "source": [
    "from sklearn import preprocessing\n",
    "le = preprocessing.LabelEncoder()"
   ]
  },
  {
   "cell_type": "code",
   "execution_count": 43,
   "id": "4ebf4f27",
   "metadata": {
    "execution": {
     "iopub.execute_input": "2022-10-18T03:37:37.025588Z",
     "iopub.status.busy": "2022-10-18T03:37:37.025015Z",
     "iopub.status.idle": "2022-10-18T03:37:37.029926Z",
     "shell.execute_reply": "2022-10-18T03:37:37.029312Z"
    },
    "papermill": {
     "duration": 0.029465,
     "end_time": "2022-10-18T03:37:37.031895",
     "exception": false,
     "start_time": "2022-10-18T03:37:37.002430",
     "status": "completed"
    },
    "tags": []
   },
   "outputs": [],
   "source": [
    "df_categorical = df_hmeq.select_dtypes(include=['object'])"
   ]
  },
  {
   "cell_type": "code",
   "execution_count": 44,
   "id": "4f9d8bc7",
   "metadata": {
    "execution": {
     "iopub.execute_input": "2022-10-18T03:37:37.077966Z",
     "iopub.status.busy": "2022-10-18T03:37:37.077623Z",
     "iopub.status.idle": "2022-10-18T03:37:37.085541Z",
     "shell.execute_reply": "2022-10-18T03:37:37.084901Z"
    },
    "papermill": {
     "duration": 0.032378,
     "end_time": "2022-10-18T03:37:37.087085",
     "exception": false,
     "start_time": "2022-10-18T03:37:37.054707",
     "status": "completed"
    },
    "tags": []
   },
   "outputs": [
    {
     "data": {
      "text/html": [
       "<div>\n",
       "<style scoped>\n",
       "    .dataframe tbody tr th:only-of-type {\n",
       "        vertical-align: middle;\n",
       "    }\n",
       "\n",
       "    .dataframe tbody tr th {\n",
       "        vertical-align: top;\n",
       "    }\n",
       "\n",
       "    .dataframe thead th {\n",
       "        text-align: right;\n",
       "    }\n",
       "</style>\n",
       "<table border=\"1\" class=\"dataframe\">\n",
       "  <thead>\n",
       "    <tr style=\"text-align: right;\">\n",
       "      <th></th>\n",
       "      <th>REASON</th>\n",
       "      <th>JOB</th>\n",
       "    </tr>\n",
       "  </thead>\n",
       "  <tbody>\n",
       "    <tr>\n",
       "      <th>0</th>\n",
       "      <td>HomeImp</td>\n",
       "      <td>Other</td>\n",
       "    </tr>\n",
       "    <tr>\n",
       "      <th>1</th>\n",
       "      <td>HomeImp</td>\n",
       "      <td>Other</td>\n",
       "    </tr>\n",
       "    <tr>\n",
       "      <th>2</th>\n",
       "      <td>HomeImp</td>\n",
       "      <td>Other</td>\n",
       "    </tr>\n",
       "    <tr>\n",
       "      <th>3</th>\n",
       "      <td>OtherReason</td>\n",
       "      <td>Other</td>\n",
       "    </tr>\n",
       "    <tr>\n",
       "      <th>4</th>\n",
       "      <td>HomeImp</td>\n",
       "      <td>Office</td>\n",
       "    </tr>\n",
       "  </tbody>\n",
       "</table>\n",
       "</div>"
      ],
      "text/plain": [
       "        REASON     JOB\n",
       "0      HomeImp   Other\n",
       "1      HomeImp   Other\n",
       "2      HomeImp   Other\n",
       "3  OtherReason   Other\n",
       "4      HomeImp  Office"
      ]
     },
     "execution_count": 44,
     "metadata": {},
     "output_type": "execute_result"
    }
   ],
   "source": [
    "df_categorical.head()"
   ]
  },
  {
   "cell_type": "code",
   "execution_count": 45,
   "id": "e715b448",
   "metadata": {
    "execution": {
     "iopub.execute_input": "2022-10-18T03:37:37.132933Z",
     "iopub.status.busy": "2022-10-18T03:37:37.131763Z",
     "iopub.status.idle": "2022-10-18T03:37:37.139108Z",
     "shell.execute_reply": "2022-10-18T03:37:37.138333Z"
    },
    "papermill": {
     "duration": 0.031566,
     "end_time": "2022-10-18T03:37:37.140718",
     "exception": false,
     "start_time": "2022-10-18T03:37:37.109152",
     "status": "completed"
    },
    "tags": []
   },
   "outputs": [
    {
     "data": {
      "text/plain": [
       "Other      2667\n",
       "ProfExe    1276\n",
       "Office      948\n",
       "Mgr         767\n",
       "Self        193\n",
       "Sales       109\n",
       "Name: JOB, dtype: int64"
      ]
     },
     "execution_count": 45,
     "metadata": {},
     "output_type": "execute_result"
    }
   ],
   "source": [
    "df_categorical['JOB'].value_counts()"
   ]
  },
  {
   "cell_type": "code",
   "execution_count": 46,
   "id": "920654ff",
   "metadata": {
    "execution": {
     "iopub.execute_input": "2022-10-18T03:37:37.186053Z",
     "iopub.status.busy": "2022-10-18T03:37:37.185722Z",
     "iopub.status.idle": "2022-10-18T03:37:37.192223Z",
     "shell.execute_reply": "2022-10-18T03:37:37.191505Z"
    },
    "papermill": {
     "duration": 0.030929,
     "end_time": "2022-10-18T03:37:37.193724",
     "exception": false,
     "start_time": "2022-10-18T03:37:37.162795",
     "status": "completed"
    },
    "tags": []
   },
   "outputs": [
    {
     "data": {
      "text/plain": [
       "DebtCon        3928\n",
       "HomeImp        1780\n",
       "OtherReason     252\n",
       "Name: REASON, dtype: int64"
      ]
     },
     "execution_count": 46,
     "metadata": {},
     "output_type": "execute_result"
    }
   ],
   "source": [
    "df_categorical['REASON'].value_counts()"
   ]
  },
  {
   "cell_type": "code",
   "execution_count": 47,
   "id": "42697eb0",
   "metadata": {
    "execution": {
     "iopub.execute_input": "2022-10-18T03:37:37.240384Z",
     "iopub.status.busy": "2022-10-18T03:37:37.239548Z",
     "iopub.status.idle": "2022-10-18T03:37:37.246684Z",
     "shell.execute_reply": "2022-10-18T03:37:37.246095Z"
    },
    "papermill": {
     "duration": 0.032468,
     "end_time": "2022-10-18T03:37:37.248280",
     "exception": false,
     "start_time": "2022-10-18T03:37:37.215812",
     "status": "completed"
    },
    "tags": []
   },
   "outputs": [],
   "source": [
    "df_categorical = df_categorical.apply(le.fit_transform)"
   ]
  },
  {
   "cell_type": "code",
   "execution_count": 48,
   "id": "9cd28f49",
   "metadata": {
    "execution": {
     "iopub.execute_input": "2022-10-18T03:37:37.294491Z",
     "iopub.status.busy": "2022-10-18T03:37:37.293966Z",
     "iopub.status.idle": "2022-10-18T03:37:37.298843Z",
     "shell.execute_reply": "2022-10-18T03:37:37.297897Z"
    },
    "papermill": {
     "duration": 0.029825,
     "end_time": "2022-10-18T03:37:37.300446",
     "exception": false,
     "start_time": "2022-10-18T03:37:37.270621",
     "status": "completed"
    },
    "tags": []
   },
   "outputs": [
    {
     "name": "stdout",
     "output_type": "stream",
     "text": [
      "[0 1 2 3 4 5]\n"
     ]
    }
   ],
   "source": [
    "print(le.transform(le.classes_))"
   ]
  },
  {
   "cell_type": "code",
   "execution_count": 49,
   "id": "59d3a70f",
   "metadata": {
    "execution": {
     "iopub.execute_input": "2022-10-18T03:37:37.346065Z",
     "iopub.status.busy": "2022-10-18T03:37:37.345679Z",
     "iopub.status.idle": "2022-10-18T03:37:37.351988Z",
     "shell.execute_reply": "2022-10-18T03:37:37.351141Z"
    },
    "papermill": {
     "duration": 0.030898,
     "end_time": "2022-10-18T03:37:37.353601",
     "exception": false,
     "start_time": "2022-10-18T03:37:37.322703",
     "status": "completed"
    },
    "tags": []
   },
   "outputs": [
    {
     "data": {
      "text/plain": [
       "{'Mgr': 0, 'Office': 1, 'Other': 2, 'ProfExe': 3, 'Sales': 4, 'Self': 5}"
      ]
     },
     "execution_count": 49,
     "metadata": {},
     "output_type": "execute_result"
    }
   ],
   "source": [
    "le_name_mapping = dict(zip(le.classes_, le.transform(le.classes_)))\n",
    "le_name_mapping"
   ]
  },
  {
   "cell_type": "code",
   "execution_count": 50,
   "id": "c29fb059",
   "metadata": {
    "execution": {
     "iopub.execute_input": "2022-10-18T03:37:37.400182Z",
     "iopub.status.busy": "2022-10-18T03:37:37.399847Z",
     "iopub.status.idle": "2022-10-18T03:37:37.405038Z",
     "shell.execute_reply": "2022-10-18T03:37:37.404425Z"
    },
    "papermill": {
     "duration": 0.030148,
     "end_time": "2022-10-18T03:37:37.406559",
     "exception": false,
     "start_time": "2022-10-18T03:37:37.376411",
     "status": "completed"
    },
    "tags": []
   },
   "outputs": [
    {
     "data": {
      "text/plain": [
       "['REASON', 'JOB']"
      ]
     },
     "execution_count": 50,
     "metadata": {},
     "output_type": "execute_result"
    }
   ],
   "source": [
    "list(df_categorical.columns)"
   ]
  },
  {
   "cell_type": "code",
   "execution_count": 51,
   "id": "806082c1",
   "metadata": {
    "execution": {
     "iopub.execute_input": "2022-10-18T03:37:37.460170Z",
     "iopub.status.busy": "2022-10-18T03:37:37.459308Z",
     "iopub.status.idle": "2022-10-18T03:37:37.466582Z",
     "shell.execute_reply": "2022-10-18T03:37:37.465682Z"
    },
    "papermill": {
     "duration": 0.040004,
     "end_time": "2022-10-18T03:37:37.468887",
     "exception": false,
     "start_time": "2022-10-18T03:37:37.428883",
     "status": "completed"
    },
    "tags": []
   },
   "outputs": [],
   "source": [
    "df_hmeq.drop(list(df_categorical.columns),axis=1,inplace=True)"
   ]
  },
  {
   "cell_type": "code",
   "execution_count": 52,
   "id": "cc258d4d",
   "metadata": {
    "execution": {
     "iopub.execute_input": "2022-10-18T03:37:37.523501Z",
     "iopub.status.busy": "2022-10-18T03:37:37.523158Z",
     "iopub.status.idle": "2022-10-18T03:37:37.530401Z",
     "shell.execute_reply": "2022-10-18T03:37:37.529789Z"
    },
    "papermill": {
     "duration": 0.033358,
     "end_time": "2022-10-18T03:37:37.531885",
     "exception": false,
     "start_time": "2022-10-18T03:37:37.498527",
     "status": "completed"
    },
    "tags": []
   },
   "outputs": [
    {
     "data": {
      "text/plain": [
       "BAD        0\n",
       "LOAN       0\n",
       "MORTDUE    0\n",
       "VALUE      0\n",
       "YOJ        0\n",
       "DEROG      0\n",
       "DELINQ     0\n",
       "CLAGE      0\n",
       "NINQ       0\n",
       "CLNO       0\n",
       "DEBTINC    0\n",
       "dtype: int64"
      ]
     },
     "execution_count": 52,
     "metadata": {},
     "output_type": "execute_result"
    }
   ],
   "source": [
    "df_hmeq.isnull().sum()"
   ]
  },
  {
   "cell_type": "code",
   "execution_count": 53,
   "id": "1f08d7e1",
   "metadata": {
    "execution": {
     "iopub.execute_input": "2022-10-18T03:37:37.579995Z",
     "iopub.status.busy": "2022-10-18T03:37:37.579437Z",
     "iopub.status.idle": "2022-10-18T03:37:37.583709Z",
     "shell.execute_reply": "2022-10-18T03:37:37.583144Z"
    },
    "papermill": {
     "duration": 0.030514,
     "end_time": "2022-10-18T03:37:37.585339",
     "exception": false,
     "start_time": "2022-10-18T03:37:37.554825",
     "status": "completed"
    },
    "tags": []
   },
   "outputs": [],
   "source": [
    "df_hmeq = pd.concat([df_categorical,df_hmeq],axis=1)"
   ]
  },
  {
   "cell_type": "code",
   "execution_count": 54,
   "id": "d2863036",
   "metadata": {
    "execution": {
     "iopub.execute_input": "2022-10-18T03:37:37.632088Z",
     "iopub.status.busy": "2022-10-18T03:37:37.631738Z",
     "iopub.status.idle": "2022-10-18T03:37:37.636781Z",
     "shell.execute_reply": "2022-10-18T03:37:37.636219Z"
    },
    "papermill": {
     "duration": 0.029824,
     "end_time": "2022-10-18T03:37:37.638276",
     "exception": false,
     "start_time": "2022-10-18T03:37:37.608452",
     "status": "completed"
    },
    "tags": []
   },
   "outputs": [
    {
     "data": {
      "text/plain": [
       "(5960, 13)"
      ]
     },
     "execution_count": 54,
     "metadata": {},
     "output_type": "execute_result"
    }
   ],
   "source": [
    "df_hmeq.shape"
   ]
  },
  {
   "cell_type": "markdown",
   "id": "23537814",
   "metadata": {
    "papermill": {
     "duration": 0.021802,
     "end_time": "2022-10-18T03:37:37.682454",
     "exception": false,
     "start_time": "2022-10-18T03:37:37.660652",
     "status": "completed"
    },
    "tags": []
   },
   "source": [
    "### Basic EDA"
   ]
  },
  {
   "cell_type": "code",
   "execution_count": 55,
   "id": "52b9125e",
   "metadata": {
    "execution": {
     "iopub.execute_input": "2022-10-18T03:37:37.728330Z",
     "iopub.status.busy": "2022-10-18T03:37:37.727789Z",
     "iopub.status.idle": "2022-10-18T03:37:37.858113Z",
     "shell.execute_reply": "2022-10-18T03:37:37.857366Z"
    },
    "papermill": {
     "duration": 0.155516,
     "end_time": "2022-10-18T03:37:37.859900",
     "exception": false,
     "start_time": "2022-10-18T03:37:37.704384",
     "status": "completed"
    },
    "tags": []
   },
   "outputs": [
    {
     "data": {
      "image/png": "[encoded data removed]",
      "text/plain": [
       "<Figure size 432x288 with 1 Axes>"
      ]
     },
     "metadata": {
      "needs_background": "light"
     },
     "output_type": "display_data"
    }
   ],
   "source": [
    "sns.countplot(x='BAD',data=df_hmeq)\n",
    "plt.show()"
   ]
  },
  {
   "cell_type": "markdown",
   "id": "a6487717",
   "metadata": {
    "papermill": {
     "duration": 0.022096,
     "end_time": "2022-10-18T03:37:37.909156",
     "exception": false,
     "start_time": "2022-10-18T03:37:37.887060",
     "status": "completed"
    },
    "tags": []
   },
   "source": [
    "- Imbalance data set as people who repaid have higer precentage as compare to people who were unable to pay the loan.\n"
   ]
  },
  {
   "cell_type": "markdown",
   "id": "d737328e",
   "metadata": {
    "papermill": {
     "duration": 0.022219,
     "end_time": "2022-10-18T03:37:37.954090",
     "exception": false,
     "start_time": "2022-10-18T03:37:37.931871",
     "status": "completed"
    },
    "tags": []
   },
   "source": [
    "### EDA is remaining"
   ]
  },
  {
   "cell_type": "code",
   "execution_count": 56,
   "id": "9c3ad802",
   "metadata": {
    "execution": {
     "iopub.execute_input": "2022-10-18T03:37:38.000613Z",
     "iopub.status.busy": "2022-10-18T03:37:37.999834Z",
     "iopub.status.idle": "2022-10-18T03:37:38.005005Z",
     "shell.execute_reply": "2022-10-18T03:37:38.004347Z"
    },
    "papermill": {
     "duration": 0.030168,
     "end_time": "2022-10-18T03:37:38.006622",
     "exception": false,
     "start_time": "2022-10-18T03:37:37.976454",
     "status": "completed"
    },
    "tags": []
   },
   "outputs": [],
   "source": [
    "#BaseLine Accuracy\n",
    "X = df_hmeq.drop('BAD',axis=1)\n",
    "y = df_hmeq['BAD']"
   ]
  },
  {
   "cell_type": "code",
   "execution_count": 57,
   "id": "eacc4f9f",
   "metadata": {
    "execution": {
     "iopub.execute_input": "2022-10-18T03:37:38.053489Z",
     "iopub.status.busy": "2022-10-18T03:37:38.052975Z",
     "iopub.status.idle": "2022-10-18T03:37:38.061882Z",
     "shell.execute_reply": "2022-10-18T03:37:38.060839Z"
    },
    "papermill": {
     "duration": 0.034242,
     "end_time": "2022-10-18T03:37:38.063617",
     "exception": false,
     "start_time": "2022-10-18T03:37:38.029375",
     "status": "completed"
    },
    "tags": []
   },
   "outputs": [
    {
     "name": "stdout",
     "output_type": "stream",
     "text": [
      "(4172, 12)\n",
      "(4172,)\n",
      "(1788, 12)\n",
      "(1788,)\n"
     ]
    }
   ],
   "source": [
    "X_train,X_test,y_train,y_test = train_test_split(X,y,test_size=0.3,stratify=y,random_state=100)\n",
    "#Stratify will help in having the same proportion of y as in original data set for train and test\n",
    "print(X_train.shape)\n",
    "print(y_train.shape)\n",
    "print(X_test.shape)\n",
    "print(y_test.shape)"
   ]
  },
  {
   "cell_type": "code",
   "execution_count": 58,
   "id": "f0a0899c",
   "metadata": {
    "execution": {
     "iopub.execute_input": "2022-10-18T03:37:38.111030Z",
     "iopub.status.busy": "2022-10-18T03:37:38.110680Z",
     "iopub.status.idle": "2022-10-18T03:37:38.115834Z",
     "shell.execute_reply": "2022-10-18T03:37:38.115151Z"
    },
    "papermill": {
     "duration": 0.031105,
     "end_time": "2022-10-18T03:37:38.117572",
     "exception": false,
     "start_time": "2022-10-18T03:37:38.086467",
     "status": "completed"
    },
    "tags": []
   },
   "outputs": [],
   "source": [
    "from sklearn.dummy import DummyClassifier"
   ]
  },
  {
   "cell_type": "code",
   "execution_count": 59,
   "id": "ae3ea13d",
   "metadata": {
    "execution": {
     "iopub.execute_input": "2022-10-18T03:37:38.165868Z",
     "iopub.status.busy": "2022-10-18T03:37:38.164968Z",
     "iopub.status.idle": "2022-10-18T03:37:38.172416Z",
     "shell.execute_reply": "2022-10-18T03:37:38.171813Z"
    },
    "papermill": {
     "duration": 0.033302,
     "end_time": "2022-10-18T03:37:38.173982",
     "exception": false,
     "start_time": "2022-10-18T03:37:38.140680",
     "status": "completed"
    },
    "tags": []
   },
   "outputs": [
    {
     "data": {
      "text/plain": [
       "DummyClassifier(strategy='most_frequent')"
      ]
     },
     "execution_count": 59,
     "metadata": {},
     "output_type": "execute_result"
    }
   ],
   "source": [
    "dummy_clf = DummyClassifier(strategy ='most_frequent')\n",
    "dummy_clf.fit(X_train,y_train)"
   ]
  },
  {
   "cell_type": "code",
   "execution_count": 60,
   "id": "6c85e59c",
   "metadata": {
    "execution": {
     "iopub.execute_input": "2022-10-18T03:37:38.228343Z",
     "iopub.status.busy": "2022-10-18T03:37:38.227439Z",
     "iopub.status.idle": "2022-10-18T03:37:38.232787Z",
     "shell.execute_reply": "2022-10-18T03:37:38.231931Z"
    },
    "papermill": {
     "duration": 0.031628,
     "end_time": "2022-10-18T03:37:38.234841",
     "exception": false,
     "start_time": "2022-10-18T03:37:38.203213",
     "status": "completed"
    },
    "tags": []
   },
   "outputs": [
    {
     "name": "stdout",
     "output_type": "stream",
     "text": [
      "0.8003355704697986\n"
     ]
    }
   ],
   "source": [
    "baseline_accurracy = dummy_clf.score(X_test,y_test)\n",
    "print(baseline_accurracy)"
   ]
  },
  {
   "cell_type": "markdown",
   "id": "660db58e",
   "metadata": {
    "papermill": {
     "duration": 0.023707,
     "end_time": "2022-10-18T03:37:38.283840",
     "exception": false,
     "start_time": "2022-10-18T03:37:38.260133",
     "status": "completed"
    },
    "tags": []
   },
   "source": [
    "### Ensemble Learning"
   ]
  },
  {
   "cell_type": "code",
   "execution_count": 61,
   "id": "0991bacb",
   "metadata": {
    "execution": {
     "iopub.execute_input": "2022-10-18T03:37:38.330931Z",
     "iopub.status.busy": "2022-10-18T03:37:38.330350Z",
     "iopub.status.idle": "2022-10-18T03:37:38.492159Z",
     "shell.execute_reply": "2022-10-18T03:37:38.491224Z"
    },
    "papermill": {
     "duration": 0.187879,
     "end_time": "2022-10-18T03:37:38.494381",
     "exception": false,
     "start_time": "2022-10-18T03:37:38.306502",
     "status": "completed"
    },
    "tags": []
   },
   "outputs": [],
   "source": [
    "from sklearn.ensemble import BaggingClassifier\n",
    "from sklearn.metrics import accuracy_score"
   ]
  },
  {
   "cell_type": "code",
   "execution_count": 62,
   "id": "988ef829",
   "metadata": {
    "execution": {
     "iopub.execute_input": "2022-10-18T03:37:38.541989Z",
     "iopub.status.busy": "2022-10-18T03:37:38.541631Z",
     "iopub.status.idle": "2022-10-18T03:37:38.794185Z",
     "shell.execute_reply": "2022-10-18T03:37:38.793205Z"
    },
    "papermill": {
     "duration": 0.279465,
     "end_time": "2022-10-18T03:37:38.797317",
     "exception": false,
     "start_time": "2022-10-18T03:37:38.517852",
     "status": "completed"
    },
    "tags": []
   },
   "outputs": [
    {
     "name": "stdout",
     "output_type": "stream",
     "text": [
      "Accuracy:0.8937360178970917\n"
     ]
    }
   ],
   "source": [
    "bagging_model = BaggingClassifier(random_state =100)\n",
    "bagging_model.fit(X_train,y_train)\n",
    "bagging_y_pred = bagging_model.predict(X_test)\n",
    "bagging_acc = accuracy_score(y_test ,bagging_y_pred )\n",
    "print(f'Accuracy:{bagging_acc}')"
   ]
  },
  {
   "cell_type": "code",
   "execution_count": 63,
   "id": "cff09882",
   "metadata": {
    "execution": {
     "iopub.execute_input": "2022-10-18T03:37:38.845044Z",
     "iopub.status.busy": "2022-10-18T03:37:38.844646Z",
     "iopub.status.idle": "2022-10-18T03:37:38.855293Z",
     "shell.execute_reply": "2022-10-18T03:37:38.854219Z"
    },
    "papermill": {
     "duration": 0.036314,
     "end_time": "2022-10-18T03:37:38.857211",
     "exception": false,
     "start_time": "2022-10-18T03:37:38.820897",
     "status": "completed"
    },
    "tags": []
   },
   "outputs": [
    {
     "name": "stdout",
     "output_type": "stream",
     "text": [
      "Classification Report:\n",
      "\n",
      "              precision    recall  f1-score   support\n",
      "\n",
      "           0       0.91      0.96      0.94      1431\n",
      "           1       0.80      0.63      0.70       357\n",
      "\n",
      "    accuracy                           0.89      1788\n",
      "   macro avg       0.85      0.79      0.82      1788\n",
      "weighted avg       0.89      0.89      0.89      1788\n",
      "\n"
     ]
    }
   ],
   "source": [
    "from sklearn.metrics import (\n",
    "    classification_report,\n",
    "    recall_score,\n",
    "    precision_score,\n",
    "    accuracy_score\n",
    ")\n",
    "print('Classification Report:\\n')\n",
    "print(classification_report(y_test, bagging_y_pred))"
   ]
  },
  {
   "cell_type": "markdown",
   "id": "4a3bb91e",
   "metadata": {
    "papermill": {
     "duration": 0.022364,
     "end_time": "2022-10-18T03:37:38.902132",
     "exception": false,
     "start_time": "2022-10-18T03:37:38.879768",
     "status": "completed"
    },
    "tags": []
   },
   "source": [
    "- Try sub-sampling the dataset as it is an imbalanced dataset."
   ]
  },
  {
   "cell_type": "code",
   "execution_count": 64,
   "id": "b5b8d860",
   "metadata": {
    "execution": {
     "iopub.execute_input": "2022-10-18T03:37:38.949395Z",
     "iopub.status.busy": "2022-10-18T03:37:38.949052Z",
     "iopub.status.idle": "2022-10-18T03:37:38.957146Z",
     "shell.execute_reply": "2022-10-18T03:37:38.956258Z"
    },
    "papermill": {
     "duration": 0.033837,
     "end_time": "2022-10-18T03:37:38.958853",
     "exception": false,
     "start_time": "2022-10-18T03:37:38.925016",
     "status": "completed"
    },
    "tags": []
   },
   "outputs": [
    {
     "data": {
      "text/plain": [
       "0.6302521008403361"
      ]
     },
     "execution_count": 64,
     "metadata": {},
     "output_type": "execute_result"
    }
   ],
   "source": [
    "recall_score(y_test, bagging_y_pred)"
   ]
  },
  {
   "cell_type": "code",
   "execution_count": 65,
   "id": "0ef7103d",
   "metadata": {
    "execution": {
     "iopub.execute_input": "2022-10-18T03:37:39.006258Z",
     "iopub.status.busy": "2022-10-18T03:37:39.005889Z",
     "iopub.status.idle": "2022-10-18T03:37:39.058211Z",
     "shell.execute_reply": "2022-10-18T03:37:39.057411Z"
    },
    "papermill": {
     "duration": 0.078644,
     "end_time": "2022-10-18T03:37:39.060629",
     "exception": false,
     "start_time": "2022-10-18T03:37:38.981985",
     "status": "completed"
    },
    "tags": []
   },
   "outputs": [
    {
     "name": "stdout",
     "output_type": "stream",
     "text": [
      "========================================\n",
      "Recall for Base Model 1:\t 0.61905\n",
      "----------------------------------------\n",
      "Recall for Base Model 2:\t 0.64426\n",
      "----------------------------------------\n",
      "Recall for Base Model 3:\t 0.60504\n",
      "----------------------------------------\n",
      "Recall for Base Model 4:\t 0.61625\n",
      "----------------------------------------\n",
      "Recall for Base Model 5:\t 0.61625\n",
      "----------------------------------------\n",
      "Recall for Base Model 6:\t 0.64706\n",
      "----------------------------------------\n",
      "Recall for Base Model 7:\t 0.61345\n",
      "----------------------------------------\n",
      "Recall for Base Model 8:\t 0.64706\n",
      "----------------------------------------\n",
      "Recall for Base Model 9:\t 0.62185\n",
      "----------------------------------------\n",
      "Recall for Base Model 10:\t 0.61064\n",
      "========================================\n",
      "Mean Recall Score:\t\t 0.62409\n",
      "Std Deviation:\t\t\t 0.01507\n",
      "Range:\t\t\t\t 0.04202\n",
      "Overall Recall for model:\t 0.63025\n"
     ]
    },
    {
     "name": "stderr",
     "output_type": "stream",
     "text": [
      "/opt/conda/lib/python3.7/site-packages/sklearn/base.py:444: UserWarning: X has feature names, but DecisionTreeClassifier was fitted without feature names\n",
      "  f\"X has feature names, but {self.__class__.__name__} was fitted without\"\n",
      "/opt/conda/lib/python3.7/site-packages/sklearn/base.py:444: UserWarning: X has feature names, but DecisionTreeClassifier was fitted without feature names\n",
      "  f\"X has feature names, but {self.__class__.__name__} was fitted without\"\n",
      "/opt/conda/lib/python3.7/site-packages/sklearn/base.py:444: UserWarning: X has feature names, but DecisionTreeClassifier was fitted without feature names\n",
      "  f\"X has feature names, but {self.__class__.__name__} was fitted without\"\n",
      "/opt/conda/lib/python3.7/site-packages/sklearn/base.py:444: UserWarning: X has feature names, but DecisionTreeClassifier was fitted without feature names\n",
      "  f\"X has feature names, but {self.__class__.__name__} was fitted without\"\n",
      "/opt/conda/lib/python3.7/site-packages/sklearn/base.py:444: UserWarning: X has feature names, but DecisionTreeClassifier was fitted without feature names\n",
      "  f\"X has feature names, but {self.__class__.__name__} was fitted without\"\n",
      "/opt/conda/lib/python3.7/site-packages/sklearn/base.py:444: UserWarning: X has feature names, but DecisionTreeClassifier was fitted without feature names\n",
      "  f\"X has feature names, but {self.__class__.__name__} was fitted without\"\n",
      "/opt/conda/lib/python3.7/site-packages/sklearn/base.py:444: UserWarning: X has feature names, but DecisionTreeClassifier was fitted without feature names\n",
      "  f\"X has feature names, but {self.__class__.__name__} was fitted without\"\n",
      "/opt/conda/lib/python3.7/site-packages/sklearn/base.py:444: UserWarning: X has feature names, but DecisionTreeClassifier was fitted without feature names\n",
      "  f\"X has feature names, but {self.__class__.__name__} was fitted without\"\n",
      "/opt/conda/lib/python3.7/site-packages/sklearn/base.py:444: UserWarning: X has feature names, but DecisionTreeClassifier was fitted without feature names\n",
      "  f\"X has feature names, but {self.__class__.__name__} was fitted without\"\n",
      "/opt/conda/lib/python3.7/site-packages/sklearn/base.py:444: UserWarning: X has feature names, but DecisionTreeClassifier was fitted without feature names\n",
      "  f\"X has feature names, but {self.__class__.__name__} was fitted without\"\n"
     ]
    }
   ],
   "source": [
    "def print_recall_scores(ensemble, feats, true_labels):\n",
    "    '''\n",
    "    Prints the recall scores for base estimators in a sklearn ensemble model.\n",
    "    '''\n",
    "    scores = []\n",
    "    for model_idx, model in enumerate(ensemble.estimators_):\n",
    "        if model_idx == 0:\n",
    "            print('='*40)\n",
    "        preds = model.predict(feats)\n",
    "        scores.append(recall_score(true_labels, preds))\n",
    "        model_recall = np.round(recall_score(true_labels, preds), 5)\n",
    "        print(f'Recall for Base Model {model_idx+1}:\\t', model_recall)\n",
    "        if model_idx < (len(ensemble.estimators_) - 1):\n",
    "            print('-'*40)\n",
    "        else:\n",
    "            print('='*40)\n",
    "    ensemble_preds = ensemble.predict(feats)\n",
    "    print(\"Mean Recall Score:\\t\\t\", np.round(np.array(scores).mean(), 5))\n",
    "    print(\"Std Deviation:\\t\\t\\t\", np.round(np.array(scores).std(), 5))\n",
    "    print(\"Range:\\t\\t\\t\\t\", np.round(np.array(scores).ptp(), 5))\n",
    "    print(f'Overall Recall for model:\\t {np.round(recall_score(y_test, ensemble_preds), 5)}')\n",
    "\n",
    "print_recall_scores(bagging_model, X_test, y_test)"
   ]
  },
  {
   "cell_type": "markdown",
   "id": "e8cfc260",
   "metadata": {
    "papermill": {
     "duration": 0.024486,
     "end_time": "2022-10-18T03:37:39.109215",
     "exception": false,
     "start_time": "2022-10-18T03:37:39.084729",
     "status": "completed"
    },
    "tags": []
   },
   "source": [
    "### Random Forests"
   ]
  },
  {
   "cell_type": "code",
   "execution_count": 66,
   "id": "7f808692",
   "metadata": {
    "execution": {
     "iopub.execute_input": "2022-10-18T03:37:39.157052Z",
     "iopub.status.busy": "2022-10-18T03:37:39.156736Z",
     "iopub.status.idle": "2022-10-18T03:37:39.160372Z",
     "shell.execute_reply": "2022-10-18T03:37:39.159547Z"
    },
    "papermill": {
     "duration": 0.029416,
     "end_time": "2022-10-18T03:37:39.161996",
     "exception": false,
     "start_time": "2022-10-18T03:37:39.132580",
     "status": "completed"
    },
    "tags": []
   },
   "outputs": [],
   "source": [
    "from sklearn.ensemble import RandomForestClassifier"
   ]
  },
  {
   "cell_type": "code",
   "execution_count": 67,
   "id": "72f98454",
   "metadata": {
    "execution": {
     "iopub.execute_input": "2022-10-18T03:37:39.210665Z",
     "iopub.status.busy": "2022-10-18T03:37:39.209856Z",
     "iopub.status.idle": "2022-10-18T03:37:39.213887Z",
     "shell.execute_reply": "2022-10-18T03:37:39.213257Z"
    },
    "papermill": {
     "duration": 0.030035,
     "end_time": "2022-10-18T03:37:39.215416",
     "exception": false,
     "start_time": "2022-10-18T03:37:39.185381",
     "status": "completed"
    },
    "tags": []
   },
   "outputs": [],
   "source": [
    "rf_model = RandomForestClassifier(n_estimators = 10,max_features = 7,random_state = 100)"
   ]
  },
  {
   "cell_type": "code",
   "execution_count": 68,
   "id": "d96b26c5",
   "metadata": {
    "execution": {
     "iopub.execute_input": "2022-10-18T03:37:39.264996Z",
     "iopub.status.busy": "2022-10-18T03:37:39.264183Z",
     "iopub.status.idle": "2022-10-18T03:37:39.424974Z",
     "shell.execute_reply": "2022-10-18T03:37:39.424123Z"
    },
    "papermill": {
     "duration": 0.187468,
     "end_time": "2022-10-18T03:37:39.426806",
     "exception": false,
     "start_time": "2022-10-18T03:37:39.239338",
     "status": "completed"
    },
    "tags": []
   },
   "outputs": [
    {
     "data": {
      "text/plain": [
       "RandomForestClassifier(max_features=7, n_estimators=10, random_state=100)"
      ]
     },
     "execution_count": 68,
     "metadata": {},
     "output_type": "execute_result"
    }
   ],
   "source": [
    "rf_model.fit(X_train,y_train)"
   ]
  },
  {
   "cell_type": "code",
   "execution_count": 69,
   "id": "f41add43",
   "metadata": {
    "execution": {
     "iopub.execute_input": "2022-10-18T03:37:39.475418Z",
     "iopub.status.busy": "2022-10-18T03:37:39.475060Z",
     "iopub.status.idle": "2022-10-18T03:37:39.484021Z",
     "shell.execute_reply": "2022-10-18T03:37:39.483381Z"
    },
    "papermill": {
     "duration": 0.035153,
     "end_time": "2022-10-18T03:37:39.485555",
     "exception": false,
     "start_time": "2022-10-18T03:37:39.450402",
     "status": "completed"
    },
    "tags": []
   },
   "outputs": [],
   "source": [
    "rf_y_test_pred = rf_model.predict(X_test)"
   ]
  },
  {
   "cell_type": "code",
   "execution_count": 70,
   "id": "0ee1e969",
   "metadata": {
    "execution": {
     "iopub.execute_input": "2022-10-18T03:37:39.534417Z",
     "iopub.status.busy": "2022-10-18T03:37:39.533884Z",
     "iopub.status.idle": "2022-10-18T03:37:39.543796Z",
     "shell.execute_reply": "2022-10-18T03:37:39.542844Z"
    },
    "papermill": {
     "duration": 0.0372,
     "end_time": "2022-10-18T03:37:39.546512",
     "exception": false,
     "start_time": "2022-10-18T03:37:39.509312",
     "status": "completed"
    },
    "tags": []
   },
   "outputs": [
    {
     "name": "stdout",
     "output_type": "stream",
     "text": [
      "Classification Report for Random Forest:\n",
      "\n",
      "              precision    recall  f1-score   support\n",
      "\n",
      "           0       0.92      0.96      0.94      1431\n",
      "           1       0.80      0.64      0.71       357\n",
      "\n",
      "    accuracy                           0.90      1788\n",
      "   macro avg       0.86      0.80      0.83      1788\n",
      "weighted avg       0.89      0.90      0.89      1788\n",
      "\n"
     ]
    }
   ],
   "source": [
    "from sklearn.metrics import (\n",
    "    classification_report,\n",
    "    recall_score,\n",
    "    precision_score,\n",
    "    accuracy_score\n",
    ")\n",
    "print('Classification Report for Random Forest:\\n')\n",
    "print(classification_report(y_test, rf_y_test_pred))"
   ]
  },
  {
   "cell_type": "code",
   "execution_count": 71,
   "id": "36d9c629",
   "metadata": {
    "execution": {
     "iopub.execute_input": "2022-10-18T03:37:39.595930Z",
     "iopub.status.busy": "2022-10-18T03:37:39.595361Z",
     "iopub.status.idle": "2022-10-18T03:37:39.653328Z",
     "shell.execute_reply": "2022-10-18T03:37:39.651937Z"
    },
    "papermill": {
     "duration": 0.084482,
     "end_time": "2022-10-18T03:37:39.655304",
     "exception": false,
     "start_time": "2022-10-18T03:37:39.570822",
     "status": "completed"
    },
    "tags": []
   },
   "outputs": [
    {
     "name": "stdout",
     "output_type": "stream",
     "text": [
      "DecisionTreeClassifier(max_features=7, random_state=186422792)\n",
      "========================================\n",
      "Recall for Base Model 1:\t 0.57703\n",
      "----------------------------------------\n",
      "DecisionTreeClassifier(max_features=7, random_state=735107864)\n",
      "Recall for Base Model 2:\t 0.61625\n",
      "----------------------------------------\n",
      "DecisionTreeClassifier(max_features=7, random_state=1195587395)\n",
      "Recall for Base Model 3:\t 0.64706\n",
      "----------------------------------------\n",
      "DecisionTreeClassifier(max_features=7, random_state=1769725799)\n",
      "Recall for Base Model 4:\t 0.64986\n",
      "----------------------------------------\n",
      "DecisionTreeClassifier(max_features=7, random_state=1823289175)\n",
      "Recall for Base Model 5:\t 0.59664\n",
      "----------------------------------------\n",
      "DecisionTreeClassifier(max_features=7, random_state=113311823)\n",
      "Recall for Base Model 6:\t 0.66106\n",
      "----------------------------------------\n",
      "DecisionTreeClassifier(max_features=7, random_state=1480802224)\n",
      "Recall for Base Model 7:\t 0.64706\n",
      "----------------------------------------\n",
      "DecisionTreeClassifier(max_features=7, random_state=638252938)\n",
      "Recall for Base Model 8:\t 0.64706\n",
      "----------------------------------------\n",
      "DecisionTreeClassifier(max_features=7, random_state=20267358)\n",
      "Recall for Base Model 9:\t 0.60784\n",
      "----------------------------------------\n",
      "DecisionTreeClassifier(max_features=7, random_state=673068980)\n",
      "Recall for Base Model 10:\t 0.62465\n",
      "========================================\n",
      "Mean Recall Score:\t\t 0.62745\n",
      "Std Deviation:\t\t\t 0.02607\n",
      "Range:\t\t\t\t 0.08403\n",
      "Overall Recall for model:\t 0.64426\n"
     ]
    },
    {
     "name": "stderr",
     "output_type": "stream",
     "text": [
      "/opt/conda/lib/python3.7/site-packages/sklearn/base.py:444: UserWarning: X has feature names, but DecisionTreeClassifier was fitted without feature names\n",
      "  f\"X has feature names, but {self.__class__.__name__} was fitted without\"\n",
      "/opt/conda/lib/python3.7/site-packages/sklearn/base.py:444: UserWarning: X has feature names, but DecisionTreeClassifier was fitted without feature names\n",
      "  f\"X has feature names, but {self.__class__.__name__} was fitted without\"\n",
      "/opt/conda/lib/python3.7/site-packages/sklearn/base.py:444: UserWarning: X has feature names, but DecisionTreeClassifier was fitted without feature names\n",
      "  f\"X has feature names, but {self.__class__.__name__} was fitted without\"\n",
      "/opt/conda/lib/python3.7/site-packages/sklearn/base.py:444: UserWarning: X has feature names, but DecisionTreeClassifier was fitted without feature names\n",
      "  f\"X has feature names, but {self.__class__.__name__} was fitted without\"\n",
      "/opt/conda/lib/python3.7/site-packages/sklearn/base.py:444: UserWarning: X has feature names, but DecisionTreeClassifier was fitted without feature names\n",
      "  f\"X has feature names, but {self.__class__.__name__} was fitted without\"\n",
      "/opt/conda/lib/python3.7/site-packages/sklearn/base.py:444: UserWarning: X has feature names, but DecisionTreeClassifier was fitted without feature names\n",
      "  f\"X has feature names, but {self.__class__.__name__} was fitted without\"\n",
      "/opt/conda/lib/python3.7/site-packages/sklearn/base.py:444: UserWarning: X has feature names, but DecisionTreeClassifier was fitted without feature names\n",
      "  f\"X has feature names, but {self.__class__.__name__} was fitted without\"\n",
      "/opt/conda/lib/python3.7/site-packages/sklearn/base.py:444: UserWarning: X has feature names, but DecisionTreeClassifier was fitted without feature names\n",
      "  f\"X has feature names, but {self.__class__.__name__} was fitted without\"\n",
      "/opt/conda/lib/python3.7/site-packages/sklearn/base.py:444: UserWarning: X has feature names, but DecisionTreeClassifier was fitted without feature names\n",
      "  f\"X has feature names, but {self.__class__.__name__} was fitted without\"\n",
      "/opt/conda/lib/python3.7/site-packages/sklearn/base.py:444: UserWarning: X has feature names, but DecisionTreeClassifier was fitted without feature names\n",
      "  f\"X has feature names, but {self.__class__.__name__} was fitted without\"\n"
     ]
    }
   ],
   "source": [
    "def print_recall_scores(ensemble, feats, true_labels):\n",
    "    '''\n",
    "    Prints the recall scores for base estimators in a sklearn ensemble model.\n",
    "    '''\n",
    "    scores = []\n",
    "    for model_idx, model in enumerate(ensemble.estimators_):\n",
    "        print(model)\n",
    "        if model_idx == 0:\n",
    "            print('='*40)\n",
    "        preds = model.predict(feats)\n",
    "        scores.append(recall_score(true_labels, preds))\n",
    "        model_recall = np.round(recall_score(true_labels, preds), 5)\n",
    "        print(f'Recall for Base Model {model_idx+1}:\\t', model_recall)\n",
    "        if model_idx < (len(ensemble.estimators_) - 1):\n",
    "            print('-'*40)\n",
    "        else:\n",
    "            print('='*40)\n",
    "    ensemble_preds = ensemble.predict(feats)\n",
    "    print(\"Mean Recall Score:\\t\\t\", np.round(np.array(scores).mean(), 5))\n",
    "    print(\"Std Deviation:\\t\\t\\t\", np.round(np.array(scores).std(), 5))\n",
    "    print(\"Range:\\t\\t\\t\\t\", np.round(np.array(scores).ptp(), 5))\n",
    "    print(f'Overall Recall for model:\\t {np.round(recall_score(y_test, ensemble_preds), 5)}')\n",
    "\n",
    "print_recall_scores(rf_model, X_test, y_test)"
   ]
  },
  {
   "cell_type": "code",
   "execution_count": 72,
   "id": "9c7bc386",
   "metadata": {
    "execution": {
     "iopub.execute_input": "2022-10-18T03:37:39.705477Z",
     "iopub.status.busy": "2022-10-18T03:37:39.704695Z",
     "iopub.status.idle": "2022-10-18T03:37:41.232056Z",
     "shell.execute_reply": "2022-10-18T03:37:41.230927Z"
    },
    "papermill": {
     "duration": 1.554112,
     "end_time": "2022-10-18T03:37:41.233824",
     "exception": false,
     "start_time": "2022-10-18T03:37:39.679712",
     "status": "completed"
    },
    "tags": []
   },
   "outputs": [
    {
     "data": {
      "text/plain": [
       "RandomForestClassifier(max_features=7, oob_score=True, random_state=50)"
      ]
     },
     "execution_count": 72,
     "metadata": {},
     "output_type": "execute_result"
    }
   ],
   "source": [
    "rf_model_oob = RandomForestClassifier(n_estimators = 100,max_features = 7,oob_score=True,random_state = 50)\n",
    "rf_model_oob.fit(X_train,y_train)"
   ]
  },
  {
   "cell_type": "code",
   "execution_count": 73,
   "id": "d341a4d8",
   "metadata": {
    "execution": {
     "iopub.execute_input": "2022-10-18T03:37:41.284742Z",
     "iopub.status.busy": "2022-10-18T03:37:41.284461Z",
     "iopub.status.idle": "2022-10-18T03:37:41.322992Z",
     "shell.execute_reply": "2022-10-18T03:37:41.321919Z"
    },
    "papermill": {
     "duration": 0.067516,
     "end_time": "2022-10-18T03:37:41.325013",
     "exception": false,
     "start_time": "2022-10-18T03:37:41.257497",
     "status": "completed"
    },
    "tags": []
   },
   "outputs": [
    {
     "name": "stdout",
     "output_type": "stream",
     "text": [
      "OOB Score:0.9051\n",
      "Testing Accuracy:1\n",
      "Acc.Difference:0.0949\n"
     ]
    }
   ],
   "source": [
    "oob_score = round(rf_model_oob.oob_score_,4)\n",
    "acc_oob = round(accuracy_score(y_test,rf_model_oob.predict(X_test)))\n",
    "diff_oob = round(abs(oob_score-acc_oob),4)\n",
    "\n",
    "print(f'OOB Score:{oob_score}')\n",
    "print(f'Testing Accuracy:{acc_oob}')\n",
    "print(f'Acc.Difference:{diff_oob}')"
   ]
  },
  {
   "cell_type": "markdown",
   "id": "7fa23170",
   "metadata": {
    "papermill": {
     "duration": 0.022775,
     "end_time": "2022-10-18T03:37:41.371430",
     "exception": false,
     "start_time": "2022-10-18T03:37:41.348655",
     "status": "completed"
    },
    "tags": []
   },
   "source": [
    "- OOB score is comparable to the Accuracy score."
   ]
  },
  {
   "cell_type": "markdown",
   "id": "743829b6",
   "metadata": {
    "papermill": {
     "duration": 0.023013,
     "end_time": "2022-10-18T03:37:41.417536",
     "exception": false,
     "start_time": "2022-10-18T03:37:41.394523",
     "status": "completed"
    },
    "tags": []
   },
   "source": [
    "### Feature Importance"
   ]
  },
  {
   "cell_type": "code",
   "execution_count": 74,
   "id": "606ea2db",
   "metadata": {
    "execution": {
     "iopub.execute_input": "2022-10-18T03:37:41.465244Z",
     "iopub.status.busy": "2022-10-18T03:37:41.464877Z",
     "iopub.status.idle": "2022-10-18T03:37:41.481453Z",
     "shell.execute_reply": "2022-10-18T03:37:41.480571Z"
    },
    "papermill": {
     "duration": 0.042382,
     "end_time": "2022-10-18T03:37:41.483258",
     "exception": false,
     "start_time": "2022-10-18T03:37:41.440876",
     "status": "completed"
    },
    "tags": []
   },
   "outputs": [],
   "source": [
    "feature_importance = rf_model_oob.feature_importances_\n",
    "feature_names  = X_train.columns\n",
    "df = pd.DataFrame({'Features':feature_names,\n",
    "                  'Importance':feature_importance})\n"
   ]
  },
  {
   "cell_type": "code",
   "execution_count": 75,
   "id": "6b8a2d97",
   "metadata": {
    "execution": {
     "iopub.execute_input": "2022-10-18T03:37:41.531563Z",
     "iopub.status.busy": "2022-10-18T03:37:41.531261Z",
     "iopub.status.idle": "2022-10-18T03:37:41.540514Z",
     "shell.execute_reply": "2022-10-18T03:37:41.539612Z"
    },
    "papermill": {
     "duration": 0.03523,
     "end_time": "2022-10-18T03:37:41.542230",
     "exception": false,
     "start_time": "2022-10-18T03:37:41.507000",
     "status": "completed"
    },
    "tags": []
   },
   "outputs": [
    {
     "data": {
      "text/html": [
       "<div>\n",
       "<style scoped>\n",
       "    .dataframe tbody tr th:only-of-type {\n",
       "        vertical-align: middle;\n",
       "    }\n",
       "\n",
       "    .dataframe tbody tr th {\n",
       "        vertical-align: top;\n",
       "    }\n",
       "\n",
       "    .dataframe thead th {\n",
       "        text-align: right;\n",
       "    }\n",
       "</style>\n",
       "<table border=\"1\" class=\"dataframe\">\n",
       "  <thead>\n",
       "    <tr style=\"text-align: right;\">\n",
       "      <th></th>\n",
       "      <th>Features</th>\n",
       "      <th>Importance</th>\n",
       "    </tr>\n",
       "  </thead>\n",
       "  <tbody>\n",
       "    <tr>\n",
       "      <th>11</th>\n",
       "      <td>DEBTINC</td>\n",
       "      <td>0.302608</td>\n",
       "    </tr>\n",
       "    <tr>\n",
       "      <th>7</th>\n",
       "      <td>DELINQ</td>\n",
       "      <td>0.105870</td>\n",
       "    </tr>\n",
       "    <tr>\n",
       "      <th>8</th>\n",
       "      <td>CLAGE</td>\n",
       "      <td>0.102763</td>\n",
       "    </tr>\n",
       "    <tr>\n",
       "      <th>4</th>\n",
       "      <td>VALUE</td>\n",
       "      <td>0.080931</td>\n",
       "    </tr>\n",
       "    <tr>\n",
       "      <th>2</th>\n",
       "      <td>LOAN</td>\n",
       "      <td>0.077297</td>\n",
       "    </tr>\n",
       "    <tr>\n",
       "      <th>3</th>\n",
       "      <td>MORTDUE</td>\n",
       "      <td>0.069615</td>\n",
       "    </tr>\n",
       "    <tr>\n",
       "      <th>10</th>\n",
       "      <td>CLNO</td>\n",
       "      <td>0.067462</td>\n",
       "    </tr>\n",
       "    <tr>\n",
       "      <th>5</th>\n",
       "      <td>YOJ</td>\n",
       "      <td>0.065175</td>\n",
       "    </tr>\n",
       "    <tr>\n",
       "      <th>6</th>\n",
       "      <td>DEROG</td>\n",
       "      <td>0.049055</td>\n",
       "    </tr>\n",
       "    <tr>\n",
       "      <th>9</th>\n",
       "      <td>NINQ</td>\n",
       "      <td>0.034971</td>\n",
       "    </tr>\n",
       "    <tr>\n",
       "      <th>1</th>\n",
       "      <td>JOB</td>\n",
       "      <td>0.028533</td>\n",
       "    </tr>\n",
       "    <tr>\n",
       "      <th>0</th>\n",
       "      <td>REASON</td>\n",
       "      <td>0.015718</td>\n",
       "    </tr>\n",
       "  </tbody>\n",
       "</table>\n",
       "</div>"
      ],
      "text/plain": [
       "   Features  Importance\n",
       "11  DEBTINC    0.302608\n",
       "7    DELINQ    0.105870\n",
       "8     CLAGE    0.102763\n",
       "4     VALUE    0.080931\n",
       "2      LOAN    0.077297\n",
       "3   MORTDUE    0.069615\n",
       "10     CLNO    0.067462\n",
       "5       YOJ    0.065175\n",
       "6     DEROG    0.049055\n",
       "9      NINQ    0.034971\n",
       "1       JOB    0.028533\n",
       "0    REASON    0.015718"
      ]
     },
     "execution_count": 75,
     "metadata": {},
     "output_type": "execute_result"
    }
   ],
   "source": [
    "df.sort_values('Importance',ascending=False)"
   ]
  },
  {
   "cell_type": "markdown",
   "id": "1b8041e6",
   "metadata": {
    "papermill": {
     "duration": 0.023078,
     "end_time": "2022-10-18T03:37:41.589194",
     "exception": false,
     "start_time": "2022-10-18T03:37:41.566116",
     "status": "completed"
    },
    "tags": []
   },
   "source": [
    "### Boosting Model"
   ]
  },
  {
   "cell_type": "code",
   "execution_count": 76,
   "id": "1a0368fd",
   "metadata": {
    "execution": {
     "iopub.execute_input": "2022-10-18T03:37:41.637218Z",
     "iopub.status.busy": "2022-10-18T03:37:41.636878Z",
     "iopub.status.idle": "2022-10-18T03:37:41.640833Z",
     "shell.execute_reply": "2022-10-18T03:37:41.639969Z"
    },
    "papermill": {
     "duration": 0.03018,
     "end_time": "2022-10-18T03:37:41.642567",
     "exception": false,
     "start_time": "2022-10-18T03:37:41.612387",
     "status": "completed"
    },
    "tags": []
   },
   "outputs": [],
   "source": [
    "from sklearn.ensemble import GradientBoostingClassifier"
   ]
  },
  {
   "cell_type": "code",
   "execution_count": 77,
   "id": "f4b7b53f",
   "metadata": {
    "execution": {
     "iopub.execute_input": "2022-10-18T03:37:41.691240Z",
     "iopub.status.busy": "2022-10-18T03:37:41.690278Z",
     "iopub.status.idle": "2022-10-18T03:37:42.522718Z",
     "shell.execute_reply": "2022-10-18T03:37:42.521843Z"
    },
    "papermill": {
     "duration": 0.85874,
     "end_time": "2022-10-18T03:37:42.524751",
     "exception": false,
     "start_time": "2022-10-18T03:37:41.666011",
     "status": "completed"
    },
    "tags": []
   },
   "outputs": [],
   "source": [
    "gbt_model = GradientBoostingClassifier()\n",
    "gbt_model.fit(X_train,y_train)\n",
    "gbt_model_y_pred = gbt_model.predict(X_test)\n"
   ]
  },
  {
   "cell_type": "code",
   "execution_count": 78,
   "id": "7016c37d",
   "metadata": {
    "execution": {
     "iopub.execute_input": "2022-10-18T03:37:42.575723Z",
     "iopub.status.busy": "2022-10-18T03:37:42.575398Z",
     "iopub.status.idle": "2022-10-18T03:37:42.586039Z",
     "shell.execute_reply": "2022-10-18T03:37:42.584982Z"
    },
    "papermill": {
     "duration": 0.037654,
     "end_time": "2022-10-18T03:37:42.587970",
     "exception": false,
     "start_time": "2022-10-18T03:37:42.550316",
     "status": "completed"
    },
    "tags": []
   },
   "outputs": [
    {
     "name": "stdout",
     "output_type": "stream",
     "text": [
      "Classification Report for Boosting:\n",
      "\n",
      "              precision    recall  f1-score   support\n",
      "\n",
      "           0       0.92      0.97      0.94      1431\n",
      "           1       0.84      0.67      0.75       357\n",
      "\n",
      "    accuracy                           0.91      1788\n",
      "   macro avg       0.88      0.82      0.85      1788\n",
      "weighted avg       0.91      0.91      0.91      1788\n",
      "\n"
     ]
    }
   ],
   "source": [
    "print('Classification Report for Boosting:\\n')\n",
    "print(classification_report(y_test, gbt_model_y_pred))"
   ]
  },
  {
   "cell_type": "code",
   "execution_count": 79,
   "id": "fd515d2b",
   "metadata": {
    "execution": {
     "iopub.execute_input": "2022-10-18T03:37:42.638679Z",
     "iopub.status.busy": "2022-10-18T03:37:42.637989Z",
     "iopub.status.idle": "2022-10-18T03:37:42.649826Z",
     "shell.execute_reply": "2022-10-18T03:37:42.649009Z"
    },
    "papermill": {
     "duration": 0.039293,
     "end_time": "2022-10-18T03:37:42.652079",
     "exception": false,
     "start_time": "2022-10-18T03:37:42.612786",
     "status": "completed"
    },
    "tags": []
   },
   "outputs": [
    {
     "data": {
      "text/html": [
       "<div>\n",
       "<style scoped>\n",
       "    .dataframe tbody tr th:only-of-type {\n",
       "        vertical-align: middle;\n",
       "    }\n",
       "\n",
       "    .dataframe tbody tr th {\n",
       "        vertical-align: top;\n",
       "    }\n",
       "\n",
       "    .dataframe thead th {\n",
       "        text-align: right;\n",
       "    }\n",
       "</style>\n",
       "<table border=\"1\" class=\"dataframe\">\n",
       "  <thead>\n",
       "    <tr style=\"text-align: right;\">\n",
       "      <th></th>\n",
       "      <th>Features</th>\n",
       "      <th>Importance</th>\n",
       "    </tr>\n",
       "  </thead>\n",
       "  <tbody>\n",
       "    <tr>\n",
       "      <th>11</th>\n",
       "      <td>DEBTINC</td>\n",
       "      <td>0.511270</td>\n",
       "    </tr>\n",
       "    <tr>\n",
       "      <th>7</th>\n",
       "      <td>DELINQ</td>\n",
       "      <td>0.152369</td>\n",
       "    </tr>\n",
       "    <tr>\n",
       "      <th>8</th>\n",
       "      <td>CLAGE</td>\n",
       "      <td>0.072747</td>\n",
       "    </tr>\n",
       "    <tr>\n",
       "      <th>6</th>\n",
       "      <td>DEROG</td>\n",
       "      <td>0.072719</td>\n",
       "    </tr>\n",
       "    <tr>\n",
       "      <th>4</th>\n",
       "      <td>VALUE</td>\n",
       "      <td>0.050665</td>\n",
       "    </tr>\n",
       "    <tr>\n",
       "      <th>10</th>\n",
       "      <td>CLNO</td>\n",
       "      <td>0.033433</td>\n",
       "    </tr>\n",
       "    <tr>\n",
       "      <th>2</th>\n",
       "      <td>LOAN</td>\n",
       "      <td>0.030473</td>\n",
       "    </tr>\n",
       "    <tr>\n",
       "      <th>3</th>\n",
       "      <td>MORTDUE</td>\n",
       "      <td>0.026474</td>\n",
       "    </tr>\n",
       "    <tr>\n",
       "      <th>5</th>\n",
       "      <td>YOJ</td>\n",
       "      <td>0.019626</td>\n",
       "    </tr>\n",
       "    <tr>\n",
       "      <th>9</th>\n",
       "      <td>NINQ</td>\n",
       "      <td>0.018083</td>\n",
       "    </tr>\n",
       "    <tr>\n",
       "      <th>1</th>\n",
       "      <td>JOB</td>\n",
       "      <td>0.008893</td>\n",
       "    </tr>\n",
       "    <tr>\n",
       "      <th>0</th>\n",
       "      <td>REASON</td>\n",
       "      <td>0.003247</td>\n",
       "    </tr>\n",
       "  </tbody>\n",
       "</table>\n",
       "</div>"
      ],
      "text/plain": [
       "   Features  Importance\n",
       "11  DEBTINC    0.511270\n",
       "7    DELINQ    0.152369\n",
       "8     CLAGE    0.072747\n",
       "6     DEROG    0.072719\n",
       "4     VALUE    0.050665\n",
       "10     CLNO    0.033433\n",
       "2      LOAN    0.030473\n",
       "3   MORTDUE    0.026474\n",
       "5       YOJ    0.019626\n",
       "9      NINQ    0.018083\n",
       "1       JOB    0.008893\n",
       "0    REASON    0.003247"
      ]
     },
     "execution_count": 79,
     "metadata": {},
     "output_type": "execute_result"
    }
   ],
   "source": [
    "feature_importance = gbt_model.feature_importances_\n",
    "feature_names  = X_train.columns\n",
    "df = pd.DataFrame({'Features':feature_names,\n",
    "                  'Importance':feature_importance})\n",
    "\n",
    "df.sort_values('Importance',ascending=False)"
   ]
  }
 ],
 "metadata": {
  "kernelspec": {
   "display_name": "Python 3",
   "language": "python",
   "name": "python3"
  },
  "language_info": {
   "codemirror_mode": {
    "name": "ipython",
    "version": 3
   },
   "file_extension": ".py",
   "mimetype": "text/x-python",
   "name": "python",
   "nbconvert_exporter": "python",
   "pygments_lexer": "ipython3",
   "version": "3.7.12"
  },
  "papermill": {
   "default_parameters": {},
   "duration": 17.013465,
   "end_time": "2022-10-18T03:37:43.295020",
   "environment_variables": {},
   "exception": null,
   "input_path": "__notebook__.ipynb",
   "output_path": "__notebook__.ipynb",
   "parameters": {},
   "start_time": "2022-10-18T03:37:26.281555",
   "version": "2.3.4"
  }
 },
 "nbformat": 4,
 "nbformat_minor": 5
}
